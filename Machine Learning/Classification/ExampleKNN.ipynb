{
  "cells": [
    {
      "cell_type": "code",
      "execution_count": 79,
      "metadata": {
        "id": "Q8_-PplThTtF"
      },
      "outputs": [],
      "source": [
        "import pandas as pd\n",
        "import numpy as np\n",
        "import math\n",
        "import time\n",
        "import seaborn as sns"
      ]
    },
    {
      "cell_type": "code",
      "execution_count": 38,
      "metadata": {
        "id": "zB0dXMbshy3V"
      },
      "outputs": [],
      "source": [
        "df = pd.read_csv(\"CleanedTitanic.csv\")\n",
        "df.drop(['Unnamed: 0'], inplace=True, axis=1)"
      ]
    },
    {
      "cell_type": "code",
      "execution_count": 39,
      "metadata": {
        "id": "rno1l9Dch_Iw"
      },
      "outputs": [],
      "source": [
        "# Test/Train Split\n",
        "length = len(df.index)\n",
        "splitPoint = int(length * 0.7)\n",
        "train = df[0:splitPoint]\n",
        "test = df[splitPoint:length]"
      ]
    },
    {
      "cell_type": "markdown",
      "metadata": {
        "id": "5uec-cTM_5GY"
      },
      "source": [
        "# K-NN Algorithm"
      ]
    },
    {
      "cell_type": "code",
      "execution_count": 91,
      "metadata": {
        "id": "85Yn6DjkiTpz"
      },
      "outputs": [],
      "source": [
        "# K-NN Training Algorithm\n",
        "def trainKNN(df, iterations):\n",
        "  '''\n",
        "  Pseudocode Algorithm\n",
        "  1. Set K to 3 because this is the first odd value greater than the number of categories in the Titanic dataset.\n",
        "  2. Create an empty list to collect accuracy values during training.\n",
        "  2. Segment the training dataset into three equal parts: \n",
        "    - Segment 1: Class 1 labels\n",
        "    - Segment 2: Class 2 labels\n",
        "    - Segment 3: Remaining data of \"unknown\" labels \n",
        "  3. Calculate the euclidean distance between each data point in segment 3 with all data in segment 1 and segment 2. \n",
        "  4. Take the top K smallest distances to determine the label of the \"unknown\" data point.\n",
        "  5. Append 0 to accuracy list if the label does not match the actual label. Append 1 to accuracy list if the label does match the actual label.\n",
        "  6. Calculate the overall accuracy percent of the K value and append it to a dictionary of k, accuracy values.\n",
        "  7. Add 2 to K and repeat steps 3 - 6 for a desired number of iterations.\n",
        "  '''\n",
        "  # Set initial value of k\n",
        "  k = 3\n",
        "\n",
        "  # Segment training data into 3 segments.\n",
        "  class1, class2, unknowns = getSegments(df)\n",
        "  \n",
        "  # Calculate accuracy of K values for desired iterations\n",
        "  count = 0\n",
        "  accuracies = {}\n",
        "  t0 = time.time() # for measuring how long it takes to compute\n",
        "  t0_k = k\n",
        "  while count < iterations:\n",
        "    if count % 10 == 0:\n",
        "      elapsed = time.time() - t0\n",
        "      t0 = time.time()\n",
        "      print(f\"Took {elapsed:.2f} seconds to compute {t0_k}<=k<{k}\")\n",
        "      t0_k = k\n",
        "    # Calculate percent accuracy for current k\n",
        "    accuracy_at_k = calculateAccuracy(class1, class2, unknowns, k)\n",
        "    accuracies[k] = accuracy_at_k\n",
        "    k = k + 2\n",
        "    count = count + 1\n",
        "  \n",
        "  return accuracies"
      ]
    },
    {
      "cell_type": "markdown",
      "metadata": {
        "id": "_NE-ezlK_7lw"
      },
      "source": [
        "# Helper Functions"
      ]
    },
    {
      "cell_type": "code",
      "execution_count": 92,
      "metadata": {
        "id": "1u0juJM8lnPU"
      },
      "outputs": [],
      "source": [
        "def getSegments(df):\n",
        "  # Segment training data into 3 segments. If not divisible by 3, add extra data to unknown segment.\n",
        "  length = len(df.index)\n",
        "  splitPoint = int(length/3)\n",
        "  survived = df[df.Survived == 1]\n",
        "  died = df[df.Survived == 0]\n",
        "  survived_df = survived.iloc[:splitPoint]\n",
        "  died_df = died.iloc[:splitPoint]\n",
        "  leftover = pd.concat([survived.iloc[splitPoint:], died.iloc[splitPoint:]])\n",
        "  survived.reset_index(inplace=True, drop=True)\n",
        "  died.reset_index(inplace=True, drop=True)\n",
        "  leftover.reset_index(inplace=True, drop=True)\n",
        "  return survived_df, died_df, leftover"
      ]
    },
    {
      "cell_type": "code",
      "execution_count": 93,
      "metadata": {
        "id": "fSnaE0R7nUU0"
      },
      "outputs": [],
      "source": [
        "cache = {}\n",
        "def calculateAccuracy(class1, class2, unknowns, k):\n",
        "  known = pd.concat([class1, class2], axis=0)\n",
        "  unknown_prediction_correct = []\n",
        "  for idx in unknowns.index:\n",
        "    if not idx in cache:\n",
        "      cache[idx] = known.apply(lambda x: euclidianDistance(x, unknowns.iloc[idx]), axis=1)\n",
        "    known['distance_to_unknown'] = cache[idx]\n",
        "    top_k = known.sort_values('distance_to_unknown',ascending=True).head(k)\n",
        "    predicted_class = top_k.value_counts(ascending=False, subset='Survived').index[0] # TODO: double check this line\n",
        "    unknown_prediction_correct.append(1 if predicted_class == unknowns.iloc[idx].Survived else 0)\n",
        "    known.pop('distance_to_unknown') # remove this so we don't use it in future distance calculations\n",
        "  return sum(unknown_prediction_correct) / len(unknown_prediction_correct)"
      ]
    },
    {
      "cell_type": "code",
      "execution_count": 94,
      "metadata": {
        "id": "X6RKrb2zyS_J"
      },
      "outputs": [],
      "source": [
        "def euclidianDistance(row1, row2):\n",
        "  sum = 0\n",
        "  for (i, j) in zip(row1[1:10], row2[1:10]):\n",
        "    diffSQ = (i - j) **2\n",
        "    sum = sum + diffSQ\n",
        "  return math.sqrt(sum)"
      ]
    },
    {
      "cell_type": "markdown",
      "metadata": {
        "id": "M17kEKhL_-YL"
      },
      "source": [
        "# Result of calling trainKNN"
      ]
    },
    {
      "cell_type": "code",
      "execution_count": 95,
      "metadata": {
        "colab": {
          "base_uri": "https://localhost:8080/"
        },
        "id": "O0RHWEuUneMw",
        "outputId": "8a363974-ed32-4255-8fd3-5f697b60d61c"
      },
      "outputs": [
        {
          "name": "stdout",
          "output_type": "stream",
          "text": [
            "Took 0.00 seconds to compute 3<=k<3\n",
            "Took 11.88 seconds to compute 3<=k<23\n",
            "Took 2.68 seconds to compute 23<=k<43\n",
            "Took 2.68 seconds to compute 43<=k<63\n",
            "Took 2.61 seconds to compute 63<=k<83\n",
            "Took 3.33 seconds to compute 83<=k<103\n",
            "Took 2.73 seconds to compute 103<=k<123\n",
            "Took 2.62 seconds to compute 123<=k<143\n",
            "Took 2.65 seconds to compute 143<=k<163\n",
            "Took 2.80 seconds to compute 163<=k<183\n",
            "Took 3.29 seconds to compute 183<=k<203\n",
            "Took 2.71 seconds to compute 203<=k<223\n",
            "Took 2.66 seconds to compute 223<=k<243\n",
            "Took 2.65 seconds to compute 243<=k<263\n",
            "Took 3.46 seconds to compute 263<=k<283\n",
            "Took 2.67 seconds to compute 283<=k<303\n",
            "Took 3.03 seconds to compute 303<=k<323\n",
            "Took 3.06 seconds to compute 323<=k<343\n",
            "Took 3.30 seconds to compute 343<=k<363\n",
            "Took 2.76 seconds to compute 363<=k<383\n",
            "Took 2.65 seconds to compute 383<=k<403\n",
            "Took 2.64 seconds to compute 403<=k<423\n",
            "Took 2.83 seconds to compute 423<=k<443\n",
            "Took 3.29 seconds to compute 443<=k<463\n",
            "Took 2.66 seconds to compute 463<=k<483\n",
            "Took 2.72 seconds to compute 483<=k<503\n",
            "Took 2.69 seconds to compute 503<=k<523\n",
            "Took 3.48 seconds to compute 523<=k<543\n",
            "Took 2.71 seconds to compute 543<=k<563\n",
            "Took 2.73 seconds to compute 563<=k<583\n"
          ]
        }
      ],
      "source": [
        "performance = trainKNN(train, 300)"
      ]
    },
    {
      "cell_type": "code",
      "execution_count": 96,
      "metadata": {
        "colab": {
          "base_uri": "https://localhost:8080/"
        },
        "id": "Y_Z2-pyEADIC",
        "outputId": "a97750ed-1ab3-4740-8b64-deea1605e958"
      },
      "outputs": [
        {
          "name": "stdout",
          "output_type": "stream",
          "text": [
            "{3: 0.7831325301204819, 5: 0.7771084337349398, 7: 0.8072289156626506, 9: 0.8072289156626506, 11: 0.8132530120481928, 13: 0.8072289156626506, 15: 0.8012048192771084, 17: 0.8072289156626506, 19: 0.7831325301204819, 21: 0.7831325301204819, 23: 0.7771084337349398, 25: 0.7891566265060241, 27: 0.7771084337349398, 29: 0.7771084337349398, 31: 0.7831325301204819, 33: 0.7831325301204819, 35: 0.7650602409638554, 37: 0.7650602409638554, 39: 0.7650602409638554, 41: 0.7650602409638554, 43: 0.7650602409638554, 45: 0.7710843373493976, 47: 0.7710843373493976, 49: 0.7831325301204819, 51: 0.7831325301204819, 53: 0.7891566265060241, 55: 0.7831325301204819, 57: 0.7891566265060241, 59: 0.7951807228915663, 61: 0.7831325301204819, 63: 0.7831325301204819, 65: 0.7771084337349398, 67: 0.7891566265060241, 69: 0.7831325301204819, 71: 0.7831325301204819, 73: 0.7891566265060241, 75: 0.7951807228915663, 77: 0.8012048192771084, 79: 0.8012048192771084, 81: 0.8012048192771084, 83: 0.8072289156626506, 85: 0.8072289156626506, 87: 0.8072289156626506, 89: 0.8012048192771084, 91: 0.8072289156626506, 93: 0.8132530120481928, 95: 0.8132530120481928, 97: 0.8373493975903614, 99: 0.8433734939759037, 101: 0.8433734939759037, 103: 0.8433734939759037, 105: 0.8433734939759037, 107: 0.8493975903614458, 109: 0.8614457831325302, 111: 0.8554216867469879, 113: 0.8493975903614458, 115: 0.8433734939759037, 117: 0.8433734939759037, 119: 0.8433734939759037, 121: 0.8433734939759037, 123: 0.8493975903614458, 125: 0.8493975903614458, 127: 0.8433734939759037, 129: 0.8493975903614458, 131: 0.8433734939759037, 133: 0.8433734939759037, 135: 0.8554216867469879, 137: 0.8493975903614458, 139: 0.8493975903614458, 141: 0.8313253012048193, 143: 0.8132530120481928, 145: 0.8192771084337349, 147: 0.8072289156626506, 149: 0.8072289156626506, 151: 0.8072289156626506, 153: 0.8012048192771084, 155: 0.7951807228915663, 157: 0.7771084337349398, 159: 0.7771084337349398, 161: 0.7771084337349398, 163: 0.7771084337349398, 165: 0.7710843373493976, 167: 0.7771084337349398, 169: 0.7650602409638554, 171: 0.7590361445783133, 173: 0.7590361445783133, 175: 0.7590361445783133, 177: 0.7530120481927711, 179: 0.7530120481927711, 181: 0.7530120481927711, 183: 0.7530120481927711, 185: 0.7469879518072289, 187: 0.7469879518072289, 189: 0.7469879518072289, 191: 0.7469879518072289, 193: 0.7469879518072289, 195: 0.7469879518072289, 197: 0.7469879518072289, 199: 0.7469879518072289, 201: 0.7469879518072289, 203: 0.7469879518072289, 205: 0.7469879518072289, 207: 0.7469879518072289, 209: 0.7530120481927711, 211: 0.7590361445783133, 213: 0.7710843373493976, 215: 0.7710843373493976, 217: 0.7771084337349398, 219: 0.7831325301204819, 221: 0.7831325301204819, 223: 0.7831325301204819, 225: 0.7831325301204819, 227: 0.7831325301204819, 229: 0.7771084337349398, 231: 0.7831325301204819, 233: 0.7771084337349398, 235: 0.7771084337349398, 237: 0.7710843373493976, 239: 0.7771084337349398, 241: 0.7951807228915663, 243: 0.8072289156626506, 245: 0.8072289156626506, 247: 0.8072289156626506, 249: 0.8072289156626506, 251: 0.8132530120481928, 253: 0.8433734939759037, 255: 0.8493975903614458, 257: 0.8493975903614458, 259: 0.8493975903614458, 261: 0.8253012048192772, 263: 0.8253012048192772, 265: 0.8253012048192772, 267: 0.8253012048192772, 269: 0.8253012048192772, 271: 0.8253012048192772, 273: 0.8253012048192772, 275: 0.8253012048192772, 277: 0.8253012048192772, 279: 0.8253012048192772, 281: 0.8253012048192772, 283: 0.8253012048192772, 285: 0.8253012048192772, 287: 0.8253012048192772, 289: 0.8072289156626506, 291: 0.8012048192771084, 293: 0.8012048192771084, 295: 0.7951807228915663, 297: 0.7469879518072289, 299: 0.7469879518072289, 301: 0.7469879518072289, 303: 0.7469879518072289, 305: 0.7710843373493976, 307: 0.7771084337349398, 309: 0.7951807228915663, 311: 0.7951807228915663, 313: 0.7951807228915663, 315: 0.7951807228915663, 317: 0.8012048192771084, 319: 0.8012048192771084, 321: 0.7771084337349398, 323: 0.7710843373493976, 325: 0.7710843373493976, 327: 0.7650602409638554, 329: 0.7710843373493976, 331: 0.7710843373493976, 333: 0.7590361445783133, 335: 0.7590361445783133, 337: 0.7590361445783133, 339: 0.7590361445783133, 341: 0.7590361445783133, 343: 0.7590361445783133, 345: 0.7590361445783133, 347: 0.7590361445783133, 349: 0.7590361445783133, 351: 0.7590361445783133, 353: 0.7590361445783133, 355: 0.7590361445783133, 357: 0.7590361445783133, 359: 0.7590361445783133, 361: 0.7590361445783133, 363: 0.7590361445783133, 365: 0.7590361445783133, 367: 0.7590361445783133, 369: 0.7590361445783133, 371: 0.7590361445783133, 373: 0.7590361445783133, 375: 0.7590361445783133, 377: 0.7590361445783133, 379: 0.7590361445783133, 381: 0.7590361445783133, 383: 0.7590361445783133, 385: 0.7590361445783133, 387: 0.7590361445783133, 389: 0.7590361445783133, 391: 0.7590361445783133, 393: 0.7590361445783133, 395: 0.7590361445783133, 397: 0.7590361445783133, 399: 0.7590361445783133, 401: 0.7590361445783133, 403: 0.7590361445783133, 405: 0.7590361445783133, 407: 0.7590361445783133, 409: 0.7590361445783133, 411: 0.7590361445783133, 413: 0.7590361445783133, 415: 0.7590361445783133, 417: 0.7590361445783133, 419: 0.7590361445783133, 421: 0.7590361445783133, 423: 0.7590361445783133, 425: 0.7590361445783133, 427: 0.7590361445783133, 429: 0.7590361445783133, 431: 0.7590361445783133, 433: 0.7590361445783133, 435: 0.7590361445783133, 437: 0.7590361445783133, 439: 0.7590361445783133, 441: 0.7590361445783133, 443: 0.7590361445783133, 445: 0.7590361445783133, 447: 0.7590361445783133, 449: 0.7590361445783133, 451: 0.7590361445783133, 453: 0.7590361445783133, 455: 0.7590361445783133, 457: 0.7590361445783133, 459: 0.7590361445783133, 461: 0.7590361445783133, 463: 0.7590361445783133, 465: 0.7590361445783133, 467: 0.7590361445783133, 469: 0.7590361445783133, 471: 0.7590361445783133, 473: 0.7590361445783133, 475: 0.7590361445783133, 477: 0.7590361445783133, 479: 0.7590361445783133, 481: 0.7590361445783133, 483: 0.7590361445783133, 485: 0.7590361445783133, 487: 0.7590361445783133, 489: 0.7590361445783133, 491: 0.7590361445783133, 493: 0.7590361445783133, 495: 0.7590361445783133, 497: 0.7590361445783133, 499: 0.7590361445783133, 501: 0.7590361445783133, 503: 0.7590361445783133, 505: 0.7590361445783133, 507: 0.7590361445783133, 509: 0.7590361445783133, 511: 0.7590361445783133, 513: 0.7590361445783133, 515: 0.7590361445783133, 517: 0.7590361445783133, 519: 0.7590361445783133, 521: 0.7590361445783133, 523: 0.7590361445783133, 525: 0.7590361445783133, 527: 0.7590361445783133, 529: 0.7590361445783133, 531: 0.7590361445783133, 533: 0.7590361445783133, 535: 0.7590361445783133, 537: 0.7590361445783133, 539: 0.7590361445783133, 541: 0.7590361445783133, 543: 0.7590361445783133, 545: 0.7590361445783133, 547: 0.7590361445783133, 549: 0.7590361445783133, 551: 0.7590361445783133, 553: 0.7590361445783133, 555: 0.7590361445783133, 557: 0.7590361445783133, 559: 0.7590361445783133, 561: 0.7590361445783133, 563: 0.7590361445783133, 565: 0.7590361445783133, 567: 0.7590361445783133, 569: 0.7590361445783133, 571: 0.7590361445783133, 573: 0.7590361445783133, 575: 0.7590361445783133, 577: 0.7590361445783133, 579: 0.7590361445783133, 581: 0.7590361445783133, 583: 0.7590361445783133, 585: 0.7590361445783133, 587: 0.7590361445783133, 589: 0.7590361445783133, 591: 0.7590361445783133, 593: 0.7590361445783133, 595: 0.7590361445783133, 597: 0.7590361445783133, 599: 0.7590361445783133, 601: 0.7590361445783133}\n"
          ]
        }
      ],
      "source": [
        "print(performance)"
      ]
    },
    {
      "cell_type": "markdown",
      "metadata": {
        "id": "XJgRQUiID63I"
      },
      "source": [
        "# Visualizing K Accuracy"
      ]
    },
    {
      "cell_type": "code",
      "execution_count": 97,
      "metadata": {
        "colab": {
          "base_uri": "https://localhost:8080/",
          "height": 206
        },
        "id": "u_FF_ciOBLYj",
        "outputId": "94bb64ea-e4be-4740-a560-8ede04ab9bdb"
      },
      "outputs": [
        {
          "data": {
            "text/html": [
              "\n",
              "  <div id=\"df-c3f6db01-06fa-4aae-b80f-bec940454961\">\n",
              "    <div class=\"colab-df-container\">\n",
              "      <div>\n",
              "<style scoped>\n",
              "    .dataframe tbody tr th:only-of-type {\n",
              "        vertical-align: middle;\n",
              "    }\n",
              "\n",
              "    .dataframe tbody tr th {\n",
              "        vertical-align: top;\n",
              "    }\n",
              "\n",
              "    .dataframe thead th {\n",
              "        text-align: right;\n",
              "    }\n",
              "</style>\n",
              "<table border=\"1\" class=\"dataframe\">\n",
              "  <thead>\n",
              "    <tr style=\"text-align: right;\">\n",
              "      <th></th>\n",
              "      <th>k</th>\n",
              "      <th>accuracy</th>\n",
              "    </tr>\n",
              "  </thead>\n",
              "  <tbody>\n",
              "    <tr>\n",
              "      <th>0</th>\n",
              "      <td>3</td>\n",
              "      <td>0.783133</td>\n",
              "    </tr>\n",
              "    <tr>\n",
              "      <th>1</th>\n",
              "      <td>5</td>\n",
              "      <td>0.777108</td>\n",
              "    </tr>\n",
              "    <tr>\n",
              "      <th>2</th>\n",
              "      <td>7</td>\n",
              "      <td>0.807229</td>\n",
              "    </tr>\n",
              "    <tr>\n",
              "      <th>3</th>\n",
              "      <td>9</td>\n",
              "      <td>0.807229</td>\n",
              "    </tr>\n",
              "    <tr>\n",
              "      <th>4</th>\n",
              "      <td>11</td>\n",
              "      <td>0.813253</td>\n",
              "    </tr>\n",
              "  </tbody>\n",
              "</table>\n",
              "</div>\n",
              "      <button class=\"colab-df-convert\" onclick=\"convertToInteractive('df-c3f6db01-06fa-4aae-b80f-bec940454961')\"\n",
              "              title=\"Convert this dataframe to an interactive table.\"\n",
              "              style=\"display:none;\">\n",
              "        \n",
              "  <svg xmlns=\"http://www.w3.org/2000/svg\" height=\"24px\"viewBox=\"0 0 24 24\"\n",
              "       width=\"24px\">\n",
              "    <path d=\"M0 0h24v24H0V0z\" fill=\"none\"/>\n",
              "    <path d=\"M18.56 5.44l.94 2.06.94-2.06 2.06-.94-2.06-.94-.94-2.06-.94 2.06-2.06.94zm-11 1L8.5 8.5l.94-2.06 2.06-.94-2.06-.94L8.5 2.5l-.94 2.06-2.06.94zm10 10l.94 2.06.94-2.06 2.06-.94-2.06-.94-.94-2.06-.94 2.06-2.06.94z\"/><path d=\"M17.41 7.96l-1.37-1.37c-.4-.4-.92-.59-1.43-.59-.52 0-1.04.2-1.43.59L10.3 9.45l-7.72 7.72c-.78.78-.78 2.05 0 2.83L4 21.41c.39.39.9.59 1.41.59.51 0 1.02-.2 1.41-.59l7.78-7.78 2.81-2.81c.8-.78.8-2.07 0-2.86zM5.41 20L4 18.59l7.72-7.72 1.47 1.35L5.41 20z\"/>\n",
              "  </svg>\n",
              "      </button>\n",
              "      \n",
              "  <style>\n",
              "    .colab-df-container {\n",
              "      display:flex;\n",
              "      flex-wrap:wrap;\n",
              "      gap: 12px;\n",
              "    }\n",
              "\n",
              "    .colab-df-convert {\n",
              "      background-color: #E8F0FE;\n",
              "      border: none;\n",
              "      border-radius: 50%;\n",
              "      cursor: pointer;\n",
              "      display: none;\n",
              "      fill: #1967D2;\n",
              "      height: 32px;\n",
              "      padding: 0 0 0 0;\n",
              "      width: 32px;\n",
              "    }\n",
              "\n",
              "    .colab-df-convert:hover {\n",
              "      background-color: #E2EBFA;\n",
              "      box-shadow: 0px 1px 2px rgba(60, 64, 67, 0.3), 0px 1px 3px 1px rgba(60, 64, 67, 0.15);\n",
              "      fill: #174EA6;\n",
              "    }\n",
              "\n",
              "    [theme=dark] .colab-df-convert {\n",
              "      background-color: #3B4455;\n",
              "      fill: #D2E3FC;\n",
              "    }\n",
              "\n",
              "    [theme=dark] .colab-df-convert:hover {\n",
              "      background-color: #434B5C;\n",
              "      box-shadow: 0px 1px 3px 1px rgba(0, 0, 0, 0.15);\n",
              "      filter: drop-shadow(0px 1px 2px rgba(0, 0, 0, 0.3));\n",
              "      fill: #FFFFFF;\n",
              "    }\n",
              "  </style>\n",
              "\n",
              "      <script>\n",
              "        const buttonEl =\n",
              "          document.querySelector('#df-c3f6db01-06fa-4aae-b80f-bec940454961 button.colab-df-convert');\n",
              "        buttonEl.style.display =\n",
              "          google.colab.kernel.accessAllowed ? 'block' : 'none';\n",
              "\n",
              "        async function convertToInteractive(key) {\n",
              "          const element = document.querySelector('#df-c3f6db01-06fa-4aae-b80f-bec940454961');\n",
              "          const dataTable =\n",
              "            await google.colab.kernel.invokeFunction('convertToInteractive',\n",
              "                                                     [key], {});\n",
              "          if (!dataTable) return;\n",
              "\n",
              "          const docLinkHtml = 'Like what you see? Visit the ' +\n",
              "            '<a target=\"_blank\" href=https://colab.research.google.com/notebooks/data_table.ipynb>data table notebook</a>'\n",
              "            + ' to learn more about interactive tables.';\n",
              "          element.innerHTML = '';\n",
              "          dataTable['output_type'] = 'display_data';\n",
              "          await google.colab.output.renderOutput(dataTable, element);\n",
              "          const docLink = document.createElement('div');\n",
              "          docLink.innerHTML = docLinkHtml;\n",
              "          element.appendChild(docLink);\n",
              "        }\n",
              "      </script>\n",
              "    </div>\n",
              "  </div>\n",
              "  "
            ],
            "text/plain": [
              "    k  accuracy\n",
              "0   3  0.783133\n",
              "1   5  0.777108\n",
              "2   7  0.807229\n",
              "3   9  0.807229\n",
              "4  11  0.813253"
            ]
          },
          "execution_count": 97,
          "metadata": {},
          "output_type": "execute_result"
        }
      ],
      "source": [
        "kacc = pd.DataFrame({\n",
        "    \"k\": list(sorted(performance.keys())),\n",
        "    \"accuracy\": [performance[k] for k in sorted(performance.keys())]\n",
        "})\n",
        "kacc.head()"
      ]
    },
    {
      "cell_type": "code",
      "execution_count": 98,
      "metadata": {
        "colab": {
          "base_uri": "https://localhost:8080/",
          "height": 297
        },
        "id": "VRWQIMGzqN0P",
        "outputId": "3b1e484a-0f1d-4952-808a-461bee82d702"
      },
      "outputs": [
        {
          "data": {
            "text/plain": [
              "<AxesSubplot:xlabel='k', ylabel='accuracy'>"
            ]
          },
          "execution_count": 98,
          "metadata": {},
          "output_type": "execute_result"
        },
        {
          "data": {
            "image/png": "[encoded data removed]",
            "text/plain": [
              "<Figure size 432x288 with 1 Axes>"
            ]
          },
          "metadata": {
            "needs_background": "light"
          },
          "output_type": "display_data"
        }
      ],
      "source": [
        "sns.lineplot(x=kacc.k, y=kacc.accuracy)"
      ]
    }
  ],
  "metadata": {
    "colab": {
      "provenance": []
    },
    "kernelspec": {
      "display_name": "Python 3",
      "name": "python3"
    },
    "language_info": {
      "name": "python"
    }
  },
  "nbformat": 4,
  "nbformat_minor": 0
}
