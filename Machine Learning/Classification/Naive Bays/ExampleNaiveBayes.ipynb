{
  "nbformat": 4,
  "nbformat_minor": 0,
  "metadata": {
    "colab": {
      "provenance": []
    },
    "kernelspec": {
      "name": "python3",
      "display_name": "Python 3"
    },
    "language_info": {
      "name": "python"
    }
  },
  "cells": [
    {
      "cell_type": "code",
      "execution_count": 1,
      "metadata": {
        "id": "EAzHL9kVf69G"
      },
      "outputs": [],
      "source": [
        "import pandas as pd"
      ]
    },
    {
      "cell_type": "code",
      "source": [
        "spam = pd.read_csv(\"vectorized.csv\")\n",
        "spam.drop([\"Unnamed: 0\"], inplace=True, axis=1)"
      ],
      "metadata": {
        "id": "5AsfyCDJgmR0"
      },
      "execution_count": 9,
      "outputs": []
    },
    {
      "cell_type": "code",
      "source": [
        "# Get a list of stop words from https://gist.github.com/sebleier/554280\n",
        "with open('stopwords.txt') as file:\n",
        "    lines = [line.rstrip() for line in file]\n",
        "\n",
        "def getTopSpam(df, commonWords, num):\n",
        "  '''\n",
        "  Returns the most common 'num' words in the spam messages.\n",
        "  '''\n",
        "  spam = {}\n",
        "  ham = []\n",
        "\n",
        "  # Gets count of all words in spam that are not in the list of common words\n",
        "  for idx in range(len(df.index)):\n",
        "    message = df.iat[idx, 1]\n",
        "    words = message.split()\n",
        "    for word in words:\n",
        "      if word not in commonWords and df.iat[idx, 0] == \"spam\":\n",
        "        if word not in spam:\n",
        "          spam[word] = 1\n",
        "        elif word in spam:\n",
        "          spam[word] = spam[word] + 1\n",
        "   \n",
        "  spam = sorted(spam.items(), key=lambda x:x[1], reverse=True)\n",
        "  return dict(spam[:num])\n",
        "\n",
        "result = getTopSpam(spam, lines, 5)\n",
        "print(result)"
      ],
      "metadata": {
        "colab": {
          "base_uri": "https://localhost:8080/"
        },
        "id": "c1TGJTcshOyi",
        "outputId": "ea542c3a-e407-4ce0-a3cd-a69ea8c05ede"
      },
      "execution_count": 10,
      "outputs": [
        {
          "output_type": "stream",
          "name": "stdout",
          "text": [
            "{'call': 342, 'free': 180, '2': 169, 'ur': 144, 'txt': 136}\n"
          ]
        }
      ]
    },
    {
      "cell_type": "code",
      "source": [
        "def testTrainSplit(df):\n",
        "  length = len(spam.index)\n",
        "  split_limit = int(length * 0.7)\n",
        "  train = spam[0:split_limit]\n",
        "  test = spam[split_limit:length]\n",
        "  return train, test\n",
        "\n",
        "train, test = testTrainSplit(spam)"
      ],
      "metadata": {
        "id": "zIlKBOC7lfl_"
      },
      "execution_count": 21,
      "outputs": []
    },
    {
      "cell_type": "code",
      "source": [
        "def makeVectorTable(df):\n",
        "  '''\n",
        "  This function displays the message vectors like the stolen car data table seen\n",
        "  in our first lecture on Naive Bayes.\n",
        "  '''\n",
        "  feature_records = []\n",
        "  for idx in range(len(df)):\n",
        "    feature_vector = []\n",
        "    msg = df.iat[idx, 1]\n",
        "    label = df.iat[idx, 0]\n",
        "    for word in result.keys():\n",
        "      feature_vector.append(1 if word in msg else 0)\n",
        "    feature_vector.append(label)\n",
        "    feature_records.append(feature_vector)\n",
        "  feature_df = pd.DataFrame(feature_records)\n",
        "  columns = list(result.keys())\n",
        "  columns.append('label')\n",
        "  feature_df.columns = columns\n",
        "  return feature_df\n",
        "  \n",
        "feature_df = makeVectorTable(train)\n",
        "feature_df.head()"
      ],
      "metadata": {
        "colab": {
          "base_uri": "https://localhost:8080/",
          "height": 206
        },
        "id": "28wdz9zEgwQ4",
        "outputId": "16d8bd64-80f5-47c4-c75a-4b6fe48f8bc5"
      },
      "execution_count": 22,
      "outputs": [
        {
          "output_type": "execute_result",
          "data": {
            "text/plain": [
              "   call  free  2  ur  txt label\n",
              "0     0     0  0   1    0   ham\n",
              "1     0     0  0   0    0   ham\n",
              "2     0     1  1   0    1  spam\n",
              "3     0     0  0   0    0   ham\n",
              "4     0     0  0   0    0   ham"
            ],
            "text/html": [
              "\n",
              "  <div id=\"df-0780eb02-b111-4d05-b7c7-a26a822183da\">\n",
              "    <div class=\"colab-df-container\">\n",
              "      <div>\n",
              "<style scoped>\n",
              "    .dataframe tbody tr th:only-of-type {\n",
              "        vertical-align: middle;\n",
              "    }\n",
              "\n",
              "    .dataframe tbody tr th {\n",
              "        vertical-align: top;\n",
              "    }\n",
              "\n",
              "    .dataframe thead th {\n",
              "        text-align: right;\n",
              "    }\n",
              "</style>\n",
              "<table border=\"1\" class=\"dataframe\">\n",
              "  <thead>\n",
              "    <tr style=\"text-align: right;\">\n",
              "      <th></th>\n",
              "      <th>call</th>\n",
              "      <th>free</th>\n",
              "      <th>2</th>\n",
              "      <th>ur</th>\n",
              "      <th>txt</th>\n",
              "      <th>label</th>\n",
              "    </tr>\n",
              "  </thead>\n",
              "  <tbody>\n",
              "    <tr>\n",
              "      <th>0</th>\n",
              "      <td>0</td>\n",
              "      <td>0</td>\n",
              "      <td>0</td>\n",
              "      <td>1</td>\n",
              "      <td>0</td>\n",
              "      <td>ham</td>\n",
              "    </tr>\n",
              "    <tr>\n",
              "      <th>1</th>\n",
              "      <td>0</td>\n",
              "      <td>0</td>\n",
              "      <td>0</td>\n",
              "      <td>0</td>\n",
              "      <td>0</td>\n",
              "      <td>ham</td>\n",
              "    </tr>\n",
              "    <tr>\n",
              "      <th>2</th>\n",
              "      <td>0</td>\n",
              "      <td>1</td>\n",
              "      <td>1</td>\n",
              "      <td>0</td>\n",
              "      <td>1</td>\n",
              "      <td>spam</td>\n",
              "    </tr>\n",
              "    <tr>\n",
              "      <th>3</th>\n",
              "      <td>0</td>\n",
              "      <td>0</td>\n",
              "      <td>0</td>\n",
              "      <td>0</td>\n",
              "      <td>0</td>\n",
              "      <td>ham</td>\n",
              "    </tr>\n",
              "    <tr>\n",
              "      <th>4</th>\n",
              "      <td>0</td>\n",
              "      <td>0</td>\n",
              "      <td>0</td>\n",
              "      <td>0</td>\n",
              "      <td>0</td>\n",
              "      <td>ham</td>\n",
              "    </tr>\n",
              "  </tbody>\n",
              "</table>\n",
              "</div>\n",
              "      <button class=\"colab-df-convert\" onclick=\"convertToInteractive('df-0780eb02-b111-4d05-b7c7-a26a822183da')\"\n",
              "              title=\"Convert this dataframe to an interactive table.\"\n",
              "              style=\"display:none;\">\n",
              "        \n",
              "  <svg xmlns=\"http://www.w3.org/2000/svg\" height=\"24px\"viewBox=\"0 0 24 24\"\n",
              "       width=\"24px\">\n",
              "    <path d=\"M0 0h24v24H0V0z\" fill=\"none\"/>\n",
              "    <path d=\"M18.56 5.44l.94 2.06.94-2.06 2.06-.94-2.06-.94-.94-2.06-.94 2.06-2.06.94zm-11 1L8.5 8.5l.94-2.06 2.06-.94-2.06-.94L8.5 2.5l-.94 2.06-2.06.94zm10 10l.94 2.06.94-2.06 2.06-.94-2.06-.94-.94-2.06-.94 2.06-2.06.94z\"/><path d=\"M17.41 7.96l-1.37-1.37c-.4-.4-.92-.59-1.43-.59-.52 0-1.04.2-1.43.59L10.3 9.45l-7.72 7.72c-.78.78-.78 2.05 0 2.83L4 21.41c.39.39.9.59 1.41.59.51 0 1.02-.2 1.41-.59l7.78-7.78 2.81-2.81c.8-.78.8-2.07 0-2.86zM5.41 20L4 18.59l7.72-7.72 1.47 1.35L5.41 20z\"/>\n",
              "  </svg>\n",
              "      </button>\n",
              "      \n",
              "  <style>\n",
              "    .colab-df-container {\n",
              "      display:flex;\n",
              "      flex-wrap:wrap;\n",
              "      gap: 12px;\n",
              "    }\n",
              "\n",
              "    .colab-df-convert {\n",
              "      background-color: #E8F0FE;\n",
              "      border: none;\n",
              "      border-radius: 50%;\n",
              "      cursor: pointer;\n",
              "      display: none;\n",
              "      fill: #1967D2;\n",
              "      height: 32px;\n",
              "      padding: 0 0 0 0;\n",
              "      width: 32px;\n",
              "    }\n",
              "\n",
              "    .colab-df-convert:hover {\n",
              "      background-color: #E2EBFA;\n",
              "      box-shadow: 0px 1px 2px rgba(60, 64, 67, 0.3), 0px 1px 3px 1px rgba(60, 64, 67, 0.15);\n",
              "      fill: #174EA6;\n",
              "    }\n",
              "\n",
              "    [theme=dark] .colab-df-convert {\n",
              "      background-color: #3B4455;\n",
              "      fill: #D2E3FC;\n",
              "    }\n",
              "\n",
              "    [theme=dark] .colab-df-convert:hover {\n",
              "      background-color: #434B5C;\n",
              "      box-shadow: 0px 1px 3px 1px rgba(0, 0, 0, 0.15);\n",
              "      filter: drop-shadow(0px 1px 2px rgba(0, 0, 0, 0.3));\n",
              "      fill: #FFFFFF;\n",
              "    }\n",
              "  </style>\n",
              "\n",
              "      <script>\n",
              "        const buttonEl =\n",
              "          document.querySelector('#df-0780eb02-b111-4d05-b7c7-a26a822183da button.colab-df-convert');\n",
              "        buttonEl.style.display =\n",
              "          google.colab.kernel.accessAllowed ? 'block' : 'none';\n",
              "\n",
              "        async function convertToInteractive(key) {\n",
              "          const element = document.querySelector('#df-0780eb02-b111-4d05-b7c7-a26a822183da');\n",
              "          const dataTable =\n",
              "            await google.colab.kernel.invokeFunction('convertToInteractive',\n",
              "                                                     [key], {});\n",
              "          if (!dataTable) return;\n",
              "\n",
              "          const docLinkHtml = 'Like what you see? Visit the ' +\n",
              "            '<a target=\"_blank\" href=https://colab.research.google.com/notebooks/data_table.ipynb>data table notebook</a>'\n",
              "            + ' to learn more about interactive tables.';\n",
              "          element.innerHTML = '';\n",
              "          dataTable['output_type'] = 'display_data';\n",
              "          await google.colab.output.renderOutput(dataTable, element);\n",
              "          const docLink = document.createElement('div');\n",
              "          docLink.innerHTML = docLinkHtml;\n",
              "          element.appendChild(docLink);\n",
              "        }\n",
              "      </script>\n",
              "    </div>\n",
              "  </div>\n",
              "  "
            ]
          },
          "metadata": {},
          "execution_count": 22
        }
      ]
    },
    {
      "cell_type": "code",
      "source": [
        "def getProbHamSpam(df, feature_df):\n",
        "  '''\n",
        "  Gets the overall probability of ham and spam labels in dataframe\n",
        "  '''\n",
        "  p_spam = feature_df[feature_df.label == 'spam'].label.count() / feature_df.shape[0]\n",
        "  p_ham = feature_df[feature_df.label == 'ham'].label.count() / feature_df.shape[0]\n",
        "  return (p_spam, p_ham)\n",
        "\n",
        "pSpam, pHam = getProbHamSpam(spam, feature_df)\n",
        "print(pSpam, pHam)"
      ],
      "metadata": {
        "colab": {
          "base_uri": "https://localhost:8080/"
        },
        "id": "-0Si4l8Pinbb",
        "outputId": "309bd615-cb18-4eae-ea5f-a6a62d3ec7c6"
      },
      "execution_count": 23,
      "outputs": [
        {
          "output_type": "stream",
          "name": "stdout",
          "text": [
            "0.13307692307692306 0.8669230769230769\n"
          ]
        }
      ]
    },
    {
      "cell_type": "code",
      "source": [
        "def getSpamWordProbs(feature_df):\n",
        "  ''' \n",
        "  Returns a dictionary of probabilities of 'top' words in messages labeled as spam.\n",
        "  '''\n",
        "  spam_df = feature_df[feature_df.label == 'spam']\n",
        "  spam_word_counts = spam_df[result.keys()].sum(axis=0)\n",
        "  spam_probs = spam_word_counts / spam_df.shape[0]\n",
        "  spam_probs = spam_probs.to_dict()\n",
        "  return spam_probs\n",
        "\n",
        "getSpamWordProbs(feature_df)"
      ],
      "metadata": {
        "colab": {
          "base_uri": "https://localhost:8080/"
        },
        "id": "dtoiE24ojPeI",
        "outputId": "3c294bc7-ffab-4158-bae6-ae1fcbb99687"
      },
      "execution_count": 24,
      "outputs": [
        {
          "output_type": "execute_result",
          "data": {
            "text/plain": [
              "{'call': 0.44315992292870904,\n",
              " 'free': 0.2678227360308285,\n",
              " '2': 0.7398843930635838,\n",
              " 'ur': 0.5953757225433526,\n",
              " 'txt': 0.26396917148362237}"
            ]
          },
          "metadata": {},
          "execution_count": 24
        }
      ]
    },
    {
      "cell_type": "code",
      "source": [
        "def getHamWordProbs(feature_df):\n",
        "  ''' \n",
        "  Returns a dictionary of probabilities of 'top' words in messages labeled as spam.\n",
        "  '''\n",
        "  spam_df = feature_df[feature_df.label == 'ham']\n",
        "  spam_word_counts = spam_df[result.keys()].sum(axis=0)\n",
        "  spam_probs = spam_word_counts / spam_df.shape[0]\n",
        "  spam_probs = spam_probs.to_dict()\n",
        "  return spam_probs\n",
        "\n",
        "getHamWordProbs(feature_df)"
      ],
      "metadata": {
        "colab": {
          "base_uri": "https://localhost:8080/"
        },
        "id": "76O8SRd1jnt8",
        "outputId": "63e621d2-7772-42a3-d317-fe4e5bf2b778"
      },
      "execution_count": 25,
      "outputs": [
        {
          "output_type": "execute_result",
          "data": {
            "text/plain": [
              "{'call': 0.06033717834960071,\n",
              " 'free': 0.013309671694764862,\n",
              " '2': 0.06595681750961255,\n",
              " 'ur': 0.21177166518781426,\n",
              " 'txt': 0.0026619343389529724}"
            ]
          },
          "metadata": {},
          "execution_count": 25
        }
      ]
    }
  ]
}