{
 "cells": [
  {
   "cell_type": "code",
   "execution_count": 1,
   "id": "173bd8d5",
   "metadata": {},
   "outputs": [],
   "source": [
    "import pandas as pd\n",
    "import seaborn as sns\n",
    "import random\n",
    "import math\n",
    "from sklearn import datasets, linear_model"
   ]
  },
  {
   "cell_type": "code",
   "execution_count": 2,
   "id": "435bcafc",
   "metadata": {},
   "outputs": [
    {
     "name": "stdout",
     "output_type": "stream",
     "text": [
      "      total_experience_years  annual_base_pay\n",
      "0                       13.0         125000.0\n",
      "1                       15.0          65000.0\n",
      "2                        4.0          86000.0\n",
      "3                        4.0         105000.0\n",
      "4                        4.0         110000.0\n",
      "...                      ...              ...\n",
      "1650                     1.0          60500.0\n",
      "1651                     6.0         164000.0\n",
      "1652                     7.0         150000.0\n",
      "1653                     5.0          75000.0\n",
      "1654                     2.0             50.0\n",
      "\n",
      "[1655 rows x 2 columns]\n"
     ]
    }
   ],
   "source": [
    "df = pd.read_csv('SalariesSimple.csv')\n",
    "print(df)"
   ]
  },
  {
   "cell_type": "code",
   "execution_count": 3,
   "id": "d1c22e3e",
   "metadata": {},
   "outputs": [],
   "source": [
    "df.dropna(axis=0, inplace=True)\n",
    "df = df[(df['annual_base_pay'] >15000) & (df['total_experience_years']>0)]\n",
    "df.drop(df[df['annual_base_pay']>= 300000].index, inplace=True)"
   ]
  },
  {
   "cell_type": "code",
   "execution_count": 4,
   "id": "208cf6b8",
   "metadata": {},
   "outputs": [
    {
     "name": "stdout",
     "output_type": "stream",
     "text": [
      "<class 'pandas.core.frame.DataFrame'>\n",
      "Int64Index: 1420 entries, 0 to 1653\n",
      "Data columns (total 2 columns):\n",
      " #   Column                  Non-Null Count  Dtype  \n",
      "---  ------                  --------------  -----  \n",
      " 0   total_experience_years  1420 non-null   float64\n",
      " 1   annual_base_pay         1420 non-null   float64\n",
      "dtypes: float64(2)\n",
      "memory usage: 33.3 KB\n"
     ]
    }
   ],
   "source": [
    "df.info()"
   ]
  },
  {
   "cell_type": "code",
   "execution_count": 5,
   "id": "f0682de0",
   "metadata": {},
   "outputs": [
    {
     "data": {
      "text/html": [
       "<div>\n",
       "<style scoped>\n",
       "    .dataframe tbody tr th:only-of-type {\n",
       "        vertical-align: middle;\n",
       "    }\n",
       "\n",
       "    .dataframe tbody tr th {\n",
       "        vertical-align: top;\n",
       "    }\n",
       "\n",
       "    .dataframe thead th {\n",
       "        text-align: right;\n",
       "    }\n",
       "</style>\n",
       "<table border=\"1\" class=\"dataframe\">\n",
       "  <thead>\n",
       "    <tr style=\"text-align: right;\">\n",
       "      <th></th>\n",
       "      <th>total_experience_years</th>\n",
       "      <th>annual_base_pay</th>\n",
       "    </tr>\n",
       "  </thead>\n",
       "  <tbody>\n",
       "    <tr>\n",
       "      <th>count</th>\n",
       "      <td>1420.000000</td>\n",
       "      <td>1420.000000</td>\n",
       "    </tr>\n",
       "    <tr>\n",
       "      <th>mean</th>\n",
       "      <td>6.949880</td>\n",
       "      <td>100932.009873</td>\n",
       "    </tr>\n",
       "    <tr>\n",
       "      <th>std</th>\n",
       "      <td>5.353317</td>\n",
       "      <td>46193.158326</td>\n",
       "    </tr>\n",
       "    <tr>\n",
       "      <th>min</th>\n",
       "      <td>0.500000</td>\n",
       "      <td>16543.000000</td>\n",
       "    </tr>\n",
       "    <tr>\n",
       "      <th>25%</th>\n",
       "      <td>3.000000</td>\n",
       "      <td>65962.500000</td>\n",
       "    </tr>\n",
       "    <tr>\n",
       "      <th>50%</th>\n",
       "      <td>5.000000</td>\n",
       "      <td>100000.000000</td>\n",
       "    </tr>\n",
       "    <tr>\n",
       "      <th>75%</th>\n",
       "      <td>10.000000</td>\n",
       "      <td>130000.000000</td>\n",
       "    </tr>\n",
       "    <tr>\n",
       "      <th>max</th>\n",
       "      <td>43.000000</td>\n",
       "      <td>290000.000000</td>\n",
       "    </tr>\n",
       "  </tbody>\n",
       "</table>\n",
       "</div>"
      ],
      "text/plain": [
       "       total_experience_years  annual_base_pay\n",
       "count             1420.000000      1420.000000\n",
       "mean                 6.949880    100932.009873\n",
       "std                  5.353317     46193.158326\n",
       "min                  0.500000     16543.000000\n",
       "25%                  3.000000     65962.500000\n",
       "50%                  5.000000    100000.000000\n",
       "75%                 10.000000    130000.000000\n",
       "max                 43.000000    290000.000000"
      ]
     },
     "execution_count": 5,
     "metadata": {},
     "output_type": "execute_result"
    }
   ],
   "source": [
    "df.describe()"
   ]
  },
  {
   "cell_type": "code",
   "execution_count": 6,
   "id": "10a8c331",
   "metadata": {},
   "outputs": [
    {
     "data": {
      "text/plain": [
       "<AxesSubplot:xlabel='total_experience_years', ylabel='annual_base_pay'>"
      ]
     },
     "execution_count": 6,
     "metadata": {},
     "output_type": "execute_result"
    },
    {
     "data": {
      "image/png": "[encoded data removed]",
      "text/plain": [
       "<Figure size 432x288 with 1 Axes>"
      ]
     },
     "metadata": {
      "needs_background": "light"
     },
     "output_type": "display_data"
    }
   ],
   "source": [
    "sns.scatterplot(data=df, x='total_experience_years', y=\"annual_base_pay\")"
   ]
  },
  {
   "cell_type": "code",
   "execution_count": 7,
   "id": "a0a5faf4",
   "metadata": {},
   "outputs": [
    {
     "name": "stdout",
     "output_type": "stream",
     "text": [
      "290000.0\n"
     ]
    }
   ],
   "source": [
    "df = df[(df['annual_base_pay'] >15000) & (df['total_experience_years']>0)]\n",
    "print(df['annual_base_pay'].max())"
   ]
  },
  {
   "cell_type": "code",
   "execution_count": 8,
   "id": "f3b537e5",
   "metadata": {
    "scrolled": true
   },
   "outputs": [],
   "source": [
    "def testTrainSplit(data):\n",
    "    length = len(df.index)\n",
    "    splitLimit = int(length * 0.7)\n",
    "    train = data[0: splitLimit]\n",
    "    test = data[splitLimit + 1: length]\n",
    "    return train, test"
   ]
  },
  {
   "cell_type": "code",
   "execution_count": 9,
   "id": "f61bc518",
   "metadata": {},
   "outputs": [],
   "source": [
    "train, test = testTrainSplit(df)"
   ]
  },
  {
   "cell_type": "code",
   "execution_count": 13,
   "id": "dac21f01",
   "metadata": {},
   "outputs": [],
   "source": [
    "def trainLinearRegression(trainDF):\n",
    "    count = 0\n",
    "    slopes = {}\n",
    "    while count < 100:\n",
    "        a = random.randint(1, 100) # Slope!\n",
    "        b = -1 # Coefficient to y --> by = ax + c --> negative because we move to other side\n",
    "        c = 900 # Y-intercept\n",
    "        count = count + 1\n",
    "    sum = sumOfDistances(a, b, c, trainDF)\n",
    "    slopes[a] = sum\n",
    "    print(slopes)"
   ]
  },
  {
   "cell_type": "code",
   "execution_count": 14,
   "id": "8a0c7a32",
   "metadata": {},
   "outputs": [],
   "source": [
    "def sumOfDistances(a, b, c, trainDF):\n",
    "    sum = 0\n",
    "    for row in range(0, len(trainDF.index)):\n",
    "        gpa = trainDF.iat[row, 0]\n",
    "        sat = trainDF.iat[row, 1]\n",
    "        distance = abs((a*gpa) + (b*sat) + c) / math.sqrt((a*a) + (b*b))\n",
    "        sum = sum + distance\n",
    "    return sum"
   ]
  },
  {
   "cell_type": "code",
   "execution_count": 15,
   "id": "59c9c567",
   "metadata": {},
   "outputs": [
    {
     "name": "stdout",
     "output_type": "stream",
     "text": [
      "{77: 1303956.1634958708}\n"
     ]
    }
   ],
   "source": [
    "trainLinearRegression(train)"
   ]
  },
  {
   "cell_type": "code",
   "execution_count": null,
   "id": "1b833498",
   "metadata": {},
   "outputs": [],
   "source": [
    "regr = linear_model.LinearRegression()"
   ]
  },
  {
   "cell_type": "code",
   "execution_count": null,
   "id": "a32109d0",
   "metadata": {},
   "outputs": [],
   "source": []
  }
 ],
 "metadata": {
  "kernelspec": {
   "display_name": "base",
   "language": "python",
   "name": "python3"
  },
  "language_info": {
   "codemirror_mode": {
    "name": "ipython",
    "version": 3
   },
   "file_extension": ".py",
   "mimetype": "text/x-python",
   "name": "python",
   "nbconvert_exporter": "python",
   "pygments_lexer": "ipython3",
   "version": "3.9.12"
  },
  "vscode": {
   "interpreter": {
    "hash": "c7dc9fe095de68ace368b65ab3dbfe5f48830e7110a46f0deecf8b3332d4184d"
   }
  }
 },
 "nbformat": 4,
 "nbformat_minor": 5
}
