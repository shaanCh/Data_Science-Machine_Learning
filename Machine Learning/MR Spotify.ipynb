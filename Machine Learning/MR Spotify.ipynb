{
 "cells": [
  {
   "cell_type": "code",
   "execution_count": 43,
   "metadata": {},
   "outputs": [],
   "source": [
    "import pandas as pd\n",
    "import seaborn as sns\n",
    "import matplotlib.pyplot as plt\n",
    "import math\n",
    "import random"
   ]
  },
  {
   "cell_type": "code",
   "execution_count": 44,
   "metadata": {},
   "outputs": [
    {
     "data": {
      "text/plain": [
       "2012    115\n",
       "2017    111\n",
       "2001    108\n",
       "2018    107\n",
       "2010    107\n",
       "2014    104\n",
       "2005    104\n",
       "2011     99\n",
       "2016     99\n",
       "2015     99\n",
       "2003     97\n",
       "2008     97\n",
       "2004     96\n",
       "2006     95\n",
       "2007     94\n",
       "2002     90\n",
       "2019     89\n",
       "2013     89\n",
       "2009     84\n",
       "2000     74\n",
       "1999     38\n",
       "2020      3\n",
       "1998      1\n",
       "Name: year, dtype: int64"
      ]
     },
     "execution_count": 44,
     "metadata": {},
     "output_type": "execute_result"
    }
   ],
   "source": [
    "df = pd.read_csv(\"SpotifyData.csv\")\n",
    "grouped = df.groupby('year').apply(lambda x: x.sort_values(['year'], ascending=True))\n",
    "df['year'].value_counts()"
   ]
  },
  {
   "cell_type": "code",
   "execution_count": 45,
   "metadata": {},
   "outputs": [
    {
     "name": "stdout",
     "output_type": "stream",
     "text": [
      "                     artist                                            song  \\\n",
      "0             Missy Elliott                                        Hot Boyz   \n",
      "1                 blink-182                            All The Small Things   \n",
      "2              Donell Jones  U Know What's Up (feat. Lisa \"Left Eye\" Lopes)   \n",
      "3        Christina Aguilera                                   I Turn to You   \n",
      "4     Red Hot Chili Peppers                                       Otherside   \n",
      "...                     ...                                             ...   \n",
      "1995               Anuel AA                                           China   \n",
      "1996            Post Malone                                         Circles   \n",
      "1997               t.A.T.u.                         All The Things She Said   \n",
      "1998             Will Smith                                          Switch   \n",
      "1999                    NSG                                         Options   \n",
      "\n",
      "      duration  year  popularity  danceability  energy  key  loudness  mode  \\\n",
      "0       215466  1998          49         0.727   0.445    1   -11.241     1   \n",
      "1       167066  1999          79         0.434   0.897    0    -4.918     1   \n",
      "2       243733  1999          63         0.854   0.543    8    -6.166     0   \n",
      "3       273706  1999          61         0.599   0.470    1    -8.356     1   \n",
      "4       255373  1999          78         0.458   0.795    0    -3.265     1   \n",
      "...        ...   ...         ...           ...     ...  ...       ...   ...   \n",
      "1995    301714  2019          76         0.786   0.808    7    -3.702     1   \n",
      "1996    215280  2019          85         0.695   0.762    0    -3.497     1   \n",
      "1997    214440  2020          39         0.527   0.834    5    -5.767     0   \n",
      "1998    197666  2020          34         0.873   0.900    5    -4.325     0   \n",
      "1999    240081  2020          57         0.836   0.621    1    -4.684     0   \n",
      "\n",
      "      speechiness  acousticness  instrumentalness  liveness  valence    tempo  \n",
      "0          0.2910       0.33900          0.000000    0.1800    0.527   81.125  \n",
      "1          0.0488       0.01030          0.000000    0.6120    0.684  148.726  \n",
      "2          0.0844       0.04020          0.000057    0.0419    0.868  103.032  \n",
      "3          0.0376       0.38000          0.000000    0.1110    0.298  127.177  \n",
      "4          0.0574       0.00316          0.000202    0.0756    0.513  123.229  \n",
      "...           ...           ...               ...       ...      ...      ...  \n",
      "1995       0.0882       0.08460          0.000289    0.0822    0.609  105.027  \n",
      "1996       0.0395       0.19200          0.002440    0.0863    0.553  120.042  \n",
      "1997       0.0474       0.04110          0.005990    0.1050    0.381  179.920  \n",
      "1998       0.1800       0.01070          0.000502    0.5560    0.478  102.516  \n",
      "1999       0.0894       0.38900          0.000092    0.1040    0.762  101.993  \n",
      "\n",
      "[2000 rows x 16 columns]\n"
     ]
    }
   ],
   "source": [
    "# group the data frame by the 'year' column and sort the groups based on the values in that column\n",
    "grouped = df.groupby('year').apply(lambda x: x.sort_values(['year'], ascending=True))\n",
    "\n",
    "# reset the index of the resulting data frame\n",
    "grouped = grouped.reset_index(drop=True)\n",
    "\n",
    "print(grouped)"
   ]
  },
  {
   "cell_type": "code",
   "execution_count": 46,
   "metadata": {},
   "outputs": [
    {
     "data": {
      "text/html": [
       "<div>\n",
       "<style scoped>\n",
       "    .dataframe tbody tr th:only-of-type {\n",
       "        vertical-align: middle;\n",
       "    }\n",
       "\n",
       "    .dataframe tbody tr th {\n",
       "        vertical-align: top;\n",
       "    }\n",
       "\n",
       "    .dataframe thead th {\n",
       "        text-align: right;\n",
       "    }\n",
       "</style>\n",
       "<table border=\"1\" class=\"dataframe\">\n",
       "  <thead>\n",
       "    <tr style=\"text-align: right;\">\n",
       "      <th></th>\n",
       "      <th>duration</th>\n",
       "      <th>year</th>\n",
       "      <th>popularity</th>\n",
       "      <th>energy</th>\n",
       "      <th>loudness</th>\n",
       "      <th>liveness</th>\n",
       "      <th>valence</th>\n",
       "      <th>tempo</th>\n",
       "    </tr>\n",
       "  </thead>\n",
       "  <tbody>\n",
       "    <tr>\n",
       "      <th>count</th>\n",
       "      <td>2000.000000</td>\n",
       "      <td>2000.00000</td>\n",
       "      <td>2000.000000</td>\n",
       "      <td>2000.000000</td>\n",
       "      <td>2000.000000</td>\n",
       "      <td>2000.000000</td>\n",
       "      <td>2000.000000</td>\n",
       "      <td>2000.000000</td>\n",
       "    </tr>\n",
       "    <tr>\n",
       "      <th>mean</th>\n",
       "      <td>228748.124500</td>\n",
       "      <td>2009.49400</td>\n",
       "      <td>59.872500</td>\n",
       "      <td>0.720366</td>\n",
       "      <td>-5.512435</td>\n",
       "      <td>0.181216</td>\n",
       "      <td>0.551690</td>\n",
       "      <td>120.122557</td>\n",
       "    </tr>\n",
       "    <tr>\n",
       "      <th>std</th>\n",
       "      <td>39136.569008</td>\n",
       "      <td>5.85996</td>\n",
       "      <td>21.335577</td>\n",
       "      <td>0.152745</td>\n",
       "      <td>1.933482</td>\n",
       "      <td>0.140669</td>\n",
       "      <td>0.220864</td>\n",
       "      <td>26.967112</td>\n",
       "    </tr>\n",
       "    <tr>\n",
       "      <th>min</th>\n",
       "      <td>113000.000000</td>\n",
       "      <td>1998.00000</td>\n",
       "      <td>0.000000</td>\n",
       "      <td>0.054900</td>\n",
       "      <td>-20.514000</td>\n",
       "      <td>0.021500</td>\n",
       "      <td>0.038100</td>\n",
       "      <td>60.019000</td>\n",
       "    </tr>\n",
       "    <tr>\n",
       "      <th>25%</th>\n",
       "      <td>203580.000000</td>\n",
       "      <td>2004.00000</td>\n",
       "      <td>56.000000</td>\n",
       "      <td>0.622000</td>\n",
       "      <td>-6.490250</td>\n",
       "      <td>0.088100</td>\n",
       "      <td>0.386750</td>\n",
       "      <td>98.985750</td>\n",
       "    </tr>\n",
       "    <tr>\n",
       "      <th>50%</th>\n",
       "      <td>223279.500000</td>\n",
       "      <td>2010.00000</td>\n",
       "      <td>65.500000</td>\n",
       "      <td>0.736000</td>\n",
       "      <td>-5.285000</td>\n",
       "      <td>0.124000</td>\n",
       "      <td>0.557500</td>\n",
       "      <td>120.021500</td>\n",
       "    </tr>\n",
       "    <tr>\n",
       "      <th>75%</th>\n",
       "      <td>248133.000000</td>\n",
       "      <td>2015.00000</td>\n",
       "      <td>73.000000</td>\n",
       "      <td>0.839000</td>\n",
       "      <td>-4.167750</td>\n",
       "      <td>0.241000</td>\n",
       "      <td>0.730000</td>\n",
       "      <td>134.265500</td>\n",
       "    </tr>\n",
       "    <tr>\n",
       "      <th>max</th>\n",
       "      <td>484146.000000</td>\n",
       "      <td>2020.00000</td>\n",
       "      <td>89.000000</td>\n",
       "      <td>0.999000</td>\n",
       "      <td>-0.276000</td>\n",
       "      <td>0.853000</td>\n",
       "      <td>0.973000</td>\n",
       "      <td>210.851000</td>\n",
       "    </tr>\n",
       "  </tbody>\n",
       "</table>\n",
       "</div>"
      ],
      "text/plain": [
       "            duration        year   popularity       energy     loudness  \\\n",
       "count    2000.000000  2000.00000  2000.000000  2000.000000  2000.000000   \n",
       "mean   228748.124500  2009.49400    59.872500     0.720366    -5.512435   \n",
       "std     39136.569008     5.85996    21.335577     0.152745     1.933482   \n",
       "min    113000.000000  1998.00000     0.000000     0.054900   -20.514000   \n",
       "25%    203580.000000  2004.00000    56.000000     0.622000    -6.490250   \n",
       "50%    223279.500000  2010.00000    65.500000     0.736000    -5.285000   \n",
       "75%    248133.000000  2015.00000    73.000000     0.839000    -4.167750   \n",
       "max    484146.000000  2020.00000    89.000000     0.999000    -0.276000   \n",
       "\n",
       "          liveness      valence        tempo  \n",
       "count  2000.000000  2000.000000  2000.000000  \n",
       "mean      0.181216     0.551690   120.122557  \n",
       "std       0.140669     0.220864    26.967112  \n",
       "min       0.021500     0.038100    60.019000  \n",
       "25%       0.088100     0.386750    98.985750  \n",
       "50%       0.124000     0.557500   120.021500  \n",
       "75%       0.241000     0.730000   134.265500  \n",
       "max       0.853000     0.973000   210.851000  "
      ]
     },
     "execution_count": 46,
     "metadata": {},
     "output_type": "execute_result"
    }
   ],
   "source": [
    "#Drop Instrumentalness, acousticness, speechness, key, mode, danceability\n",
    "grouped.drop(['instrumentalness', 'acousticness', 'speechiness', 'key', 'mode', 'danceability'], axis = 1, inplace=True)\n",
    "grouped.dropna(axis=0, inplace=True)\n",
    "grouped.describe()"
   ]
  },
  {
   "cell_type": "code",
   "execution_count": 47,
   "metadata": {},
   "outputs": [
    {
     "name": "stdout",
     "output_type": "stream",
     "text": [
      "            duration      year  popularity    energy  loudness  liveness  \\\n",
      "duration    1.000000 -0.316534    0.050617 -0.078763 -0.079912  0.024941   \n",
      "year       -0.316534  1.000000   -0.003825 -0.108644  0.017479 -0.027037   \n",
      "popularity  0.050617 -0.003825    1.000000 -0.014021  0.030632 -0.009856   \n",
      "energy     -0.078763 -0.108644   -0.014021  1.000000  0.651016  0.156761   \n",
      "loudness   -0.079912  0.017479    0.030632  0.651016  1.000000  0.102159   \n",
      "liveness    0.024941 -0.027037   -0.009856  0.156761  0.102159  1.000000   \n",
      "valence    -0.116870 -0.209365   -0.016142  0.334474  0.232150  0.019040   \n",
      "tempo      -0.028603  0.076867    0.014288  0.153719  0.080709  0.028636   \n",
      "\n",
      "             valence     tempo  \n",
      "duration   -0.116870 -0.028603  \n",
      "year       -0.209365  0.076867  \n",
      "popularity -0.016142  0.014288  \n",
      "energy      0.334474  0.153719  \n",
      "loudness    0.232150  0.080709  \n",
      "liveness    0.019040  0.028636  \n",
      "valence     1.000000 -0.025076  \n",
      "tempo      -0.025076  1.000000  \n"
     ]
    },
    {
     "data": {
      "text/plain": [
       "<AxesSubplot:>"
      ]
     },
     "execution_count": 47,
     "metadata": {},
     "output_type": "execute_result"
    },
    {
     "data": {
      "image/png": "[encoded data removed]",
      "text/plain": [
       "<Figure size 1080x720 with 2 Axes>"
      ]
     },
     "metadata": {
      "needs_background": "light"
     },
     "output_type": "display_data"
    }
   ],
   "source": [
    "cor = grouped.corr()\n",
    "print(cor)\n",
    "plt.figure(figsize= (15,10))\n",
    "sns.heatmap(cor, annot=True)"
   ]
  }
 ],
 "metadata": {
  "kernelspec": {
   "display_name": "base",
   "language": "python",
   "name": "python3"
  },
  "language_info": {
   "codemirror_mode": {
    "name": "ipython",
    "version": 3
   },
   "file_extension": ".py",
   "mimetype": "text/x-python",
   "name": "python",
   "nbconvert_exporter": "python",
   "pygments_lexer": "ipython3",
   "version": "3.9.12"
  },
  "orig_nbformat": 4,
  "vscode": {
   "interpreter": {
    "hash": "c7dc9fe095de68ace368b65ab3dbfe5f48830e7110a46f0deecf8b3332d4184d"
   }
  }
 },
 "nbformat": 4,
 "nbformat_minor": 2
}
