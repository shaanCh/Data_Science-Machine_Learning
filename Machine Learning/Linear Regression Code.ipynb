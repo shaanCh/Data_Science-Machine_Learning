{
  "cells": [
    {
      "cell_type": "code",
      "execution_count": 1,
      "metadata": {
        "id": "4rSYHLjE--u1"
      },
      "outputs": [],
      "source": [
        "import pandas as pd\n",
        "import seaborn as sns\n",
        "import math"
      ]
    },
    {
      "cell_type": "code",
      "execution_count": 3,
      "metadata": {
        "id": "pEE1UNt-_Owg"
      },
      "outputs": [],
      "source": [
        "data = pd.read_csv(\"SATdata.csv\")"
      ]
    },
    {
      "cell_type": "code",
      "execution_count": 4,
      "metadata": {
        "id": "0dZUM1PKmyJ-"
      },
      "outputs": [],
      "source": [
        "data.drop(columns=['Unnamed: 0'], axis=1, inplace = True)"
      ]
    },
    {
      "cell_type": "code",
      "execution_count": 5,
      "metadata": {
        "colab": {
          "base_uri": "https://localhost:8080/",
          "height": 296
        },
        "id": "dSCl3SpgrZ4R",
        "outputId": "bf2b7369-01ba-4f89-adaf-2cbfd16e0a99"
      },
      "outputs": [
        {
          "data": {
            "text/plain": [
              "<AxesSubplot:xlabel='GPA', ylabel='SAT'>"
            ]
          },
          "execution_count": 5,
          "metadata": {},
          "output_type": "execute_result"
        },
        {
          "data": {
            "image/png": "[encoded data removed]",
            "text/plain": [
              "<Figure size 432x288 with 1 Axes>"
            ]
          },
          "metadata": {
            "needs_background": "light"
          },
          "output_type": "display_data"
        }
      ],
      "source": [
        "sns.scatterplot(data = data, x = \"GPA\", y = \"SAT\")"
      ]
    },
    {
      "cell_type": "code",
      "execution_count": 6,
      "metadata": {
        "id": "wlTUYDqe_Ta6"
      },
      "outputs": [],
      "source": [
        "def testTrainSplit(df):\n",
        "  total = len(df.index)\n",
        "  splitLimit = int(total * 0.7)\n",
        "  train = df[0:splitLimit]\n",
        "  test = df[splitLimit: total]\n",
        "  return train, test"
      ]
    },
    {
      "cell_type": "code",
      "execution_count": 7,
      "metadata": {
        "id": "V51IaQZ6C93B"
      },
      "outputs": [
        {
          "data": {
            "text/html": [
              "<div>\n",
              "<style scoped>\n",
              "    .dataframe tbody tr th:only-of-type {\n",
              "        vertical-align: middle;\n",
              "    }\n",
              "\n",
              "    .dataframe tbody tr th {\n",
              "        vertical-align: top;\n",
              "    }\n",
              "\n",
              "    .dataframe thead th {\n",
              "        text-align: right;\n",
              "    }\n",
              "</style>\n",
              "<table border=\"1\" class=\"dataframe\">\n",
              "  <thead>\n",
              "    <tr style=\"text-align: right;\">\n",
              "      <th></th>\n",
              "      <th>GPA</th>\n",
              "      <th>SAT</th>\n",
              "    </tr>\n",
              "  </thead>\n",
              "  <tbody>\n",
              "    <tr>\n",
              "      <th>700</th>\n",
              "      <td>4.0</td>\n",
              "      <td>1120</td>\n",
              "    </tr>\n",
              "    <tr>\n",
              "      <th>701</th>\n",
              "      <td>3.0</td>\n",
              "      <td>1190</td>\n",
              "    </tr>\n",
              "    <tr>\n",
              "      <th>702</th>\n",
              "      <td>2.5</td>\n",
              "      <td>940</td>\n",
              "    </tr>\n",
              "    <tr>\n",
              "      <th>703</th>\n",
              "      <td>3.5</td>\n",
              "      <td>1160</td>\n",
              "    </tr>\n",
              "    <tr>\n",
              "      <th>704</th>\n",
              "      <td>2.3</td>\n",
              "      <td>920</td>\n",
              "    </tr>\n",
              "    <tr>\n",
              "      <th>...</th>\n",
              "      <td>...</td>\n",
              "      <td>...</td>\n",
              "    </tr>\n",
              "    <tr>\n",
              "      <th>995</th>\n",
              "      <td>3.7</td>\n",
              "      <td>1000</td>\n",
              "    </tr>\n",
              "    <tr>\n",
              "      <th>996</th>\n",
              "      <td>3.3</td>\n",
              "      <td>1080</td>\n",
              "    </tr>\n",
              "    <tr>\n",
              "      <th>997</th>\n",
              "      <td>3.5</td>\n",
              "      <td>1140</td>\n",
              "    </tr>\n",
              "    <tr>\n",
              "      <th>998</th>\n",
              "      <td>2.3</td>\n",
              "      <td>1200</td>\n",
              "    </tr>\n",
              "    <tr>\n",
              "      <th>999</th>\n",
              "      <td>2.7</td>\n",
              "      <td>930</td>\n",
              "    </tr>\n",
              "  </tbody>\n",
              "</table>\n",
              "<p>300 rows × 2 columns</p>\n",
              "</div>"
            ],
            "text/plain": [
              "     GPA   SAT\n",
              "700  4.0  1120\n",
              "701  3.0  1190\n",
              "702  2.5   940\n",
              "703  3.5  1160\n",
              "704  2.3   920\n",
              "..   ...   ...\n",
              "995  3.7  1000\n",
              "996  3.3  1080\n",
              "997  3.5  1140\n",
              "998  2.3  1200\n",
              "999  2.7   930\n",
              "\n",
              "[300 rows x 2 columns]"
            ]
          },
          "execution_count": 7,
          "metadata": {},
          "output_type": "execute_result"
        }
      ],
      "source": [
        "train, test = testTrainSplit(data)\n",
        "test.reindex()"
      ]
    },
    {
      "cell_type": "code",
      "execution_count": 12,
      "metadata": {
        "id": "TRbansgaDICH"
      },
      "outputs": [],
      "source": [
        "def trainLR(data):\n",
        "  '''\n",
        "  1. Start y at 800 based on graph check and m of 1\n",
        "  2. Calculate the distance between a data point and perpendicular point to line. Sum together. https://www.varsitytutors.com/precalculus-help/find-the-distance-between-a-point-and-a-line\n",
        "  3. Add 0.1 to m\n",
        "  4. Step 2\n",
        "  5. Compare sum of first slope with second. Choose smallest sum. \n",
        "  6. If second, repeat steps 3 - 5.\n",
        "  7. If first, subtract 0.1 from m.\n",
        "  8. Repeat step 4 and 5.\n",
        "  9. Repeat steps 5 - 8 until 1000 iterations.\n",
        "  '''\n",
        "  c1 = 800\n",
        "  a1 = 1\n",
        "  b1 = -1\n",
        "  sum1 = getSumOfDistances(data, a1, b1, c1)\n",
        "  c2 = 900\n",
        "  a2 = 1\n",
        "  b2 = -1\n",
        "  sum2 = getSumOfDistances(data, a2, b2, c2)\n",
        "  if sum1 < sum2:\n",
        "    return a1, b1, c1\n",
        "  else:\n",
        "    return a2, b2, c2"
      ]
    },
    {
      "cell_type": "code",
      "execution_count": 11,
      "metadata": {
        "id": "MkVu0qzADOxW"
      },
      "outputs": [],
      "source": [
        "def getSumOfDistances(data, a, b, c):\n",
        "  sum = 0\n",
        "  data.reindex()\n",
        "  for row in range(len(data.index)):\n",
        "    gpa = data.iat[row, 0]\n",
        "    sat = data.iat[row, 1]\n",
        "    distance = abs((a * gpa) + (b * sat) + c) / math.sqrt((a*a) + (b*b))\n",
        "    sum = sum + distance\n",
        "  return sum"
      ]
    },
    {
      "cell_type": "code",
      "execution_count": 10,
      "metadata": {
        "colab": {
          "base_uri": "https://localhost:8080/"
        },
        "id": "RdvDhLhH1w81",
        "outputId": "5cb3ed03-c568-4ef6-c23a-288b9d16a2a1"
      },
      "outputs": [
        {
          "name": "stdout",
          "output_type": "stream",
          "text": [
            "Function: 1x + -1y = 900\n"
          ]
        }
      ],
      "source": [
        "a, b, c = trainLR(test)\n",
        "print(\"Function: \" + str(a) + \"x + \" + str(b) + \"y = \" + str(c))"
      ]
    },
    {
      "cell_type": "code",
      "execution_count": null,
      "metadata": {},
      "outputs": [],
      "source": []
    }
  ],
  "metadata": {
    "colab": {
      "provenance": []
    },
    "kernelspec": {
      "display_name": "base",
      "language": "python",
      "name": "python3"
    },
    "language_info": {
      "codemirror_mode": {
        "name": "ipython",
        "version": 3
      },
      "file_extension": ".py",
      "mimetype": "text/x-python",
      "name": "python",
      "nbconvert_exporter": "python",
      "pygments_lexer": "ipython3",
      "version": "3.9.12"
    },
    "vscode": {
      "interpreter": {
        "hash": "c7dc9fe095de68ace368b65ab3dbfe5f48830e7110a46f0deecf8b3332d4184d"
      }
    }
  },
  "nbformat": 4,
  "nbformat_minor": 0
}
