{
 "cells": [
  {
   "cell_type": "code",
   "execution_count": 1,
   "metadata": {},
   "outputs": [],
   "source": [
    "import pandas as pd\n",
    "import seaborn as sns\n",
    "import matplotlib.pyplot as plt\n",
    "import math\n",
    "import random\n",
    "from sklearn.model_selection import train_test_split"
   ]
  },
  {
   "cell_type": "code",
   "execution_count": 36,
   "metadata": {},
   "outputs": [
    {
     "name": "stdout",
     "output_type": "stream",
     "text": [
      "rental_id           2172.0\n",
      "rent                3000.0\n",
      "bedrooms               0.5\n",
      "bathrooms              1.0\n",
      "size_sqft            573.0\n",
      "min_to_subway         11.0\n",
      "floor                  8.0\n",
      "building_age_yrs      31.0\n",
      "Name: 20, dtype: float64\n"
     ]
    }
   ],
   "source": [
    "df = pd.read_csv(\"manhattan_rents.csv\")\n",
    "print(df.iloc[20])"
   ]
  },
  {
   "cell_type": "code",
   "execution_count": 37,
   "metadata": {},
   "outputs": [],
   "source": [
    "#Why did we adjust rents\n",
    "#random()-0.5??\n",
    "\n",
    "df.dropna(axis=0, inplace=True)\n",
    "df['bedrooms']=df['bedrooms'].astype(int)\n",
    "df.drop(['rental_id'], axis=1, inplace=True)\n",
    "df = df[(df['size_sqft'] > 100)]"
   ]
  },
  {
   "cell_type": "code",
   "execution_count": 33,
   "metadata": {},
   "outputs": [
    {
     "data": {
      "text/html": [
       "<div>\n",
       "<style scoped>\n",
       "    .dataframe tbody tr th:only-of-type {\n",
       "        vertical-align: middle;\n",
       "    }\n",
       "\n",
       "    .dataframe tbody tr th {\n",
       "        vertical-align: top;\n",
       "    }\n",
       "\n",
       "    .dataframe thead th {\n",
       "        text-align: right;\n",
       "    }\n",
       "</style>\n",
       "<table border=\"1\" class=\"dataframe\">\n",
       "  <thead>\n",
       "    <tr style=\"text-align: right;\">\n",
       "      <th></th>\n",
       "      <th>rent</th>\n",
       "      <th>bedrooms</th>\n",
       "      <th>bathrooms</th>\n",
       "      <th>size_sqft</th>\n",
       "      <th>min_to_subway</th>\n",
       "      <th>floor</th>\n",
       "      <th>building_age_yrs</th>\n",
       "    </tr>\n",
       "  </thead>\n",
       "  <tbody>\n",
       "    <tr>\n",
       "      <th>count</th>\n",
       "      <td>3536.000000</td>\n",
       "      <td>3536.000000</td>\n",
       "      <td>3536.000000</td>\n",
       "      <td>3536.000000</td>\n",
       "      <td>3536.000000</td>\n",
       "      <td>3536.000000</td>\n",
       "      <td>3536.000000</td>\n",
       "    </tr>\n",
       "    <tr>\n",
       "      <th>mean</th>\n",
       "      <td>5139.029977</td>\n",
       "      <td>1.345871</td>\n",
       "      <td>1.366799</td>\n",
       "      <td>939.841346</td>\n",
       "      <td>4.972002</td>\n",
       "      <td>11.909078</td>\n",
       "      <td>52.011312</td>\n",
       "    </tr>\n",
       "    <tr>\n",
       "      <th>std</th>\n",
       "      <td>3164.100385</td>\n",
       "      <td>0.969988</td>\n",
       "      <td>0.599685</td>\n",
       "      <td>478.102754</td>\n",
       "      <td>5.515729</td>\n",
       "      <td>10.965099</td>\n",
       "      <td>39.390748</td>\n",
       "    </tr>\n",
       "    <tr>\n",
       "      <th>min</th>\n",
       "      <td>1300.000000</td>\n",
       "      <td>0.000000</td>\n",
       "      <td>0.000000</td>\n",
       "      <td>250.000000</td>\n",
       "      <td>0.000000</td>\n",
       "      <td>0.000000</td>\n",
       "      <td>0.000000</td>\n",
       "    </tr>\n",
       "    <tr>\n",
       "      <th>25%</th>\n",
       "      <td>3150.000000</td>\n",
       "      <td>1.000000</td>\n",
       "      <td>1.000000</td>\n",
       "      <td>612.750000</td>\n",
       "      <td>2.000000</td>\n",
       "      <td>4.000000</td>\n",
       "      <td>15.000000</td>\n",
       "    </tr>\n",
       "    <tr>\n",
       "      <th>50%</th>\n",
       "      <td>4000.000000</td>\n",
       "      <td>1.000000</td>\n",
       "      <td>1.000000</td>\n",
       "      <td>800.000000</td>\n",
       "      <td>4.000000</td>\n",
       "      <td>8.000000</td>\n",
       "      <td>39.000000</td>\n",
       "    </tr>\n",
       "    <tr>\n",
       "      <th>75%</th>\n",
       "      <td>6000.000000</td>\n",
       "      <td>2.000000</td>\n",
       "      <td>2.000000</td>\n",
       "      <td>1141.500000</td>\n",
       "      <td>6.000000</td>\n",
       "      <td>17.000000</td>\n",
       "      <td>90.000000</td>\n",
       "    </tr>\n",
       "    <tr>\n",
       "      <th>max</th>\n",
       "      <td>20000.000000</td>\n",
       "      <td>5.000000</td>\n",
       "      <td>5.000000</td>\n",
       "      <td>4800.000000</td>\n",
       "      <td>43.000000</td>\n",
       "      <td>83.000000</td>\n",
       "      <td>180.000000</td>\n",
       "    </tr>\n",
       "  </tbody>\n",
       "</table>\n",
       "</div>"
      ],
      "text/plain": [
       "               rent     bedrooms    bathrooms    size_sqft  min_to_subway  \\\n",
       "count   3536.000000  3536.000000  3536.000000  3536.000000    3536.000000   \n",
       "mean    5139.029977     1.345871     1.366799   939.841346       4.972002   \n",
       "std     3164.100385     0.969988     0.599685   478.102754       5.515729   \n",
       "min     1300.000000     0.000000     0.000000   250.000000       0.000000   \n",
       "25%     3150.000000     1.000000     1.000000   612.750000       2.000000   \n",
       "50%     4000.000000     1.000000     1.000000   800.000000       4.000000   \n",
       "75%     6000.000000     2.000000     2.000000  1141.500000       6.000000   \n",
       "max    20000.000000     5.000000     5.000000  4800.000000      43.000000   \n",
       "\n",
       "             floor  building_age_yrs  \n",
       "count  3536.000000       3536.000000  \n",
       "mean     11.909078         52.011312  \n",
       "std      10.965099         39.390748  \n",
       "min       0.000000          0.000000  \n",
       "25%       4.000000         15.000000  \n",
       "50%       8.000000         39.000000  \n",
       "75%      17.000000         90.000000  \n",
       "max      83.000000        180.000000  "
      ]
     },
     "execution_count": 33,
     "metadata": {},
     "output_type": "execute_result"
    }
   ],
   "source": [
    "df.describe()"
   ]
  },
  {
   "cell_type": "code",
   "execution_count": 38,
   "metadata": {},
   "outputs": [
    {
     "name": "stdout",
     "output_type": "stream",
     "text": [
      "          rent  bedrooms  bathrooms  size_sqft  min_to_subway     floor  \\\n",
      "0     0.066845       0.0        0.2   0.050549       0.209302  0.024096   \n",
      "1     0.545455       0.4        0.4   0.384615       0.093023  0.012048   \n",
      "2     0.171123       0.2        0.2   0.146374       0.046512  0.614458   \n",
      "3     0.186898       0.2        0.2   0.159341       0.069767  0.096386   \n",
      "4     0.866310       0.4        0.4   1.000000       0.069767  0.048193   \n",
      "...        ...       ...        ...        ...            ...       ...   \n",
      "3534  0.155615       0.2        0.2   0.061978       0.069767  0.096386   \n",
      "3535  0.287433       0.4        0.4   0.162198       0.116279  0.120482   \n",
      "3536  0.021337       0.0        0.2   0.000000       0.046512  0.060241   \n",
      "3537  0.116310       0.2        0.2   0.088132       0.139535  0.060241   \n",
      "3538  0.171123       0.2        0.2   0.124396       0.093023  0.132530   \n",
      "\n",
      "      building_age_yrs  \n",
      "0             0.094444  \n",
      "1             0.533333  \n",
      "2             0.161111  \n",
      "3             0.172222  \n",
      "4             0.755556  \n",
      "...                ...  \n",
      "3534          0.088889  \n",
      "3535          0.050000  \n",
      "3536          0.533333  \n",
      "3537          0.077778  \n",
      "3538          0.050000  \n",
      "\n",
      "[3536 rows x 7 columns]\n"
     ]
    }
   ],
   "source": [
    "#Data Normalization: Min-Max scaling\n",
    "#This turns all the values into a number between 0 and 1\n",
    "\n",
    "# copy the data\n",
    "dfmms = df.copy()\n",
    "  \n",
    "# apply normalization techniques\n",
    "for column in dfmms.columns:\n",
    "    dfmms[column] = (dfmms[column] - dfmms[column].min()) / (dfmms[column].max() - dfmms[column].min())    \n",
    "  \n",
    "# view normalized data\n",
    "print(dfmms)"
   ]
  },
  {
   "cell_type": "code",
   "execution_count": 39,
   "metadata": {},
   "outputs": [
    {
     "data": {
      "text/html": [
       "<div>\n",
       "<style scoped>\n",
       "    .dataframe tbody tr th:only-of-type {\n",
       "        vertical-align: middle;\n",
       "    }\n",
       "\n",
       "    .dataframe tbody tr th {\n",
       "        vertical-align: top;\n",
       "    }\n",
       "\n",
       "    .dataframe thead th {\n",
       "        text-align: right;\n",
       "    }\n",
       "</style>\n",
       "<table border=\"1\" class=\"dataframe\">\n",
       "  <thead>\n",
       "    <tr style=\"text-align: right;\">\n",
       "      <th></th>\n",
       "      <th>size_sqft</th>\n",
       "      <th>bathrooms</th>\n",
       "      <th>bedrooms</th>\n",
       "      <th>rent</th>\n",
       "    </tr>\n",
       "  </thead>\n",
       "  <tbody>\n",
       "    <tr>\n",
       "      <th>count</th>\n",
       "      <td>3536.000000</td>\n",
       "      <td>3536.000000</td>\n",
       "      <td>3536.000000</td>\n",
       "      <td>3536.000000</td>\n",
       "    </tr>\n",
       "    <tr>\n",
       "      <th>mean</th>\n",
       "      <td>0.151613</td>\n",
       "      <td>0.273360</td>\n",
       "      <td>0.269174</td>\n",
       "      <td>0.205296</td>\n",
       "    </tr>\n",
       "    <tr>\n",
       "      <th>std</th>\n",
       "      <td>0.105078</td>\n",
       "      <td>0.119937</td>\n",
       "      <td>0.193998</td>\n",
       "      <td>0.169203</td>\n",
       "    </tr>\n",
       "    <tr>\n",
       "      <th>min</th>\n",
       "      <td>0.000000</td>\n",
       "      <td>0.000000</td>\n",
       "      <td>0.000000</td>\n",
       "      <td>0.000000</td>\n",
       "    </tr>\n",
       "    <tr>\n",
       "      <th>25%</th>\n",
       "      <td>0.079725</td>\n",
       "      <td>0.200000</td>\n",
       "      <td>0.200000</td>\n",
       "      <td>0.098930</td>\n",
       "    </tr>\n",
       "    <tr>\n",
       "      <th>50%</th>\n",
       "      <td>0.120879</td>\n",
       "      <td>0.200000</td>\n",
       "      <td>0.200000</td>\n",
       "      <td>0.144385</td>\n",
       "    </tr>\n",
       "    <tr>\n",
       "      <th>75%</th>\n",
       "      <td>0.195934</td>\n",
       "      <td>0.400000</td>\n",
       "      <td>0.400000</td>\n",
       "      <td>0.251337</td>\n",
       "    </tr>\n",
       "    <tr>\n",
       "      <th>max</th>\n",
       "      <td>1.000000</td>\n",
       "      <td>1.000000</td>\n",
       "      <td>1.000000</td>\n",
       "      <td>1.000000</td>\n",
       "    </tr>\n",
       "  </tbody>\n",
       "</table>\n",
       "</div>"
      ],
      "text/plain": [
       "         size_sqft    bathrooms     bedrooms         rent\n",
       "count  3536.000000  3536.000000  3536.000000  3536.000000\n",
       "mean      0.151613     0.273360     0.269174     0.205296\n",
       "std       0.105078     0.119937     0.193998     0.169203\n",
       "min       0.000000     0.000000     0.000000     0.000000\n",
       "25%       0.079725     0.200000     0.200000     0.098930\n",
       "50%       0.120879     0.200000     0.200000     0.144385\n",
       "75%       0.195934     0.400000     0.400000     0.251337\n",
       "max       1.000000     1.000000     1.000000     1.000000"
      ]
     },
     "execution_count": 39,
     "metadata": {},
     "output_type": "execute_result"
    }
   ],
   "source": [
    "#selecting only the features we need and making a new data frame\n",
    "\n",
    "newdf = pd.DataFrame().assign(size_sqft=dfmms['size_sqft'], bathrooms=dfmms['bathrooms'], bedrooms=dfmms['bedrooms'], rent=dfmms['rent'])\n",
    "newdf.head()\n",
    "newdf.describe()"
   ]
  },
  {
   "cell_type": "code",
   "execution_count": 40,
   "metadata": {},
   "outputs": [
    {
     "data": {
      "text/plain": [
       "array([[0.05054945, 0.2       , 0.        ],\n",
       "       [0.38461538, 0.4       , 0.4       ],\n",
       "       [0.14637363, 0.2       , 0.2       ],\n",
       "       ...,\n",
       "       [0.        , 0.2       , 0.        ],\n",
       "       [0.08813187, 0.2       , 0.2       ],\n",
       "       [0.1243956 , 0.2       , 0.2       ]])"
      ]
     },
     "execution_count": 40,
     "metadata": {},
     "output_type": "execute_result"
    }
   ],
   "source": [
    "#Puting data into numpy arrays\n",
    "\n",
    "#1-d array\n",
    "y = newdf['rent'].values\n",
    "#2-d array with weights\n",
    "X = newdf[['size_sqft', 'bathrooms', 'bedrooms']].values\n",
    "\n",
    "\n"
   ]
  },
  {
   "cell_type": "code",
   "execution_count": 43,
   "metadata": {},
   "outputs": [
    {
     "name": "stdout",
     "output_type": "stream",
     "text": [
      "2475\n"
     ]
    }
   ],
   "source": [
    "X_train, X_test, y_train, y_test = train_test_split(X, y, test_size=0.3, random_state=42)\n",
    "print(len(X_train))"
   ]
  }
 ],
 "metadata": {
  "kernelspec": {
   "display_name": "base",
   "language": "python",
   "name": "python3"
  },
  "language_info": {
   "codemirror_mode": {
    "name": "ipython",
    "version": 3
   },
   "file_extension": ".py",
   "mimetype": "text/x-python",
   "name": "python",
   "nbconvert_exporter": "python",
   "pygments_lexer": "ipython3",
   "version": "3.9.12"
  },
  "orig_nbformat": 4,
  "vscode": {
   "interpreter": {
    "hash": "c7dc9fe095de68ace368b65ab3dbfe5f48830e7110a46f0deecf8b3332d4184d"
   }
  }
 },
 "nbformat": 4,
 "nbformat_minor": 2
}
