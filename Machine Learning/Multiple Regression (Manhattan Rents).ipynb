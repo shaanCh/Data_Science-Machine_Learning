{
 "cells": [
  {
   "cell_type": "code",
   "execution_count": 105,
   "id": "cd8915f1",
   "metadata": {},
   "outputs": [],
   "source": [
    "import pandas as pd\n",
    "import seaborn as sns\n",
    "import matplotlib.pyplot as plt\n",
    "import math\n",
    "import random\n"
   ]
  },
  {
   "cell_type": "code",
   "execution_count": 106,
   "id": "a948c781",
   "metadata": {},
   "outputs": [
    {
     "name": "stdout",
     "output_type": "stream",
     "text": [
      "rental_id           2172.0\n",
      "rent                3000.0\n",
      "bedrooms               0.5\n",
      "bathrooms              1.0\n",
      "size_sqft            573.0\n",
      "min_to_subway         11.0\n",
      "floor                  8.0\n",
      "building_age_yrs      31.0\n",
      "Name: 20, dtype: float64\n"
     ]
    }
   ],
   "source": [
    "df = pd.read_csv(\"manhattan_rents.csv\")\n",
    "print(df.iloc[20])"
   ]
  },
  {
   "cell_type": "code",
   "execution_count": 107,
   "id": "6dd1e3c7",
   "metadata": {},
   "outputs": [
    {
     "data": {
      "text/plain": [
       "rental_id             int64\n",
       "rent                float64\n",
       "bedrooms            float64\n",
       "bathrooms             int64\n",
       "size_sqft           float64\n",
       "min_to_subway         int64\n",
       "floor               float64\n",
       "building_age_yrs      int64\n",
       "dtype: object"
      ]
     },
     "execution_count": 107,
     "metadata": {},
     "output_type": "execute_result"
    }
   ],
   "source": [
    "df.dtypes"
   ]
  },
  {
   "cell_type": "code",
   "execution_count": 108,
   "id": "0df75ad6",
   "metadata": {},
   "outputs": [],
   "source": [
    "#dropping the rows with null values\n",
    "#then converting floats into int \n",
    "#dropped rental ID column\n",
    "\n",
    "\n",
    "df.dropna(axis=0, inplace=True)\n",
    "df['bedrooms']=df['bedrooms'].astype(int)\n",
    "df.drop(['rental_id'], axis=1, inplace=True)"
   ]
  },
  {
   "cell_type": "code",
   "execution_count": 109,
   "id": "d830d725",
   "metadata": {},
   "outputs": [
    {
     "name": "stdout",
     "output_type": "stream",
     "text": [
      "         rent  bedrooms  bathrooms  size_sqft  min_to_subway  floor  \\\n",
      "0      2550.0         0          1      480.0              9    2.0   \n",
      "1     11500.0         2          2     2000.0              4    1.0   \n",
      "2      4500.0         1          1      916.0              2   51.0   \n",
      "3      4795.0         1          1      975.0              3    8.0   \n",
      "4     17500.0         2          2     4800.0              3    4.0   \n",
      "...       ...       ...        ...        ...            ...    ...   \n",
      "3534   4210.0         1          1      532.0              3    8.0   \n",
      "3535   6675.0         2          2      988.0              5   10.0   \n",
      "3536   1699.0         0          1      250.0              2    5.0   \n",
      "3537   3475.0         1          1      651.0              6    5.0   \n",
      "3538   4500.0         1          1      816.0              4   11.0   \n",
      "\n",
      "      building_age_yrs  \n",
      "0                   17  \n",
      "1                   96  \n",
      "2                   29  \n",
      "3                   31  \n",
      "4                  136  \n",
      "...                ...  \n",
      "3534                16  \n",
      "3535                 9  \n",
      "3536                96  \n",
      "3537                14  \n",
      "3538                 9  \n",
      "\n",
      "[3536 rows x 7 columns]\n"
     ]
    }
   ],
   "source": [
    "print(df)"
   ]
  },
  {
   "cell_type": "code",
   "execution_count": 110,
   "id": "e170276e",
   "metadata": {},
   "outputs": [
    {
     "name": "stdout",
     "output_type": "stream",
     "text": [
      "<class 'pandas.core.frame.DataFrame'>\n",
      "Int64Index: 3536 entries, 0 to 3538\n",
      "Data columns (total 7 columns):\n",
      " #   Column            Non-Null Count  Dtype  \n",
      "---  ------            --------------  -----  \n",
      " 0   rent              3536 non-null   float64\n",
      " 1   bedrooms          3536 non-null   int32  \n",
      " 2   bathrooms         3536 non-null   int64  \n",
      " 3   size_sqft         3536 non-null   float64\n",
      " 4   min_to_subway     3536 non-null   int64  \n",
      " 5   floor             3536 non-null   float64\n",
      " 6   building_age_yrs  3536 non-null   int64  \n",
      "dtypes: float64(3), int32(1), int64(3)\n",
      "memory usage: 207.2 KB\n"
     ]
    }
   ],
   "source": [
    "df.info()"
   ]
  },
  {
   "cell_type": "code",
   "execution_count": 111,
   "id": "0003b2bd",
   "metadata": {},
   "outputs": [
    {
     "data": {
      "text/html": [
       "<div>\n",
       "<style scoped>\n",
       "    .dataframe tbody tr th:only-of-type {\n",
       "        vertical-align: middle;\n",
       "    }\n",
       "\n",
       "    .dataframe tbody tr th {\n",
       "        vertical-align: top;\n",
       "    }\n",
       "\n",
       "    .dataframe thead th {\n",
       "        text-align: right;\n",
       "    }\n",
       "</style>\n",
       "<table border=\"1\" class=\"dataframe\">\n",
       "  <thead>\n",
       "    <tr style=\"text-align: right;\">\n",
       "      <th></th>\n",
       "      <th>rent</th>\n",
       "      <th>bedrooms</th>\n",
       "      <th>bathrooms</th>\n",
       "      <th>size_sqft</th>\n",
       "      <th>min_to_subway</th>\n",
       "      <th>floor</th>\n",
       "      <th>building_age_yrs</th>\n",
       "    </tr>\n",
       "  </thead>\n",
       "  <tbody>\n",
       "    <tr>\n",
       "      <th>count</th>\n",
       "      <td>3536.000000</td>\n",
       "      <td>3536.000000</td>\n",
       "      <td>3536.000000</td>\n",
       "      <td>3536.000000</td>\n",
       "      <td>3536.000000</td>\n",
       "      <td>3536.000000</td>\n",
       "      <td>3536.000000</td>\n",
       "    </tr>\n",
       "    <tr>\n",
       "      <th>mean</th>\n",
       "      <td>5139.029977</td>\n",
       "      <td>1.345871</td>\n",
       "      <td>1.366799</td>\n",
       "      <td>939.841346</td>\n",
       "      <td>4.972002</td>\n",
       "      <td>11.909078</td>\n",
       "      <td>52.011312</td>\n",
       "    </tr>\n",
       "    <tr>\n",
       "      <th>std</th>\n",
       "      <td>3164.100385</td>\n",
       "      <td>0.969988</td>\n",
       "      <td>0.599685</td>\n",
       "      <td>478.102754</td>\n",
       "      <td>5.515729</td>\n",
       "      <td>10.965099</td>\n",
       "      <td>39.390748</td>\n",
       "    </tr>\n",
       "    <tr>\n",
       "      <th>min</th>\n",
       "      <td>1300.000000</td>\n",
       "      <td>0.000000</td>\n",
       "      <td>0.000000</td>\n",
       "      <td>250.000000</td>\n",
       "      <td>0.000000</td>\n",
       "      <td>0.000000</td>\n",
       "      <td>0.000000</td>\n",
       "    </tr>\n",
       "    <tr>\n",
       "      <th>25%</th>\n",
       "      <td>3150.000000</td>\n",
       "      <td>1.000000</td>\n",
       "      <td>1.000000</td>\n",
       "      <td>612.750000</td>\n",
       "      <td>2.000000</td>\n",
       "      <td>4.000000</td>\n",
       "      <td>15.000000</td>\n",
       "    </tr>\n",
       "    <tr>\n",
       "      <th>50%</th>\n",
       "      <td>4000.000000</td>\n",
       "      <td>1.000000</td>\n",
       "      <td>1.000000</td>\n",
       "      <td>800.000000</td>\n",
       "      <td>4.000000</td>\n",
       "      <td>8.000000</td>\n",
       "      <td>39.000000</td>\n",
       "    </tr>\n",
       "    <tr>\n",
       "      <th>75%</th>\n",
       "      <td>6000.000000</td>\n",
       "      <td>2.000000</td>\n",
       "      <td>2.000000</td>\n",
       "      <td>1141.500000</td>\n",
       "      <td>6.000000</td>\n",
       "      <td>17.000000</td>\n",
       "      <td>90.000000</td>\n",
       "    </tr>\n",
       "    <tr>\n",
       "      <th>max</th>\n",
       "      <td>20000.000000</td>\n",
       "      <td>5.000000</td>\n",
       "      <td>5.000000</td>\n",
       "      <td>4800.000000</td>\n",
       "      <td>43.000000</td>\n",
       "      <td>83.000000</td>\n",
       "      <td>180.000000</td>\n",
       "    </tr>\n",
       "  </tbody>\n",
       "</table>\n",
       "</div>"
      ],
      "text/plain": [
       "               rent     bedrooms    bathrooms    size_sqft  min_to_subway  \\\n",
       "count   3536.000000  3536.000000  3536.000000  3536.000000    3536.000000   \n",
       "mean    5139.029977     1.345871     1.366799   939.841346       4.972002   \n",
       "std     3164.100385     0.969988     0.599685   478.102754       5.515729   \n",
       "min     1300.000000     0.000000     0.000000   250.000000       0.000000   \n",
       "25%     3150.000000     1.000000     1.000000   612.750000       2.000000   \n",
       "50%     4000.000000     1.000000     1.000000   800.000000       4.000000   \n",
       "75%     6000.000000     2.000000     2.000000  1141.500000       6.000000   \n",
       "max    20000.000000     5.000000     5.000000  4800.000000      43.000000   \n",
       "\n",
       "             floor  building_age_yrs  \n",
       "count  3536.000000       3536.000000  \n",
       "mean     11.909078         52.011312  \n",
       "std      10.965099         39.390748  \n",
       "min       0.000000          0.000000  \n",
       "25%       4.000000         15.000000  \n",
       "50%       8.000000         39.000000  \n",
       "75%      17.000000         90.000000  \n",
       "max      83.000000        180.000000  "
      ]
     },
     "execution_count": 111,
     "metadata": {},
     "output_type": "execute_result"
    }
   ],
   "source": [
    "df.describe()"
   ]
  },
  {
   "cell_type": "code",
   "execution_count": 112,
   "id": "4f6e5b60",
   "metadata": {},
   "outputs": [],
   "source": [
    "adj_rents = []\n",
    "for row in range(len(df.index)):\n",
    "    if df.iat[row,1]==0:\n",
    "        adj_rents.append(df.iat[row,0])\n",
    "    else:\n",
    "        adj_rents.append(df.iat[row, 0]/ df.iat[row,1])\n",
    "        \n",
    "df['adj_rents'] = adj_rents"
   ]
  },
  {
   "cell_type": "code",
   "execution_count": 113,
   "id": "a2b013f8",
   "metadata": {},
   "outputs": [
    {
     "data": {
      "text/plain": [
       "0       2550.0\n",
       "1       5750.0\n",
       "2       4500.0\n",
       "3       4795.0\n",
       "4       8750.0\n",
       "         ...  \n",
       "3534    4210.0\n",
       "3535    3337.5\n",
       "3536    1699.0\n",
       "3537    3475.0\n",
       "3538    4500.0\n",
       "Name: adj_rents, Length: 3536, dtype: float64"
      ]
     },
     "execution_count": 113,
     "metadata": {},
     "output_type": "execute_result"
    }
   ],
   "source": [
    "df['adj_rents']"
   ]
  },
  {
   "cell_type": "code",
   "execution_count": 114,
   "id": "f4e75b82",
   "metadata": {},
   "outputs": [
    {
     "data": {
      "text/html": [
       "<div>\n",
       "<style scoped>\n",
       "    .dataframe tbody tr th:only-of-type {\n",
       "        vertical-align: middle;\n",
       "    }\n",
       "\n",
       "    .dataframe tbody tr th {\n",
       "        vertical-align: top;\n",
       "    }\n",
       "\n",
       "    .dataframe thead th {\n",
       "        text-align: right;\n",
       "    }\n",
       "</style>\n",
       "<table border=\"1\" class=\"dataframe\">\n",
       "  <thead>\n",
       "    <tr style=\"text-align: right;\">\n",
       "      <th></th>\n",
       "      <th>rent</th>\n",
       "      <th>bedrooms</th>\n",
       "      <th>bathrooms</th>\n",
       "      <th>size_sqft</th>\n",
       "      <th>min_to_subway</th>\n",
       "      <th>floor</th>\n",
       "      <th>building_age_yrs</th>\n",
       "      <th>adj_rents</th>\n",
       "    </tr>\n",
       "  </thead>\n",
       "  <tbody>\n",
       "    <tr>\n",
       "      <th>count</th>\n",
       "      <td>3536.000000</td>\n",
       "      <td>3536.000000</td>\n",
       "      <td>3536.000000</td>\n",
       "      <td>3536.000000</td>\n",
       "      <td>3536.000000</td>\n",
       "      <td>3536.000000</td>\n",
       "      <td>3536.000000</td>\n",
       "      <td>3536.000000</td>\n",
       "    </tr>\n",
       "    <tr>\n",
       "      <th>mean</th>\n",
       "      <td>5139.029977</td>\n",
       "      <td>1.345871</td>\n",
       "      <td>1.366799</td>\n",
       "      <td>939.841346</td>\n",
       "      <td>4.972002</td>\n",
       "      <td>11.909078</td>\n",
       "      <td>52.011312</td>\n",
       "      <td>3475.162184</td>\n",
       "    </tr>\n",
       "    <tr>\n",
       "      <th>std</th>\n",
       "      <td>3164.100385</td>\n",
       "      <td>0.969988</td>\n",
       "      <td>0.599685</td>\n",
       "      <td>478.102754</td>\n",
       "      <td>5.515729</td>\n",
       "      <td>10.965099</td>\n",
       "      <td>39.390748</td>\n",
       "      <td>1384.649774</td>\n",
       "    </tr>\n",
       "    <tr>\n",
       "      <th>min</th>\n",
       "      <td>1300.000000</td>\n",
       "      <td>0.000000</td>\n",
       "      <td>0.000000</td>\n",
       "      <td>250.000000</td>\n",
       "      <td>0.000000</td>\n",
       "      <td>0.000000</td>\n",
       "      <td>0.000000</td>\n",
       "      <td>775.000000</td>\n",
       "    </tr>\n",
       "    <tr>\n",
       "      <th>25%</th>\n",
       "      <td>3150.000000</td>\n",
       "      <td>1.000000</td>\n",
       "      <td>1.000000</td>\n",
       "      <td>612.750000</td>\n",
       "      <td>2.000000</td>\n",
       "      <td>4.000000</td>\n",
       "      <td>15.000000</td>\n",
       "      <td>2595.000000</td>\n",
       "    </tr>\n",
       "    <tr>\n",
       "      <th>50%</th>\n",
       "      <td>4000.000000</td>\n",
       "      <td>1.000000</td>\n",
       "      <td>1.000000</td>\n",
       "      <td>800.000000</td>\n",
       "      <td>4.000000</td>\n",
       "      <td>8.000000</td>\n",
       "      <td>39.000000</td>\n",
       "      <td>3325.000000</td>\n",
       "    </tr>\n",
       "    <tr>\n",
       "      <th>75%</th>\n",
       "      <td>6000.000000</td>\n",
       "      <td>2.000000</td>\n",
       "      <td>2.000000</td>\n",
       "      <td>1141.500000</td>\n",
       "      <td>6.000000</td>\n",
       "      <td>17.000000</td>\n",
       "      <td>90.000000</td>\n",
       "      <td>4051.250000</td>\n",
       "    </tr>\n",
       "    <tr>\n",
       "      <th>max</th>\n",
       "      <td>20000.000000</td>\n",
       "      <td>5.000000</td>\n",
       "      <td>5.000000</td>\n",
       "      <td>4800.000000</td>\n",
       "      <td>43.000000</td>\n",
       "      <td>83.000000</td>\n",
       "      <td>180.000000</td>\n",
       "      <td>13500.000000</td>\n",
       "    </tr>\n",
       "  </tbody>\n",
       "</table>\n",
       "</div>"
      ],
      "text/plain": [
       "               rent     bedrooms    bathrooms    size_sqft  min_to_subway  \\\n",
       "count   3536.000000  3536.000000  3536.000000  3536.000000    3536.000000   \n",
       "mean    5139.029977     1.345871     1.366799   939.841346       4.972002   \n",
       "std     3164.100385     0.969988     0.599685   478.102754       5.515729   \n",
       "min     1300.000000     0.000000     0.000000   250.000000       0.000000   \n",
       "25%     3150.000000     1.000000     1.000000   612.750000       2.000000   \n",
       "50%     4000.000000     1.000000     1.000000   800.000000       4.000000   \n",
       "75%     6000.000000     2.000000     2.000000  1141.500000       6.000000   \n",
       "max    20000.000000     5.000000     5.000000  4800.000000      43.000000   \n",
       "\n",
       "             floor  building_age_yrs     adj_rents  \n",
       "count  3536.000000       3536.000000   3536.000000  \n",
       "mean     11.909078         52.011312   3475.162184  \n",
       "std      10.965099         39.390748   1384.649774  \n",
       "min       0.000000          0.000000    775.000000  \n",
       "25%       4.000000         15.000000   2595.000000  \n",
       "50%       8.000000         39.000000   3325.000000  \n",
       "75%      17.000000         90.000000   4051.250000  \n",
       "max      83.000000        180.000000  13500.000000  "
      ]
     },
     "execution_count": 114,
     "metadata": {},
     "output_type": "execute_result"
    }
   ],
   "source": [
    "df.describe()"
   ]
  },
  {
   "cell_type": "code",
   "execution_count": 115,
   "id": "6e61af40",
   "metadata": {},
   "outputs": [
    {
     "name": "stdout",
     "output_type": "stream",
     "text": [
      "          rent  bedrooms  bathrooms  size_sqft  min_to_subway     floor  \\\n",
      "0     0.066845       0.0        0.2   0.050549       0.209302  0.024096   \n",
      "1     0.545455       0.4        0.4   0.384615       0.093023  0.012048   \n",
      "2     0.171123       0.2        0.2   0.146374       0.046512  0.614458   \n",
      "3     0.186898       0.2        0.2   0.159341       0.069767  0.096386   \n",
      "4     0.866310       0.4        0.4   1.000000       0.069767  0.048193   \n",
      "...        ...       ...        ...        ...            ...       ...   \n",
      "3534  0.155615       0.2        0.2   0.061978       0.069767  0.096386   \n",
      "3535  0.287433       0.4        0.4   0.162198       0.116279  0.120482   \n",
      "3536  0.021337       0.0        0.2   0.000000       0.046512  0.060241   \n",
      "3537  0.116310       0.2        0.2   0.088132       0.139535  0.060241   \n",
      "3538  0.171123       0.2        0.2   0.124396       0.093023  0.132530   \n",
      "\n",
      "      building_age_yrs  adj_rents  \n",
      "0             0.094444   0.139489  \n",
      "1             0.533333   0.390963  \n",
      "2             0.161111   0.292731  \n",
      "3             0.172222   0.315914  \n",
      "4             0.755556   0.626719  \n",
      "...                ...        ...  \n",
      "3534          0.088889   0.269941  \n",
      "3535          0.050000   0.201375  \n",
      "3536          0.533333   0.072613  \n",
      "3537          0.077778   0.212181  \n",
      "3538          0.050000   0.292731  \n",
      "\n",
      "[3536 rows x 8 columns]\n"
     ]
    }
   ],
   "source": [
    "#Data Normalization: Min-Max scaling\n",
    "#This turns all the values into a number between 0 and 1\n",
    "\n",
    "# copy the data\n",
    "dfmms = df.copy()\n",
    "  \n",
    "# apply normalization techniques\n",
    "for column in dfmms.columns:\n",
    "    dfmms[column] = (dfmms[column] - dfmms[column].min()) / (dfmms[column].max() - dfmms[column].min())    \n",
    "  \n",
    "# view normalized data\n",
    "print(dfmms)"
   ]
  },
  {
   "cell_type": "code",
   "execution_count": 116,
   "id": "3d8d6f77",
   "metadata": {},
   "outputs": [
    {
     "name": "stdout",
     "output_type": "stream",
     "text": [
      "                      rent  bedrooms  bathrooms  size_sqft  min_to_subway  \\\n",
      "rent              1.000000  0.637936   0.769562   0.857981       0.035131   \n",
      "bedrooms          0.637936  1.000000   0.720436   0.769800       0.076045   \n",
      "bathrooms         0.769562  0.720436   1.000000   0.803641       0.086833   \n",
      "size_sqft         0.857981  0.769800   0.803641   1.000000       0.039339   \n",
      "min_to_subway     0.035131  0.076045   0.086833   0.039339       1.000000   \n",
      "floor             0.215904  0.043824   0.128004   0.107194       0.082435   \n",
      "building_age_yrs -0.128892  0.033770  -0.095453   0.014408      -0.184811   \n",
      "adj_rents         0.572582 -0.063157   0.147136   0.318212      -0.060081   \n",
      "\n",
      "                     floor  building_age_yrs  adj_rents  \n",
      "rent              0.215904         -0.128892   0.572582  \n",
      "bedrooms          0.043824          0.033770  -0.063157  \n",
      "bathrooms         0.128004         -0.095453   0.147136  \n",
      "size_sqft         0.107194          0.014408   0.318212  \n",
      "min_to_subway     0.082435         -0.184811  -0.060081  \n",
      "floor             1.000000         -0.389468   0.264232  \n",
      "building_age_yrs -0.389468          1.000000  -0.230870  \n",
      "adj_rents         0.264232         -0.230870   1.000000  \n"
     ]
    },
    {
     "data": {
      "text/plain": [
       "<AxesSubplot:>"
      ]
     },
     "execution_count": 116,
     "metadata": {},
     "output_type": "execute_result"
    },
    {
     "data": {
      "image/png": "[encoded data removed]",
      "text/plain": [
       "<Figure size 1080x720 with 2 Axes>"
      ]
     },
     "metadata": {
      "needs_background": "light"
     },
     "output_type": "display_data"
    }
   ],
   "source": [
    "#Finding the correlations between the features and the target\n",
    "#Any value closer to 1 has a large correlation between those 2 features\n",
    "\n",
    "cor = df.corr()\n",
    "print(cor)\n",
    "plt.figure(figsize= (15,10))\n",
    "sns.heatmap(cor, annot=True)"
   ]
  },
  {
   "cell_type": "code",
   "execution_count": 117,
   "id": "e448bb93",
   "metadata": {},
   "outputs": [
    {
     "data": {
      "text/html": [
       "<div>\n",
       "<style scoped>\n",
       "    .dataframe tbody tr th:only-of-type {\n",
       "        vertical-align: middle;\n",
       "    }\n",
       "\n",
       "    .dataframe tbody tr th {\n",
       "        vertical-align: top;\n",
       "    }\n",
       "\n",
       "    .dataframe thead th {\n",
       "        text-align: right;\n",
       "    }\n",
       "</style>\n",
       "<table border=\"1\" class=\"dataframe\">\n",
       "  <thead>\n",
       "    <tr style=\"text-align: right;\">\n",
       "      <th></th>\n",
       "      <th>size_sqft</th>\n",
       "      <th>bathrooms</th>\n",
       "      <th>bedrooms</th>\n",
       "      <th>rent</th>\n",
       "    </tr>\n",
       "  </thead>\n",
       "  <tbody>\n",
       "    <tr>\n",
       "      <th>0</th>\n",
       "      <td>0.050549</td>\n",
       "      <td>0.2</td>\n",
       "      <td>0.0</td>\n",
       "      <td>0.066845</td>\n",
       "    </tr>\n",
       "    <tr>\n",
       "      <th>1</th>\n",
       "      <td>0.384615</td>\n",
       "      <td>0.4</td>\n",
       "      <td>0.4</td>\n",
       "      <td>0.545455</td>\n",
       "    </tr>\n",
       "    <tr>\n",
       "      <th>2</th>\n",
       "      <td>0.146374</td>\n",
       "      <td>0.2</td>\n",
       "      <td>0.2</td>\n",
       "      <td>0.171123</td>\n",
       "    </tr>\n",
       "    <tr>\n",
       "      <th>3</th>\n",
       "      <td>0.159341</td>\n",
       "      <td>0.2</td>\n",
       "      <td>0.2</td>\n",
       "      <td>0.186898</td>\n",
       "    </tr>\n",
       "    <tr>\n",
       "      <th>4</th>\n",
       "      <td>1.000000</td>\n",
       "      <td>0.4</td>\n",
       "      <td>0.4</td>\n",
       "      <td>0.866310</td>\n",
       "    </tr>\n",
       "  </tbody>\n",
       "</table>\n",
       "</div>"
      ],
      "text/plain": [
       "   size_sqft  bathrooms  bedrooms      rent\n",
       "0   0.050549        0.2       0.0  0.066845\n",
       "1   0.384615        0.4       0.4  0.545455\n",
       "2   0.146374        0.2       0.2  0.171123\n",
       "3   0.159341        0.2       0.2  0.186898\n",
       "4   1.000000        0.4       0.4  0.866310"
      ]
     },
     "execution_count": 117,
     "metadata": {},
     "output_type": "execute_result"
    }
   ],
   "source": [
    "#selecting only the features we need and making a new data frame\n",
    "\n",
    "newdf = pd.DataFrame().assign(size_sqft=dfmms['size_sqft'], bathrooms=dfmms['bathrooms'], bedrooms=dfmms['bedrooms'], rent=dfmms['rent'])\n",
    "newdf.head()"
   ]
  },
  {
   "cell_type": "code",
   "execution_count": 118,
   "id": "64a5732e",
   "metadata": {},
   "outputs": [],
   "source": [
    "#Splitting new data frame into the 70/30 method\n",
    "\n",
    "def testTrainSplit(data):\n",
    "    length = len(df.index)\n",
    "    splitLimit = int(length * 0.7)\n",
    "    train = data[0: splitLimit]\n",
    "    test = data[splitLimit + 1: length]\n",
    "    return train, test"
   ]
  },
  {
   "cell_type": "code",
   "execution_count": 119,
   "id": "657a22af",
   "metadata": {},
   "outputs": [
    {
     "name": "stdout",
     "output_type": "stream",
     "text": [
      "<class 'pandas.core.frame.DataFrame'>\n",
      "Int64Index: 2475 entries, 0 to 2477\n",
      "Data columns (total 4 columns):\n",
      " #   Column     Non-Null Count  Dtype  \n",
      "---  ------     --------------  -----  \n",
      " 0   size_sqft  2475 non-null   float64\n",
      " 1   bathrooms  2475 non-null   float64\n",
      " 2   bedrooms   2475 non-null   float64\n",
      " 3   rent       2475 non-null   float64\n",
      "dtypes: float64(4)\n",
      "memory usage: 96.7 KB\n"
     ]
    }
   ],
   "source": [
    "train, test = testTrainSplit(newdf)\n",
    "train.info()"
   ]
  },
  {
   "cell_type": "code",
   "execution_count": 120,
   "id": "c36db342",
   "metadata": {},
   "outputs": [],
   "source": [
    "#y = b + w1x1 + w2x2 + w3x3 + wnxn\n",
    "# https://mathinsight.org/distance_point_plane#:~:text=The%20shortest%20distance%20from%20a,as%20a%20gray%20line%20segment.\n",
    "# https://www.nagwa.com/en/explainers/235149350980/\n",
    "\n",
    "# 1. sum = 0\n",
    "# 2. randomly generate values for b, w1, w2, w3\n",
    "# 3. calculate distance from points to plane\n",
    "# 4. add distances to sum\n",
    "# 5. repeat 2-3 until shortest distance is found "
   ]
  },
  {
   "cell_type": "code",
   "execution_count": 141,
   "id": "0b6254ea",
   "metadata": {},
   "outputs": [],
   "source": [
    "def sumOfDistances(b, w1, w2, w3, trainDF):\n",
    "    sum = 0\n",
    "    for row in range(0, len(trainDF.index)):\n",
    "        sqft = trainDF.iat[row, 0]\n",
    "        bathroom = trainDF.iat[row, 1]\n",
    "        bedroom = trainDF.iat[row, 2]\n",
    "        distance = abs((w1*sqft) + (w2*bathroom) + (w3*bedroom)+ b) / math.sqrt((w2**2) + (w2**2)+(w3**2))\n",
    "        sum = sum + distance\n",
    "    return sum\n",
    "    "
   ]
  },
  {
   "cell_type": "code",
   "execution_count": 144,
   "id": "7cd6685a",
   "metadata": {},
   "outputs": [],
   "source": [
    "def trainMultipleRegression(trainDF):\n",
    "    count = 0\n",
    "    slope = {}\n",
    "    while count <= 1000:\n",
    "        b = random.uniform(0, 1) # y-int!\n",
    "        w1 = random.uniform(0, 1) # slope of sqft feature\n",
    "        w2 = random.uniform(0, 1) # slope of bathroom feature\n",
    "        w3 = random.uniform(0, 1) # slope of bedroom feature\n",
    "        count = count + 1\n",
    "        sum = sumOfDistances(b, w1, w2, w3, trainDF)\n",
    "        slope[w1,w2,w3,b] = sum\n",
    "    print(slope)\n",
    "    "
   ]
  },
  {
   "cell_type": "code",
   "execution_count": 146,
   "id": "64945285",
   "metadata": {},
   "outputs": [
    {
     "name": "stdout",
     "output_type": "stream",
     "text": [
      "{(0.6534432340940236, 0.09625392044040326, 0.21993518092418118, 0.5752627515899399): 7265.1660052460165, (0.19377875299224034, 0.20674521140911317, 0.5885745328080091, 0.374145681165735): 2328.062095927727, (0.42674752276534444, 0.24174791741898183, 0.9462566681981195, 0.7580081272162252): 2811.7555371275407, (0.6761242743772737, 0.34440084778215996, 0.5024178305148026, 0.7869063049540939): 3954.3275868932637, (0.3453624940130947, 0.8117625799378367, 0.059777356565980266, 0.2748301139338932): 1214.7250308827809, (0.6586989292214148, 0.6338097404678805, 0.38804204579371804, 0.5592627707423442): 2371.2422855002455, (0.09356030243321878, 0.3264864930996937, 0.5471282144608988, 0.8646133590188777): 3854.6803182104345, (0.21028328039474087, 0.11054441025453654, 0.9958858786873342, 0.8009416290314514): 2776.5891876401497, (0.1416143546870483, 0.17199377181152986, 0.9069238071052865, 0.15527785398404603): 1232.7665719181496, (0.7191440566248697, 0.568046094149003, 0.13546734279605377, 0.0952672420143319): 1199.9488596195026, (0.6215381826324434, 0.10378693963000718, 0.38559771406919496, 0.06216379246510162): 1727.6367062983093, (0.35177442472124376, 0.6018133708501824, 0.2384740641976998, 0.11525229608674359): 1110.266041739709, (0.1908899118089843, 0.9590330482068503, 0.7145219615555186, 0.18294460598179907): 1074.356151181226, (0.09733384669561007, 0.1626128135838515, 0.26730619204684525, 0.9719240261362974): 7741.102294679831, (0.7056794915038803, 0.7591490738183277, 0.25027032377042346, 0.9063565952430656): 2889.538149671486, (0.8926330577803677, 0.6676951628431074, 0.7714696489574875, 0.35237123573998463): 1779.3979842951694, (0.6342851266375914, 0.5479275323656293, 0.18351622332037631, 0.5417799815624039): 2598.79046584033, (0.46296281137450257, 0.028068264131312914, 0.8248836191338105, 0.10781247705251207): 1220.9048615307859, (0.983088789502187, 0.5788515282522722, 0.3243627507556026, 0.5556201798345801): 2667.2673024809733, (0.7321311460265448, 0.3106268991658777, 0.6540557787444039, 0.2104946290561477): 1827.1560710571573, (0.7456566282927397, 0.14271829051363916, 0.29888991937577736, 0.819828202908488): 7216.927672766296, (0.7228131693742613, 0.7260283479588998, 0.0337802476688861, 0.3141535375977036): 1518.003088586463, (0.752737837006558, 0.014799519137196682, 0.9210764892853447, 0.7019472124880076): 2867.715488880572, (0.3269290855321072, 0.6961051624008053, 0.8897637739807691, 0.43309495476551596): 1700.383584351109, (0.7686368232221784, 0.7760821594559605, 0.36247696581137245, 0.07927116702150683): 1079.7535421190348, (0.6866240883512884, 0.8957182789984691, 0.5397671646251357, 0.4009269293928096): 1606.7131580063915, (0.0784101154613418, 0.02423653109510049, 0.7474074402258744, 0.06386605644576915): 937.9301506609696, (0.6128834935436764, 0.6719832808053704, 0.9122173744767403, 0.6551188885406314): 2210.0358141903803, (0.4913394170068648, 0.05967430691349518, 0.8586710738836015, 0.07377065155110063): 1134.0167707202806, (0.8566612757701871, 0.990646152339833, 0.8252891723591667, 0.100803368862183): 1099.206005339369, (0.6330270490820642, 0.5766929170240318, 0.2266552455614541, 0.9937067277279819): 3822.5149673777696, (0.21314739687530548, 0.25799827722118907, 0.48215644266995916, 0.6932066715410891): 3788.2233894465758, (0.09447243784878456, 0.17792114869345488, 0.05149754386786054, 0.709565448162374): 7575.874582115059, (0.21656348009009385, 0.14488832968376375, 0.23724995680686856, 0.503607730210386): 5049.933915784602, (0.8142113749299233, 0.052237213703190344, 0.7815959592329644, 0.10021875775953182): 1411.3636559204995, (0.08889412490269066, 0.9197348091605507, 0.5340617394389244, 0.9400214320670568): 2372.491901900536, (0.44974735605242255, 0.4735232059312111, 0.2441621848147838, 0.21347649376028122): 1653.0598022871047, (0.5055720919345826, 0.08634245369408322, 0.9578226067042672, 0.15284622648604107): 1308.571200578321, (0.7464847923115441, 0.5577641738867785, 0.5377090412169347, 0.8041603073321193): 3146.1260233968546, (0.06916276539704891, 0.3013124653168491, 0.005552447231280788, 0.953000978698256): 6080.861912684153, (0.24498654050206836, 0.004018540814421767, 0.2350278005504327, 0.39704884168617083): 5246.656015052177, (0.5880229218964013, 0.02110531558358386, 0.5590284338569722, 0.39079525411802596): 2810.64700823652, (0.2773669065130785, 0.9087829027972236, 0.32708586021679664, 0.8891193089719307): 2363.8929180426976, (0.8648280377374319, 0.6053968136013583, 0.6829900697777312, 0.017704716361979678): 1123.1110345244306, (0.8891242192169978, 0.664904961943961, 0.4773651494939808, 0.7619669317652578): 2829.89501904193, (0.8321213696102969, 0.8949304504526464, 0.48076411469732183, 0.12073461959424148): 1132.563916976793, (0.007338633471936085, 0.5163911682992022, 0.7936094871170006, 0.6950291669622694): 2410.8313404578153, (0.3667107676198966, 0.9482052523714204, 0.8402802792879981, 0.6906178469309296): 1924.5606250824028, (0.6467217469693441, 0.046879326637600416, 0.9718219618008312, 0.08319653615926303): 1156.515858261695, (0.4154713103370259, 0.46251587957634677, 0.6782194333246919, 0.9555351486379631): 3485.203456866728, (0.9309419958059901, 0.3046693830758158, 0.7230653046867772, 0.13032434759044687): 1612.615471532316, (0.3115299964099596, 0.08579869103682114, 0.2487234551240901, 0.06101605325137627): 1773.8760436843575, (0.09814756540211811, 0.6989060759734791, 0.11454825452347939, 0.6140076222856153): 2114.514579865945, (0.5779338693537444, 0.9777572369803172, 0.7517954430888125, 0.3999065551333927): 1503.1797574495615, (0.9449916683772481, 0.9986534237347131, 0.725517442033925, 0.2626386943506869): 1360.2330744293877, (0.772196937218611, 0.6653882242080048, 0.010571707939776909, 0.2317672725370098): 1400.1562021345517, (0.08950114935954556, 0.8283426052336287, 0.25566396845929806, 0.039113197144545864): 716.5977722924246, (0.6683030283978072, 0.1314603119165364, 0.15102310360037974, 0.13720587859579192): 3249.487435166393, (0.7297153290521318, 0.8058516700277035, 0.8484987821647159, 0.18297851823045763): 1290.902150980318, (0.12379284236365351, 0.5038601562594207, 0.9455568232918125, 0.8907535824768869): 2720.2499075868286, (0.0690103011445633, 0.7659029068744697, 0.6787378682920312, 0.4451933283499163): 1640.1037848394321, (0.6360837987194617, 0.5130830507932435, 0.4987006979263422, 0.9772426536943538): 3787.169114518425, (0.9074079781392711, 0.7825035128363289, 0.14050562048700177, 0.6511447130555997): 2305.3368799342293, (0.1397491663361422, 0.7503305605275841, 0.05346368645859445, 0.7694993561225818): 2351.4219088182617, (0.18381772997630264, 0.06912598793375158, 0.7670569186803086, 0.6760163189868559): 2973.81498361551, (0.0006400209456822736, 0.2174041521541531, 0.17246017302156957, 0.4477441058151418): 3886.143344393994, (0.5670340881986558, 0.026223795983883913, 0.4276011631700909, 0.6738662317992613): 5084.045454569582, (0.9927283606003683, 0.9356819417554745, 0.8627671188086283, 0.2938434616184178): 1458.3856882135353, (0.8777100735480785, 0.16694224866146745, 0.9557243142717978, 0.3292874192480463): 1921.954749670965, (0.311954435579614, 0.5008423580872479, 0.8943869622592616, 0.23034108486013438): 1420.2328949183195, (0.12387400015618133, 0.2689036561641578, 0.6632249532584147, 0.3112289722521909): 1883.3465560395073, (0.6761660259780102, 0.515452687625096, 0.3533810915487158, 0.8160968366019217): 3524.672245085289, (0.3395132311343593, 0.9203615544344462, 0.5331259510384848, 0.9180970073296683): 2399.4923612892812, (0.33922574128383753, 0.03511481263746996, 0.34460785816108175, 0.28189272033929624): 3095.146162148426, (0.718147778609465, 0.8042895707779073, 0.582425239635733, 0.5248211632282727): 1954.4246619099918, (0.23508331997796095, 0.40959132967749556, 0.8610611131624228, 0.8476059049302832): 2925.1414861136673, (0.5895479847633877, 0.24387579543344817, 0.47685412045211706, 0.43654177324938925): 3029.2526804673626, (0.10987847781695703, 0.1306696857137295, 0.9668599724230044, 0.5066294606329796): 2059.5682965626993, (0.2407144461461883, 0.7559040363279462, 0.4164250479097513, 0.9193273496858201): 2747.8396417507856, (0.4953918370508902, 0.4940799295161018, 0.8411605285477196, 0.7825859409256097): 2757.672346871066, (0.7131960118164427, 0.727065306524214, 0.5460676191981498, 0.5480070197582849): 2127.368711896821, (0.2306561631722065, 0.22534681456995065, 0.5315068860525826, 0.8064539109582565): 4176.4120274275865, (0.2951418101690976, 0.43936819647055936, 0.8130230649167377, 0.9352488455953055): 3188.7872937773386, (0.671713401948378, 0.8687852372849469, 0.7153969593034092, 0.2939655689824888): 1435.5093806036725, (0.47823920253975316, 0.1647834068525812, 0.4724149163463013, 0.43541924310842706): 3193.28185493862, (0.8660372608723459, 0.968120094886379, 0.9246423072370287, 0.5601556009014653): 1802.9749923907657, (0.4097113804605407, 0.006037035213381836, 0.09086248790648022, 0.6436978372322147): 19840.525870455378, (0.6847154712196655, 0.6992493652462618, 0.7334374607389901, 0.7909930161869774): 2577.6811060125046, (0.40609741758933804, 0.3362974324176127, 0.05390535661421936, 0.9058446737749344): 5549.589805868792, (0.529856977474618, 0.7531902508563397, 0.5647452711939475, 0.3436087036167822): 1602.9048713613952, (0.17194503643346415, 0.8046488177990969, 0.9217561802211411, 0.9956927199621589): 2516.6331611783844, (0.5131357514722426, 0.27944840082198186, 0.3072115399680585, 0.22651725591484273): 2288.121591957132, (0.6747781056202395, 0.019005352119982666, 0.3893841102343961, 0.2993338383934848): 3241.0517310305004, (0.3053022721772004, 0.8750532954581838, 0.8612168138055845, 0.06203355589525472): 949.4911347032432, (0.43888189563411883, 0.7934999366796747, 0.7807760820410181, 0.8429504344300149): 2417.9803426829826, (0.41555332399012124, 0.1398728614687279, 0.8957177637932153, 0.18438140631677846): 1420.132102841658, (0.38359209774739, 0.4531581156914346, 0.8110919730177277, 0.22075356994756612): 1485.5716699847687, (0.4860742127179204, 0.4312098578231909, 0.27663443840364776, 0.8997480048867854): 4306.0231335301405, (0.519438095159212, 0.5306830223938144, 0.13338703970843158, 0.8268113269921585): 3525.0700521298286, (0.38238793010966965, 0.29862221086976204, 0.9750812061811115, 0.423677298820737): 1922.1720950757865, (0.5913764989317559, 0.30702714398877917, 0.3992703362015978, 0.7179967706516643): 4188.893324837888, (0.7374387588527017, 0.3072047084040178, 0.7698862523055806, 0.7133098170689278): 3123.1806745152253, (0.08265467579454444, 0.01593488482929406, 0.6371135782809861, 0.09999479279408141): 1119.4411834785024, (0.48535010915594146, 0.4019589491512554, 0.37444205880980175, 0.14211192949747264): 1547.6698049978415, (0.38795143344260796, 0.8431655826930287, 0.48002362940013044, 0.28114207900419586): 1345.2121669511937, (0.41477852567497697, 0.7346047938502693, 0.3322504060156718, 0.3646667129574328): 1626.6229148803523, (0.26768226363074055, 0.6413644810866679, 0.7959610119878929, 0.4145412992875259): 1730.9830824073688, (0.4300478398478539, 0.3502456356405016, 0.12379724447415308, 0.044662066511060416): 1155.1264523933892, (0.26321927154885694, 0.5135896617689283, 0.8655079746311263, 0.8223770515347952): 2705.368110588624, (0.9960737382252982, 0.6561898110970794, 0.9134812197330462, 0.20207667509050597): 1476.9360228488158, (0.5583078531491997, 0.16752528276051992, 0.4610782990258494, 0.9537618617485576): 5766.359666496939, (0.31077977969490245, 0.09706696894427369, 0.8873920071632659, 0.07628396797595804): 1070.9122483054925, (0.5975743767925322, 0.9667787597820422, 0.4622927642439346, 0.8919514415194573): 2349.3086410653364, (0.2621074765020246, 0.6889486175124179, 0.14361676660023548, 0.5051446221469847): 1937.7588377620134, (0.6884174466168302, 0.21484189735026327, 0.8419684472175378, 0.3453407263242326): 2030.6396504914906, (0.8714997361690774, 0.7307301593686869, 0.62488834104253, 0.3691257298044587): 1778.7488247736167, (0.8255083356814242, 0.8888889281237777, 0.2728937572801563, 0.36355712409521523): 1546.4199845299954, (0.22858526001330048, 0.9051835357345742, 0.7776129003606079, 0.2649623465799801): 1248.3392380784853, (0.9805143784327229, 0.23841401765509007, 0.16366608520781067, 0.6921081104342359): 6266.9446013121, (0.8266900721367989, 0.21091441392783128, 0.8842857896979321, 0.23383849574755544): 1734.6544116934049, (0.31103691235344444, 0.8183583600620874, 0.6208615262655134, 0.7245398349713296): 2189.0380997307793, (0.5559621697372503, 0.5421715347339863, 0.9737398979874549, 0.09427329500276127): 1174.279544846347, (0.13734809057926156, 0.1553304318084774, 0.6179997743121745, 0.9159518345086108): 4322.186221069505, (0.5500181717642945, 0.3056576908164196, 0.4099899062849858, 0.061107990068756335): 1403.0370537978047, (0.21831401510530735, 0.9323926470766136, 0.9833090754287797, 0.3161517894331083): 1305.9027338024725, (0.7835277707440343, 0.13943860186773505, 0.03975608953211485, 0.4002641901424516): 6977.598261851754, (0.7469877933561412, 0.5870600373204393, 0.4674006028170682, 0.8194069398875578): 3163.7055606457693, (0.006329320780886327, 0.09076878429007196, 0.6185074182173493, 0.4819453189586501): 2641.4395452499857, (0.8160387929115968, 0.5950367825058878, 0.7513152767537334, 0.7971167865034082): 2818.384035775676, (0.35524041971153564, 0.8910756061298009, 0.16934492844013826, 0.10417870766479487): 868.4472991360373, (0.7726485613358678, 0.6350651701693536, 0.7906606546005112, 0.31287165407846595): 1686.4445741197144, (0.28804420723127555, 0.3330179463602896, 0.055111458906933475, 0.2522371011025316): 2094.4162775036557, (0.23228114554300572, 0.7758615697483889, 0.9472421448351348, 0.06505845845147307): 967.3376183579887, (0.8138936992190701, 0.012049843870740262, 0.7746156671381298, 0.0561510329196393): 1248.1782165575084, (0.9596209179484239, 0.8574292509003848, 0.9525975164298578, 0.3113680018498163): 1518.7126188781006, (0.9700559696791964, 0.70292307393915, 0.1049798455962867, 0.9434976029898609): 3242.503553626542, (0.35026159678664204, 0.9520328085706785, 0.8451762975071928, 0.6970610358955315): 1925.7050230097461, (0.4058234810464677, 0.9636428614764936, 0.03856838030796872, 0.3931090431746591): 1320.2863362777232, (0.009296466764332711, 0.012321107099819373, 0.5797547507002946, 0.09720218713102735): 1101.1811214650313, (0.3218844843232397, 0.21059367405713814, 0.9504644574691197, 0.3987531931153949): 1889.96956773468, (0.050409666195243674, 0.9154657063040658, 0.07998739687383005, 0.4294642515107465): 1351.0055139819003, (0.37940592581488597, 0.33330094614967687, 0.7614782911039456, 0.16388814590922784): 1428.6752742762985, (0.18392680140850237, 0.6352605171362938, 0.6233570185698654, 0.5596070085635668): 2101.1043374457336, (0.012960816609202896, 0.9000155195089393, 0.2108351157163736, 0.40829246331866154): 1366.3696088690083, (0.13574830915901248, 0.3738344529253024, 0.5718142470836974, 0.7395424765750802): 3228.4514278606384, (0.25789620857668905, 0.7351754638790324, 0.8105386349299692, 0.8183296352763627): 2395.1679642614454, (0.8663357422844339, 0.4307617532776773, 0.2999585071364146, 0.22592999549440085): 2021.8990940108613, (0.8695055715663418, 0.3740292158815306, 0.6811796401979037, 0.24677182128770414): 1903.310014790362, (0.16844901750384944, 0.5170634183113253, 0.7229232151736461, 0.09990547231333835): 1109.2516992343585, (0.8137963753256005, 0.28560224758677, 0.10283137340738246, 0.74251220330661): 5764.588106632255, (0.6443638302320882, 0.6178651750944024, 0.797838824830796, 0.5868515203394854): 2232.287543108865, (0.7327921310543059, 0.8426413789215881, 0.05439118053853709, 0.015835646751661492): 768.9008084508009, (0.7107389691316877, 0.5521479606422839, 0.6092071551755994, 0.564537665720312): 2464.550002157032, (0.9628434190453835, 0.552666746605991, 0.13131360708512752, 0.9758551796147494): 4081.610429455917, (0.6695597134258267, 0.11782100993720612, 0.0706091891089371, 0.007100519440098818): 2177.1941048580447, (0.24389569663098176, 0.15540993464113428, 0.7239336981160177, 0.05843976810709506): 1087.699646322339, (0.16289622073761678, 0.1651980019247019, 0.7179518215012798, 0.5272989457407005): 2590.3322772880583, (0.01791020627052753, 0.8822558596589347, 0.25377568285034524, 0.43718506211337693): 1455.2010748924051, (0.4901231379672846, 0.9348548971645233, 0.8563580014783111, 0.5200779458610775): 1695.8324166617017, (0.32692275547907235, 0.04300037156377279, 0.38643576309329997, 0.9941807208763923): 7334.371028258454, (0.76815590824467, 0.5059379712943444, 0.7984839323540686, 0.7358201009806663): 2780.5464546965304, (0.7830427936387, 0.47839270881884466, 0.2530067619592289, 0.5117287903866645): 2838.1634473492554, (0.8876453182566032, 0.9187591034134247, 0.04049081641761998, 0.8211355568681861): 2315.6394881581655, (0.4825468332433428, 0.9276051650510654, 0.09604076698981545, 0.2384611720178038): 1109.8870950984397, (0.2672395862742357, 0.8039057768002293, 0.44533791231493325, 0.655597693403999): 2097.680263202423, (0.042666615058154944, 0.4161287364680266, 0.7068492136536513, 0.708858500975277): 2742.0483543398504, (0.3435837471204757, 0.10753106536958523, 0.24258844259315904, 0.009510793985124666): 1348.0458194048022, (0.0799618740800998, 0.30962482437869865, 0.04267654507559726, 0.8467018236141363): 5370.340999875757, (0.4087598883497773, 0.06162401561088848, 0.31192201904426053, 0.03206259857438165): 1486.253857956335, (0.011468822630032238, 0.28019774965918043, 0.3165622737869924, 0.1223901857887425): 1394.2123828144138, (0.5450331429060346, 0.9454010121120233, 0.9809930426822211, 0.27221533794106223): 1307.6634522155198, (0.8130965005206727, 0.5564371436775825, 0.24995905977000443, 0.750489606460975): 3273.462665320337, (0.8617300252778485, 0.9089283821107909, 0.8947528200958692, 0.5459464143266378): 1840.2266309082765, (0.6843370246376824, 0.8692872738572625, 0.47333940103054206, 0.38579747770507256): 1603.2069688657245, (0.9487143037390002, 0.3890736316476673, 0.4860520905227974, 0.8912866486097597): 4285.585326172224, (0.04458561991954202, 0.61664010829575, 0.641691338163889, 0.6280344978720424): 2230.0666951680196, (0.5030823787271987, 0.8864000588610027, 0.5290508881690025, 0.23446389543775992): 1262.9642388690684, (0.18537382989825368, 0.6814333557741122, 0.11944519821189092, 0.5718672759350648): 2084.017872979968, (0.9022900220924231, 0.7875614952608683, 0.9297999814870366, 0.10036426234014573): 1196.47510918212, (0.11386139326855571, 0.04935070451451795, 0.5287496298601435, 0.48368633038526965): 3047.354802850512, (0.3000885935988823, 0.6580763379894558, 0.013528662824492166, 0.5686716953228017): 2119.0168397636517, (0.20836781547136007, 0.5679434110391456, 0.41714859599949905, 0.2286957702060397): 1441.6787461853683, (0.7557803440550406, 0.46641915656174626, 0.28434239071025724, 0.6280880165683876): 3258.6357651376306, (0.7468048402211759, 0.1464666614934269, 0.8915026373801518, 0.09137727737774581): 1308.692508638177, (0.6104817825003733, 0.31230671489401163, 0.4588503305620235, 0.191010075058884): 1910.899842744374, (0.31538465678733074, 0.47621939805522984, 0.3804436636332271, 0.7183406642511228): 3193.6537557941574, (0.3954237201670183, 0.9617509271289282, 0.7263566722309369, 0.6545713438323052): 1880.9679803274257, (0.5386187393022589, 0.5505836039815754, 0.13150523002974168, 0.5392412129237423): 2525.8810256359175, (0.89983096870235, 0.236804716449592, 0.9340253763447615, 0.6919044799415202): 2852.5765816750168, (0.9211479328520786, 0.24195199851410476, 0.6887115383678367, 0.31636688734854124): 2274.2442128843177, (0.704976159099824, 0.6396796416271522, 0.7074185926062986, 0.2936237125337937): 1648.0998272713648, (0.4179599798269592, 0.30392148286103804, 0.875259907135042, 0.8466270276656291): 3117.2702817972104, (0.06612876328527584, 0.6069527847929576, 0.913062401328048, 0.4371730609087491): 1695.2677428976885, (0.39549497323330374, 0.44238131131543923, 0.9125539018949825, 0.5577105858992699): 2200.2759765657684, (0.6035900331817, 0.534545163352825, 0.6791456311729639, 0.3333652603506456): 1833.6966225165038, (0.6653093812740939, 0.4963432848839261, 0.811286632857331, 0.3386183957426373): 1828.6586522775235, (0.0714172170486419, 0.13832760089613072, 0.7311773387733664, 0.5318318889145353): 2541.285758375687, (0.3365409071570322, 0.6066501565260801, 0.34765779220035764, 0.7985332912212101): 2962.9447638421143, (0.9994692058614764, 0.10125282801369018, 0.17693436877293534, 0.4405293323842412): 7247.0434023395, (0.7739480585702155, 0.31209882670176614, 0.42010665399687286, 0.4114319365489133): 2950.072418915562, (0.14045758740943448, 0.7914902002109054, 0.5380397477641788, 0.520671386931327): 1798.3390741385424, (0.9938071048698728, 0.07755671865978375, 0.023024172197637194, 0.0802278635011936): 5685.195532216763, (0.45416760531650946, 0.7400147693934873, 0.4990548089191539, 0.5737331471015448): 2088.2034045980213, (0.5974488635729011, 0.6699719285660757, 0.13809418642051074, 0.7078488549835016): 2630.596632156344, (0.2548059614333823, 0.2479611030258042, 0.563787649011973, 0.7630288990084948): 3805.3274891096125, (0.4822070976308309, 0.6128439817375296, 0.05520666461065382, 0.9361473874529807): 3393.454876218389, (0.9837943058439923, 0.7082737500070726, 0.30049423384767127, 0.693408456233037): 2640.4879208480447, (0.8053747836103159, 0.017372189188807674, 0.7066690820541581, 0.4618252994287875): 2724.1932886593922, (0.7288733954600233, 0.8507610296875138, 0.9170769174090702, 0.7953228075943847): 2264.2321020728427, (0.531457615020271, 0.9020341806740472, 0.25805470280113607, 0.5711932331783421): 1838.1527804297104, (0.6927026998603447, 0.9809539566467893, 0.5805843215748262, 0.19832137815830508): 1195.4874239341716, (0.8956088881906936, 0.9948227371708732, 0.8360881166215063, 0.7738820099299083): 2124.9974031073157, (0.1896919951740894, 0.23022522191037498, 0.9765575130859753, 0.5702547363714952): 2222.865035493056, (0.1722854357213499, 0.7767898518341647, 0.17571884671481164, 0.34620899703625196): 1404.155635553762, (0.9766138760665803, 0.8825776252573112, 0.2349233224982915, 0.4479662401874278): 1751.876129564522, (0.8225032067180831, 0.6379701817329584, 0.5634904400586852, 0.06516733471630876): 1197.7112178398163, (0.02340435954733866, 0.4491899026964645, 0.7965469527341712, 0.26997842888081147): 1482.753309388591, (0.45119532313369215, 0.6406334476364732, 0.18283890348326426, 0.8290576448192164): 3001.559398807988, (0.3601327681244064, 0.3197340596935446, 0.9417961839641941, 0.29687719762075737): 1639.131427128999, (0.04094717093356459, 0.6442580479721531, 0.6460748890651898, 0.7849580023803837): 2527.524021544834, (0.01222215696574247, 0.8814689560993837, 0.7639048311604424, 0.771139955824097): 2063.3410305808106, (0.40528205164333986, 0.30828854171808595, 0.442435407410552, 0.5541804242079482): 3261.0541836816133, (0.6856791551274976, 0.9973336373960161, 0.9340284758488135, 0.5165332390804372): 1672.5393843268475, (0.6333234473747023, 0.3848732024320224, 0.3066916312458333, 0.5619459912267235): 3347.1608316971397, (0.2904341843054059, 0.23858023551611007, 0.2698080362347466, 0.3690797212314477): 3153.9983285369103, (0.42199804473113633, 0.5286645312797048, 0.19925469679464303, 0.6932717474992423): 3053.5733968532354, (0.8716245011759424, 0.8875199156001963, 0.5574359959407408, 0.025029245955942914): 988.307835805542, (0.002568059633841324, 0.7202613577731944, 0.8067895729987058, 0.5295193900571465): 1796.9006568972711, (0.9652374863396134, 0.21198110048099594, 0.9107931943940039, 0.2182795286555066): 1721.2407354331717, (0.5986339984005975, 0.31097704610295396, 0.125586449013792, 0.28702382688638217): 2683.2656985242684, (0.2853402313881781, 0.7517396548734264, 0.047764301183075286, 0.5654039732020734): 1921.34560351467, (0.7995730595207923, 0.5151059554908216, 0.030104011094732597, 0.20866017821332727): 1621.642257771211, (0.6425600473353664, 0.3609713114907409, 0.2988405091156394, 0.22578444993980862): 2098.3602076674865, (0.547502624114409, 0.3915450217650701, 0.4230134020291111, 0.3146250403104994): 2194.271694926376, (0.04246020445623577, 0.8648815688530609, 0.12392824317937645, 0.7236712857424489): 2011.4022478316, (0.11433511826890785, 0.17990731590816766, 0.2573675175189235, 0.17800121873928842): 2144.4293844709127, (0.9009767957859703, 0.8159022402239788, 0.5809523893250702, 0.258499236619372): 1481.1752885243936, (0.6861177133608137, 0.43175082716457946, 0.46589818291382645, 0.7950272848123302): 3678.7817375279237, (0.17203668745563516, 0.6517976588778018, 0.5399534287223013, 0.7417282187544672): 2526.845472336006, (0.8495859381469736, 0.1579619344901585, 0.01456697107077709, 0.044353288105238975): 2426.0985234488985, (0.08252878943557329, 0.9158878294300689, 0.879134096631527, 0.7056691786374635): 1904.180300327773, (0.364405692341231, 0.1810448391694054, 0.5814969064241178, 0.2639656299950669): 2044.383119139027, (0.16815486985492567, 0.8470501669950637, 0.56665090195609, 0.5108609579958172): 1717.5217396163378, (0.931447667295165, 0.766456253538809, 0.05561973059914904, 0.7515060299960363): 2544.4174526118773, (0.9955317125883708, 0.2231014551715027, 0.9920702133773746, 0.17919607099522983): 1562.5528315799252, (0.43000026818954384, 0.9458098528777514, 0.09702426617223259, 0.08970357012688635): 809.0621648519495, (0.5788103786678199, 0.16427321397173555, 0.5536313746961162, 0.18262648468596765): 1911.676830437542, (0.5842089323447132, 0.7960162492393011, 0.92184569297913, 0.17885388183063622): 1245.2560067181926, (0.24677191434177392, 0.24245113706389, 0.07171265549459782, 0.5242432708078805): 4570.150329296044, (0.7225736422300578, 0.8620644389602792, 0.8038358978552095, 0.35180797176820733): 1545.9064997623711, (0.1487931886568783, 0.6044045587913326, 0.26291438930024014, 0.724463034333338): 2718.8404687419597, (0.6857644574574614, 0.03116078163506253, 0.21182898424465968, 0.1969288417631826): 4185.256986698151, (0.08347104993654342, 0.05892026792987537, 0.622521026651965, 0.6579540131089059): 3366.131046238042, (0.9200512434109819, 0.23049891437693837, 0.6860516128425935, 0.5838517511296981): 3161.1574756835025, (0.9312492059661371, 0.47248277275005524, 0.6729232251066667, 0.719079614677054): 3052.1347075681683, (0.41674188937635737, 0.6935707022817715, 0.4032624175849441, 0.6778051192075315): 2422.9600906712453, (0.6282392849475115, 0.9144412636427973, 0.2951053032339964, 0.528857302734037): 1776.7392926233097, (0.2415698836906114, 0.8425165296860416, 0.3917024180970634, 0.23182198640102725): 1190.4888558171133, (0.4568301685289661, 0.5756148168135448, 0.830920573902849, 0.07842867498050177): 1123.2079751529864, (0.18776442259607384, 0.3911096423013388, 0.22219877032817714, 0.5662736943224129): 3159.749333993774, (0.27782124657518836, 0.11456717044700526, 0.47966556587229014, 0.6258625323144628): 4048.3073932860184, (0.9341594860422607, 0.39981480051952956, 0.5331012085329319, 0.41740954196895796): 2582.207161058751, (0.3660353365941976, 0.8062082353761763, 0.09344680505886993, 0.5685111169786354): 1879.1241819820382, (0.9366886092293317, 0.30491192202768547, 0.5629251278438774, 0.3527051016532674): 2543.117832393873, (0.021377144120324654, 0.30558047233548, 0.015409951669063227, 0.908254574217147): 5717.128255074739, (0.8238779601371374, 0.9875900061341761, 0.7347924738511826, 0.8417331648545052): 2247.2382827253277, (0.19176298520361457, 0.9016302593588998, 0.38538237817748466, 0.273387784792259): 1210.9699236844235, (0.7323459110743127, 0.9367321022003576, 0.5749328285503921, 0.2557459038526856): 1330.352817234507, (0.881028081701069, 0.6675222728600313, 0.6420048969440625, 0.6755971621132627): 2521.7739391372975, (0.19042408072074424, 0.7718109653334525, 0.39401567477066946, 0.8419346299915186): 2531.740693300573, (0.7056021680471025, 0.5117848131870527, 0.46540733112384836, 0.9888666324297624): 3911.828375316766, (0.36364641639245454, 0.8722453875673761, 0.18679935994127805, 0.9243848895398794): 2513.864799133646, (0.22926702649324682, 0.05013385146895799, 0.5052730651189942, 0.21603840240712335): 1941.8833854575073, (0.7613137984711463, 0.034867094848257896, 0.008031128009917121, 0.9690798200340616): 54274.25307955624, (0.7551488647966413, 0.4640277828318642, 0.4262619170313583, 0.46678810414172034): 2599.492268805785, (0.7666089026166542, 0.7495115571201593, 0.3639135573007106, 0.6367942078132802): 2329.0689525631365, (0.780001517832279, 0.801250985537061, 0.8385258214705654, 0.22746674446077708): 1385.639093129806, (0.1919467315227602, 0.7252476395987384, 0.26220092675047446, 0.4682780293828158): 1789.533174351844, (0.20082597051078654, 0.6839339948820234, 0.2597293545273992, 0.06773073804129703): 875.6127992962527, (0.4473053765948397, 0.8929587547220167, 0.8296428086919165, 0.2984808056735606): 1363.8728648193, (0.7659257777416199, 0.6499087342386798, 0.6996935711139737, 0.25664191082774335): 1580.4638682243028, (0.5901259462254557, 0.3482196594103738, 0.9726781182927328, 0.9750292117131105): 3225.441615799391, (0.09357857743439102, 0.753338400275997, 0.10418635450293423, 0.06363502110282482): 719.2270464659365, (0.43126022486363313, 0.9896698791667482, 0.2651453786190864, 0.40223856393488977): 1404.4495848057975, (0.46927838049697745, 0.7246836187291961, 0.6248555849540041, 0.783630920897999): 2515.801570408014, (0.1907511031094229, 0.9978847786355107, 0.9315684632881498, 0.0954269541050693): 946.8849916956596, (0.04560608428484059, 0.30941901371654146, 0.014085142009841789, 0.987423709111436): 6118.972818462588, (0.23703054749851182, 0.464435452445491, 0.6586808852223905, 0.6811784150057459): 2716.1525841519724, (0.26366273937758444, 0.6348772181298115, 0.7631807811722034, 0.9738305382739443): 2923.8308771332304, (0.046588840681936694, 0.4282626344502659, 0.22349065045575245, 0.3551015537004695): 2066.409395890361, (0.4240584151858612, 0.7347783349309401, 0.016818832881588475, 0.5593276010516829): 1971.9228558703737, (0.9488989580852316, 0.9920316948945628, 0.5445363276023059, 0.11345752499409723): 1107.630851072087, (0.7839437899679881, 0.035077451140883675, 0.4824253588676465, 0.04595802437850094): 1549.5829769940365, (0.8596330213653475, 0.11099717379159135, 0.7098346935187646, 0.7688737601149087): 3812.618539646043, (0.3735456539787658, 0.7150656871883517, 0.9396483284310254, 0.9042617553539426): 2525.232050116611, (0.47742113057611457, 0.24138180503296414, 0.7887846342907507, 0.7306584280787491): 3112.349499145773, (0.345791299217747, 0.9972626333878677, 0.6376314958654722, 0.35244748898549993): 1356.03217349909, (0.4920679856418998, 0.980726861241688, 0.6626997645674665, 0.7853702078306438): 2101.6091002680846, (0.28470469300703505, 0.5761101013947616, 0.5426363445477111, 0.35497351287391): 1772.3511384419635, (0.11492132123436105, 0.5890693875457513, 0.1375310718749886, 0.9245124310374542): 3339.841564178522, (0.00812385779080782, 0.7720140551257312, 0.6118034511799276, 0.6443575671099198): 2018.4729023468944, (0.23691000620135627, 0.2696102711477223, 0.9462895822328351, 0.5080256025756806): 2115.454464061306, (0.815827242908331, 0.3150754797955724, 0.9902067730001806, 0.6738135449457777): 2619.6786316094917, (0.8332927256826124, 0.37835499876335044, 0.2485899136158597, 0.06322706341713602): 1505.6549133374217, (0.4689839988484108, 0.03908509805826832, 0.31300638517319945, 0.5740721821662915): 5760.037142130433, (0.7804017999313194, 0.6745406903537471, 0.7377718211797781, 0.033360433724127336): 1094.9166805424309, (0.23185269831943323, 0.7873376033854318, 0.5114059794225044, 0.6666924405916873): 2128.788795847208, (0.39812074216822846, 0.19044324302123006, 0.9683373262224934, 0.057958493771150366): 1060.380104926259, (0.03127844138924962, 0.5081911611768808, 0.9084717858657351, 0.17626263145419585): 1205.1813740091263, (0.3249187253321777, 0.6135250394822949, 0.6011703746199011, 0.6691911195409301): 2455.4522868833383, (0.36640939114171056, 0.8851101732861406, 0.37435655066683216, 0.9035023809898709): 2464.051276098205, (0.7683860824751951, 0.4744282157186721, 0.44323444082158625, 0.17232966589217513): 1652.2804297895168, (0.3205830896822547, 0.16295336375401892, 0.7217664214170948, 0.4635982813852988): 2452.202863077269, (0.19667472054141766, 0.43894250372267085, 0.10687785398917393, 0.40030013049985746): 2272.45066700883, (0.9853906775197556, 0.7888513295935957, 0.10767762861205388, 0.46085198941230077): 1884.5357510477033, (0.08571639094308636, 0.7220905527411724, 0.7607986940872027, 0.4743475176938624): 1727.5895855488404, (0.844275816824194, 0.4041039508476897, 0.22240465849711344, 0.03467914975973663): 1339.927153213889, (0.9279290305737159, 0.7761833984806089, 0.33956821949223737, 0.2532705942300929): 1499.5002345058494, (0.5011799201444547, 0.20078742437450392, 0.8383036451163897, 0.8445379831558921): 3357.122134121387, (0.7505197862040452, 0.18112408192889817, 0.5851451061644368, 0.0185307636455595): 1312.0671934440456, (0.05039231030984226, 0.4590389349552123, 0.8094018297660467, 0.30244477763170474): 1557.7851647357131, (0.6803959491011764, 0.46964080376950146, 0.10906475766879808, 0.8998502818928814): 4264.795188237452, (0.9944898381281159, 0.7438827601299712, 0.6060984112034978, 0.3419550433982891): 1748.6904001483274, (0.5100834156569255, 0.23919727108823619, 0.4392937902482982, 0.03376739464830214): 1313.0679227872695, (0.17694679157803528, 0.2879633004832096, 0.7303100192990946, 0.7373866374821315): 3075.84038146607, (0.059719473583310645, 0.8019659612805564, 0.8180535752298081, 0.787389931627968): 2186.1318348569607, (0.28700211277432863, 0.33846252218489004, 0.6985059910167812, 0.39931383617480976): 2112.9273394018546, (0.7648581261208894, 0.7946141265962019, 0.09215696253086303, 0.11562244366980512): 1036.7403565363657, (0.5940530385700123, 0.6109177159169404, 0.7887383051125865, 0.39655655984956684): 1830.0018437261238, (0.4759393541318978, 0.9953976003206781, 0.3615216077569051, 0.8945255324502489): 2273.1819263443913, (0.6868241536724518, 0.3905369579976017, 0.17371798382905868, 0.08288068636011492): 1451.9236182585357, (0.4953770455602369, 0.5479933540832777, 0.7753684385884387, 0.1423986390444839): 1298.6040366962686, (0.15272973649696953, 0.6593397266127953, 0.6156433368692421, 0.3803750139398341): 1658.7066365896235, (0.8841228459628911, 0.5322130737777216, 0.06316761415371286, 0.6498926513622831): 3097.41474860567, (0.5110802670985991, 0.3055318922471215, 0.15813352278507065, 0.24191560340029294): 2392.7378255691306, (0.40061554410464884, 0.3439003257790454, 0.09672842076832622, 0.0656092231622527): 1226.7222733470248, (0.24007237141679427, 0.17312935385332562, 0.6131949872331465, 0.5661596162579944): 3053.669377593221, (0.16691914614312553, 0.0304322296710815, 0.9292920015661487, 0.4964813994254358): 2075.5917537257938, (0.8857579192015682, 0.9781929937713021, 0.5826170034589255, 0.8662923223241782): 2346.772747128598, (0.2933276223124017, 0.9787929080922881, 0.22549985033864695, 0.9399533436585954): 2314.660300959798, (0.15205642947595865, 0.3077819801869237, 0.851638940489748, 0.910808692410663): 3226.712038063564, (0.9139935141121643, 0.6552262627880531, 0.6171874534268572, 0.9243635244420068): 3127.594824763774, (0.3391801627084339, 0.028668765514747285, 0.8644322283151903, 0.933040439127771): 3502.8059115327683, (0.36464385434430713, 0.6338677942223362, 0.6044290023465326, 0.9666456318420844): 3106.680031875692, (0.7202427419792967, 0.0291551086562295, 0.9432409325155422, 0.35683931644025935): 1906.7562252769883, (0.1298730093042315, 0.905983592843848, 0.4360510576597224, 0.5375290743423076): 1684.9426767522978, (0.21788098003348044, 0.31770566169959835, 0.17855629293723296, 0.5884100707898763): 3869.6065944819206, (0.4611044113459928, 0.5327533747712739, 0.020740413910397493, 0.6639386154961722): 2903.583328454562, (0.36354769969548484, 0.8012421412534239, 0.747696540067775, 0.3204621724058704): 1449.2400850768006, (0.18843328869851972, 0.9556279811701268, 0.7251952663082414, 0.9367345598895164): 2292.759761639588, (0.7847303183171919, 0.9044603723393286, 0.9068230008346614, 0.4236545642072689): 1629.991250330854, (0.8964744770701456, 0.1354824973695622, 0.36594099854207307, 0.7992628266870011): 6410.639801423254, (0.16883452933488519, 0.9532984139642389, 0.8671336652217856, 0.25051534867490344): 1187.6823945667124, (0.8102961349430227, 0.9072953715225199, 0.7289414982180662, 0.043201061933412): 1021.2120129080746, (0.2588881769761803, 0.2956760994275589, 0.10272428977125736, 0.3412544936560582): 2808.0473591392297, (0.020293994971375295, 0.321793378984666, 0.10863250818406078, 0.3899215886256453): 2697.4138798454055, (0.8708496533055392, 0.09014691835628297, 0.29557210283246105, 0.9498307275847354): 9113.689062364523, (0.35919007545385095, 0.8440336780212225, 0.25441091414974004, 0.09231092388060336): 902.3634363251864, (0.030033531231619226, 0.9658165637300553, 0.6764207253482593, 0.22101134338767336): 1089.318984623657, (0.23341058822658312, 0.06768920813628798, 0.12051192859933635, 0.854080714272673): 15119.249264208003, (0.9315024452068497, 0.24912757060513702, 0.8249188283308658, 0.6032122097183505): 2852.1249266669347, (0.9888460095019359, 0.4373775039405302, 0.22744847293305803, 0.8879204501625322): 4572.167725522494, (0.763797354082854, 0.3311329059628535, 0.48184919255443637, 0.9894882087953994): 4879.290235880577, (0.5459307516446025, 0.1089880801608708, 0.3110242890581566, 0.5308892751877485): 5181.161471785336, (0.7749679089531712, 0.4431401475472475, 0.428530657347992, 0.6937946878974949): 3412.5749128632956, (0.5398970948581558, 0.05891461451835878, 0.6213012289475012, 0.458430907063755): 2855.3322839891466, (0.40288813425035863, 0.8072409086817303, 0.4562506462259839, 0.03225542189093933): 877.3827304937103, (0.008489239749563837, 0.2058062556104464, 0.3745087697537942, 0.7075696137902399): 4517.66835394191, (0.24617226496406563, 0.1461256909256291, 0.49851946708699835, 0.9576386872293787): 5360.467202439252, (0.38002698521341605, 0.7773874502067066, 0.9070145207869855, 0.6112210773028953): 1952.866340315602, (0.952840562230614, 0.8757418447482519, 0.8086459662527373, 0.615569561708245): 2034.1113567984073, (0.006662218582595747, 0.7938936469817793, 0.727667339934152, 0.9057188041635167): 2439.9488809149207, (0.09157591575371371, 0.8069777003167341, 0.5012400364587802, 0.46429776028978986): 1653.9373130200197, (0.5722784961788814, 0.6193854438233449, 0.9351377639712662, 0.4875522747399287): 1920.8332834937037, (0.6496944939485988, 0.4904149177774141, 0.19554174151544268, 0.3033411784081612): 2018.227230850529, (0.07066440901465532, 0.10495339123383707, 0.9356855820298029, 0.32295290208178484): 1604.422607036653, (0.6361988108351949, 0.4049795193664305, 0.9689679228782976, 0.99787417855077): 3221.50456043153, (0.34845238606147033, 0.6051770113495422, 0.27375555297136145, 0.032703045148482324): 892.0470629996759, (0.8368546754770337, 0.8108151366195658, 0.7174622933483751, 0.09284543825060665): 1158.5483765929503, (0.4101103112449199, 0.2610955892100041, 0.7005885250622069, 0.1457642732322001): 1460.7156739968766, (0.46031412352249035, 0.58349552796097, 0.9039583407777171, 0.7151318316650505): 2400.1400294056252, (0.8814526017135422, 0.8081365190233782, 0.8222907385774679, 0.35964117803659923): 1642.1703853069462, (0.5176863447324254, 0.8450612915737273, 0.44462316127441115, 0.2806799889715479): 1375.6419491728554, (0.6870615330869928, 0.820254111615836, 0.7417037679349205, 0.06445683396860014): 1062.8702518056941, (0.8947268905492392, 0.10039113813242484, 0.5690614218128438, 0.826966443310535): 4821.151714942778, (0.921056465653079, 0.8267791061539559, 0.748572354211443, 0.8126458377571301): 2457.261159257285, (0.1755371962981902, 0.8342417094347578, 0.2765060581519113, 0.27654860504192236): 1235.2675675721596, (0.7619772174085261, 0.48665161869320395, 0.9635511640622727, 0.1595059578052913): 1393.038800136873, (0.41798124389157165, 0.11345351987909624, 0.12855951208443295, 0.4195047495569001): 6597.658938548384, (0.039055603711867226, 0.8559860248449951, 0.01630206102440468, 0.95152193255576): 2443.083004383935, (0.36991543361748314, 0.5205167314945089, 0.9029776880109986, 0.9899314026417367): 3039.406207721757, (0.6410588003920487, 0.5453909838975962, 0.08412564225764763, 0.5612432436259): 2645.0535914318907, (0.5247959649246933, 0.4711988986705581, 0.8321709473767575, 0.32173767085836724): 1748.9174171413028, (0.19899713950422093, 0.06340742722394832, 0.5189735750949599, 0.9332660672366055): 5264.680547308014, (0.8222441156929778, 0.3167216669273455, 0.12110317304938278, 0.6607729424909874): 4820.351791274421, (0.16745953362428334, 0.6838473919513711, 0.4091960107710154, 0.0356403817209634): 842.3761894553302, (0.18723552830340517, 0.27682486010378193, 0.8639496821365071, 0.48129966979025807): 2133.375066513666, (0.2753932337617635, 0.1827396310496493, 0.2321633804208837, 0.5859828778247722): 5270.718305584675, (0.9064851710835696, 0.4659933100090331, 0.2091939938834907, 0.11433434884704108): 1554.7691897758505, (0.12921659178456757, 0.8754371728185074, 0.3254330383420335, 0.07043895661760369): 804.4844271194769, (0.49818541809504824, 0.33139396927257825, 0.07179605816944867, 0.4633340071277978): 3383.123159875953, (0.3596461322752381, 0.9255082765861304, 0.06204651636198655, 0.8252160121316732): 2169.0305395897644, (0.6085877824662292, 0.6883131930763512, 0.16605227540925493, 0.1719843859897635): 1243.2352856036566, (0.8173355215323498, 0.39777790940269075, 0.19401472472236247, 0.19778689847651065): 2003.409044157181, (0.6770455864807126, 0.3809373072940384, 0.6881482038443839, 0.27922339547576003): 1898.6082408689679, (0.21203772070397386, 0.12821898038761637, 0.3465636926493494, 0.7776596130724931): 5934.70805223068, (0.6809432457216165, 0.640039722159096, 0.9230594986165669, 0.6584858900093988): 2266.923487232005, (0.8140365648699436, 0.15751566607821965, 0.16068950694124673, 0.9404762383961139): 10357.281791708532, (0.5021784499185579, 0.8778049440968283, 0.5482654726833193, 0.15503679714255592): 1126.3200983014651, (0.5243681619032697, 0.2462662211025064, 0.5894117899335094, 0.7132966801671415): 3680.886414325336, (0.7460244058452427, 0.36187679953960306, 0.02072910494715452, 0.03945852307073516): 1237.7796670123832, (0.9132526119761792, 0.05757114939163677, 0.6346599443673602, 0.13948498571284218): 1793.9254440301654, (0.734009698186102, 0.7266681767626347, 0.676970596861009, 0.9610993152937727): 2920.431562163739, (0.3018813556753158, 0.6259891879194236, 0.40006647696111575, 0.20978675278497527): 1359.4396480636624, (0.9833533277283908, 0.7061063752250368, 0.48866129277603954, 0.09527226368840658): 1263.4990534772935, (0.6039752970183369, 0.5545300686443725, 0.42274949620974, 0.40748273113555034): 2121.029359192341, (0.6613417776861077, 0.15279520532261126, 0.19649502494279503, 0.004192832502284527): 1681.856101524692, (0.7656743180485651, 0.24736442615086207, 0.37201854030223036, 0.22577371983883543): 2466.0437670259257, (0.7505824804164993, 0.30612224804139243, 0.47526657063034994, 0.9307180144255606): 4832.67618203382, (0.7675968716289034, 0.1790163916547679, 0.9017417039738239, 0.22417447368127918): 1668.7785826247032, (0.2527696205797143, 0.037929233372772764, 0.07409424857360658, 0.1967507936881625): 7174.411825986486, (0.22062402480775112, 0.959813576541235, 0.26395834471092827, 0.6796516867780282): 1871.3273620844138, (0.8245033191686989, 0.834523857256666, 0.39056802724918793, 0.6946104416802799): 2292.5660975353144, (0.5389592603531167, 0.195379758268876, 0.8482570703590707, 0.32496902629310265): 1908.3756132707401, (0.0638099524652298, 0.23360120813655594, 0.48760558614417604, 0.05978851452752876): 1110.8595797448545, (0.7770472896090164, 0.07350135401438584, 0.025674398101229623, 0.4658404382173583): 14099.778044571629, (0.4386021281398701, 0.907382772370097, 0.3134017750271497, 0.2901751485396725): 1288.98408512684, (0.7031174106193407, 0.17277944332865025, 0.8249234476898784, 0.6014009277410565): 2809.503179394534, (0.9085105050924502, 0.8339655858565659, 0.833537661641363, 0.7085302030225546): 2223.071314627464, (0.009902231891563695, 0.686131312184677, 0.854596086743049, 0.2887014596843306): 1353.783555297905, (0.9074577314700333, 0.19788174901726385, 0.6176119255732591, 0.5444040960637041): 3290.498242693319, (0.9158636225596714, 0.682441140883362, 0.3676797900949941, 0.3697294424971761): 1899.9051490950944, (0.09756574501605031, 0.6842251112144251, 0.39397470895619013, 0.9661592641226434): 3016.5945059402698, (0.21140816836967624, 0.4196026510477576, 0.2790466257033978, 0.17750313261674167): 1505.4139162351437, (0.8296149131375754, 0.039295050899599504, 0.8080958214562652, 0.5301056406783385): 2699.594522884796, (0.0944148545355381, 0.033632925786176604, 0.28966668513835614, 0.5654640085763416): 5622.563762924006, (0.931923967638067, 0.2080564966824674, 0.9080667367364054, 0.6024381619645444): 2707.385260862001, (0.6986734154390369, 0.042494875740357485, 0.5413594781631333, 0.20534797427010898): 2126.8049088235925, (0.7660663596299829, 0.3150731031407774, 0.6765750061413464, 0.03270573241537067): 1271.7091047604372, (0.8430776148652399, 0.6655356781455057, 0.6319979752313015, 0.047449191879652464): 1148.547172912138, (0.9901475186037063, 0.78063095047691, 0.8978218438794147, 0.8360174278939642): 2504.252370672725, (0.29412407747394476, 0.2858457599956573, 0.855600906025995, 0.9626470983497246): 3440.038754850993, (0.8656849399432502, 0.16612669059132845, 0.7753020746116324, 0.5696211775553209): 2915.1705188666547, (0.7047284136117017, 0.8137460796031681, 0.022396929677294897, 0.0785255483286389): 887.1267979010332, (0.8266421550926323, 0.9030185842988346, 0.3235215957489955, 0.46875154598630975): 1740.7708840931334, (0.25688046802621123, 0.9540878887874437, 0.7834152232164463, 0.3043608307442397): 1291.2735406773202, (0.0812464108230655, 0.7126185297841985, 0.28975214695265006, 0.9570219767785112): 2930.167072054918, (0.505240560565173, 0.967975469915813, 0.08471894797228385, 0.5168906250166474): 1587.369939989311, (0.10238582596876222, 0.07497469375349608, 0.6728699312873867, 0.6686643515615279): 3218.1608089627043, (0.8948443105021242, 0.6788298974485114, 0.13681187010961826, 0.107121941017018): 1183.9667246278748, (0.767172312036235, 0.4213672890310727, 0.20802032814987315, 0.3994114025065586): 2689.754532937109, (0.36951063230824777, 0.993286970156442, 0.4872516831722973, 0.45183482693422783): 1513.8214260176132, (0.15230180194877452, 0.07913427334010936, 0.5781479229715667, 0.6974143412107617): 3772.5751581188756, (0.2749835571131629, 0.2618917719693006, 0.3400833928057939, 0.4104495486303754): 3026.4156703567437, (0.4776984906842341, 0.030049396049071753, 0.9829029101137535, 0.44538431708710347): 1988.064972754503, (0.8414480692095677, 0.32643798587973993, 0.6429144593256242, 0.6832487669188606): 3352.7760828920623, (0.427969286489026, 0.6219847874644099, 0.8718001115661173, 0.05343341982133554): 1043.5783668195122, (0.9126031564568882, 0.28123686517047297, 0.299926284829203, 0.08301583120153178): 1878.2506559101528, (0.09159485236757148, 0.3514117065690736, 0.6158969862480217, 0.18339627780077206): 1434.8290527173526, (0.4945073299188444, 0.3179530164119029, 0.3040870115840649, 0.6236549418695502): 3951.9183251222316, (0.26638581882904555, 0.8883188959380587, 0.5051891829057907, 0.41014941593312715): 1514.1962789534925, (0.8004929913370226, 0.5435460135898362, 0.1451234425024749, 0.5176025476158684): 2611.7990656372085, (0.900817267214611, 0.8109420904288847, 0.6974038254430679, 0.5243531127645656): 1971.0653022448814, (0.21104771053767613, 0.10340701347352721, 0.21975112219286919, 0.9742142278221074): 10251.93711300613, (0.4779336371456284, 0.39560376225549554, 0.9130715546806385, 0.34244384245047765): 1775.4283732409192, (0.8895743249896947, 0.9014721653139351, 0.6515797748179489, 0.5855356004140742): 1972.0169917580456, (0.37002423427774045, 0.751137016306716, 0.5977204722020381, 0.9064860401910618): 2696.3579606897997, (0.6088107201764411, 0.981491789236753, 0.3779341340548573, 0.9503137001340533): 2428.131962435367, (0.559643371720126, 0.3054506819625624, 0.37130974681356943, 0.732606064260405): 4345.89587415954, (0.9270481793616098, 0.5047753882347027, 0.6958381257041159, 0.43053288034335924): 2222.63469211603, (0.11119674337396157, 0.5254025806272061, 0.3414821939206033, 0.3557384712427355): 1839.0251838157533, (0.7546818553535197, 0.6590065688620479, 0.772523624127579, 0.4832347241113042): 2013.1231362575386, (0.3022690799722585, 0.3478383002876365, 0.12073164309756379, 0.6891781949482069): 4212.253766093545, (0.3982766753370264, 0.3625609717573658, 0.010501053974849128, 0.7489744288502521): 4394.84359864784, (0.26795431879915854, 0.9449231495016283, 0.6021690550734612, 0.6819749108982562): 1928.3514241246587, (0.06718968216063992, 0.8388439718363957, 0.5101827253955526, 0.4725272271309412): 1626.4166785700045, (0.1897487818268132, 0.31962217767394485, 0.8588656571582488, 0.0704257711405506): 1064.3754326314674, (0.7290348019740779, 0.5943736169111526, 0.5747445334719947, 0.9144422079597089): 3259.632726034919, (0.3252554967862539, 0.4534349755957261, 0.4839163889281184, 0.6850790450690472): 3043.7940335131007, (0.9113630599111847, 0.9105607986535915, 0.6379145188049399, 0.2270573529115827): 1350.8884123586895, (0.4045185515802453, 0.6550067876506259, 0.2402892698625827, 0.7853225935475951): 2817.752105149948, (0.8933411840301125, 0.5535268676602801, 0.310719731383172, 0.8914506234869154): 3704.6769559143027, (0.029594090789404226, 0.355809776659748, 0.5296456194613756, 0.7051311518665276): 3215.536784287077, (0.6331948769032221, 0.3741972661159372, 0.868301714143532, 0.14017268213195633): 1390.821202932725, (0.19649631163817294, 0.38152539907332195, 0.21277446031112734, 0.5151206307986067): 3012.7065692318947, (0.4802425315169804, 0.44943459711714484, 0.2543931264283298, 0.5126402773726528): 2805.46102233165, (0.7875002090441213, 0.37796203919586324, 0.18674825289725183, 0.044122102873918934): 1381.988475892876, (0.6407512380457833, 0.1814973748715537, 0.2816553142690357, 0.44545469226770407): 4334.561017889453, (0.40835641425174163, 0.4971228646481829, 0.5123921487140809, 0.5179749107990681): 2426.729023143663, (0.2019964242489415, 0.8986947465991382, 0.2930881001820159, 0.45348351422868427): 1532.7433935588253, (0.6883720515701752, 0.8900136436393637, 0.1878750041831062, 0.8758190919589188): 2475.2321200974698, (0.5327862638905834, 0.04777350823946347, 0.5088588333653012, 0.3406926301106217): 2753.4251708352035, (0.042651407067536895, 0.6947015024823084, 0.7217848268885056, 0.44598042381986913): 1697.3448898974366, (0.5584112369277584, 0.9074599505946155, 0.494724195462635, 0.8266383890686637): 2323.7159608003217, (0.3170474729659083, 0.43060651652022486, 0.30962779655730743, 0.09856329547317488): 1257.413769122835, (0.8304675266863563, 0.7853517859801207, 0.025440517892875048, 0.6409917824951806): 2199.047375848748, (0.1414850085154714, 0.4809492210604097, 0.022323750793493802, 0.09597403145102679): 925.1216822844301, (0.40041561677779014, 0.7029997772165847, 0.15758582477541028, 0.19039050280105174): 1191.920174730918, (0.9172085000121267, 0.6888373874260318, 0.03401615249002654, 0.5160388963626446): 2161.3259530976334, (0.33204025232558987, 0.17599681834433534, 0.9603015524985642, 0.9910279655905223): 3362.1537989870735, (0.20640444418569137, 0.6234961347841502, 0.464807977413648, 0.986468147268223): 3259.326093994842, (0.06677855434964375, 0.20223040809572623, 0.29787857439494514, 0.6417939571457845): 4717.922226542967, (0.6379891814705063, 0.3966403417666843, 0.21594530345077723, 0.1980306460661232): 1896.062540311719, (0.9518626858778223, 0.7984549009935621, 0.7640953657482558, 0.8692412370817348): 2606.9297482179127, (0.3213738170545133, 0.6935278701660562, 0.250989366467925, 0.5022303606831958): 1973.4736878699412, (0.12289615946088273, 0.4533655947573174, 0.41940541537094955, 0.6768499775295785): 3010.278428273575, (0.13828835082910207, 0.13817047072706334, 0.23540498175957758, 0.3354023563545503): 3699.428679859854, (0.39640861506034175, 0.05219687882334478, 0.05112535363990711, 0.997080886367966): 29902.102928379954, (0.7365918253519579, 0.467388388358705, 0.24788457777679185, 0.000950904217924875): 1073.3010207986943, (0.5469394076654487, 0.9741278011085778, 0.9360138564463141, 0.37356152380854735): 1446.6451500460932, (0.447461997877583, 0.6609727975371792, 0.7689155830968978, 0.24402368516234108): 1428.6021344941753, (0.13569814772800037, 0.8868843101738482, 0.20381967934625855, 0.9538797071985688): 2475.3682802274457, (0.8459456978758897, 0.3343202017954716, 0.041548736295469735, 0.8145316590288607): 5446.165136959001, (0.5407803008285429, 0.3624838545167959, 0.6330672789813313, 0.45199645163012236): 2439.097745344991, (0.020535360943121805, 0.8141575745131093, 0.8403802738216918, 0.21471230865160185): 1156.2386351876896, (0.8278193873798357, 0.8545702721588591, 0.2282095888390825, 0.49645075057121235): 1842.5058848823385, (0.6253471603493174, 0.19489049543482062, 0.18508419197138515, 0.9926796666938399): 8870.820136460312, (0.5082204503651991, 0.6462136738497953, 0.8382320021851053, 0.8916538380017418): 2734.4378769106725, (0.42436485926492895, 0.8679030749550445, 0.8855250533342287, 0.706966795299605): 2037.3814670641489, (0.4793694135567975, 0.09180739049766773, 0.23466197707646053, 0.5693266407229456): 6735.276335296016, (0.391564432190753, 0.06544506535073635, 0.24859642647818347, 0.19553361029628225): 3166.246771741737, (0.823355238112845, 0.8198390030084254, 0.833073971251226, 0.11458500299615859): 1190.0227881964697, (0.5374776671863617, 0.13215924889226272, 0.6848700537953364, 0.015295705470614651): 1104.3543921258977, (0.851145376564531, 0.808827889520032, 0.6196539875783211, 0.5836412649178798): 2091.3115447738387, (0.060027178602061415, 0.8270694664611321, 0.5322592606528413, 0.8492715929661794): 2363.1720690957964, (0.8876960700082464, 0.8124973311010728, 0.04186684084527148, 0.7996533247746188): 2510.268997017975, (0.9375009534850511, 0.09936611009993068, 0.4942576597144571, 0.38423843642794464): 3303.1305193917997, (0.2501048617506296, 0.9027758655768915, 0.6506794609904557, 0.4415560043348331): 1555.269233494794, (0.7506665832974506, 0.18501477852641368, 0.2606010990242401, 0.9568241348322363): 7979.582827367853, (0.9996773305427081, 0.818499389297205, 0.35097549035153, 0.7218873357244939): 2435.3141903202823, (0.5115826886590978, 0.00901323432694856, 0.08567140245957072, 0.8374683050219824): 26864.493029241192, (0.9724343637228938, 0.5285187177300833, 0.1769787294059496, 0.3100797307336908): 2089.275104440964, (0.2535801583068653, 0.008360202900404401, 0.6034469797102578, 0.6586079055102771): 3533.1523591006708, (0.024402475554637593, 0.7268825265296491, 0.5940988513722704, 0.4267613011183775): 1643.61785448328, (0.48703513727251435, 0.37917200811245644, 0.8557728344642607, 0.9509322554611707): 3328.4072822490584, (0.48545934593503326, 0.06550667304377666, 0.9463902647535457, 0.9662266590759707): 3415.096916358263, (0.9580558895483544, 0.3924919763133774, 0.8333494415441288, 0.8144953171449344): 3189.4160974258953, (0.11716300475426211, 0.4540088637900689, 0.4189613942765954, 0.820789728360845): 3470.3058278138496, (0.5263951280547535, 0.29473423510943964, 0.4994551145181809, 0.1546623002909554): 1707.638217676813, (0.057424387635077956, 0.8588296931073384, 0.747947238734255, 0.3080086399865929): 1304.9557315577772, (0.45304299308899754, 0.680763788864999, 0.31721480813882397, 0.1455970734243397): 1183.782545804723, (0.7682863726560054, 0.8307999538928516, 0.10849987829353158, 0.5867677314978857): 2009.963097112213, (0.749892896615657, 0.8229982264739096, 0.010258534951429144, 0.9594474877831305): 2763.370359133945, (0.718119886605928, 0.8553749535184926, 0.8918953051941771, 0.5945734313839189): 1936.7676855922996, (0.47586077082343703, 0.6892874431387731, 0.8809683331001846, 0.6279164825200813): 2118.606717514098, (0.061184749879926725, 0.4891147456977072, 0.2492743854475561, 0.9941459668358629): 4052.0803224089027, (0.8383670981064227, 0.6102122270440248, 0.3348535980802926, 0.9205180085198055): 3484.9530223363395, (0.6694542264155633, 0.4171310909990795, 0.4800563768328525, 0.5743469303051197): 2988.07269693329, (0.2281870380798372, 0.3583317653189355, 0.13753388295991076, 0.6936758561861732): 4066.6041990269255, (0.20061603012795715, 0.9199888449667875, 0.5307632844121989, 0.4683379791827451): 1571.4662518103423, (0.8416734714717531, 0.0557529156187071, 0.32592395028697296, 0.889845671070544): 8264.568527901012, (0.48158705472737573, 0.08018938297273581, 0.22502078345351506, 0.6870783157890037): 8271.640730719895, (0.6646110159479698, 0.5793359781124315, 0.8936354064134784, 0.7652540486161437): 2580.3103172855244, (0.30980526785942775, 0.5010173911102936, 0.8328744322383704, 0.7684241431178135): 2661.573176091667, (0.12189774996115654, 0.6496665014721263, 0.9304197217133301, 0.3807895591297291): 1564.7919131965534, (0.20077091973811612, 0.5875665106470138, 0.609493897189305, 0.6620169037025437): 2441.3648255551702, (0.03290070274235435, 0.32654005600975267, 0.9002493522549614, 0.23593681731524874): 1399.873377601416, (0.17348936255989378, 0.2824284616594137, 0.6855779826457228, 0.03864346432902055): 1018.0174373140807, (0.7137475106325525, 0.3029910265385871, 0.3588244418263329, 0.1828061115157732): 2079.6644810487496, (0.5184042283205378, 0.4068269268108734, 0.05033778864124927, 0.5346931782375873): 3159.567997628277, (0.7100424738364612, 0.8738376012424526, 0.833336503281164, 0.28537380151621394): 1419.6285083870034, (0.6947079896068323, 0.028931875331328016, 0.6284658098941871, 0.09673054298347439): 1487.832149621906, (0.32063955609525085, 0.05979625681781464, 0.27446283592435894, 0.38177959168324793): 4484.1041020412285, (0.5486598980246356, 0.8287702555508102, 0.8790884734099588, 0.12449183114930362): 1131.427135742276, (0.47479134849211724, 0.6821165290274017, 0.28694503690959927, 0.8913694878565578): 3015.205512953862, (0.38473674688005466, 0.010917131056197404, 0.3459215966755098, 0.8189836015863292): 6955.558601122711, (0.557698081455753, 0.04087464430160159, 0.5804012356756791, 0.16104543493263124): 1750.6307448830457, (0.40899401277202097, 0.530879708477911, 0.7995763918119755, 0.10207964883911069): 1181.7635579794269, (0.23556697044575747, 0.9572994867246033, 0.820626841420051, 0.157551657069113): 1055.0896703638662, (0.46951988781992193, 0.0625161632040988, 0.11298958277096971, 0.6420168148446649): 13115.767808780345, (0.78504280581625, 0.24652774186075022, 0.9596162714827038, 0.13118183918906534): 1394.1809856623242, (0.10930993169925363, 0.14983368757500914, 0.573846975038238, 0.7411519004490075): 3855.7068665947577, (0.13838636878559396, 0.3888302320906972, 0.037856468977562896, 0.2605464721170747): 1785.154551597023, (0.466785567648353, 0.8847119830631355, 0.8289505821310407, 0.04169459456670521): 950.4436299869533, (0.0664167755296956, 0.3965403868722952, 0.3145054769225232, 0.4117821600656103): 2365.552698987479, (0.820867992827853, 0.2652099968818461, 0.9236067958279488, 0.08576450166229166): 1317.1486544009206, (0.25641669936842204, 0.7904681626452134, 0.5907696540513153, 0.10280633669750983): 1009.9193997822308, (0.3426062191675334, 0.10799336430634543, 0.809252839020615, 0.9690375495142448): 3810.828996909703, (0.18912284133620139, 0.12470533147756846, 0.1475976640212744, 0.09813671141462066): 2156.504625672056, (0.005408808207152949, 0.7735655613942716, 0.2913155348373453, 0.2815979751827723): 1249.70158094124, (0.8419496082583326, 0.9769720449886419, 0.713935868805176, 0.08668795186627454): 1069.603632698818, (0.8338540426669627, 0.7727588337511079, 0.5075144218024245, 0.819074639121215): 2653.9090621083737, (0.8334434564852602, 0.7022807402426008, 0.5686465870499101, 0.6253702359023368): 2369.2180029047363, (0.8746792819858262, 0.4210307233055366, 0.8746705587145245, 0.6626966603709196): 2677.8810631572937, (0.1817981689102317, 0.06378866243599868, 0.033364734888808645, 0.8777114067587704): 23969.338766501234, (0.6502541576158634, 0.8777708514335992, 0.30246593362646224, 0.2904776134448105): 1373.7262828848197, (0.33961490555431395, 0.904461062036872, 0.8109660809017545, 0.9624529775775402): 2416.101399354692, (0.36091986921115526, 0.5610222115534654, 0.28207739066059956, 0.8451974007294132): 3316.769176927493, (0.17145484165394365, 0.2736453173852206, 0.7112995858199853, 0.13595269532615228): 1307.8392486961557, (0.0948734831979916, 0.29909143906332847, 0.8115502420347454, 0.5611953329832472): 2367.766402539128, (0.6766344190031148, 0.33955206813926153, 0.3265532243230048, 0.6976040664298337): 4177.162509650115, (0.26541885218313976, 0.014739312330978915, 0.043015365744704326, 0.31341499304891063): 19108.38581089069, (0.6730638132127085, 0.7509144264376669, 0.6433178067219825, 0.8932627928329921): 2736.0959106613655, (0.7722182557667464, 0.44461403850308845, 0.5688414792730742, 0.24037186185157844): 1842.276750343934, (0.7194205821067663, 0.600539463831692, 0.6813038287457905, 0.8991081889951271): 3079.4129947121182, (0.44823995130063243, 0.07174529506621175, 0.9344380339986254, 0.953810047023649): 3403.529864886551, (0.34291798028752574, 0.9274869830659694, 0.18328229071167046, 0.47376689347015155): 1546.5058521600147, (0.8488011149262293, 0.41425081355944915, 0.1435527948073393, 0.27048521598777076): 2256.911358625844, (0.9618079830184783, 0.2199242233319446, 0.636670896716616, 0.3065025533227177): 2385.3199657019522, (0.23048119167580527, 0.9585320620893144, 0.999091019084876, 0.02718514875086786): 870.2889694683026, (0.21995052349286182, 0.0024182554460546735, 0.2668560291184151, 0.4568237737701696): 5216.616037224808, (0.0864337723697387, 0.03852076896313961, 0.3414831714859864, 0.296221073528967): 2946.6400685411368, (0.9627828644633601, 0.13011767666084195, 0.904151031914129, 0.3954337426247796): 2198.295699592011, (0.1381262030790117, 0.05339045482685756, 0.726582372305968, 0.5150904371461511): 2527.882770158859, (0.27972007062084536, 0.803605295397971, 0.8177678815914153, 0.1381089770765085): 1095.012741988972, (0.9200588923154188, 0.49201469789234775, 0.43318218278334275, 0.6412680164819877): 3112.4051576069082, (0.15798837534946375, 0.9820395375577433, 0.09884049075002388, 0.48741297059411504): 1431.7558924789953, (0.9797580481475544, 0.7999313790818247, 0.0016306584942773483, 0.4063087144198946): 1690.0153300015147, (0.3519077209320449, 0.05611465372834301, 0.21858765005548275, 0.45383992840193643): 6184.181255970855, (0.018267237512055945, 0.33212745681853617, 0.9081049466454536, 0.6395702406640025): 2365.940044803094, (0.9804457162305876, 0.245105792701505, 0.057989395429655644, 0.9053154317190819): 7997.042682753856, (0.7504851061076206, 0.9129937043076518, 0.49259862492022444, 0.623387305942571): 2002.248742531214, (0.2292630630198319, 0.6443375273853422, 0.47170878267852334, 0.5302141188693961): 2092.166407672815, (0.9062012538012675, 0.7995505026400488, 0.07335443911569284, 0.9694942381148123): 2935.138536514836, (0.11836441088880267, 0.38173929506431037, 0.0735324913643528, 0.8507664363108184): 4508.2010510402415, (0.2961473130952047, 0.09860619809774807, 0.30209263676641196, 0.11277830027878799): 1976.0388348483746, (0.48824564938146653, 0.8885208509785826, 0.7680061843263285, 0.8393535341515758): 2288.7986614061165, (0.5895301950632884, 0.32347963418791315, 0.048383213374139644, 0.3026836663901734): 2651.148300246464, (0.4920377837589054, 0.9899482336264882, 0.643642024048217, 0.9333513847432586): 2330.015610946153, (0.38809135714585274, 0.8324533667299127, 0.2243791053392642, 0.5351297244203043): 1819.1992332801744, (0.4107353056991071, 0.8778900233767891, 0.907877473130607, 0.2810428325089672): 1330.2147128399292, (0.7838216182684433, 0.261696119625751, 0.8314771230394006, 0.5708357701181109): 2676.524405394843, (0.7140683671415922, 0.8357525171153858, 0.39192448733023233, 0.8594377425208382): 2584.6438081777737, (0.8275865395916658, 0.6120830932465748, 0.6984112903734498, 0.7832146454708102): 2810.1629902796767, (0.6682657895575043, 0.10884337637755315, 0.36586835244738725, 0.676205786371928): 5643.968058230719, (0.6283299307513126, 0.89505083461913, 0.5156001023354139, 0.8700712365668779): 2440.1742215792906, (0.3577415934321059, 0.2915228041084903, 0.8288542992227562, 0.1377782374251324): 1321.6430859639465, (0.5611442715737909, 0.44308996876773754, 0.22323920205356307, 0.0649421159784922): 1229.3520761566053, (0.9787143313863211, 0.1335415980892899, 0.08369144838211706, 0.9759122402688841): 14167.254474975629, (0.33802814871865594, 0.16353845347487528, 0.768263989505566, 0.9667846179746797): 3915.1696799195533, (0.7478900358306896, 0.6813796298393772, 0.40912162922597495, 0.8712627631859445): 3025.866086648069, (0.5389221809738637, 0.462892672420825, 0.8840384514973469, 0.7041337064604007): 2586.4626594749598, (0.3471410294269558, 0.7100487203407524, 0.4766146670682504, 0.8391752849125341): 2701.683212401012, (0.170288925090613, 0.4146022703443595, 0.2813857709814831, 0.8207689871764536): 3939.491386887953, (0.8610960087142382, 0.9497572167004641, 0.8673146975144331, 0.6651815954774204): 1992.8270175973933, (0.7420918458279672, 0.4389213424896806, 0.4740963601716801, 0.05681415655987199): 1318.1259375993882, (0.9238331025911353, 0.4062364940228024, 0.6019064447307981, 0.208428445033916): 1845.7009176180743, (0.9468954792059403, 0.5920308404895842, 0.5194721495122253, 0.3391909925275386): 1967.2535252800662, (0.7151951262356295, 0.9684691091268655, 0.2149261224061223, 0.12638876156097845): 992.599544870794, (0.39312383927208905, 0.6330649300222554, 0.17090465006490063, 0.34505374070590367): 1691.3308331068486, (0.28693395155050516, 0.4440743886410442, 0.15360706312689443, 0.2868717052912081): 1885.382793850111, (0.921815090690743, 0.5629846963302821, 0.8611676734444017, 0.6923893807450315): 2567.5600573777224, (0.05361878900270001, 0.6909708085612752, 0.10407979381490251, 0.7738989322521177): 2514.240360093338, (0.11637255474066621, 0.5835268339370623, 0.9105612686519798, 0.59344743503454): 2044.5947151273688, (0.23744257225968435, 0.361663589561127, 0.7674551023882012, 0.9314474067230731): 3414.709873834297, (0.3393547809003744, 0.4047690173400941, 0.8705039491665054, 0.9978498725251009): 3310.8615441491597, (0.38715580094170443, 0.8423874400337938, 0.7054228986198728, 0.993016944149633): 2629.4042686325142, (0.7890348721169075, 0.8347203943239715, 0.5340723544520874, 0.7981203259104959): 2461.0504970382563, (0.44427290090498306, 0.5825654900230207, 0.577192877546202, 0.17788193249926454): 1375.4363885022829, (0.8340984590479439, 0.35385637290547745, 0.2552834304759455, 0.7054939021506276): 4389.944076113861, (0.7199913359005276, 0.48998028145858585, 0.8958342821657064, 0.21864206814039322): 1533.9696254552393, (0.9246754547019527, 0.7848999243426295, 0.7521338963038045, 0.4360453156944055): 1830.879055884777, (0.20434545701914075, 0.8374724176280949, 0.05802630869225622, 0.48132716726203295): 1577.8717849814698, (0.3398684875231892, 0.828182509956276, 0.7843615585243462, 0.5251499431660763): 1779.0955374976784, (0.6039064103615396, 0.16711023762329602, 0.9613424085056812, 0.8617566497346086): 3143.1363675274533, (0.1845242445962415, 0.6372845088254002, 0.44550777573189804, 0.6750023911274751): 2453.0382316574432, (0.5325437474961459, 0.8007673810053104, 0.9469450345362196, 0.830208431935823): 2319.89217164219, (0.8417980789938269, 0.5829882929874023, 0.9170766839371887, 0.8974502105382943): 2870.339211399389, (0.3852077440255677, 0.25578958898659765, 0.4238984260236305, 0.7747534408555037): 4515.4030902011455, (0.10788772546131631, 0.07906263417824988, 0.9958098919133334, 0.18954918174944257): 1223.8010637327143, (0.8622170069215961, 0.6423868418512072, 0.44140786211250405, 0.12275771122807866): 1339.5928284768422, (0.11386220504698974, 0.011913969202319907, 0.42605948727963083, 0.474357257026109): 3537.807084082604, (0.4583231055698139, 0.16245918315154917, 0.19632974963125405, 0.1869339019070645): 2892.4466052939665, (0.7833572427533663, 0.28237030885316483, 0.9067454999188446, 0.6164021858579296): 2636.9733102467458, (0.5807103659955858, 0.6637799124111078, 0.35787165597616455, 0.5744776176199228): 2314.0109833709735, (0.05625305724518148, 0.5210885147136195, 0.39229644175100287, 0.23387991354802096): 1452.605728828329, (0.38459242414425154, 0.17079717487530421, 0.06286952233707443, 0.8989060532062196): 10118.230828018373, (0.23451497797601673, 0.682326657607723, 0.883797556699887, 0.349201912291663): 1529.1508086751799, (0.6219663589153377, 0.4567575240175189, 0.9833113428758872, 0.8343385197093312): 2771.3132858988715, (0.9131275131821331, 0.5619459361264901, 0.14685814656206397, 0.5777496715257179): 2781.1093445616557, (0.3062609527783695, 0.7031704360149245, 0.9105508992395698, 0.2944348923879495): 1426.98375228574, (0.27861695908934037, 0.3099780389738248, 0.06862260804980336, 0.9903410027162202): 6332.61492174692, (0.20492738088342755, 0.4680985021607025, 0.2205833405649188, 0.19473527596058082): 1463.4265766617054, (0.21453364652896223, 0.6828245681547082, 0.036240628912333483, 0.5255954187288192): 1930.5549341550804, (0.971573559607862, 0.4169793463093827, 0.23714025323676236, 0.12631321232039872): 1753.4935695580286, (0.7491348472815457, 0.8983741596385078, 0.8352667671835659, 0.1991509236335437): 1272.6349330649218, (0.07022241667731055, 0.5238307296316638, 0.9445997613678219, 0.2139291389112058): 1281.5574686191997, (0.9732938502460338, 0.13799756897438498, 0.8271652746179518, 0.5043110357555014): 2654.2029534292283, (0.31794820640282917, 0.41938729413483167, 0.5760642624549163, 0.04502380127980998): 1084.6853139823802, (0.8758756721097256, 0.8406203309067843, 0.30862813587529114, 0.8140378918334715): 2535.5707360564106, (0.4246584635195507, 0.671686016839749, 0.6834654342783826, 0.02136140918923657): 956.9199681777329, (0.46019149890489053, 0.4780841400127641, 0.4544117863733136, 0.1221670114916269): 1349.5374608186905, (0.24410913830576897, 0.8485360080008776, 0.20356120800782795, 0.9827603985274042): 2654.8426067049318, (0.9599657171543464, 0.878814230902504, 0.17774229118274154, 0.5609233832191017): 1957.5955564163803, (0.10364947741408204, 0.804725560026918, 0.008143140360484469, 0.10502088787581643): 744.0122802941161, (0.17558296881722402, 0.6876908974638628, 0.7422137785166255, 0.7214807575563037): 2296.53519758912, (0.7963432124386398, 0.6078312339611528, 0.6902741074639833, 0.6838493222016269): 2593.935903692754, (0.9240600123755494, 0.0033818377818948253, 0.2832421137406541, 0.54663083081734): 6667.735479807118, (0.2264270691519038, 0.1793644432425332, 0.47146707480994954, 0.373817468842612): 2698.794009786553, (0.9569648708920088, 0.47329490271699515, 0.9385208567630671, 0.8981595720772683): 3057.687021043149, (0.7409808921089115, 0.015096161524558394, 0.2488189131011369, 0.8003371639491932): 9744.007550565244, (0.45234173667381916, 0.5554983802312623, 0.6093837791358135, 0.5208445597077902): 2251.62771796116, (0.3696083833857573, 0.8286716019490707, 0.4844294407863542, 0.1680807331487213): 1132.12106181532, (0.5699671881621854, 0.35013035755795185, 0.6742879235953458, 0.7055630017715679): 3161.1087190329054, (0.31044118351072647, 0.8514844933030771, 0.31378851221631543, 0.9353427361073805): 2582.9421717707005, (0.1520002652215171, 0.5829175715978863, 0.10854109528771139, 0.30833381595020215): 1545.8035462103321, (0.38481556605093126, 0.6390226961707515, 0.39611401895504406, 0.020370214573382506): 900.9462668529947, (0.9833397909008499, 0.8463367345816414, 0.9243920507030715, 0.9870831001650872): 2642.8824162291526, (0.4577976372923179, 0.11425186590085257, 0.24629474299452925, 0.4870232705518005): 5490.956133820759, (0.38149993730399956, 0.8504919798531, 0.5537446819774702, 0.962279764320247): 2618.0506127157773, (0.07608377676326827, 0.9834192879182311, 0.35550259346671564, 0.039856126984411766): 715.5555958355685, (0.012048637911942883, 0.8424415567623861, 0.09225001088714269, 0.3745991579781479): 1306.529229108797, (0.8467243318287317, 0.6795041874900767, 0.24555031597030486, 0.5667881203965032): 2359.9925591486467, (0.27435339036689743, 0.19879680422426405, 0.6448129042896531, 0.07324860704498459): 1204.7490461871632, (0.4713115743047438, 0.7122760952092665, 0.2903790079652405, 0.5936299263167689): 2212.110217164531, (0.9296961708645823, 0.6746237302702605, 0.15584758944697585, 0.41679608557904757): 2004.1282688962433, (0.3169476734991119, 0.08731359998698873, 0.2973279019143107, 0.12088768393343319): 2095.121007590089, (0.3072859390899506, 0.8233542473888565, 0.4829758572013093, 0.48993164773360454): 1748.7044768854082, (0.7649175284553489, 0.1936741911876162, 0.3084150523282335, 0.29691013944898337): 3288.6541782445797, (0.5293041530077317, 0.8228327437255968, 0.741484334138286, 0.7106715639329608): 2178.1953273615864, (0.9372136208734914, 0.28465925588656815, 0.7334855635662733, 0.4125472847581786): 2452.0702611811553, (0.6710356454962765, 0.6502519711748739, 0.9295562263777262, 0.696639720422278): 2319.2974586241967, (0.3464643012455617, 0.3354094559676136, 0.8873824944796268, 0.9824038342529613): 3357.489934701779, (0.5099157905297607, 0.16263739985930947, 0.32629728546459913, 0.7587348108675932): 6000.099696229003, (0.28620893420440785, 0.7895621588764354, 0.7427377331463454, 0.4442962539960428): 1665.7580227249657, (0.13100128282079715, 0.5426499773939764, 0.7425673105050816, 0.8876044859197543): 2909.090640581941, (0.4699451731589034, 0.20211299717452813, 0.4161120907739497, 0.9746813718510542): 5945.317786122804, (0.7897171195560034, 0.2853598300059076, 0.2686037790091581, 0.03331251097346566): 1544.333587295989, (0.21311906232277578, 0.40703090311544676, 0.7278660808804697, 0.08823138973530043): 1139.5476892585195, (0.6896298943915183, 0.03966994009264735, 0.9861331830946672, 0.248649778340176): 1576.0691165796022, (0.09095323366749342, 0.987997943375677, 0.6660206656037877, 0.389863279252015): 1362.5297671402604, (0.9279016891760062, 0.6978892088450772, 0.3407838970213355, 0.07803087414081289): 1184.9187486599762, (0.2778680005960864, 0.18490377215192322, 0.7763110387756114, 0.7384523278646605): 3141.4979732990646, (0.2785565497947209, 0.8836294536184469, 0.48869060346499293, 0.6624246784194777): 1986.1836538641314, (0.9429403053844722, 0.057892994254715724, 0.9390444558766903, 0.9609389475262781): 3601.821263865623, (0.38004034156553457, 0.3229301944611668, 0.83980432996515, 0.18605187037673776): 1443.3393491370164, (0.31291272146197235, 0.9479114773108868, 0.48179009063813283, 0.6492589471972818): 1884.2064071455245, (0.3777982441331732, 0.7555722230830888, 0.9520364110737373, 0.43944420980561594): 1657.8666437922748, (0.14878309706608284, 0.18506858604992216, 0.7703897985726811, 0.41728120772010613): 2121.9633637704014, (0.9678598501822397, 0.9453867218565409, 0.26788320666643417, 0.022644568016841116): 904.5406546340621, (0.6274943213306097, 0.32119889318238026, 0.65025094197854, 0.8311761218639778): 3708.175253367635, (0.4340136915377454, 0.4564496256973024, 0.7615171923585785, 0.884339601071543): 3171.43660977775, (0.0193281480865084, 0.6051594530329801, 0.5170258965414788, 0.5638950970246112): 2155.7878987546246, (0.00041397158188660743, 0.13418052283225512, 0.032851804688322495, 0.7806078109670177): 10616.444043798661, (0.1641763418040243, 0.8763335371793781, 0.20631031573668512, 0.6916136311905907): 1991.0474445532654, (0.9404645602094416, 0.6733912585101351, 0.7062886865357708, 0.33270756479010877): 1770.5867669069535, (0.010436063337963097, 0.6756915340444143, 0.8143336471371236, 0.3512764557186393): 1490.7816855532722, (0.7578758403922953, 0.02807496313917135, 0.46393729818682994, 0.07441163754474922): 1707.6743607779918, (0.5689271485061084, 0.11817803603995547, 0.41711095873790427, 0.3877361477269038): 3404.182580893091, (0.07545291151050837, 0.18372001141725292, 0.551373429320191, 0.6954866031651432): 3676.361710823488, (0.05811879319441582, 0.6192140195390371, 0.15166877792168487, 0.3648983495022363): 1624.197752551852, (0.37302252574232675, 0.5371103138823616, 0.3783278779220989, 0.25608226841907533): 1634.9218952633792, (0.612513869605072, 0.2994476233122102, 0.28743658689916785, 0.2115455515048248): 2238.477994573413, (0.01777231690058667, 0.18605705612674572, 0.7712145628532031, 0.9523575367783935): 3685.432057537159, (0.06635838392325644, 0.4043102863190696, 0.5177021336631108, 0.6291113850357615): 2851.547690408387, (0.49811718206155564, 0.8666311270270145, 0.7827499716049822, 0.20955615621738577): 1245.0924753505888, (0.40220192398060184, 0.034606406945706825, 0.8683739778467714, 0.9945374786923069): 3694.8765115864635, (0.16505258077322082, 0.6873809729501267, 0.644617228696303, 0.4367806568671304): 1745.3364879655605, (0.06130814909441229, 0.1805826301844039, 0.8381256081033028, 0.5124650800917027): 2250.1857811037985, (0.6710642724120954, 0.7441453845187473, 0.2521331070381301, 0.41141707545974315): 1791.4195248533456, (0.6487498653348537, 0.9481968317657716, 0.22266883915487767, 0.890566635120181): 2379.2512490051768, (0.8326962794436003, 0.21950403410597763, 0.05749699210236814, 0.35111087301167276): 4327.309463735128, (0.9289648454598007, 0.16144045124359419, 0.8802710459925475, 0.5088284434037654): 2530.882552489545, (0.6204785989162924, 0.48011584119502115, 0.46004824549080325, 8.586631291218616e-06): 1050.9902725921609, (0.4188971118401018, 0.9513333712747841, 0.8590126491269958, 0.48548677322612754): 1611.2640774198471, (0.3220711994750033, 0.5132675746488299, 0.18584555899629596, 0.3070962004487433): 1802.084580767459, (0.17319838642742935, 0.2640061760547462, 0.35088467797361844, 0.6158810104284921): 3905.0774598669127, (0.8426370815905115, 0.7881295840154472, 0.756081596256928, 0.24715144888300422): 1456.4431972074076, (0.5332663884087832, 0.29910609326456983, 0.6716024974297948, 0.3504138855629074): 2161.4774192662417, (0.06494339767025792, 0.6961682353226245, 0.8600214255626994, 0.8844785008917343): 2490.6526466524197, (0.24308876736345109, 0.6213321699909237, 0.5617889202649919, 0.41131828303728113): 1823.8416462674188, (0.8795822472102226, 0.1443519678073253, 0.8323256306023418, 0.25890914643052776): 1891.6318405667912, (0.41221915291804867, 0.6166596827424543, 0.9780561010058131, 0.05746128745042589): 1040.7028198879245, (0.8313919802602527, 0.9502368813750722, 0.677142070592505, 0.5963649376398495): 1912.819550230187, (0.5792030704857766, 0.4400405995668888, 0.7070665005437018, 0.48311611903341): 2314.265193524558, (0.07989115594569562, 0.7761817397319706, 0.03914346622967735, 0.8018529623114841): 2334.290026533175, (0.37884684193880014, 0.3130045870944915, 0.6895946438326934, 0.1607635502078384): 1476.5319172294112, (0.6531359576196899, 0.5866411175230779, 0.5591959784613664, 0.25189523467494157): 1634.6909453422154, (0.276569746167071, 0.26949526179872785, 0.2843368675266753, 0.1760400150678897): 1914.0988069453158, (0.549814218450629, 0.28001934170948306, 0.11232603002378028, 0.5779063869457601): 4613.948848434902, (0.12563535326072817, 0.6442851827445654, 0.12259157607011073, 0.6205992345773307): 2283.1775197855336, (0.01592307687525074, 0.07204097741739923, 0.736423046205007, 0.7364781634640846): 3185.2910932602163, (0.1826161804445522, 0.29275139624901236, 0.9441262271703145, 0.5751625473361153): 2248.7709081110274, (0.8722715722459355, 0.7203908674001148, 0.6983644085826273, 0.92929808632024): 2895.811494609642, (0.6264797253952509, 0.7429067840272686, 0.8453090112327337, 0.22932542873987338): 1383.6033954615955, (0.654871076096223, 0.9717418064164246, 0.9272600979070724, 0.9383765535085424): 2316.401942147759, (0.5761785797094775, 0.14098205342715142, 0.6440873764153481, 0.9637030381635902): 4634.137085495701, (0.5441296204755899, 0.08236866762904105, 0.8624218632276679, 0.03842972457053917): 1066.906622757641, (0.08497254203020022, 0.9110206040528693, 0.3691473668053993, 0.20714971754041234): 1048.1898458396843, (0.08419500625692578, 0.3287042703421811, 0.32747646125270014, 0.3160308565261336): 2204.461589521676, (0.8564885393918632, 0.3700292586048606, 0.4189041104365988, 0.44905058668235986): 2923.6831725427473, (0.03573341538000796, 0.847064391705942, 0.5772012644345068, 0.4597759373254098): 1584.6682444186013, (0.7865354250133241, 0.9787576251464687, 0.32009487145948834, 0.854305913082007): 2309.6818062562, (0.9746293947999148, 0.933257885572419, 0.9448679753630805, 0.5873626640296807): 1895.3864905009875, (0.29267424830135413, 0.7242335907337639, 0.8711897178419606, 0.35379623533360516): 1527.4745163275984, (0.4507790892775021, 0.7848962948584254, 0.29864549579745614, 0.3107410553650629): 1449.0763948461854, (0.07555792710302678, 0.567539393054293, 0.9442963837285829, 0.4126761703618552): 1663.5045646609424, (0.5974652893464051, 0.6156667212360935, 0.875618930189788, 0.9358072486722256): 2865.052853211105, (0.048771355122625204, 0.7697189478622499, 0.04983430006988909, 0.9030102479199541): 2574.5578284343246, (0.8059875488936246, 0.37458080576278896, 0.15532468933375643, 0.8124970103482834): 4832.795993657209, (0.6683137146600305, 0.6492510321490751, 0.583215609108829, 0.625312137721671): 2411.9639968833367, (0.4521802507294931, 0.45412204359675223, 0.4722739614611604, 0.4364410275882763): 2345.70842765444, (0.6486668561775278, 0.4629227641193371, 0.3614520828289802, 0.4235326809436143): 2465.0505392779137, (0.5467852504291615, 0.39534104111934554, 0.8369040548027441, 0.9087409796030789): 3256.4594501237284, (0.10610992614132098, 0.25328835365701485, 0.04323475982414249, 0.8696363793528865): 6628.496261750968, (0.4714409750753199, 0.6935575079151829, 0.9725290153820846, 0.7477016392489249): 2275.006387146688, (0.6711783206282967, 0.5618742296869544, 0.3665496243621069, 0.33872692591426923): 1956.4683205336003, (0.8083180826401792, 0.6651755062675933, 0.532999474974144, 0.5579102369189255): 2299.5814895796757, (0.7052509831928209, 0.7492573044111493, 0.1673831815703397, 0.06805838498843975): 977.4186940508383, (0.8206783470965893, 0.3192422337693439, 0.8745726654346674, 0.7827884650841463): 3090.5728159958585, (0.8128470859734962, 0.3742693225356363, 0.6449543157794919, 0.41125050115668293): 2401.2397907174886, (0.16665060652231223, 0.6403527120500369, 0.7030806023908641, 0.4083088509990873): 1721.048047665546, (0.04093275638069571, 0.5317306278369487, 0.2839938598431342, 0.6171238944158371): 2600.7205521736882, (0.6300016900313484, 0.6672196772561192, 0.3415825258841926, 0.334250371735512): 1733.9280592407786, (0.2958693705776859, 0.25993338357366225, 0.44405474800191946, 0.05690468440906227): 1253.3052675800627, (0.5563970562908205, 0.09888238292462936, 0.23703528644667626, 0.6465994798735857): 7385.809557714388, (0.40859509400860927, 0.5337787139446097, 0.6295787222109134, 0.2895070094264526): 1677.1507876735677, (0.3576199675368805, 0.4972522707369409, 0.8193789780312921, 0.4522955284076642): 1976.621675652695, (0.3325667636542776, 0.9755380889934916, 0.9566620510530609, 0.6962354604742788): 1871.9533741837017, (0.9433879952857753, 0.8106053078594857, 0.7658339901626046, 0.894230018970728): 2627.481430154197, (0.8445030585400118, 0.44572568884276864, 0.5112885750309948, 0.19986256937902058): 1787.97744941594, (0.6797837594153836, 0.5157344772277874, 0.20855563024421186, 0.5018008235844557): 2613.3745891079625, (0.08497828200419677, 0.21666177260570418, 0.985697794831011, 0.2713882040954869): 1459.3644782363122, (0.9665597520388813, 0.7675520088666011, 0.5174009895993863, 0.33360602936298167): 1703.8675876750292, (0.2213354587991817, 0.9825728609470583, 0.49029495606465956, 0.8459692671670114): 2148.425678677117, (0.8386129737595044, 0.03368393486137067, 0.7250577941559222, 0.2374025085867144): 1935.645991700245, (0.2888601392075538, 0.9386305754148256, 0.3748923634081872, 0.052026932457091446): 811.5615883868401, (0.17921698302533784, 0.6498564135232889, 0.39737138440043107, 0.8794095225110897): 2942.781949179641, (0.8675013991255375, 0.6475791618949598, 0.2647589073652291, 0.31571582625475103): 1802.501611013312, (0.13233306383415477, 0.4551439324312698, 0.4224144936888974, 0.5499889989605918): 2596.522379110446, (0.2979278916537934, 0.37044330229364697, 0.1860015115071053, 0.647782575905211): 3756.3362657654975, (0.7430414443163805, 0.8816855244085744, 0.5821741921415384, 0.5457477404808431): 1897.1207166235824, (0.9875806949254406, 0.5652487941560412, 0.1904074348565855, 0.36899966933174433): 2178.2664143497477, (0.11973847702206963, 0.18365254068668668, 0.20639654285984443, 0.020683670329076254): 1076.973719277698, (0.26786780338335114, 0.5285059025731431, 0.7115872006389166, 0.6380869862306752): 2432.083317311019, (0.1812680891026739, 0.04565964989437987, 0.26105967939871155, 0.45059946768838766): 5159.970045985819, (0.16763208444401112, 0.858817598222037, 0.13316916301259862, 0.20444326242422073): 1012.0036584082519, (0.40108176498304293, 0.5911574239894832, 0.195377260013041, 0.44115409208335354): 2062.127151265219, (0.3291259048390135, 0.7352968692703808, 0.9011510363422123, 0.6083933672545923): 1980.390664714665, (0.007793287023745155, 0.7993968634769335, 0.8356155698922516, 0.48746664253630434): 1639.8682987343004, (0.4339865989980326, 0.059215108705349406, 0.08299988659438318, 0.5989361889977969): 14754.115462460626, (0.95184502289096, 0.04450326199644661, 0.3272713499333333, 0.9986833927270987): 9227.18715846844, (0.1361241001660083, 0.06308164209067602, 0.41526637344295814, 0.6825053503679392): 4848.333930200871, (0.6649578158034892, 0.4955535251542804, 0.027415664813946194, 0.2177148608014683): 1624.7315243066498, (0.6786313968683481, 0.15461573646602778, 0.3957129135668328, 0.43775528481907244): 3770.614825751606, (0.1299317170883072, 0.2773087376157942, 0.28894493564178236, 0.7477516024978182): 4677.97559312474, (0.79936435973226, 0.01812798371090285, 0.14828704907568213, 0.8801793884055794): 17196.538107042474, (0.4718264305376497, 0.25758067518075445, 0.2510825908334947, 0.03945498627565236): 1389.6104114896661, (0.6185354516606689, 0.029279877663339615, 0.16486114684116315, 0.6372842225471675): 11399.798077897622, (0.0923019035781778, 0.4920465026631966, 0.3303780008894497, 0.4732827094756369): 2281.9891943177945, (0.3207487561197352, 0.607314009514542, 0.37367383725893677, 0.2941868063891021): 1608.3266551963195, (0.8389683741946844, 0.06553055154466336, 0.21503072927808486, 0.3911274350998507): 6272.352949709421, (0.3502452813108977, 0.47711062055775144, 0.7021291399920119, 0.8247097759201322): 3041.28060396267, (0.3842938122683184, 0.9919167637999706, 0.11268401785688587, 0.6619251587349083): 1794.7441981070945, (0.5652034605555472, 0.7438329661740646, 0.17882430130144766, 0.20990042418870436): 1266.3906750229125, (0.15032999579561301, 0.3849267982342829, 0.4354304534788871, 0.33382765020270966): 2054.392354624894, (0.41902992538510786, 0.8546219087262508, 0.014050549565424397, 0.32121653472733613): 1271.7266026284733, (0.242911581913537, 0.5246539041627633, 0.49710644237225676, 0.8668121283820406): 3270.749438331923, (0.10690127929139359, 0.8389544744743401, 0.1431811481444908, 0.09462684502967456): 782.6405234588734, (0.4730156980267688, 0.43047904286022654, 0.49401315766272824, 0.9648560969364451): 4061.2929682701756, (0.6956041602102815, 0.8176652575976313, 0.7118159504717084, 0.010276640264984649): 965.3722994599221, (0.29801559935766186, 0.5910617493656434, 0.09301793444053985, 0.8484153643821231): 3176.5905259254687, (0.581005964554145, 0.9116976780510978, 0.8189117791801676, 0.0013057166332254289): 903.9220017651082, (0.4891846894227373, 0.11335939963708086, 0.7004978135959818, 0.8097774308675277): 3799.079536154259, (0.2035278143760728, 0.8717152644457293, 0.8693661259496159, 0.27952634398136067): 1282.7479821017155, (0.7817517141830632, 0.37004519980135564, 0.049831140847772404, 0.12161307894774298): 1665.5241058269003, (0.1393780296083671, 0.38990095412665715, 0.15462620652164172, 0.3278847096562547): 2147.0005819723233, (0.999770460658506, 0.002425252085965335, 0.09983387601787763, 0.7208680610259252): 22278.69459966594, (0.019351386140632143, 0.4105141927965439, 0.18947212021360582, 0.5056649506086531): 2721.275941155871, (0.09542176901143318, 0.8492958699473907, 0.7612010554251312, 0.5049891260807445): 1663.5185035093577, (0.1354823588818117, 0.45163629005174144, 0.5485261223621984, 0.870680868066892): 3415.551361820457, (0.06835777005491805, 0.8579194644535021, 0.9639561763035374, 0.0707383788528767): 917.3674711423207, (0.979338684843303, 0.047968012232160184, 0.8905607986714116, 0.6140976532013525): 2811.7092514135993, (0.9220563884191422, 0.6104868795887068, 0.6953974540584058, 0.769157636897456): 2817.0540075898566, (0.21445627836775616, 0.7255152175097587, 0.14905860676967986, 0.7324821060824658): 2393.469822281808, (0.4905340262242526, 0.3211686313759904, 0.6952041738192286, 0.26231934550962044): 1821.0096481338526, (0.0018414978516085867, 0.4612141108290194, 0.5281165266270527, 0.3696453037951889): 1880.88804774477, (0.64082828617521, 0.9446072651207192, 0.8470597986196157, 0.687243476209032): 1986.1246517117868, (0.05071292381377224, 0.2389633724693817, 0.23704452453732316, 0.7443422552167186): 5281.837119510866, (0.29003629493620875, 0.4536529132688115, 0.2538180889053877, 0.9104572431187384): 4111.519267635194, (0.9726588259077513, 0.8596527974620436, 0.6670857407250294, 0.047091643096112024): 1084.4934727646776, (0.9573469848822063, 0.6339865261854631, 0.00014598403091858891, 0.21694073288920057): 1474.3809773547875, (0.5217518329060802, 0.4782068657648968, 0.3085133166127284, 0.40568914200102035): 2323.2142613927304, (0.617452456886447, 0.8675386448222178, 0.6476693708813742, 0.04149269791504695): 972.9639702938683, (0.18650865915124692, 0.4453984533669103, 0.409576117299415, 0.9345465739978746): 3934.2174881046517, (0.7947052977275956, 0.07405713761948929, 0.1318649442753731, 0.9302625746331892): 16252.414179170106, (0.578562900599294, 0.3227893675733098, 0.4540383768792853, 0.6063896260761049): 3474.4757621764097, (0.4958216417977136, 0.8751070239195529, 0.4432699960074351, 0.950329166299613): 2603.650210472904, (0.3529655610090421, 0.4521620445261877, 0.2109173721190123, 0.09420034135840971): 1203.5291826044395, (0.8430001307722422, 0.9390074401698115, 0.3949593275812874, 0.8210230966478692): 2340.870825570337, (0.12110570892339945, 0.9861611904435732, 0.8780388151646082, 0.7966984354234357): 1982.5110342628523, (0.3650348215970818, 0.6791117854627594, 0.8000558353128066, 0.9730227630838011): 2828.5281444213015, (0.4617824109054369, 0.3135681081320809, 0.39864660276400277, 0.02418258032322429): 1189.5801055627792, (0.2385680060493034, 0.6553623758705169, 0.13061596505446527, 0.46752453020441453): 1896.6074217303005, (0.7288801635647274, 0.06450946976547711, 0.5069447562011781, 0.3943630944759897): 3163.4160572431897, (0.9476560209878401, 0.5012734444678347, 0.873714940930968, 0.8791781096476358): 3066.285230088516, (0.1005920827980663, 0.34026290424751515, 0.33819290402506175, 0.8684393757224105): 4491.599259991853, (0.8103314586427907, 0.5101071880283343, 0.9667618181343984, 0.8333659967653602): 2779.9349764114845, (0.11868892765305505, 0.538929058985542, 0.1703443802576301, 0.6023520712556807): 2576.4198467011724, (0.28184454250527524, 0.6989817633972676, 0.624941694573397, 0.8157226829197802): 2575.4572528762887, (0.4020998685200563, 0.8992795994596404, 0.2582650267692497, 0.9545819957746468): 2536.1610176297927, (0.10005124876266625, 0.26455928161138853, 0.8654320202873822, 0.3482614080305685): 1754.7262932897545, (0.18969225385168031, 0.22437459008074812, 0.2582659827914402, 0.052617770320572466): 1281.8808601611304, (0.30659381171844136, 0.7815799741825361, 0.17727727826124817, 0.3885248137751419): 1537.6082719056274, (0.655713038311853, 0.33876192839087815, 0.9326753287489106, 0.5629841844288851): 2372.982021782976, (0.9547780554656432, 0.6170807386485553, 0.7228400052908123, 0.31651345530834374): 1798.144866114839, (0.5517051146617888, 0.41190478204187075, 0.10108431052699185, 0.3627622222879613): 2450.6893541561453, (0.8311831960558914, 0.9423940261537631, 0.5683058457299955, 0.4032954329873759): 1603.1040215472628, (0.11571790442025187, 0.06134933377994645, 0.42054189547687626, 0.22348250429548167): 2137.721997435538, (0.21534281429243896, 0.08583234293011044, 0.7212026277260974, 0.942663885891598): 4036.3432042828117, (0.5535312441141573, 0.33216948469757435, 0.1648578043311466, 0.2483541001720102): 2320.3129998100553, (0.942298790317156, 0.3605633284732358, 0.2521119907146806, 0.7923750910953629): 4788.769340178906, (0.39707153624093594, 0.02221501281713545, 0.07975101873735191, 0.10296512224294219): 5496.925897172581, (0.47165641471578224, 0.7953493551590951, 0.8402456401348447, 0.2765567740074105): 1393.7815911439316, (0.6283760434424637, 0.13312563116786125, 0.19571346562115088, 0.15087186995746782): 3049.5403422399604, (0.9268793661089956, 0.7022209432696973, 0.5810099231213253, 0.5446575671833817): 2220.4304789444427, (0.8880751745699573, 0.5843760944012584, 0.8577729042254464, 0.3444104072681571): 1804.7021380407357, (0.30706327078994666, 0.8339196793818067, 0.8781628201913153, 0.05295314318965805): 947.5615272128213, (0.8901233493699786, 0.060966845386210444, 0.2917008652465861, 0.9344040492491523): 9469.493070357983, (0.9692152974769609, 0.7776227220511903, 0.3635767343996744, 0.04497193378012676): 1070.378778145531, (0.27415734885176013, 0.347403910604115, 0.14162393028403564, 0.16371599729104613): 1635.401457458253, (0.34537483360982113, 0.22829458571390282, 0.7097769141487922, 0.46990085567744877): 2460.863300777452, (0.19584998385373864, 0.29411112357585933, 0.11109717118956319, 0.022951517689732803): 934.4343107843953, (0.01245846958389596, 0.9127632727054279, 0.86102135449804, 0.24070039801662302): 1153.4371539583176, (0.4082484365892709, 0.34461517468540537, 0.8100205299527371, 0.11211108824069504): 1271.5755965622652, (0.6386080483930359, 0.09850519315916684, 0.5676680475778929, 0.7665070313489155): 4414.273545068887, (0.5711215924145968, 0.3462783184984499, 0.9062592146985021, 0.36813060090537275): 1904.418499261941, (0.31891146514172175, 0.6403904060508505, 0.7048781608227874, 0.4302128793378509): 1817.156165517258, (0.6454447985439892, 0.8633147989073728, 0.6431139948128437, 0.7264829429034316): 2210.068028068097, (0.56896816021376, 0.26676839252052464, 0.2849075866129437, 0.837507670957629): 5615.883807626588, (0.5163344796200283, 0.8683710568100304, 0.9206535260350633, 0.9587762419979448): 2452.922123424218, (0.37287554725324545, 0.5368856368712347, 0.05786001224302617, 0.9630100468290188): 3838.9579309024575, (0.6445227954963952, 0.21112938550804983, 0.04886385495793544, 0.41555002357271786): 4772.718183355455, (0.7247744095038406, 0.5194688559885178, 0.9247214237728908, 0.5761868506873101): 2254.9604809745, (0.6326965778623048, 0.3661432386838108, 0.23509106893610054, 0.42078595269018804): 2956.3410060135825, (0.83875757840535, 0.9495483419314065, 0.8433660174940374, 0.41696411239885445): 1606.4803098667537, (0.7806475833522528, 0.523885313122799, 0.15494335780816904, 0.5102473213837315): 2656.5807458933828, (0.2939049778496772, 0.0910166739872128, 0.9076422525034697, 0.1783248722609414): 1327.8693143309324, (0.2765906448301527, 0.4248199606977553, 0.637326330370311, 0.06360533545391678): 1109.6242886814966, (0.5308572176385861, 0.26692438057300094, 0.10520315722815565, 0.05920789455546194): 1517.8483252703236, (0.05685017531648007, 0.7221588789352693, 0.2093862081745419, 0.5474201151319668): 1920.9447936657416, (0.9147851036866788, 0.285313273365868, 0.9895547112185316, 0.32900050532439806): 1878.5997112737123, (0.410143847594445, 0.8722252636737219, 0.9586481493715558, 0.9464734937814732): 2382.9289151743114, (0.21359646691049317, 0.774765622500564, 0.7397568108557452, 0.30197325037279943): 1393.7542987615527, (0.4738479836506573, 0.2451237449222149, 0.21634689194415413, 0.31334732744410465): 3088.0976742671146, (0.1708880220280925, 0.34781622207286544, 0.370689801333553, 0.9487944634420185): 4698.051442769144, (0.876598791015001, 0.4059112381576935, 0.6050574187968778, 0.376557132721715): 2321.386657649453, (0.9576959114116491, 0.33447301383145, 0.549242338260725, 0.6105288349015743): 3393.9380504412056, (0.6207949827283031, 0.023000857502798344, 0.5691510048530077, 0.05452615131012439): 1335.7074579486193, (0.310593230731358, 0.2175347767680621, 0.6520401280412436, 0.1280531701439559): 1406.5566153102188, (0.7936916348868513, 0.30928149237161817, 0.03241902909578642, 0.8927461326765319): 6238.123781067351, (0.9744556741431524, 0.04085606024216315, 0.5162326085645602, 0.38845216308594377): 3266.3176385557663, (0.002293367668299018, 0.9385040032653678, 0.6822985502453953, 0.5991919651353742): 1723.0982248070034, (0.5593080944874205, 0.597043796299574, 0.9724363785801188, 0.8697404766106064): 2649.4169501031415, (0.035660935425358975, 0.873669362056405, 0.8877644456216843, 0.04475044214696311): 857.6697005536188, (0.2521592404131797, 0.8964744161625059, 0.21209885120148508, 0.6831561340345063): 1968.8855281204615, (0.9673635045055633, 0.42947636995955896, 0.01670801899440144, 0.02201951706569738): 1178.968773839143, (0.10673319224450872, 0.4376148224542702, 0.39119516480930394, 0.7174444958802292): 3238.85236662907, (0.404436332489016, 0.6739711806951336, 0.3767823099583647, 0.939725653462123): 3105.0471840805476, (0.5505317529916094, 0.047068826740703895, 0.05146117753982005, 0.0060340435691805805): 3404.6309733781104, (0.22207574725869883, 0.04807444654357884, 0.698790419587286, 0.43952762377491406): 2376.9269814342874, (0.5045064344643982, 0.7081786985716659, 0.7121396505002532, 0.0030842762758881426): 934.2620222611938, (0.11618504344157687, 0.1468300616135828, 0.06989547697528142, 0.19522056726596582): 3067.7633267898404, (0.5268531000497746, 0.3314033435107374, 0.5629194058714402, 0.1471252812202546): 1582.8475659796686, (0.7363646044426038, 0.14701345165216706, 0.2201085266946502, 0.14877321485684836): 2935.795418248483, (0.10724147138801343, 0.6288296276846267, 0.9266750742655975, 0.43899296360953566): 1688.121002823642, (0.30881653496114436, 0.7075781644102059, 0.7212432427320433, 0.9804065193513167): 2837.127084865869, (0.059239802229541394, 0.5178372588869148, 0.8557772818666817, 0.9809623095157363): 2991.530933430146, (0.2447302070084807, 0.6943764106622593, 0.8926329322215255, 0.15070682883476372): 1151.021019235183, (0.2388048786311452, 0.1304002076324523, 0.06605512369461564, 0.4171423836266184): 6399.215936167306, (0.49460314337847344, 0.6915660435089973, 0.7072420590856913, 0.193938477422396): 1327.5723543079005, (0.023350513881679302, 0.15304339341772988, 0.16852238578984646, 0.6753437374488727): 6910.894978136982, (0.8829024991089294, 0.40384995257238254, 0.4740507173163374, 0.4538326553605154): 2749.862267663991, (0.7419483387678226, 0.8991539819442228, 0.26271926796230594, 0.7833990188402414): 2308.374068414142, (0.13927189693084108, 0.09770989429377475, 0.24863358993358453, 0.5566384416612092): 5840.166488070292, (0.2546261313164836, 0.7733458996725996, 0.13244387004078462, 0.7274038867020743): 2273.981811867535, (0.9169249130650858, 0.5699546368105476, 0.6870137493892384, 0.5884234683234141): 2493.443695640934, (0.2271191471328562, 0.09209943613564864, 0.8161640420251617, 0.3643448106359465): 1926.8555056186938, (0.0814094628558254, 0.8233927969776577, 0.6747897062939636, 0.2811469213185732): 1286.3322959855286, (0.6118649828239994, 0.7741299340974019, 0.9100711413325883, 0.498084396130291): 1819.0433613618538, (0.8354864062934098, 0.8380831088146149, 0.4201400041188038, 0.9192668399169133): 2729.41683262417, (0.16979370458310894, 0.9036751873433264, 0.8614255823450302, 0.250452549426203): 1211.2204814843014, (0.18824730760592168, 0.18789108777865293, 0.9166266737739411, 0.5475844719062315): 2266.5243813640895, (0.7201986757473027, 0.042247222645581006, 0.7409280212501733, 0.942978814149944): 4203.949920720808, (0.40450569053652563, 0.7556368039062157, 0.07040730776378423, 0.9252458555860953): 2798.9083821384447, (0.3520329097081242, 0.2467107928928598, 0.6950860885418023, 0.6475520689476124): 3039.1654391736724, (0.39461456190514776, 0.8542971478537624, 0.055328068570838496, 0.4095851554162788): 1466.8319083713068, (0.794796283926429, 0.39547497147761523, 0.6964181413275043, 0.07313123600396954): 1352.9630905918998, (0.8282174344374594, 0.41287348712784755, 0.38898133402156243, 0.8649516773929798): 4258.224698496986, (0.6846516161871561, 0.35394309406274216, 0.7350814111106094, 0.43361727427360974): 2313.3412181202075, (0.2136545760316051, 0.6955740758482506, 0.5253614043299564, 0.5282120010056978): 1978.3765298355531, (0.22010066793683525, 0.5988409640858948, 0.06635999531774583, 0.4091109316799356): 1816.1398423896292, (0.8392144027680909, 0.3392972201732004, 0.6586008024740605, 0.8704490149552971): 3847.6623711099805, (0.8009571094186918, 0.34980020938530865, 0.2005326682728007, 0.1548797745138074): 1970.4821621266178, (0.8192278027760461, 0.9476700768106522, 0.7615570668053104, 0.28259976836924494): 1395.9567972243765, (0.01066004929807951, 0.474050306718401, 0.9402679775609808, 0.9394973627145018): 2836.459513969957, (0.10058712313144669, 0.11691854254571765, 0.00897189790956976, 0.37634844238151266): 6364.086473398218, (0.36169335509117273, 0.8317895231570123, 0.8986622902296733, 0.2018302938261609): 1212.1452535091157, (0.6588620180443181, 0.06680664186988317, 0.2522797790269301, 0.7706232270367543): 8784.224759969908, (0.7454737500794401, 0.5443049692297816, 0.3185332752947956, 0.08000286605659546): 1267.1349098602764, (0.5754151814538453, 0.5374436353462885, 0.5050089678090489, 0.5926939846713727): 2608.8593749567835, (0.9205040617169155, 0.735189455849575, 0.9874418983478469, 0.24023103489585684): 1458.962432330365, (0.08874126565341178, 0.49363059704300283, 0.18651572602537103, 0.5579400962227535): 2589.6203002665784, (0.16681145567850086, 0.37363820729580954, 0.9227878534158269, 0.06833389309145654): 1032.8674319144886, (0.7275332923549981, 0.65322772024775, 0.9675797430692205, 0.21583107849043937): 1413.599117632626, (0.6278264709389774, 0.013945731113492843, 0.5064469008810671, 0.12790763136023875): 1771.4210505477338, (0.6347245339012889, 0.5438974324296907, 0.4481748132806914, 0.2099527654923623): 1597.3557331453596, (0.48558705793316026, 0.4600835323051248, 0.12590175573327556, 0.6733922712514043): 3383.111498295114, (0.18575962478022212, 0.35020143513896285, 0.09667918691124078, 0.029321944418097545): 876.9386201461816, (0.48120029055735325, 0.9244488565580553, 0.11504360547894188, 0.6126509070768671): 1825.6607590197327, (0.3376547430222887, 0.27422917696585836, 0.6353620989276871, 0.8304881279585254): 3747.9079304655497}\n"
     ]
    },
    {
     "ename": "AttributeError",
     "evalue": "'NoneType' object has no attribute 'items'",
     "output_type": "error",
     "traceback": [
      "\u001b[1;31m---------------------------------------------------------------------------\u001b[0m",
      "\u001b[1;31mAttributeError\u001b[0m                            Traceback (most recent call last)",
      "\u001b[1;32mc:\\Users\\schauhan2\\OneDrive - Cherry Creek School District\\Desktop\\Github Folder\\CCIC_DS1\\Machine Learning\\Multiple Regression (Manhattan Rents).ipynb Cell 19\u001b[0m in \u001b[0;36m<cell line: 2>\u001b[1;34m()\u001b[0m\n\u001b[0;32m      <a href='vscode-notebook-cell:/c%3A/Users/schauhan2/OneDrive%20-%20Cherry%20Creek%20School%20District/Desktop/Github%20Folder/CCIC_DS1/Machine%20Learning/Multiple%20Regression%20%28Manhattan%20Rents%29.ipynb#X24sZmlsZQ%3D%3D?line=0'>1</a>\u001b[0m \u001b[39m#trainMultipleRegression(train) # prediction = 0.2777 + (0.8307*x1) + (0.1720759717986725*x2) +(0.7122126767352882 *x3)\u001b[39;00m\n\u001b[1;32m----> <a href='vscode-notebook-cell:/c%3A/Users/schauhan2/OneDrive%20-%20Cherry%20Creek%20School%20District/Desktop/Github%20Folder/CCIC_DS1/Machine%20Learning/Multiple%20Regression%20%28Manhattan%20Rents%29.ipynb#X24sZmlsZQ%3D%3D?line=1'>2</a>\u001b[0m \u001b[39mdict\u001b[39m(\u001b[39msorted\u001b[39m(trainMultipleRegression(train)\u001b[39m.\u001b[39;49mitems(), key\u001b[39m=\u001b[39m\u001b[39mlambda\u001b[39;00m item: item[\u001b[39m1\u001b[39m]))\n",
      "\u001b[1;31mAttributeError\u001b[0m: 'NoneType' object has no attribute 'items'"
     ]
    }
   ],
   "source": [
    "#trainMultipleRegression(train) # prediction = 0.2777 + (0.8307*x1) + (0.1720759717986725*x2) +(0.7122126767352882 *x3)\n",
    "dict(sorted(trainMultipleRegression(train).items(), key=lambda item: item[1]))"
   ]
  },
  {
   "cell_type": "code",
   "execution_count": 138,
   "id": "3e371436",
   "metadata": {},
   "outputs": [
    {
     "name": "stdout",
     "output_type": "stream",
     "text": [
      "{0: 0, 1: 32, 2: 45, 3: 2, 4: 91, 5: 82, 6: 6, 7: 83, 8: 77, 9: 82}\n",
      "0\n",
      "0\n"
     ]
    }
   ],
   "source": [
    "slope = {}\n",
    "for i in range(10):\n",
    "    sum = random.randint(0,100)\n",
    "    slope[i] = sum\n",
    "\n",
    "temp = min(slope.values())\n",
    "\n",
    "keys=list(slope.keys())  #in python 3, you'll need `list(i.keys())`\n",
    "values=list(slope.values())\n",
    "\n",
    "print(slope)\n",
    "print(temp)\n",
    "print(keys[values.index(temp)])\n"
   ]
  },
  {
   "cell_type": "code",
   "execution_count": 140,
   "id": "52f2260d",
   "metadata": {},
   "outputs": [
    {
     "name": "stdout",
     "output_type": "stream",
     "text": [
      "0.9504042594135843\n"
     ]
    }
   ],
   "source": [
    "\n",
    "\n",
    "prediction = 0.2777 + (0.8307*0.384) + (0.1720759717986725*0.4) +(0.7122126767352882 *0.4)\n",
    "\n",
    "print(prediction)"
   ]
  },
  {
   "cell_type": "code",
   "execution_count": null,
   "id": "0762d01d",
   "metadata": {},
   "outputs": [],
   "source": []
  }
 ],
 "metadata": {
  "kernelspec": {
   "display_name": "base",
   "language": "python",
   "name": "python3"
  },
  "language_info": {
   "codemirror_mode": {
    "name": "ipython",
    "version": 3
   },
   "file_extension": ".py",
   "mimetype": "text/x-python",
   "name": "python",
   "nbconvert_exporter": "python",
   "pygments_lexer": "ipython3",
   "version": "3.9.12"
  },
  "vscode": {
   "interpreter": {
    "hash": "c7dc9fe095de68ace368b65ab3dbfe5f48830e7110a46f0deecf8b3332d4184d"
   }
  }
 },
 "nbformat": 4,
 "nbformat_minor": 5
}
