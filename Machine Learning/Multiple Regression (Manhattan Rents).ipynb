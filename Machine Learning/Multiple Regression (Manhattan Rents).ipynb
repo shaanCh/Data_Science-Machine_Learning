{
 "cells": [
  {
   "cell_type": "code",
   "execution_count": 32,
   "id": "cd8915f1",
   "metadata": {},
   "outputs": [],
   "source": [
    "import pandas as pd\n",
    "import seaborn as sns\n",
    "import matplotlib.pyplot as plt\n",
    "import math\n",
    "import random\n"
   ]
  },
  {
   "cell_type": "code",
   "execution_count": 33,
   "id": "a948c781",
   "metadata": {},
   "outputs": [
    {
     "name": "stdout",
     "output_type": "stream",
     "text": [
      "rental_id           2172.0\n",
      "rent                3000.0\n",
      "bedrooms               0.5\n",
      "bathrooms              1.0\n",
      "size_sqft            573.0\n",
      "min_to_subway         11.0\n",
      "floor                  8.0\n",
      "building_age_yrs      31.0\n",
      "Name: 20, dtype: float64\n"
     ]
    }
   ],
   "source": [
    "df = pd.read_csv(\"manhattan_rents.csv\")\n",
    "print(df.iloc[20])"
   ]
  },
  {
   "cell_type": "code",
   "execution_count": 34,
   "id": "6dd1e3c7",
   "metadata": {},
   "outputs": [
    {
     "data": {
      "text/plain": [
       "rental_id             int64\n",
       "rent                float64\n",
       "bedrooms            float64\n",
       "bathrooms             int64\n",
       "size_sqft           float64\n",
       "min_to_subway         int64\n",
       "floor               float64\n",
       "building_age_yrs      int64\n",
       "dtype: object"
      ]
     },
     "execution_count": 34,
     "metadata": {},
     "output_type": "execute_result"
    }
   ],
   "source": [
    "df.dtypes"
   ]
  },
  {
   "cell_type": "code",
   "execution_count": 35,
   "id": "0df75ad6",
   "metadata": {},
   "outputs": [],
   "source": [
    "#dropping the rows with null values\n",
    "#then converting floats into int \n",
    "#dropped rental ID column\n",
    "\n",
    "\n",
    "df.dropna(axis=0, inplace=True)\n",
    "df['bedrooms']=df['bedrooms'].astype(int)\n",
    "df.drop(['rental_id'], axis=1, inplace=True)"
   ]
  },
  {
   "cell_type": "code",
   "execution_count": 36,
   "id": "d830d725",
   "metadata": {},
   "outputs": [
    {
     "name": "stdout",
     "output_type": "stream",
     "text": [
      "         rent  bedrooms  bathrooms  size_sqft  min_to_subway  floor  \\\n",
      "0      2550.0         0          1      480.0              9    2.0   \n",
      "1     11500.0         2          2     2000.0              4    1.0   \n",
      "2      4500.0         1          1      916.0              2   51.0   \n",
      "3      4795.0         1          1      975.0              3    8.0   \n",
      "4     17500.0         2          2     4800.0              3    4.0   \n",
      "...       ...       ...        ...        ...            ...    ...   \n",
      "3534   4210.0         1          1      532.0              3    8.0   \n",
      "3535   6675.0         2          2      988.0              5   10.0   \n",
      "3536   1699.0         0          1      250.0              2    5.0   \n",
      "3537   3475.0         1          1      651.0              6    5.0   \n",
      "3538   4500.0         1          1      816.0              4   11.0   \n",
      "\n",
      "      building_age_yrs  \n",
      "0                   17  \n",
      "1                   96  \n",
      "2                   29  \n",
      "3                   31  \n",
      "4                  136  \n",
      "...                ...  \n",
      "3534                16  \n",
      "3535                 9  \n",
      "3536                96  \n",
      "3537                14  \n",
      "3538                 9  \n",
      "\n",
      "[3536 rows x 7 columns]\n"
     ]
    }
   ],
   "source": [
    "print(df)"
   ]
  },
  {
   "cell_type": "code",
   "execution_count": 37,
   "id": "e170276e",
   "metadata": {},
   "outputs": [
    {
     "name": "stdout",
     "output_type": "stream",
     "text": [
      "<class 'pandas.core.frame.DataFrame'>\n",
      "Int64Index: 3536 entries, 0 to 3538\n",
      "Data columns (total 7 columns):\n",
      " #   Column            Non-Null Count  Dtype  \n",
      "---  ------            --------------  -----  \n",
      " 0   rent              3536 non-null   float64\n",
      " 1   bedrooms          3536 non-null   int32  \n",
      " 2   bathrooms         3536 non-null   int64  \n",
      " 3   size_sqft         3536 non-null   float64\n",
      " 4   min_to_subway     3536 non-null   int64  \n",
      " 5   floor             3536 non-null   float64\n",
      " 6   building_age_yrs  3536 non-null   int64  \n",
      "dtypes: float64(3), int32(1), int64(3)\n",
      "memory usage: 207.2 KB\n"
     ]
    }
   ],
   "source": [
    "df.info()"
   ]
  },
  {
   "cell_type": "code",
   "execution_count": 38,
   "id": "0003b2bd",
   "metadata": {},
   "outputs": [
    {
     "data": {
      "text/html": [
       "<div>\n",
       "<style scoped>\n",
       "    .dataframe tbody tr th:only-of-type {\n",
       "        vertical-align: middle;\n",
       "    }\n",
       "\n",
       "    .dataframe tbody tr th {\n",
       "        vertical-align: top;\n",
       "    }\n",
       "\n",
       "    .dataframe thead th {\n",
       "        text-align: right;\n",
       "    }\n",
       "</style>\n",
       "<table border=\"1\" class=\"dataframe\">\n",
       "  <thead>\n",
       "    <tr style=\"text-align: right;\">\n",
       "      <th></th>\n",
       "      <th>rent</th>\n",
       "      <th>bedrooms</th>\n",
       "      <th>bathrooms</th>\n",
       "      <th>size_sqft</th>\n",
       "      <th>min_to_subway</th>\n",
       "      <th>floor</th>\n",
       "      <th>building_age_yrs</th>\n",
       "    </tr>\n",
       "  </thead>\n",
       "  <tbody>\n",
       "    <tr>\n",
       "      <th>count</th>\n",
       "      <td>3536.000000</td>\n",
       "      <td>3536.000000</td>\n",
       "      <td>3536.000000</td>\n",
       "      <td>3536.000000</td>\n",
       "      <td>3536.000000</td>\n",
       "      <td>3536.000000</td>\n",
       "      <td>3536.000000</td>\n",
       "    </tr>\n",
       "    <tr>\n",
       "      <th>mean</th>\n",
       "      <td>5139.029977</td>\n",
       "      <td>1.345871</td>\n",
       "      <td>1.366799</td>\n",
       "      <td>939.841346</td>\n",
       "      <td>4.972002</td>\n",
       "      <td>11.909078</td>\n",
       "      <td>52.011312</td>\n",
       "    </tr>\n",
       "    <tr>\n",
       "      <th>std</th>\n",
       "      <td>3164.100385</td>\n",
       "      <td>0.969988</td>\n",
       "      <td>0.599685</td>\n",
       "      <td>478.102754</td>\n",
       "      <td>5.515729</td>\n",
       "      <td>10.965099</td>\n",
       "      <td>39.390748</td>\n",
       "    </tr>\n",
       "    <tr>\n",
       "      <th>min</th>\n",
       "      <td>1300.000000</td>\n",
       "      <td>0.000000</td>\n",
       "      <td>0.000000</td>\n",
       "      <td>250.000000</td>\n",
       "      <td>0.000000</td>\n",
       "      <td>0.000000</td>\n",
       "      <td>0.000000</td>\n",
       "    </tr>\n",
       "    <tr>\n",
       "      <th>25%</th>\n",
       "      <td>3150.000000</td>\n",
       "      <td>1.000000</td>\n",
       "      <td>1.000000</td>\n",
       "      <td>612.750000</td>\n",
       "      <td>2.000000</td>\n",
       "      <td>4.000000</td>\n",
       "      <td>15.000000</td>\n",
       "    </tr>\n",
       "    <tr>\n",
       "      <th>50%</th>\n",
       "      <td>4000.000000</td>\n",
       "      <td>1.000000</td>\n",
       "      <td>1.000000</td>\n",
       "      <td>800.000000</td>\n",
       "      <td>4.000000</td>\n",
       "      <td>8.000000</td>\n",
       "      <td>39.000000</td>\n",
       "    </tr>\n",
       "    <tr>\n",
       "      <th>75%</th>\n",
       "      <td>6000.000000</td>\n",
       "      <td>2.000000</td>\n",
       "      <td>2.000000</td>\n",
       "      <td>1141.500000</td>\n",
       "      <td>6.000000</td>\n",
       "      <td>17.000000</td>\n",
       "      <td>90.000000</td>\n",
       "    </tr>\n",
       "    <tr>\n",
       "      <th>max</th>\n",
       "      <td>20000.000000</td>\n",
       "      <td>5.000000</td>\n",
       "      <td>5.000000</td>\n",
       "      <td>4800.000000</td>\n",
       "      <td>43.000000</td>\n",
       "      <td>83.000000</td>\n",
       "      <td>180.000000</td>\n",
       "    </tr>\n",
       "  </tbody>\n",
       "</table>\n",
       "</div>"
      ],
      "text/plain": [
       "               rent     bedrooms    bathrooms    size_sqft  min_to_subway  \\\n",
       "count   3536.000000  3536.000000  3536.000000  3536.000000    3536.000000   \n",
       "mean    5139.029977     1.345871     1.366799   939.841346       4.972002   \n",
       "std     3164.100385     0.969988     0.599685   478.102754       5.515729   \n",
       "min     1300.000000     0.000000     0.000000   250.000000       0.000000   \n",
       "25%     3150.000000     1.000000     1.000000   612.750000       2.000000   \n",
       "50%     4000.000000     1.000000     1.000000   800.000000       4.000000   \n",
       "75%     6000.000000     2.000000     2.000000  1141.500000       6.000000   \n",
       "max    20000.000000     5.000000     5.000000  4800.000000      43.000000   \n",
       "\n",
       "             floor  building_age_yrs  \n",
       "count  3536.000000       3536.000000  \n",
       "mean     11.909078         52.011312  \n",
       "std      10.965099         39.390748  \n",
       "min       0.000000          0.000000  \n",
       "25%       4.000000         15.000000  \n",
       "50%       8.000000         39.000000  \n",
       "75%      17.000000         90.000000  \n",
       "max      83.000000        180.000000  "
      ]
     },
     "execution_count": 38,
     "metadata": {},
     "output_type": "execute_result"
    }
   ],
   "source": [
    "df.describe()"
   ]
  },
  {
   "cell_type": "code",
   "execution_count": 39,
   "id": "4f6e5b60",
   "metadata": {},
   "outputs": [],
   "source": [
    "adj_rents = []\n",
    "for row in range(len(df.index)):\n",
    "    if df.iat[row,1]==0:\n",
    "        adj_rents.append(df.iat[row,0])\n",
    "    else:\n",
    "        adj_rents.append(df.iat[row, 0]/ df.iat[row,1])\n",
    "        \n",
    "df['adj_rents'] = adj_rents"
   ]
  },
  {
   "cell_type": "code",
   "execution_count": 40,
   "id": "a2b013f8",
   "metadata": {},
   "outputs": [
    {
     "data": {
      "text/plain": [
       "0       2550.0\n",
       "1       5750.0\n",
       "2       4500.0\n",
       "3       4795.0\n",
       "4       8750.0\n",
       "         ...  \n",
       "3534    4210.0\n",
       "3535    3337.5\n",
       "3536    1699.0\n",
       "3537    3475.0\n",
       "3538    4500.0\n",
       "Name: adj_rents, Length: 3536, dtype: float64"
      ]
     },
     "execution_count": 40,
     "metadata": {},
     "output_type": "execute_result"
    }
   ],
   "source": [
    "df['adj_rents']"
   ]
  },
  {
   "cell_type": "code",
   "execution_count": 41,
   "id": "f4e75b82",
   "metadata": {},
   "outputs": [
    {
     "data": {
      "text/html": [
       "<div>\n",
       "<style scoped>\n",
       "    .dataframe tbody tr th:only-of-type {\n",
       "        vertical-align: middle;\n",
       "    }\n",
       "\n",
       "    .dataframe tbody tr th {\n",
       "        vertical-align: top;\n",
       "    }\n",
       "\n",
       "    .dataframe thead th {\n",
       "        text-align: right;\n",
       "    }\n",
       "</style>\n",
       "<table border=\"1\" class=\"dataframe\">\n",
       "  <thead>\n",
       "    <tr style=\"text-align: right;\">\n",
       "      <th></th>\n",
       "      <th>rent</th>\n",
       "      <th>bedrooms</th>\n",
       "      <th>bathrooms</th>\n",
       "      <th>size_sqft</th>\n",
       "      <th>min_to_subway</th>\n",
       "      <th>floor</th>\n",
       "      <th>building_age_yrs</th>\n",
       "      <th>adj_rents</th>\n",
       "    </tr>\n",
       "  </thead>\n",
       "  <tbody>\n",
       "    <tr>\n",
       "      <th>count</th>\n",
       "      <td>3536.000000</td>\n",
       "      <td>3536.000000</td>\n",
       "      <td>3536.000000</td>\n",
       "      <td>3536.000000</td>\n",
       "      <td>3536.000000</td>\n",
       "      <td>3536.000000</td>\n",
       "      <td>3536.000000</td>\n",
       "      <td>3536.000000</td>\n",
       "    </tr>\n",
       "    <tr>\n",
       "      <th>mean</th>\n",
       "      <td>5139.029977</td>\n",
       "      <td>1.345871</td>\n",
       "      <td>1.366799</td>\n",
       "      <td>939.841346</td>\n",
       "      <td>4.972002</td>\n",
       "      <td>11.909078</td>\n",
       "      <td>52.011312</td>\n",
       "      <td>3475.162184</td>\n",
       "    </tr>\n",
       "    <tr>\n",
       "      <th>std</th>\n",
       "      <td>3164.100385</td>\n",
       "      <td>0.969988</td>\n",
       "      <td>0.599685</td>\n",
       "      <td>478.102754</td>\n",
       "      <td>5.515729</td>\n",
       "      <td>10.965099</td>\n",
       "      <td>39.390748</td>\n",
       "      <td>1384.649774</td>\n",
       "    </tr>\n",
       "    <tr>\n",
       "      <th>min</th>\n",
       "      <td>1300.000000</td>\n",
       "      <td>0.000000</td>\n",
       "      <td>0.000000</td>\n",
       "      <td>250.000000</td>\n",
       "      <td>0.000000</td>\n",
       "      <td>0.000000</td>\n",
       "      <td>0.000000</td>\n",
       "      <td>775.000000</td>\n",
       "    </tr>\n",
       "    <tr>\n",
       "      <th>25%</th>\n",
       "      <td>3150.000000</td>\n",
       "      <td>1.000000</td>\n",
       "      <td>1.000000</td>\n",
       "      <td>612.750000</td>\n",
       "      <td>2.000000</td>\n",
       "      <td>4.000000</td>\n",
       "      <td>15.000000</td>\n",
       "      <td>2595.000000</td>\n",
       "    </tr>\n",
       "    <tr>\n",
       "      <th>50%</th>\n",
       "      <td>4000.000000</td>\n",
       "      <td>1.000000</td>\n",
       "      <td>1.000000</td>\n",
       "      <td>800.000000</td>\n",
       "      <td>4.000000</td>\n",
       "      <td>8.000000</td>\n",
       "      <td>39.000000</td>\n",
       "      <td>3325.000000</td>\n",
       "    </tr>\n",
       "    <tr>\n",
       "      <th>75%</th>\n",
       "      <td>6000.000000</td>\n",
       "      <td>2.000000</td>\n",
       "      <td>2.000000</td>\n",
       "      <td>1141.500000</td>\n",
       "      <td>6.000000</td>\n",
       "      <td>17.000000</td>\n",
       "      <td>90.000000</td>\n",
       "      <td>4051.250000</td>\n",
       "    </tr>\n",
       "    <tr>\n",
       "      <th>max</th>\n",
       "      <td>20000.000000</td>\n",
       "      <td>5.000000</td>\n",
       "      <td>5.000000</td>\n",
       "      <td>4800.000000</td>\n",
       "      <td>43.000000</td>\n",
       "      <td>83.000000</td>\n",
       "      <td>180.000000</td>\n",
       "      <td>13500.000000</td>\n",
       "    </tr>\n",
       "  </tbody>\n",
       "</table>\n",
       "</div>"
      ],
      "text/plain": [
       "               rent     bedrooms    bathrooms    size_sqft  min_to_subway  \\\n",
       "count   3536.000000  3536.000000  3536.000000  3536.000000    3536.000000   \n",
       "mean    5139.029977     1.345871     1.366799   939.841346       4.972002   \n",
       "std     3164.100385     0.969988     0.599685   478.102754       5.515729   \n",
       "min     1300.000000     0.000000     0.000000   250.000000       0.000000   \n",
       "25%     3150.000000     1.000000     1.000000   612.750000       2.000000   \n",
       "50%     4000.000000     1.000000     1.000000   800.000000       4.000000   \n",
       "75%     6000.000000     2.000000     2.000000  1141.500000       6.000000   \n",
       "max    20000.000000     5.000000     5.000000  4800.000000      43.000000   \n",
       "\n",
       "             floor  building_age_yrs     adj_rents  \n",
       "count  3536.000000       3536.000000   3536.000000  \n",
       "mean     11.909078         52.011312   3475.162184  \n",
       "std      10.965099         39.390748   1384.649774  \n",
       "min       0.000000          0.000000    775.000000  \n",
       "25%       4.000000         15.000000   2595.000000  \n",
       "50%       8.000000         39.000000   3325.000000  \n",
       "75%      17.000000         90.000000   4051.250000  \n",
       "max      83.000000        180.000000  13500.000000  "
      ]
     },
     "execution_count": 41,
     "metadata": {},
     "output_type": "execute_result"
    }
   ],
   "source": [
    "df.describe()"
   ]
  },
  {
   "cell_type": "code",
   "execution_count": 42,
   "id": "6e61af40",
   "metadata": {},
   "outputs": [
    {
     "name": "stdout",
     "output_type": "stream",
     "text": [
      "          rent  bedrooms  bathrooms  size_sqft  min_to_subway     floor  \\\n",
      "0     0.066845       0.0        0.2   0.050549       0.209302  0.024096   \n",
      "1     0.545455       0.4        0.4   0.384615       0.093023  0.012048   \n",
      "2     0.171123       0.2        0.2   0.146374       0.046512  0.614458   \n",
      "3     0.186898       0.2        0.2   0.159341       0.069767  0.096386   \n",
      "4     0.866310       0.4        0.4   1.000000       0.069767  0.048193   \n",
      "...        ...       ...        ...        ...            ...       ...   \n",
      "3534  0.155615       0.2        0.2   0.061978       0.069767  0.096386   \n",
      "3535  0.287433       0.4        0.4   0.162198       0.116279  0.120482   \n",
      "3536  0.021337       0.0        0.2   0.000000       0.046512  0.060241   \n",
      "3537  0.116310       0.2        0.2   0.088132       0.139535  0.060241   \n",
      "3538  0.171123       0.2        0.2   0.124396       0.093023  0.132530   \n",
      "\n",
      "      building_age_yrs  adj_rents  \n",
      "0             0.094444   0.139489  \n",
      "1             0.533333   0.390963  \n",
      "2             0.161111   0.292731  \n",
      "3             0.172222   0.315914  \n",
      "4             0.755556   0.626719  \n",
      "...                ...        ...  \n",
      "3534          0.088889   0.269941  \n",
      "3535          0.050000   0.201375  \n",
      "3536          0.533333   0.072613  \n",
      "3537          0.077778   0.212181  \n",
      "3538          0.050000   0.292731  \n",
      "\n",
      "[3536 rows x 8 columns]\n"
     ]
    }
   ],
   "source": [
    "#Data Normalization: Min-Max scaling\n",
    "#This turns all the values into a number between 0 and 1\n",
    "\n",
    "# copy the data\n",
    "dfmms = df.copy()\n",
    "  \n",
    "# apply normalization techniques\n",
    "for column in dfmms.columns:\n",
    "    dfmms[column] = (dfmms[column] - dfmms[column].min()) / (dfmms[column].max() - dfmms[column].min())    \n",
    "  \n",
    "# view normalized data\n",
    "print(dfmms)"
   ]
  },
  {
   "cell_type": "code",
   "execution_count": 43,
   "id": "3d8d6f77",
   "metadata": {},
   "outputs": [
    {
     "name": "stdout",
     "output_type": "stream",
     "text": [
      "                      rent  bedrooms  bathrooms  size_sqft  min_to_subway  \\\n",
      "rent              1.000000  0.637936   0.769562   0.857981       0.035131   \n",
      "bedrooms          0.637936  1.000000   0.720436   0.769800       0.076045   \n",
      "bathrooms         0.769562  0.720436   1.000000   0.803641       0.086833   \n",
      "size_sqft         0.857981  0.769800   0.803641   1.000000       0.039339   \n",
      "min_to_subway     0.035131  0.076045   0.086833   0.039339       1.000000   \n",
      "floor             0.215904  0.043824   0.128004   0.107194       0.082435   \n",
      "building_age_yrs -0.128892  0.033770  -0.095453   0.014408      -0.184811   \n",
      "adj_rents         0.572582 -0.063157   0.147136   0.318212      -0.060081   \n",
      "\n",
      "                     floor  building_age_yrs  adj_rents  \n",
      "rent              0.215904         -0.128892   0.572582  \n",
      "bedrooms          0.043824          0.033770  -0.063157  \n",
      "bathrooms         0.128004         -0.095453   0.147136  \n",
      "size_sqft         0.107194          0.014408   0.318212  \n",
      "min_to_subway     0.082435         -0.184811  -0.060081  \n",
      "floor             1.000000         -0.389468   0.264232  \n",
      "building_age_yrs -0.389468          1.000000  -0.230870  \n",
      "adj_rents         0.264232         -0.230870   1.000000  \n"
     ]
    },
    {
     "data": {
      "text/plain": [
       "<AxesSubplot:>"
      ]
     },
     "execution_count": 43,
     "metadata": {},
     "output_type": "execute_result"
    },
    {
     "data": {
      "image/png": "[encoded data removed]",
      "text/plain": [
       "<Figure size 1080x720 with 2 Axes>"
      ]
     },
     "metadata": {
      "needs_background": "light"
     },
     "output_type": "display_data"
    }
   ],
   "source": [
    "#Finding the correlations between the features and the target\n",
    "#Any value closer to 1 has a large correlation between those 2 features\n",
    "\n",
    "cor = df.corr()\n",
    "print(cor)\n",
    "plt.figure(figsize= (15,10))\n",
    "sns.heatmap(cor, annot=True)"
   ]
  },
  {
   "cell_type": "code",
   "execution_count": 44,
   "id": "e448bb93",
   "metadata": {},
   "outputs": [
    {
     "data": {
      "text/html": [
       "<div>\n",
       "<style scoped>\n",
       "    .dataframe tbody tr th:only-of-type {\n",
       "        vertical-align: middle;\n",
       "    }\n",
       "\n",
       "    .dataframe tbody tr th {\n",
       "        vertical-align: top;\n",
       "    }\n",
       "\n",
       "    .dataframe thead th {\n",
       "        text-align: right;\n",
       "    }\n",
       "</style>\n",
       "<table border=\"1\" class=\"dataframe\">\n",
       "  <thead>\n",
       "    <tr style=\"text-align: right;\">\n",
       "      <th></th>\n",
       "      <th>size_sqft</th>\n",
       "      <th>bathrooms</th>\n",
       "      <th>bedrooms</th>\n",
       "      <th>rent</th>\n",
       "    </tr>\n",
       "  </thead>\n",
       "  <tbody>\n",
       "    <tr>\n",
       "      <th>0</th>\n",
       "      <td>0.050549</td>\n",
       "      <td>0.2</td>\n",
       "      <td>0.0</td>\n",
       "      <td>0.066845</td>\n",
       "    </tr>\n",
       "    <tr>\n",
       "      <th>1</th>\n",
       "      <td>0.384615</td>\n",
       "      <td>0.4</td>\n",
       "      <td>0.4</td>\n",
       "      <td>0.545455</td>\n",
       "    </tr>\n",
       "    <tr>\n",
       "      <th>2</th>\n",
       "      <td>0.146374</td>\n",
       "      <td>0.2</td>\n",
       "      <td>0.2</td>\n",
       "      <td>0.171123</td>\n",
       "    </tr>\n",
       "    <tr>\n",
       "      <th>3</th>\n",
       "      <td>0.159341</td>\n",
       "      <td>0.2</td>\n",
       "      <td>0.2</td>\n",
       "      <td>0.186898</td>\n",
       "    </tr>\n",
       "    <tr>\n",
       "      <th>4</th>\n",
       "      <td>1.000000</td>\n",
       "      <td>0.4</td>\n",
       "      <td>0.4</td>\n",
       "      <td>0.866310</td>\n",
       "    </tr>\n",
       "  </tbody>\n",
       "</table>\n",
       "</div>"
      ],
      "text/plain": [
       "   size_sqft  bathrooms  bedrooms      rent\n",
       "0   0.050549        0.2       0.0  0.066845\n",
       "1   0.384615        0.4       0.4  0.545455\n",
       "2   0.146374        0.2       0.2  0.171123\n",
       "3   0.159341        0.2       0.2  0.186898\n",
       "4   1.000000        0.4       0.4  0.866310"
      ]
     },
     "execution_count": 44,
     "metadata": {},
     "output_type": "execute_result"
    }
   ],
   "source": [
    "#selecting only the features we need and making a new data frame\n",
    "\n",
    "newdf = pd.DataFrame().assign(size_sqft=dfmms['size_sqft'], bathrooms=dfmms['bathrooms'], bedrooms=dfmms['bedrooms'], rent=dfmms['rent'])\n",
    "newdf.head()"
   ]
  },
  {
   "cell_type": "code",
   "execution_count": 45,
   "id": "64a5732e",
   "metadata": {},
   "outputs": [],
   "source": [
    "#Splitting new data frame into the 70/30 method\n",
    "\n",
    "def testTrainSplit(data):\n",
    "    length = len(df.index)\n",
    "    splitLimit = int(length * 0.7)\n",
    "    train = data[0: splitLimit]\n",
    "    test = data[splitLimit + 1: length]\n",
    "    return train, test"
   ]
  },
  {
   "cell_type": "code",
   "execution_count": 46,
   "id": "657a22af",
   "metadata": {},
   "outputs": [
    {
     "name": "stdout",
     "output_type": "stream",
     "text": [
      "<class 'pandas.core.frame.DataFrame'>\n",
      "Int64Index: 2475 entries, 0 to 2477\n",
      "Data columns (total 4 columns):\n",
      " #   Column     Non-Null Count  Dtype  \n",
      "---  ------     --------------  -----  \n",
      " 0   size_sqft  2475 non-null   float64\n",
      " 1   bathrooms  2475 non-null   float64\n",
      " 2   bedrooms   2475 non-null   float64\n",
      " 3   rent       2475 non-null   float64\n",
      "dtypes: float64(4)\n",
      "memory usage: 96.7 KB\n"
     ]
    }
   ],
   "source": [
    "train, test = testTrainSplit(newdf)\n",
    "train.info()"
   ]
  },
  {
   "cell_type": "code",
   "execution_count": 47,
   "id": "c36db342",
   "metadata": {},
   "outputs": [],
   "source": [
    "#y = b + w1x1 + w2x2 + w3x3 + wnxn\n",
    "# https://mathinsight.org/distance_point_plane#:~:text=The%20shortest%20distance%20from%20a,as%20a%20gray%20line%20segment.\n",
    "# https://www.nagwa.com/en/explainers/235149350980/\n",
    "\n",
    "# 1. sum = 0\n",
    "# 2. randomly generate values for b, w1, w2, w3\n",
    "# 3. calculate distance from points to plane\n",
    "# 4. add distances to sum\n",
    "# 5. repeat 2-3 until shortest distance is found "
   ]
  },
  {
   "cell_type": "code",
   "execution_count": 48,
   "id": "0b6254ea",
   "metadata": {},
   "outputs": [],
   "source": [
    "def sumOfDistances(b, w1, w2, w3, trainDF):\n",
    "    sum = 0\n",
    "    for row in range(0, len(trainDF.index)):\n",
    "        sqft = trainDF.iat[row, 0]\n",
    "        bathroom = trainDF.iat[row, 1]\n",
    "        bedroom = trainDF.iat[row, 2]\n",
    "        distance = abs((w1*sqft) + (w2*bathroom) + (w3*bedroom)+ b) / math.sqrt((w2**2) + (w2**2)+(w3**2))\n",
    "        sum = sum + distance\n",
    "    return sum\n",
    "    "
   ]
  },
  {
   "cell_type": "code",
   "execution_count": 49,
   "id": "7cd6685a",
   "metadata": {},
   "outputs": [],
   "source": [
    "def trainMultipleRegression(trainDF):\n",
    "    count = 0\n",
    "    slope = {}\n",
    "    while count <= 1000:\n",
    "        b = random.uniform(-1, 1) # y-int!\n",
    "        w1 = random.uniform(-1, 1) # slope of sqft feature\n",
    "        w2 = random.uniform(-1, 1) # slope of bathroom feature\n",
    "        w3 = random.uniform(-1, 1) # slope of bedroom feature\n",
    "        count = count + 1\n",
    "        sum = sumOfDistances(b, w1, w2, w3, trainDF)\n",
    "        slope[w1,w2,w3,b] = sum\n",
    "    return slope\n",
    "    "
   ]
  },
  {
   "cell_type": "code",
   "execution_count": 50,
   "id": "64945285",
   "metadata": {},
   "outputs": [
    {
     "name": "stdout",
     "output_type": "stream",
     "text": [
      "Keys with minimum values are : [(0.764322874871215, -0.9410926238289636, 0.2638010528909498, 0.08461747326643798)]\n",
      "Distance: 102.92037152089355\n"
     ]
    }
   ],
   "source": [
    "#trainMultipleRegression(train) # prediction = 0.2777 + (0.8307*x1) + (0.1720759717986725*x2) +(0.7122126767352882 *x3)\n",
    "#dict(sorted(trainMultipleRegression(train).items(), key=lambda item: item[1]))\n",
    "trainslope = trainMultipleRegression(train)\n",
    "\n",
    "temp = min(trainslope.values())\n",
    "res = [key for key in trainslope if trainslope[key] == temp]\n",
    "\n",
    "print(\"Keys with minimum values are : \" + str(res))\n",
    "print(\"Distance: \" + str(temp))"
   ]
  },
  {
   "cell_type": "code",
   "execution_count": 52,
   "id": "52f2260d",
   "metadata": {},
   "outputs": [
    {
     "name": "stdout",
     "output_type": "stream",
     "text": [
      "0.10766706579545042\n"
     ]
    }
   ],
   "source": [
    "#https://machinelearningmastery.com/regression-metrics-for-machine-learning/\n",
    "\n",
    "\n",
    "prediction = (0.764322874871215*0.38461) + (-0.9410926238289636*0.4) +(0.2638010528909498 *0.4) + 0.08461747326643798\n",
    "\n",
    "print(prediction)"
   ]
  },
  {
   "cell_type": "code",
   "execution_count": null,
   "id": "0762d01d",
   "metadata": {},
   "outputs": [],
   "source": []
  }
 ],
 "metadata": {
  "kernelspec": {
   "display_name": "base",
   "language": "python",
   "name": "python3"
  },
  "language_info": {
   "codemirror_mode": {
    "name": "ipython",
    "version": 3
   },
   "file_extension": ".py",
   "mimetype": "text/x-python",
   "name": "python",
   "nbconvert_exporter": "python",
   "pygments_lexer": "ipython3",
   "version": "3.9.12"
  },
  "vscode": {
   "interpreter": {
    "hash": "c7dc9fe095de68ace368b65ab3dbfe5f48830e7110a46f0deecf8b3332d4184d"
   }
  }
 },
 "nbformat": 4,
 "nbformat_minor": 5
}
