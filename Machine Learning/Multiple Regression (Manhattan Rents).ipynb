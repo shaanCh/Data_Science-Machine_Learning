{
 "cells": [
  {
   "cell_type": "code",
   "execution_count": 105,
   "id": "cd8915f1",
   "metadata": {},
   "outputs": [],
   "source": [
    "import pandas as pd\n",
    "import seaborn as sns\n",
    "import matplotlib.pyplot as plt\n",
    "import math\n",
    "import random\n"
   ]
  },
  {
   "cell_type": "code",
   "execution_count": 106,
   "id": "a948c781",
   "metadata": {},
   "outputs": [
    {
     "name": "stdout",
     "output_type": "stream",
     "text": [
      "rental_id           2172.0\n",
      "rent                3000.0\n",
      "bedrooms               0.5\n",
      "bathrooms              1.0\n",
      "size_sqft            573.0\n",
      "min_to_subway         11.0\n",
      "floor                  8.0\n",
      "building_age_yrs      31.0\n",
      "Name: 20, dtype: float64\n"
     ]
    }
   ],
   "source": [
    "df = pd.read_csv(\"manhattan_rents.csv\")\n",
    "print(df.iloc[20])"
   ]
  },
  {
   "cell_type": "code",
   "execution_count": 107,
   "id": "6dd1e3c7",
   "metadata": {},
   "outputs": [
    {
     "data": {
      "text/plain": [
       "rental_id             int64\n",
       "rent                float64\n",
       "bedrooms            float64\n",
       "bathrooms             int64\n",
       "size_sqft           float64\n",
       "min_to_subway         int64\n",
       "floor               float64\n",
       "building_age_yrs      int64\n",
       "dtype: object"
      ]
     },
     "execution_count": 107,
     "metadata": {},
     "output_type": "execute_result"
    }
   ],
   "source": [
    "df.dtypes"
   ]
  },
  {
   "cell_type": "code",
   "execution_count": 108,
   "id": "0df75ad6",
   "metadata": {},
   "outputs": [],
   "source": [
    "#dropping the rows with null values\n",
    "#then converting floats into int \n",
    "#dropped rental ID column\n",
    "\n",
    "\n",
    "df.dropna(axis=0, inplace=True)\n",
    "df['bedrooms']=df['bedrooms'].astype(int)\n",
    "df.drop(['rental_id'], axis=1, inplace=True)"
   ]
  },
  {
   "cell_type": "code",
   "execution_count": 109,
   "id": "d830d725",
   "metadata": {},
   "outputs": [
    {
     "name": "stdout",
     "output_type": "stream",
     "text": [
      "         rent  bedrooms  bathrooms  size_sqft  min_to_subway  floor  \\\n",
      "0      2550.0         0          1      480.0              9    2.0   \n",
      "1     11500.0         2          2     2000.0              4    1.0   \n",
      "2      4500.0         1          1      916.0              2   51.0   \n",
      "3      4795.0         1          1      975.0              3    8.0   \n",
      "4     17500.0         2          2     4800.0              3    4.0   \n",
      "...       ...       ...        ...        ...            ...    ...   \n",
      "3534   4210.0         1          1      532.0              3    8.0   \n",
      "3535   6675.0         2          2      988.0              5   10.0   \n",
      "3536   1699.0         0          1      250.0              2    5.0   \n",
      "3537   3475.0         1          1      651.0              6    5.0   \n",
      "3538   4500.0         1          1      816.0              4   11.0   \n",
      "\n",
      "      building_age_yrs  \n",
      "0                   17  \n",
      "1                   96  \n",
      "2                   29  \n",
      "3                   31  \n",
      "4                  136  \n",
      "...                ...  \n",
      "3534                16  \n",
      "3535                 9  \n",
      "3536                96  \n",
      "3537                14  \n",
      "3538                 9  \n",
      "\n",
      "[3536 rows x 7 columns]\n"
     ]
    }
   ],
   "source": [
    "print(df)"
   ]
  },
  {
   "cell_type": "code",
   "execution_count": 110,
   "id": "e170276e",
   "metadata": {},
   "outputs": [
    {
     "name": "stdout",
     "output_type": "stream",
     "text": [
      "<class 'pandas.core.frame.DataFrame'>\n",
      "Int64Index: 3536 entries, 0 to 3538\n",
      "Data columns (total 7 columns):\n",
      " #   Column            Non-Null Count  Dtype  \n",
      "---  ------            --------------  -----  \n",
      " 0   rent              3536 non-null   float64\n",
      " 1   bedrooms          3536 non-null   int32  \n",
      " 2   bathrooms         3536 non-null   int64  \n",
      " 3   size_sqft         3536 non-null   float64\n",
      " 4   min_to_subway     3536 non-null   int64  \n",
      " 5   floor             3536 non-null   float64\n",
      " 6   building_age_yrs  3536 non-null   int64  \n",
      "dtypes: float64(3), int32(1), int64(3)\n",
      "memory usage: 207.2 KB\n"
     ]
    }
   ],
   "source": [
    "df.info()"
   ]
  },
  {
   "cell_type": "code",
   "execution_count": 111,
   "id": "0003b2bd",
   "metadata": {},
   "outputs": [
    {
     "data": {
      "text/html": [
       "<div>\n",
       "<style scoped>\n",
       "    .dataframe tbody tr th:only-of-type {\n",
       "        vertical-align: middle;\n",
       "    }\n",
       "\n",
       "    .dataframe tbody tr th {\n",
       "        vertical-align: top;\n",
       "    }\n",
       "\n",
       "    .dataframe thead th {\n",
       "        text-align: right;\n",
       "    }\n",
       "</style>\n",
       "<table border=\"1\" class=\"dataframe\">\n",
       "  <thead>\n",
       "    <tr style=\"text-align: right;\">\n",
       "      <th></th>\n",
       "      <th>rent</th>\n",
       "      <th>bedrooms</th>\n",
       "      <th>bathrooms</th>\n",
       "      <th>size_sqft</th>\n",
       "      <th>min_to_subway</th>\n",
       "      <th>floor</th>\n",
       "      <th>building_age_yrs</th>\n",
       "    </tr>\n",
       "  </thead>\n",
       "  <tbody>\n",
       "    <tr>\n",
       "      <th>count</th>\n",
       "      <td>3536.000000</td>\n",
       "      <td>3536.000000</td>\n",
       "      <td>3536.000000</td>\n",
       "      <td>3536.000000</td>\n",
       "      <td>3536.000000</td>\n",
       "      <td>3536.000000</td>\n",
       "      <td>3536.000000</td>\n",
       "    </tr>\n",
       "    <tr>\n",
       "      <th>mean</th>\n",
       "      <td>5139.029977</td>\n",
       "      <td>1.345871</td>\n",
       "      <td>1.366799</td>\n",
       "      <td>939.841346</td>\n",
       "      <td>4.972002</td>\n",
       "      <td>11.909078</td>\n",
       "      <td>52.011312</td>\n",
       "    </tr>\n",
       "    <tr>\n",
       "      <th>std</th>\n",
       "      <td>3164.100385</td>\n",
       "      <td>0.969988</td>\n",
       "      <td>0.599685</td>\n",
       "      <td>478.102754</td>\n",
       "      <td>5.515729</td>\n",
       "      <td>10.965099</td>\n",
       "      <td>39.390748</td>\n",
       "    </tr>\n",
       "    <tr>\n",
       "      <th>min</th>\n",
       "      <td>1300.000000</td>\n",
       "      <td>0.000000</td>\n",
       "      <td>0.000000</td>\n",
       "      <td>250.000000</td>\n",
       "      <td>0.000000</td>\n",
       "      <td>0.000000</td>\n",
       "      <td>0.000000</td>\n",
       "    </tr>\n",
       "    <tr>\n",
       "      <th>25%</th>\n",
       "      <td>3150.000000</td>\n",
       "      <td>1.000000</td>\n",
       "      <td>1.000000</td>\n",
       "      <td>612.750000</td>\n",
       "      <td>2.000000</td>\n",
       "      <td>4.000000</td>\n",
       "      <td>15.000000</td>\n",
       "    </tr>\n",
       "    <tr>\n",
       "      <th>50%</th>\n",
       "      <td>4000.000000</td>\n",
       "      <td>1.000000</td>\n",
       "      <td>1.000000</td>\n",
       "      <td>800.000000</td>\n",
       "      <td>4.000000</td>\n",
       "      <td>8.000000</td>\n",
       "      <td>39.000000</td>\n",
       "    </tr>\n",
       "    <tr>\n",
       "      <th>75%</th>\n",
       "      <td>6000.000000</td>\n",
       "      <td>2.000000</td>\n",
       "      <td>2.000000</td>\n",
       "      <td>1141.500000</td>\n",
       "      <td>6.000000</td>\n",
       "      <td>17.000000</td>\n",
       "      <td>90.000000</td>\n",
       "    </tr>\n",
       "    <tr>\n",
       "      <th>max</th>\n",
       "      <td>20000.000000</td>\n",
       "      <td>5.000000</td>\n",
       "      <td>5.000000</td>\n",
       "      <td>4800.000000</td>\n",
       "      <td>43.000000</td>\n",
       "      <td>83.000000</td>\n",
       "      <td>180.000000</td>\n",
       "    </tr>\n",
       "  </tbody>\n",
       "</table>\n",
       "</div>"
      ],
      "text/plain": [
       "               rent     bedrooms    bathrooms    size_sqft  min_to_subway  \\\n",
       "count   3536.000000  3536.000000  3536.000000  3536.000000    3536.000000   \n",
       "mean    5139.029977     1.345871     1.366799   939.841346       4.972002   \n",
       "std     3164.100385     0.969988     0.599685   478.102754       5.515729   \n",
       "min     1300.000000     0.000000     0.000000   250.000000       0.000000   \n",
       "25%     3150.000000     1.000000     1.000000   612.750000       2.000000   \n",
       "50%     4000.000000     1.000000     1.000000   800.000000       4.000000   \n",
       "75%     6000.000000     2.000000     2.000000  1141.500000       6.000000   \n",
       "max    20000.000000     5.000000     5.000000  4800.000000      43.000000   \n",
       "\n",
       "             floor  building_age_yrs  \n",
       "count  3536.000000       3536.000000  \n",
       "mean     11.909078         52.011312  \n",
       "std      10.965099         39.390748  \n",
       "min       0.000000          0.000000  \n",
       "25%       4.000000         15.000000  \n",
       "50%       8.000000         39.000000  \n",
       "75%      17.000000         90.000000  \n",
       "max      83.000000        180.000000  "
      ]
     },
     "execution_count": 111,
     "metadata": {},
     "output_type": "execute_result"
    }
   ],
   "source": [
    "df.describe()"
   ]
  },
  {
   "cell_type": "code",
   "execution_count": 112,
   "id": "4f6e5b60",
   "metadata": {},
   "outputs": [],
   "source": [
    "adj_rents = []\n",
    "for row in range(len(df.index)):\n",
    "    if df.iat[row,1]==0:\n",
    "        adj_rents.append(df.iat[row,0])\n",
    "    else:\n",
    "        adj_rents.append(df.iat[row, 0]/ df.iat[row,1])\n",
    "        \n",
    "df['adj_rents'] = adj_rents"
   ]
  },
  {
   "cell_type": "code",
   "execution_count": 113,
   "id": "a2b013f8",
   "metadata": {},
   "outputs": [
    {
     "data": {
      "text/plain": [
       "0       2550.0\n",
       "1       5750.0\n",
       "2       4500.0\n",
       "3       4795.0\n",
       "4       8750.0\n",
       "         ...  \n",
       "3534    4210.0\n",
       "3535    3337.5\n",
       "3536    1699.0\n",
       "3537    3475.0\n",
       "3538    4500.0\n",
       "Name: adj_rents, Length: 3536, dtype: float64"
      ]
     },
     "execution_count": 113,
     "metadata": {},
     "output_type": "execute_result"
    }
   ],
   "source": [
    "df['adj_rents']"
   ]
  },
  {
   "cell_type": "code",
   "execution_count": 114,
   "id": "f4e75b82",
   "metadata": {},
   "outputs": [
    {
     "data": {
      "text/html": [
       "<div>\n",
       "<style scoped>\n",
       "    .dataframe tbody tr th:only-of-type {\n",
       "        vertical-align: middle;\n",
       "    }\n",
       "\n",
       "    .dataframe tbody tr th {\n",
       "        vertical-align: top;\n",
       "    }\n",
       "\n",
       "    .dataframe thead th {\n",
       "        text-align: right;\n",
       "    }\n",
       "</style>\n",
       "<table border=\"1\" class=\"dataframe\">\n",
       "  <thead>\n",
       "    <tr style=\"text-align: right;\">\n",
       "      <th></th>\n",
       "      <th>rent</th>\n",
       "      <th>bedrooms</th>\n",
       "      <th>bathrooms</th>\n",
       "      <th>size_sqft</th>\n",
       "      <th>min_to_subway</th>\n",
       "      <th>floor</th>\n",
       "      <th>building_age_yrs</th>\n",
       "      <th>adj_rents</th>\n",
       "    </tr>\n",
       "  </thead>\n",
       "  <tbody>\n",
       "    <tr>\n",
       "      <th>count</th>\n",
       "      <td>3536.000000</td>\n",
       "      <td>3536.000000</td>\n",
       "      <td>3536.000000</td>\n",
       "      <td>3536.000000</td>\n",
       "      <td>3536.000000</td>\n",
       "      <td>3536.000000</td>\n",
       "      <td>3536.000000</td>\n",
       "      <td>3536.000000</td>\n",
       "    </tr>\n",
       "    <tr>\n",
       "      <th>mean</th>\n",
       "      <td>5139.029977</td>\n",
       "      <td>1.345871</td>\n",
       "      <td>1.366799</td>\n",
       "      <td>939.841346</td>\n",
       "      <td>4.972002</td>\n",
       "      <td>11.909078</td>\n",
       "      <td>52.011312</td>\n",
       "      <td>3475.162184</td>\n",
       "    </tr>\n",
       "    <tr>\n",
       "      <th>std</th>\n",
       "      <td>3164.100385</td>\n",
       "      <td>0.969988</td>\n",
       "      <td>0.599685</td>\n",
       "      <td>478.102754</td>\n",
       "      <td>5.515729</td>\n",
       "      <td>10.965099</td>\n",
       "      <td>39.390748</td>\n",
       "      <td>1384.649774</td>\n",
       "    </tr>\n",
       "    <tr>\n",
       "      <th>min</th>\n",
       "      <td>1300.000000</td>\n",
       "      <td>0.000000</td>\n",
       "      <td>0.000000</td>\n",
       "      <td>250.000000</td>\n",
       "      <td>0.000000</td>\n",
       "      <td>0.000000</td>\n",
       "      <td>0.000000</td>\n",
       "      <td>775.000000</td>\n",
       "    </tr>\n",
       "    <tr>\n",
       "      <th>25%</th>\n",
       "      <td>3150.000000</td>\n",
       "      <td>1.000000</td>\n",
       "      <td>1.000000</td>\n",
       "      <td>612.750000</td>\n",
       "      <td>2.000000</td>\n",
       "      <td>4.000000</td>\n",
       "      <td>15.000000</td>\n",
       "      <td>2595.000000</td>\n",
       "    </tr>\n",
       "    <tr>\n",
       "      <th>50%</th>\n",
       "      <td>4000.000000</td>\n",
       "      <td>1.000000</td>\n",
       "      <td>1.000000</td>\n",
       "      <td>800.000000</td>\n",
       "      <td>4.000000</td>\n",
       "      <td>8.000000</td>\n",
       "      <td>39.000000</td>\n",
       "      <td>3325.000000</td>\n",
       "    </tr>\n",
       "    <tr>\n",
       "      <th>75%</th>\n",
       "      <td>6000.000000</td>\n",
       "      <td>2.000000</td>\n",
       "      <td>2.000000</td>\n",
       "      <td>1141.500000</td>\n",
       "      <td>6.000000</td>\n",
       "      <td>17.000000</td>\n",
       "      <td>90.000000</td>\n",
       "      <td>4051.250000</td>\n",
       "    </tr>\n",
       "    <tr>\n",
       "      <th>max</th>\n",
       "      <td>20000.000000</td>\n",
       "      <td>5.000000</td>\n",
       "      <td>5.000000</td>\n",
       "      <td>4800.000000</td>\n",
       "      <td>43.000000</td>\n",
       "      <td>83.000000</td>\n",
       "      <td>180.000000</td>\n",
       "      <td>13500.000000</td>\n",
       "    </tr>\n",
       "  </tbody>\n",
       "</table>\n",
       "</div>"
      ],
      "text/plain": [
       "               rent     bedrooms    bathrooms    size_sqft  min_to_subway  \\\n",
       "count   3536.000000  3536.000000  3536.000000  3536.000000    3536.000000   \n",
       "mean    5139.029977     1.345871     1.366799   939.841346       4.972002   \n",
       "std     3164.100385     0.969988     0.599685   478.102754       5.515729   \n",
       "min     1300.000000     0.000000     0.000000   250.000000       0.000000   \n",
       "25%     3150.000000     1.000000     1.000000   612.750000       2.000000   \n",
       "50%     4000.000000     1.000000     1.000000   800.000000       4.000000   \n",
       "75%     6000.000000     2.000000     2.000000  1141.500000       6.000000   \n",
       "max    20000.000000     5.000000     5.000000  4800.000000      43.000000   \n",
       "\n",
       "             floor  building_age_yrs     adj_rents  \n",
       "count  3536.000000       3536.000000   3536.000000  \n",
       "mean     11.909078         52.011312   3475.162184  \n",
       "std      10.965099         39.390748   1384.649774  \n",
       "min       0.000000          0.000000    775.000000  \n",
       "25%       4.000000         15.000000   2595.000000  \n",
       "50%       8.000000         39.000000   3325.000000  \n",
       "75%      17.000000         90.000000   4051.250000  \n",
       "max      83.000000        180.000000  13500.000000  "
      ]
     },
     "execution_count": 114,
     "metadata": {},
     "output_type": "execute_result"
    }
   ],
   "source": [
    "df.describe()"
   ]
  },
  {
   "cell_type": "code",
   "execution_count": 115,
   "id": "6e61af40",
   "metadata": {},
   "outputs": [
    {
     "name": "stdout",
     "output_type": "stream",
     "text": [
      "          rent  bedrooms  bathrooms  size_sqft  min_to_subway     floor  \\\n",
      "0     0.066845       0.0        0.2   0.050549       0.209302  0.024096   \n",
      "1     0.545455       0.4        0.4   0.384615       0.093023  0.012048   \n",
      "2     0.171123       0.2        0.2   0.146374       0.046512  0.614458   \n",
      "3     0.186898       0.2        0.2   0.159341       0.069767  0.096386   \n",
      "4     0.866310       0.4        0.4   1.000000       0.069767  0.048193   \n",
      "...        ...       ...        ...        ...            ...       ...   \n",
      "3534  0.155615       0.2        0.2   0.061978       0.069767  0.096386   \n",
      "3535  0.287433       0.4        0.4   0.162198       0.116279  0.120482   \n",
      "3536  0.021337       0.0        0.2   0.000000       0.046512  0.060241   \n",
      "3537  0.116310       0.2        0.2   0.088132       0.139535  0.060241   \n",
      "3538  0.171123       0.2        0.2   0.124396       0.093023  0.132530   \n",
      "\n",
      "      building_age_yrs  adj_rents  \n",
      "0             0.094444   0.139489  \n",
      "1             0.533333   0.390963  \n",
      "2             0.161111   0.292731  \n",
      "3             0.172222   0.315914  \n",
      "4             0.755556   0.626719  \n",
      "...                ...        ...  \n",
      "3534          0.088889   0.269941  \n",
      "3535          0.050000   0.201375  \n",
      "3536          0.533333   0.072613  \n",
      "3537          0.077778   0.212181  \n",
      "3538          0.050000   0.292731  \n",
      "\n",
      "[3536 rows x 8 columns]\n"
     ]
    }
   ],
   "source": [
    "#Data Normalization: Min-Max scaling\n",
    "#This turns all the values into a number between 0 and 1\n",
    "\n",
    "# copy the data\n",
    "dfmms = df.copy()\n",
    "  \n",
    "# apply normalization techniques\n",
    "for column in dfmms.columns:\n",
    "    dfmms[column] = (dfmms[column] - dfmms[column].min()) / (dfmms[column].max() - dfmms[column].min())    \n",
    "  \n",
    "# view normalized data\n",
    "print(dfmms)"
   ]
  },
  {
   "cell_type": "code",
   "execution_count": 116,
   "id": "3d8d6f77",
   "metadata": {},
   "outputs": [
    {
     "name": "stdout",
     "output_type": "stream",
     "text": [
      "                      rent  bedrooms  bathrooms  size_sqft  min_to_subway  \\\n",
      "rent              1.000000  0.637936   0.769562   0.857981       0.035131   \n",
      "bedrooms          0.637936  1.000000   0.720436   0.769800       0.076045   \n",
      "bathrooms         0.769562  0.720436   1.000000   0.803641       0.086833   \n",
      "size_sqft         0.857981  0.769800   0.803641   1.000000       0.039339   \n",
      "min_to_subway     0.035131  0.076045   0.086833   0.039339       1.000000   \n",
      "floor             0.215904  0.043824   0.128004   0.107194       0.082435   \n",
      "building_age_yrs -0.128892  0.033770  -0.095453   0.014408      -0.184811   \n",
      "adj_rents         0.572582 -0.063157   0.147136   0.318212      -0.060081   \n",
      "\n",
      "                     floor  building_age_yrs  adj_rents  \n",
      "rent              0.215904         -0.128892   0.572582  \n",
      "bedrooms          0.043824          0.033770  -0.063157  \n",
      "bathrooms         0.128004         -0.095453   0.147136  \n",
      "size_sqft         0.107194          0.014408   0.318212  \n",
      "min_to_subway     0.082435         -0.184811  -0.060081  \n",
      "floor             1.000000         -0.389468   0.264232  \n",
      "building_age_yrs -0.389468          1.000000  -0.230870  \n",
      "adj_rents         0.264232         -0.230870   1.000000  \n"
     ]
    },
    {
     "data": {
      "text/plain": [
       "<AxesSubplot:>"
      ]
     },
     "execution_count": 116,
     "metadata": {},
     "output_type": "execute_result"
    },
    {
     "data": {
      "image/png": "[encoded data removed]",
      "text/plain": [
       "<Figure size 1080x720 with 2 Axes>"
      ]
     },
     "metadata": {
      "needs_background": "light"
     },
     "output_type": "display_data"
    }
   ],
   "source": [
    "#Finding the correlations between the features and the target\n",
    "#Any value closer to 1 has a large correlation between those 2 features\n",
    "\n",
    "cor = df.corr()\n",
    "print(cor)\n",
    "plt.figure(figsize= (15,10))\n",
    "sns.heatmap(cor, annot=True)"
   ]
  },
  {
   "cell_type": "code",
   "execution_count": 117,
   "id": "e448bb93",
   "metadata": {},
   "outputs": [
    {
     "data": {
      "text/html": [
       "<div>\n",
       "<style scoped>\n",
       "    .dataframe tbody tr th:only-of-type {\n",
       "        vertical-align: middle;\n",
       "    }\n",
       "\n",
       "    .dataframe tbody tr th {\n",
       "        vertical-align: top;\n",
       "    }\n",
       "\n",
       "    .dataframe thead th {\n",
       "        text-align: right;\n",
       "    }\n",
       "</style>\n",
       "<table border=\"1\" class=\"dataframe\">\n",
       "  <thead>\n",
       "    <tr style=\"text-align: right;\">\n",
       "      <th></th>\n",
       "      <th>size_sqft</th>\n",
       "      <th>bathrooms</th>\n",
       "      <th>bedrooms</th>\n",
       "      <th>rent</th>\n",
       "    </tr>\n",
       "  </thead>\n",
       "  <tbody>\n",
       "    <tr>\n",
       "      <th>0</th>\n",
       "      <td>0.050549</td>\n",
       "      <td>0.2</td>\n",
       "      <td>0.0</td>\n",
       "      <td>0.066845</td>\n",
       "    </tr>\n",
       "    <tr>\n",
       "      <th>1</th>\n",
       "      <td>0.384615</td>\n",
       "      <td>0.4</td>\n",
       "      <td>0.4</td>\n",
       "      <td>0.545455</td>\n",
       "    </tr>\n",
       "    <tr>\n",
       "      <th>2</th>\n",
       "      <td>0.146374</td>\n",
       "      <td>0.2</td>\n",
       "      <td>0.2</td>\n",
       "      <td>0.171123</td>\n",
       "    </tr>\n",
       "    <tr>\n",
       "      <th>3</th>\n",
       "      <td>0.159341</td>\n",
       "      <td>0.2</td>\n",
       "      <td>0.2</td>\n",
       "      <td>0.186898</td>\n",
       "    </tr>\n",
       "    <tr>\n",
       "      <th>4</th>\n",
       "      <td>1.000000</td>\n",
       "      <td>0.4</td>\n",
       "      <td>0.4</td>\n",
       "      <td>0.866310</td>\n",
       "    </tr>\n",
       "  </tbody>\n",
       "</table>\n",
       "</div>"
      ],
      "text/plain": [
       "   size_sqft  bathrooms  bedrooms      rent\n",
       "0   0.050549        0.2       0.0  0.066845\n",
       "1   0.384615        0.4       0.4  0.545455\n",
       "2   0.146374        0.2       0.2  0.171123\n",
       "3   0.159341        0.2       0.2  0.186898\n",
       "4   1.000000        0.4       0.4  0.866310"
      ]
     },
     "execution_count": 117,
     "metadata": {},
     "output_type": "execute_result"
    }
   ],
   "source": [
    "#selecting only the features we need and making a new data frame\n",
    "\n",
    "newdf = pd.DataFrame().assign(size_sqft=dfmms['size_sqft'], bathrooms=dfmms['bathrooms'], bedrooms=dfmms['bedrooms'], rent=dfmms['rent'])\n",
    "newdf.head()"
   ]
  },
  {
   "cell_type": "code",
   "execution_count": 118,
   "id": "64a5732e",
   "metadata": {},
   "outputs": [],
   "source": [
    "#Splitting new data frame into the 70/30 method\n",
    "\n",
    "def testTrainSplit(data):\n",
    "    length = len(df.index)\n",
    "    splitLimit = int(length * 0.7)\n",
    "    train = data[0: splitLimit]\n",
    "    test = data[splitLimit + 1: length]\n",
    "    return train, test"
   ]
  },
  {
   "cell_type": "code",
   "execution_count": 119,
   "id": "657a22af",
   "metadata": {},
   "outputs": [
    {
     "name": "stdout",
     "output_type": "stream",
     "text": [
      "<class 'pandas.core.frame.DataFrame'>\n",
      "Int64Index: 2475 entries, 0 to 2477\n",
      "Data columns (total 4 columns):\n",
      " #   Column     Non-Null Count  Dtype  \n",
      "---  ------     --------------  -----  \n",
      " 0   size_sqft  2475 non-null   float64\n",
      " 1   bathrooms  2475 non-null   float64\n",
      " 2   bedrooms   2475 non-null   float64\n",
      " 3   rent       2475 non-null   float64\n",
      "dtypes: float64(4)\n",
      "memory usage: 96.7 KB\n"
     ]
    }
   ],
   "source": [
    "train, test = testTrainSplit(newdf)\n",
    "train.info()"
   ]
  },
  {
   "cell_type": "code",
   "execution_count": 120,
   "id": "c36db342",
   "metadata": {},
   "outputs": [],
   "source": [
    "#y = b + w1x1 + w2x2 + w3x3 + wnxn\n",
    "# https://mathinsight.org/distance_point_plane#:~:text=The%20shortest%20distance%20from%20a,as%20a%20gray%20line%20segment.\n",
    "# https://www.nagwa.com/en/explainers/235149350980/\n",
    "\n",
    "# 1. sum = 0\n",
    "# 2. randomly generate values for b, w1, w2, w3\n",
    "# 3. calculate distance from points to plane\n",
    "# 4. add distances to sum\n",
    "# 5. repeat 2-3 until shortest distance is found "
   ]
  },
  {
   "cell_type": "code",
   "execution_count": 121,
   "id": "0b6254ea",
   "metadata": {},
   "outputs": [],
   "source": [
    "def sumOfDistances(b, w1, w2, w3, trainDF):\n",
    "    sum = 0\n",
    "    sums = []\n",
    "    for row in range(0, len(trainDF.index)):\n",
    "        sqft = trainDF.iat[row, 0]\n",
    "        bathroom = trainDF.iat[row, 1]\n",
    "        bedroom = trainDF.iat[row, 2]\n",
    "        distance = abs((w1*sqft) + (w2*bathroom) + (w3*bedroom)+ b) / math.sqrt((w2**2) + (w2**2)+(w3**2))\n",
    "        sum = sum + distance\n",
    "        sums.append(sum)\n",
    "    return sums\n",
    "    "
   ]
  },
  {
   "cell_type": "code",
   "execution_count": 125,
   "id": "7cd6685a",
   "metadata": {},
   "outputs": [],
   "source": [
    "def trainMultipleRegression(trainDF):\n",
    "    count = 0\n",
    "    slope = {}\n",
    "    while count <= 100:\n",
    "        b = random.uniform(0, 1) # y-int!\n",
    "        w1 = random.uniform(0, 1) # slope of sqft feature\n",
    "        w2 = random.uniform(0, 1) # slope of bathroom feature\n",
    "        w3 = random.uniform(0, 1) # slope of bedroom feature\n",
    "        count = count + 1\n",
    "    sum = sumOfDistances(b, w1, w2, w3, trainDF)\n",
    "    slope[b] = sum\n",
    "    print(slope)\n",
    "    "
   ]
  },
  {
   "cell_type": "code",
   "execution_count": 126,
   "id": "64945285",
   "metadata": {},
   "outputs": [
    {
     "name": "stdout",
     "output_type": "stream",
     "text": [
      "{0.22261664495044442: [0.40698460697931976, 1.5386567536719913, 2.187249246199409, 2.848944299982879, 4.602432913064469, 5.679017659913954, 6.015085871914221, 6.444056132526577, 7.512436246033234, 8.160806661251227, 8.728118858529236, 9.879987813273665, 10.525027068850289, 11.14541574308078, 11.80089263220036, 12.59071406641595, 13.146922398222728, 14.222853140249821, 14.861230076543707, 15.288867873299516, 15.889491666991217, 16.278710089216567, 16.868674172055886, 17.680703337213938, 18.308642639964866, 19.313952797594933, 20.21201184187879, 20.97962554515192, 22.199745967162304, 22.5911851624819, 22.98040358470725, 23.73980042753167, 24.52962186174726, 25.49917757255996, 26.118233782933906, 26.885847486207034, 27.475367414427502, 28.440481579051713, 29.394491878204693, 29.94292750418161, 30.315490128200114, 31.133737458022054, 31.60401409818739, 32.182430160936626, 33.18774031856669, 33.94425015636859, 34.923269231108065, 35.713090665323655, 36.324818324486586, 36.736244477654395, 37.33620203941782, 37.75318012532125, 38.341145512375746, 39.108759215648874, 40.039229320002846, 41.18911180606833, 41.552791337709856, 42.342612771925445, 42.71628578249107, 43.69650120415616, 44.77308595100564, 45.73820011562985, 46.14740549570342, 46.703613827510196, 47.70825775321199, 48.490528558907144, 48.97412983763795, 49.582526337159514, 50.45007482967372, 51.09289331215609, 51.704620971319024, 52.12537437148267, 53.88846158793036, 54.52239697803575, 55.148559662311285, 55.760287321474216, 57.03674164680585, 57.43706393450243, 58.39107423365542, 58.780292655880764, 59.33650098768754, 60.89928669814011, 61.744849537021274, 62.69219751689152, 63.096073041538894, 63.51482774591772, 64.47860944668538, 65.50101955714115, 66.07943561989039, 66.72003332927852, 67.36485050754573, 68.30842317315575, 69.9699350988179, 70.99056859079826, 71.51346532619135, 72.09632293512908, 73.3283617985758, 73.9289855922675, 75.38827104942231, 75.79747642949589, 76.39810022318758, 77.31502361166665, 78.0189133542408, 78.7070356078458, 79.6017512653824, 80.20126467252699, 80.89405054962991, 81.51021975498134, 82.866473567669, 83.47931161337905, 84.07438347433514, 84.70609809134628, 85.13062680577013, 85.73791291874457, 86.64817398794091, 87.60218428709389, 88.7764830500902, 89.36156143212219, 89.78364729614238, 90.38138408481156, 90.97112609034146, 91.56064601856193, 91.94986444078728, 92.72569500450912, 93.31854609237097, 94.09726366111532, 94.66679663148757, 95.27230612598662, 95.86982083734637, 96.24793539410048, 97.14922741054134, 97.76051091508542, 98.53879655631681, 99.42995897690263, 99.84582667625892, 100.44800501111659, 101.36870371385588, 102.34381135740419, 102.755237510572, 103.700364717348, 104.32319624198216, 105.32119007550709, 105.94402160014126, 106.55019732656856, 107.90394678268585, 108.6826643514302, 109.63134479515699, 110.55870581717902, 111.52604075489748, 112.36902462644403, 112.74736126050757, 113.36153177007418, 114.2780110039344, 115.76306965608835, 116.20225547293424, 116.6150140899586, 117.72336811916169, 118.33820486065656, 119.27000742886707, 120.13518680425021, 121.04478164151827, 121.66872355269956, 122.28089536648135, 122.87041529470181, 123.27739990168114, 123.88091070039536, 124.64852440366849, 125.25314558892984, 125.85532392378751, 126.43373998653675, 127.77067307330448, 128.39461498448577, 128.83246833747512, 129.47728551574232, 130.086792401811, 130.71162262222998, 131.3122464159217, 131.7181206363539, 132.32029897121157, 132.71173816653118, 133.5884655620044, 134.01743582261673, 134.8892775172826, 135.51210904191677, 136.17313786377196, 136.59122633622252, 137.19185012991423, 138.3235222766069, 139.32328050150136, 139.9350081606643, 140.88081382647445, 141.50875312922537, 142.4516595629071, 143.03451717184484, 143.95321717879932, 144.56872015222248, 145.26816834860813, 146.04688591735248, 146.5808865182168, 147.04783199874078, 148.3774365342975, 148.965401921352, 150.07885150156596, 150.96623860789157, 151.36656089558815, 152.92977853355367, 153.3567500983812, 153.99290626158086, 154.62328841473547, 155.22835375461565, 155.80099580731985, 156.35631582988893, 156.944059139634, 157.91583562354094, 158.49647245938442, 158.89390774205847, 159.28534693737808, 160.19982747545347, 161.36924053764244, 161.95876046586292, 162.49276106672724, 163.38392348731304, 163.9345798863842, 165.05558009511861, 165.67841161975278, 166.23461995155955, 167.14976672156322, 167.76304892189214, 168.7115072883095, 170.48332925309734, 171.82803504569495, 172.94903525442936, 173.9208117383363, 174.6773215761382, 175.48935074129625, 176.19034125174198, 177.206089042915, 177.61351780451318, 178.22813246869862, 178.87827950239202, 179.79631327741822, 180.3580735419606, 180.78060356059964, 181.19935826497846, 181.62921683482853, 182.28025217775962, 182.87599027064397, 183.4832763836184, 184.4201007695672, 185.03182842873014, 185.78833826653204, 186.59104018469426, 187.1845575044844, 188.5141620400411, 189.09257810279033, 189.6909811233878, 190.83974099580027, 191.43459077944692, 192.5111755262964, 193.13400705093056, 193.74617886471233, 194.15760501788014, 194.74401586376868, 195.64717045906343, 196.23513584611794, 197.17137996051696, 197.5605983827423, 198.13901444549154, 198.50047320403883, 199.49157041386573, 200.4084938023448, 201.0435395789973, 201.95868634900097, 202.5477621226026, 203.33758355681817, 204.380424779741, 204.98526804231176, 205.85688765966822, 206.22500873749823, 207.0211342967562, 208.38338419679835, 208.97934436699214, 209.54665656427014, 210.14728035796185, 210.73124835344672, 211.54860737403095, 212.8037545047637, 213.52385589092586, 214.16889514650248, 215.11180158018422, 215.51545502752217, 215.92688118068997, 216.54971270532414, 217.12812876807337, 217.73319410795355, 218.6381253217237, 219.10862403919845, 219.69814396741893, 220.3209754920531, 220.91871228072227, 221.5304399398852, 222.1199598681057, 223.31911906265168, 224.30644095821836, 225.2737758959368, 226.17715256854098, 226.91753672313337, 227.54059032507695, 228.30820402835008, 230.17759166524792, 230.74601424907306, 231.3397536461726, 232.43322849564424, 232.8279988506052, 234.0173988706424, 234.59248377375027, 235.2375230293269, 236.13623607843314, 237.13466183947105, 238.06646440768156, 238.66042588209052, 239.04964430431588, 239.71689129083495, 240.47340112863685, 241.13731695551456, 241.70462915279256, 242.11738776981693, 242.53258923724496, 243.13543380403092, 243.56573652849983, 244.96476530152796, 246.34713827634926, 246.9886242949751, 247.37784271720045, 248.30134246458377, 249.34698473215064, 250.0812868390101, 250.7440922793407, 251.53391371355627, 253.01527078472262, 253.95662267723839, 254.55324907936046, 255.1227820497327, 256.03237688700074, 256.6330006806924, 257.65074716765025, 258.14056661104496, 258.7578462029435, 259.1852619223899, 259.93541747859695, 261.13414474562995, 262.25514495436437, 263.66204462070675, 264.287541073054, 265.5620704358734, 266.17846171853427, 266.93275078324194, 267.70036448651507, 268.64793454369476, 269.28719978922635, 269.9711025739523, 271.84508010107544, 272.25095432150766, 272.82603922461556, 273.4633057743623, 274.0437205328964, 274.48024142202917, 275.47866718306705, 276.05841570967283, 276.46984186284067, 277.0742409707926, 277.708176360898, 279.2713939988635, 279.6939240175026, 280.08003335739596, 280.4565933729841, 281.0363418995899, 281.8261633338055, 282.4383351475873, 283.05228357984447, 284.2510108468775, 284.8738423715116, 285.53709196646105, 286.1468209298392, 286.7909718761781, 288.2611513486006, 289.04231176774863, 289.6742484620692, 290.78526741898537, 291.3854470580582, 291.77466548028355, 292.6931434099286, 294.0858179013619, 294.73085715693855, 296.1204225660399, 296.5362902653962, 296.947716418564, 297.5840946590731, 297.9941883483844, 298.91725616825477, 299.5511915583602, 300.60845557928974, 301.5957774748564, 302.9253820104131, 303.90715197324414, 305.2769525018067, 305.8886801609696, 306.4935234235404, 306.88274184576574, 308.40154402184635, 309.36044002180665, 311.02402437652626, 311.4361167616223, 311.85309484752577, 312.98476699421843, 313.393972374292, 313.9768299832297, 315.3848278090133, 315.80469289993925, 316.1717035912221, 316.58312974438996, 317.5360296569958, 318.20284471600195, 318.625374734641, 319.01459315686634, 319.624100042935, 320.27113799429645, 320.8495540570457, 322.00365601199024, 322.59162139904475, 323.2255567891502, 324.17401515556753, 324.908317262427, 325.5311487870611, 326.10956484981034, 327.0191596870784, 328.0397931790588, 328.6064391444085, 329.6057532146841, 330.0422741038169, 330.8320955380325, 331.61081310677685, 332.03778467160436, 333.1393781940403, 333.9291996282559, 334.5351532773738, 335.12644982406965, 335.9284855103036, 336.518005438524, 337.14083696315816, 337.75478539541535, 338.5223990986885, 339.1765435239515, 339.5990735425906, 340.92334822272113, 341.54062781461965, 341.9853655642012, 342.6304048197778, 343.01962324200315, 343.6557794052028, 344.02279009648566, 345.1209285694552, 345.55900399975394, 345.95444058664316, 346.3714186725466, 347.00646444919914, 347.6219674226223, 348.2037146450129, 349.14662107869464, 349.7232605229685, 350.5241858226553, 351.1914328091744, 351.6132965958852, 352.2250242550481, 352.63023224355203, 353.25306376818617, 354.03489041926247, 355.3644949548192, 355.95223826456424, 356.5533062128748, 357.4957807190436, 358.08285779686037, 358.47896061567786, 359.5766427069227, 360.11064330778703, 361.04244587599754, 362.04886642017476, 362.81670220075733, 363.417325994449, 364.37377914400565, 365.5197881283266, 365.93432336382637, 366.9796074371529, 368.0446563910182, 368.66482298793926, 369.5066105125602, 370.0739227098382, 370.51199814013694, 371.08663888862594, 371.9935687981809, 372.8827325229819, 373.4995679602616, 374.0051548926254, 375.5572686651197, 377.53731318576934, 378.662088708764, 379.25893718819543, 379.83779740556355, 380.4162134683128, 381.0188359577893, 381.43026211095713, 382.4092811856966, 383.0250062364292, 383.67004549200584, 384.38213986792283, 384.99830907327424, 385.61558866517277, 386.6682012897103, 387.09295208144357, 388.3471986758328, 388.9411601502417, 389.55910597406853, 390.1597297677602, 390.72661003752523, 391.33545069166564, 392.75668719563623, 393.5354047643806, 394.169340154486, 395.2585955350786, 396.1757410008671, 396.6016021791475, 397.0174698785038, 397.6252001460971, 398.0366262992649, 398.70209666730864, 400.01229451656695, 400.95986457374664, 401.35685570180186, 402.1688848669599, 403.178414493469, 403.5738510803582, 404.18757743530597, 404.84105562864073, 405.2418220709562, 405.84311209657614, 406.7860185302579, 407.37998000466683, 407.98371288069046, 409.304582667907, 410.61478051716534, 411.61520497398806, 412.2422559675013, 412.90661594899785, 413.9006001638473, 414.5347576312621, 414.89399561671513, 415.47241167946436, 416.0508277422136, 416.4844616263239, 416.88478391402043, 417.32352557624745, 418.24422427898674, 418.82774811985274, 420.0510522349593, 420.6294682977085, 421.20788436045774, 421.71458167936873, 422.11001826625795, 423.17506722012325, 424.5490872175649, 425.10618385860937, 426.0191098555188, 426.7756196933207, 427.58764885847876, 428.2104803831129, 428.9261402230865, 429.3264625107831, 430.6366603600414, 431.290582707995, 431.86011567836726, 432.46073947205895, 433.5515371667116, 434.1965764222883, 434.8305118123937, 435.24748989829715, 436.3021012186195, 437.6701251287067, 438.8638305780014, 439.75721377168145, 440.3356298344307, 440.9140458971799, 441.4957931195705, 442.45668781531566, 443.2269664463019, 443.8609018364073, 444.48373336104146, 445.4524007626165, 446.4850264293058, 447.3414710563487, 447.98095837918976, 448.7427980724178, 449.3511945719394, 449.78815961569103, 450.2106896343301, 451.6069173627142, 452.5094057260807, 453.0545101924162, 453.45483248011277, 454.04257578985784, 454.674290406869, 455.63718379839895, 456.7712987954953, 457.1827249486631, 457.8164382614591, 458.69509061944456, 459.0998544533296, 460.30968558583385, 461.5310525113223, 462.665525702659, 463.08094924739646, 463.683571736873, 464.71508701701515, 465.31571081070683, 466.2168667102168, 467.3911654732131, 468.4006950997222, 469.02907855709196, 469.5917271308721, 470.0240285511258, 471.00024658122123, 471.9811282348146, 473.0910245780778, 473.7078600153575, 474.639662583568, 475.736468592681, 476.7242346428665, 477.67624624623465, 478.2655440971457, 478.9903828400784, 479.90841661510456, 481.0738322857239, 481.696663810358, 482.2861837385785, 483.62711421691586, 484.20775105275936, 484.6367213133717, 485.2597749153153, 485.8659506417426, 486.8227619855396, 488.12971463553504, 489.0726210692168, 490.06127542864, 490.4773652053057, 491.4295988859833, 492.01623180918125, 492.96313563443266, 493.3856656530717, 494.3396759522247, 494.9396335139881, 495.5500287092945, 496.17286023392865, 496.56829682081786, 497.1622582952268, 498.28525719974607, 498.7075651410757, 499.141199025186, 500.02281212146653, 501.06365464860454, 501.6653888288434, 502.81303831470876, 503.70286827143804, 505.1435114617071, 506.11195678597267, 506.501175208198, 507.3080965952393, 507.9418958684138, 508.51142883878606, 509.1258214256621, 510.2776903804065, 510.7108801098979, 511.3523661285237, 511.9607626280453, 512.8172072550883, 513.3845194523664, 514.7052408955461, 515.2836569582954, 516.2161257584343, 516.8267430310501, 517.3940552283282, 517.9613674256062, 518.6157339281787, 519.5725452719756, 519.9906337444262, 520.402059897594, 521.2029851972808, 521.8020544498065, 522.4048990165925, 522.9895332440057, 523.6143634644246, 524.6127892254625, 525.0373179398864, 526.0950383425406, 527.0228435191815, 528.0410341607582, 528.9628432500446, 529.829799243903, 530.4970462304221, 531.2424522027528, 531.6316706249781, 532.2871475140977, 532.6985736672655, 534.0531869784087, 535.1404436632164, 535.7632751878506, 536.3683405277308, 536.9705188625884, 537.3757268510923, 537.842006099688, 538.453733758851, 539.1081002614234, 539.7242694667748, 540.4921912077358, 541.1039188668988, 542.4335234024555, 543.0283731861022, 543.6047905530666, 544.3735146428868, 544.9574826383716, 545.7695118035297, 546.79014529551, 547.3907690892017, 547.9987214341045, 548.4421267198294, 549.4067967298347, 549.8444280055146, 550.4483829588477, 550.8820168429579, 551.3156507270681, 552.1276798922262, 552.5213398606401, 552.9327660138078, 553.5798039651693, 554.5782297262072, 555.1966197046528, 555.7657085204062, 556.7447275951456, 557.3120397924237, 557.9348713170579, 559.2228614353737, 560.1768717345267, 560.6185004017763, 561.5975194765157, 562.7851428780775, 563.4106393304248, 564.2670839574678, 564.6785101106356, 565.2671417296183, 565.8733174560456, 566.3626927448214, 567.0414877514306, 568.0871300189975, 568.4898951570977, 569.8228308522959, 570.4576545516389, 570.8584209939544, 571.603826966285, 572.2510869949559, 572.9019002605776, 573.6624934503276, 574.3075327059042, 575.4729483765236, 576.1961466179118, 576.770343211782, 577.374742319734, 578.2865579300963, 578.8982855892592, 579.498909382951, 580.093981243907, 580.6932725737422, 581.8351480495626, 582.2698923202199, 582.9593470376815, 584.2749607027445, 584.6646232795887, 585.0982571636989, 585.4863651993771, 586.4341573338662, 586.8389211677513, 587.4395449614431, 587.8294296155967, 588.8387371647964, 589.4615686894306, 590.3573947335143, 591.0128716226338, 591.5912876853831, 592.1910231698371, 592.6024493230049, 593.8338219545233, 594.2341442422198, 594.668222280949, 595.0729861148341, 595.4841901906924, 596.2529142805126, 596.8337731936656, 597.2436448056675, 597.6428567068169, 598.5726605792427, 599.4898060450312, 599.8936815696785, 600.5970411972553, 601.2420804528319, 601.6455118228605, 602.1961682219317, 602.6011541331261, 603.5402852525476, 604.4729761299958, 605.0624960582163, 605.7344066682333, 606.1729262531509, 607.6801926362473, 608.2728216467997, 609.0404353500728, 609.9609119755027, 610.7729411406607, 611.348248121078, 611.7596742742458, 612.3634071502694, 612.7717242211053, 613.3743467105818, 613.9305550423886, 614.2864618682003, 614.9315011237769, 615.5765403793536, 616.5472064767134, 617.1977976650256, 618.1158314400518, 618.7117916102455, 619.296647914968, 620.0975732146549, 621.0007278099496, 621.3899462321749, 622.5196074559768, 623.0731508600705, 623.707086250176, 624.300603569966, 624.8901234981865, 625.31864960418, 626.1861980966942, 626.8094737759471, 628.1390783115039, 629.048673148772, 629.6444112416564, 630.2388168706842, 630.7226402267245, 631.3186003969182, 631.9258865098926, 632.7201494902966, 634.2389516663773, 634.9843576387079, 635.9325201945433, 636.50804925227, 637.1253288441685, 637.7348357302371, 638.1573657488761, 638.913875586678, 640.0237719299412, 640.6503787688356, 641.3957847411663, 641.8016589615985, 642.7634419665814, 643.1573240123046, 643.7419582397177, 644.7119458780434, 645.6437484462539, 646.0633914598704, 646.6622386350867, 647.0736647882545, 647.651192541766, 648.2462644027221, 649.2030757465191, 650.0419762661174, 650.6967869233088, 651.9625693106822, 652.5265503483188, 653.1413870898136, 653.8437222912218, 654.6113359944949, 655.0132128233574, 655.7846018408908, 656.9162739875835, 657.5168977812752, 658.1059735548769, 659.2713892254963, 659.8968856778436, 661.5376820300709, 661.9602120487099, 662.6945141555693, 663.2618263528474, 664.2380443829428, 665.1343145816454, 665.8819413270703, 666.4603573898196, 666.8828874084586, 667.7730755594282, 668.3625954876487, 668.9789867703096, 669.7354966081115, 670.8564968168458, 671.7700890456836, 672.4284529398257, 673.0623883299311, 673.6388056968955, 674.0713291944586, 674.6164336607942, 675.5677790322341, 675.9681013199306, 676.5687251136223, 677.1860047055209, 678.1391266954362, 678.922285810369, 679.5340134695319, 680.1235333977525, 681.0639969810305, 682.0211163625155, 682.6883633490346, 683.2667794117839, 683.934026398303, 684.501338595581, 685.0886377507072, 685.6615018807208, 686.2374750930665, 686.8276612532152, 687.7174174766718, 688.2978322352059, 689.7963638699621, 691.0688208037241, 691.4904625131254, 692.3070191848504, 693.096840619066, 693.5471303013832, 694.132652838034, 694.8627354760143, 695.8167457751673, 696.4169254142402, 697.0815074730461, 698.3579617983778, 699.2857669750186, 699.9085984996528, 701.2268770924289, 701.6383032455967, 702.0686059700656, 702.6625674444746, 703.3209313386167, 704.2143145322967, 704.6483925710259, 705.413205229655, 705.7950951006693, 706.5849165348849, 707.694380950635, 708.5706641914894, 708.9931942101284, 709.6349023060636, 710.5600425549914, 710.9799076459173, 711.5563250128816, 712.6939932469288, 713.6480035460818, 714.3130297595067, 714.6911443162608, 715.1465417766947, 715.7693733013289, 716.3930931352007, 717.2051223003588, 717.783538363108, 718.739103203427, 719.2282564148934, 719.6339085580162, 720.7242743251559, 721.8115310099636, 722.4241469783642, 722.854893857452, 723.5558843678978, 724.5938398900132, 725.6053682123072, 726.3635185516536, 726.9541488664212, 727.6091816009219, 729.0265066737014, 729.6715459292781, 730.2444100592917, 730.8532507134321, 731.47852508847, 731.8932824012792, 732.8611976105474, 733.506236866124, 734.1401722562294, 734.5293906784548, 735.1322352452407, 735.7328590389325, 736.6428980308194, 737.6737470790333, 738.6455235629403, 739.2017318947471, 739.974453376137, 741.2927319689131, 742.2536266646583, 742.999032636989, 743.7888540712046, 744.3672701339539, 744.9901016585881, 745.4545183283299, 745.8437367505552, 746.2471681205838, 746.8811035106892, 747.4706234389097, 748.0712472326014, 748.6760904951722, 749.0799660198195, 749.6805898135112, 750.2829902256783, 751.4299734796153, 752.606061088193, 753.2046861860998, 753.8279618653528, 754.2060764221069, 754.8144729216284, 755.5820866249015, 756.4970113175958, 757.0976351112876, 757.5201651299266, 758.675007050072, 759.621688798014, 760.2016594019292, 760.7805196192973, 761.3700395475178, 761.7779124637348, 762.3938595917767, 762.9938171535401, 763.6059889673219, 764.1844050300712, 765.5834338030993, 766.2087081781372, 767.6049359065213, 768.007923121931, 769.2566915168571, 769.6385813878715, 770.6840875385074, 771.1006214697919, 772.7002720136089, 773.1265773465082, 773.7800555398429, 774.8688667658166, 775.88061716542, 776.4954539069148, 777.118285431549, 778.3812667742783, 779.0078736131727, 779.931373360556, 780.8294201777339, 781.4686854232655, 781.8467999800196, 782.2360184022449, 783.2150374769843, 784.2554358495034, 784.6537594414152, 786.0499871697994, 786.6483901903968, 787.232580263191, 788.3979959338104, 789.3797658966415, 790.7239538013476, 791.1533682165789, 792.1184823812031, 793.7703825989016, 794.186250298258, 795.5408636094012, 796.204779436279, 796.9501854086096, 797.5770143248134, 798.366835759029, 798.9230440908358, 799.3344702440036, 799.9217693991297, 800.5805774478907, 801.1367857796976, 802.2098295167021, 802.640132241171, 803.0515583943388, 803.4685364802423, 804.069160273934, 804.6586802021545, 806.1552746472927, 807.2847260208911, 807.8751342583492, 809.1631243766651, 810.5280392044203, 811.558222020706, 811.9829728124394, 813.2812029412005, 813.8831591987488, 814.5084335737866, 815.0646419055935, 815.4793992184027, 816.0300556174739, 816.4636895015841, 816.90287531843, 817.8152712003421, 818.7914892304375, 819.625726126538, 820.2263499202297, 820.8496255994827, 821.2259635377615, 821.8248107129778, 822.7566132811883, 823.1569355688848, 823.7615567541461, 824.3548519966268, 824.7662781497946, 825.8236281311026, 826.4020441938519, 826.7932613118621, 827.4083201306664, 828.0209360990671, 828.6437676237013, 829.0618560961518, 829.6291682934299, 830.2062518923226, 831.220667219639, 831.8879142061581, 832.6777356403737, 833.3063411750529, 834.5528150636122, 835.4732916890421, 835.8847178422099, 836.5186532323153, 837.4595609702122, 837.8654351906445, 838.4482927995822, 839.3800953677927, 840.0433449627421, 840.6328648909627, 841.2334886846544, 841.94070958687, 842.5464411586785, 842.9889581351657, 844.0906498450861, 845.0459926080956, 845.6290722943428, 846.3966859976159, 847.0141876668239, 847.4311657527273, 848.6405649577187, 849.0690910637121, 849.7030264538175, 850.3036502475093, 850.7059712309907, 851.452265512559, 852.5359567333102, 853.1756661334606, 854.1296764326136, 855.1356528221719, 855.7384973889579, 856.4957594190665, 857.2787086837958, 857.686137445394, 858.2645535081433, 858.9375745047074, 859.8471693419755, 860.4988709168348, 861.1028258701679, 862.410666829401, 862.8247579102818, 863.4642452331228, 864.7827459032084, 865.50461168074, 865.8838366240412, 866.4871253454461, 867.8002961601054, 869.2602478491885, 869.6383624059426, 870.5843779219564, 871.2249756313445, 872.1758768481656, 873.4943775182511, 874.8894948600881, 875.5567418466072, 875.9570641343038, 876.5599087010897, 877.1827402257239, 877.5908352192504, 878.2025628784133, 878.5973332333743, 879.5541445771713, 880.1692033959756, 880.7631648703846, 881.3509081801296, 882.3049184792826, 882.8500229456182, 883.4650817644225, 884.3558000303894, 884.7239211082194, 885.5775646906184, 886.5220256654661, 886.9334518186339, 887.5782689969011, 887.9375069823541, 888.5103711123677, 888.8964804522611, 889.8682569361681, 890.4886456103986, 891.2980958082221, 892.2414463965227, 892.6344401330083, 893.0303208745164, 894.1957365451358, 894.8034668127291, 895.3994269829228, 896.022258507557, 896.5744694477942, 897.5506874778896, 897.9992005417313, 898.5776166044806, 900.1967854973152, 901.2278566228385, 901.6848086244383, 902.0949023137496, 903.1577304945206, 903.7805620191548, 904.6521816365113, 905.2383704050903, 905.8389941987821, 906.7707967669926, 907.3336674180821, 907.7819584046143, 908.5495721078875, 909.1419790411304, 909.7277236550907, 910.30613971784, 910.917867377003, 911.3070857992283, 912.052491771559, 913.124498855289, 913.9143202895045, 914.5167207016716, 915.4969361233367, 916.1286507403479, 916.5733884899294, 917.2017719472991, 917.9915933815147, 918.6068742776284, 919.538676845839, 920.3256972354105, 920.9203249417478, 921.6846074853796, 922.6450702536118, 923.4093527972436, 924.0543920528203, 924.4791428445536, 925.0668861542987, 925.7019319309512, 926.6559422301042, 927.5988486637859, 928.0324825478962, 929.1363950309108, 929.7203630263956, 930.8191555041875, 931.6467300810053, 932.2240357572075, 933.1365175994981, 934.1080720060957, 934.7220204383528, 935.9267437927404, 937.4252754274966, 938.8288317070917, 939.4298996554022, 940.5171563402099, 941.1448735656514, 941.7601544617652, 942.7419244245963, 943.3225612604398, 943.9536096455226, 944.3819136742068, 945.3508031530912, 946.6163756902611, 947.0278018434288, 947.6304243329054, 948.4646612290059, 949.4568688253798, 950.3886713935904, 951.3204739618009, 951.9688443770189, 952.5694681707106, 953.014205920292, 953.6814529068112, 954.6248034951118, 955.5979124428753, 956.1874323710958, 956.8180366015598, 957.7331833715634, 958.7538168635438, 959.7566841707702, 961.708820683705, 962.2814627364091, 962.9269461466046, 963.4995881993087, 964.477804925189, 965.0606625341268, 965.4720886872946, 966.0460632038553, 967.1004402197623, 968.2547520249104, 968.8442719531309, 969.7229243111163, 970.1121427333417, 970.8193636355572, 971.4421951601914, 972.0532565874261, 973.3297109127577, 974.3354652250066, 975.3847466899027, 975.9789302416211, 976.5542372220384, 977.1437571502589, 977.7665886748931, 978.3823137256256, 979.3141162938362, 980.3684933097431, 981.125003147545, 981.7034192102943, 982.1081830441794, 982.7421184342849, 983.1757523183951, 984.1408664830193, 984.7381591170696, 985.3312322822409, 986.5721542380646, 987.1283625698715, 987.783839458991, 988.473516253762, 989.0494894661076, 989.4484792899476, 990.0419966097377, 990.8984412367806, 991.3209712554196, 991.7586025310995, 993.1648237384078, 993.7752189337142, 994.7318941605803, 995.1322164482768, 996.2976321188962, 997.4888087574088, 998.417280165978, 998.9897001413727, 999.4082327684422, 999.9866488311915, 1000.3758672534168, 1000.9693845732069, 1001.5684538257326, 1002.1526438985269, 1002.8643063469309, 1003.4573795121022, 1004.556616144513, 1004.9658215245865, 1006.221030161486, 1007.175040460639, 1007.6489440710277, 1008.5809809436536, 1009.3819062433404, 1009.7822285310369, 1010.7029272337762, 1011.2702394310543, 1011.6887720581237, 1012.3100490415919, 1013.5198801740962, 1014.462786607778, 1015.3079790253129, 1015.908824896314, 1016.8328547586946, 1017.4752290865581, 1018.228937879716, 1019.28288296811, 1020.2579906116583, 1020.8186404896536, 1021.7804234946365, 1022.4681015936226, 1023.102036983728, 1023.5159059872994, 1024.305727421515, 1024.728257440154, 1025.3286591565363, 1025.8737636228718, 1026.2347782268002, 1026.850059122914, 1028.2240791203556, 1028.8002744100106, 1029.345378876346, 1029.8989222804398, 1030.8684779912526, 1032.180760496674, 1033.5216909750116, 1034.64113664258, 1035.6617701345604, 1036.938224459892, 1038.54674586898, 1038.9621694137174, 1039.7575427806687, 1040.6849038026908, 1041.597163567672, 1042.021248127477, 1043.1866637980963, 1044.2632485449458, 1045.1721771502855, 1045.779019108641, 1046.7587903756873, 1047.6344073846135, 1048.223927312834, 1049.010861742027, 1049.8095662686194, 1050.4172965362127, 1051.4903402732173, 1052.0798602014377, 1052.9140970975382, 1053.3272998691814, 1053.982776758301, 1054.892371595569, 1055.8241741637796, 1056.4265745759467, 1056.8491045945857, 1057.6469208119406, 1058.2919600675173, 1059.6248957627154, 1060.6455292546957, 1061.2461530483874, 1062.8686775550752, 1063.4581974832956, 1064.0737004567188, 1065.2197094410396, 1066.0539463371401, 1066.4502712332671, 1066.9755370857913, 1067.583489430694, 1068.1619054934433, 1068.597760150648, 1068.9869785728733, 1069.776800007089, 1070.8755924848808, 1071.8296027840338, 1072.9195121694488, 1073.3529239762497, 1073.9535477699415, 1075.5014543006625, 1077.0413538211385, 1077.9858147959862, 1078.5982086870774, 1079.3658223903506, 1080.425097334171, 1081.5460975429053, 1082.1356174711257, 1082.8180394479582, 1083.646724411323, 1084.394351156748, 1084.9594425809316, 1085.3686479610053, 1085.9470640237546, 1086.8455549955513, 1087.769140703313, 1088.191670721952, 1088.8100607003978, 1089.2403634248667, 1090.0079771281398, 1090.4194032813077, 1090.835270980664, 1091.4150195072698, 1091.8431014586445, 1092.4679316790634, 1093.154277314193, 1093.792654250487, 1094.3979416676766, 1094.9761356531164, 1095.425092871577, 1095.8631683018757, 1096.441584364625, 1097.0561990288104, 1098.0324170589058, 1099.0939127758204, 1099.5202181087197, 1100.9164458371038, 1102.2488514173044, 1102.8383713455248, 1103.812812757145, 1104.2177986683394, 1104.9003689892088, 1105.9094544610991, 1106.8440580739536, 1107.2266141768962, 1107.6602480610065, 1108.2608718546983, 1108.698947284997, 1109.8306194316897, 1110.4312432253814, 1111.5259021946729, 1112.1420714000244, 1112.7093835973023, 1113.6217794792144, 1114.7263459670514, 1115.3380736262143, 1115.9498012853771, 1116.9491153556528, 1117.9617540644938, 1118.5179623963006, 1119.441462143684, 1120.0865013992607, 1120.5156937371823, 1121.1052136654027, 1121.8579481889444, 1122.413490288823, 1123.0034543716622, 1123.4037766593588, 1124.371259941114, 1125.2950677261852, 1126.4961641103494, 1127.0856840385698, 1128.037695641938, 1128.720043885498, 1129.8339498474365, 1130.967620689914, 1131.5440380568784, 1132.3172036928872, 1133.6334835898786, 1134.5410797313618, 1135.1445905300761, 1135.6920641135428, 1136.6127628162822, 1137.013751335907, 1137.701873589512, 1138.6605475121628, 1139.6956160292557, 1140.2962398229474, 1140.7187698415864, 1141.3389364385075, 1141.9686523597338, 1142.9004549279443, 1143.6791724966888, 1144.733117585083, 1145.5229390192985, 1146.1131251794473, 1146.8474272863066, 1147.2588534394745, 1147.8816849641087, 1148.2855604887561, 1148.8995089210132, 1150.1759632463447, 1150.5873893995126, 1151.3550031027858, 1151.933419165535, 1152.8208062718606, 1153.825228120253, 1154.7916747487338, 1155.514872990122, 1156.0975085217503, 1157.0082137455656, 1158.0066395066035, 1159.5051711413598, 1159.8943895635853, 1160.4728056263345, 1161.1178448819112, 1161.5625826314927, 1162.6058680090343, 1163.9132648136485, 1164.5123340661742, 1164.9459679502845, 1165.5212749307018, 1166.171866119014, 1166.5344352641084, 1167.1139617134047, 1167.736793238039, 1168.3374170317306, 1168.8936253635375, 1169.4831452917579, 1170.3939988596098, 1171.052362753752, 1171.5082043688049, 1172.1103827036625, 1173.0768293321432, 1173.662351868794, 1174.725180049565, 1175.7406198030503, 1176.342798137908, 1177.5741707694265, 1178.6837089184494, 1179.621285496705, 1180.2405637843883, 1180.8456291242685, 1181.2126398155515, 1182.6321856614252, 1183.5639882296357, 1184.1757158887985, 1185.0622391400982, 1185.6677486345973, 1186.71058985752, 1187.3294239905845, 1187.9178335322579, 1188.3501349525116, 1188.9107848305068, 1189.8730119901086, 1190.8439001647778, 1191.4403044895905, 1191.885042239172, 1192.462792069993, 1193.0380990504102, 1193.6462734726224, 1194.6342616001173, 1195.5244497510869, 1197.06545965811, 1198.28957747169, 1198.901305130853, 1199.3127312840209, 1200.3555725069436, 1200.7803232986769, 1201.7876321520919, 1202.4026909708962, 1203.035738051764, 1204.3986541837344, 1205.4268383042352, 1205.8395969212595, 1206.4335583956686, 1207.0441756682844, 1207.51045491688, 1208.5284234811472, 1209.184566602195, 1209.7740865304154, 1210.3569441393531, 1211.4989055755518, 1212.9304435961344, 1213.9497446242583, 1214.5281606870076, 1215.5293874926895, 1216.7392186251936, 1218.3250881487204, 1218.913053535775, 1219.6973230372548, 1220.0865414594803, 1220.8374993645466, 1221.7693019327571, 1222.3463855316497, 1223.160191315283, 1223.571617468451, 1224.196003534251, 1224.7950727867767, 1225.2131612592273, 1226.4636325393562, 1226.8528509615817, 1227.4732396358122, 1228.0805257487866, 1228.658941811536, 1229.2373578742852, 1229.6609982794714, 1230.2487415892165, 1230.8749042734921, 1231.8067068417026, 1232.4266513613143, 1233.0155050576066, 1233.6292314125544, 1234.4464543162078, 1234.8412246711687, 1235.453174407641, 1235.9072394042182, 1236.312447392722, 1236.9794723019318, 1237.3464829932147, 1237.7468052809113, 1238.3110083958575, 1238.724877399429, 1240.0988973968706, 1240.8836110529694, 1241.9015796172366, 1243.0688578667098, 1243.8420235027186, 1244.2443444862, 1245.1885833837382, 1245.785653940479, 1246.7021331743392, 1247.0913515965647, 1247.4916738842612, 1248.0811938124816, 1249.5336071001502, 1250.4654096683607, 1251.2330233716339, 1251.8336471653256, 1252.4364917321116, 1253.0604336432928, 1253.6499535715132, 1254.6667257888548, 1255.2542470212904, 1256.3558405437263, 1256.756162831423, 1257.6768615341623, 1258.6202121224628, 1259.2243891531052, 1259.8272337198912, 1261.0592725833378, 1261.6310263268042, 1262.2611864026494, 1262.877355608001, 1263.5055169880613, 1264.0759382676713, 1265.2413539382906, 1266.713532106498, 1267.3208182194724, 1267.8992342822216, 1268.488754210442, 1268.8779726326675, 1269.470157488601, 1270.51055586112, 1270.920427473122, 1271.8439272205053, 1272.452323720027, 1273.057833214526, 1274.3878819047015, 1275.2734923925518, 1276.2303037363488, 1277.2076321529914, 1278.131662015372, 1278.775812961711, 1279.3760048278896, 1280.0769953383353, 1280.4964162746423, 1281.4433200998938, 1282.3751226681043, 1282.9970658835007, 1283.4529074985535, 1284.3980347053296, 1285.0097623644924, 1285.9193572017605, 1286.3363352876638, 1286.9480629468267, 1287.3528267807117, 1287.9034831797828, 1288.8036648096765, 1289.6883010279105, 1290.0784077593735, 1290.9792678483013, 1291.3835875275677, 1292.0508345140868, 1292.8628636792448, 1293.447053752039, 1294.401064051192, 1295.3157666665768, 1296.219143339181, 1297.2131275540305, 1297.8548356499657, 1298.4543490571102, 1299.2219627603833, 1299.8447942850175, 1300.8606781931214, 1301.8106911007048, 1302.3480228612104, 1302.9852894109572, 1303.4189232950675, 1304.1892019260538, 1304.8093685229749, 1305.2318985416139, 1306.0659993207835, 1306.6666231144752, 1307.060283082889, 1307.6386991456384, 1308.2242216822892, 1309.0362508474473, 1309.6417603419463, 1310.428780731518, 1311.382791030671, 1311.7720094528963, 1312.2018680227463, 1312.7913879509667, 1313.7453982501197, 1315.0354730245988, 1315.6360968182905, 1316.253820564808, 1316.6541428525045, 1317.3995488248352, 1318.3155839040764, 1319.4809995746957, 1320.10383109933, 1320.521697494471, 1321.1252082931853, 1322.0292511977177, 1322.6078893377764, 1323.5117101649994, 1324.285319955627, 1324.9470150094105, 1325.6031581304583, 1326.0367920145686, 1326.4602103424454, 1327.0608341361371, 1327.7203084168264, 1328.315158200473, 1328.737688219112, 1329.3272081473324, 1329.7468511609488, 1330.1582773141167, 1330.617005934192, 1331.7486780808847, 1332.3541875753838, 1332.959252915264, 1333.8612971240116, 1334.2711687360134, 1335.4050616558002, 1336.0223412476987, 1337.0880442063865, 1337.4874781848453, 1338.3217150809458, 1338.9758595062087, 1339.5618261974785, 1340.496429810333, 1341.4977425763934, 1342.3729154307007, 1342.9457795607143, 1343.5677227761107, 1344.610341921724, 1345.2642642696776, 1345.866886759154, 1346.6567081933697, 1347.2373450292132, 1347.86683887313, 1348.256945604593, 1348.6539367326482, 1349.8859755960948, 1350.4615046538215, 1350.8540542356882, 1351.412631684626, 1352.566511562261, 1353.150479557746, 1354.284668288115, 1354.7094190798482, 1355.1121842179484, 1355.7805415910145, 1356.856015951317, 1357.451087812273, 1358.0739193369072, 1358.6934197019, 1359.2940434955917, 1359.8835634238121, 1360.3283011733936, 1360.9011653034072, 1361.5124488079514, 1362.1973136351876, 1363.3603724157817, 1363.7495908380072, 1364.953870037776, 1365.5440561979246, 1365.956814814949, 1366.9881080177818, 1367.755721721055, 1369.1769582250256, 1369.7715859313628, 1370.7389208690813, 1371.6558442575604, 1372.2120525893672, 1373.1405239979363, 1373.7478101109107, 1374.8475031250462, 1375.4903216075286, 1376.4636526326015, 1376.8797424092672, 1377.4581584720165, 1378.2424279734964, 1379.169566918209, 1379.9010679804244, 1380.5083540933988, 1381.1978088108604, 1382.1229490597882, 1382.679157391595, 1383.4886075894185, 1384.0670236521678, 1384.9877223549072, 1385.588346148599, 1386.965253151063, 1387.8750700656406, 1388.4770263231887, 1388.8440370144717, 1390.487350827867, 1391.0624357309748, 1391.6519556591952, 1392.2652378595242, 1392.7099756091056, 1393.6639859082586, 1394.10872365784, 1394.6878059525177, 1395.4854000925632, 1396.4018793264233, 1396.9802953891726, 1397.898995396127, 1398.6555052339288, 1399.2652341973069, 1399.8292152349436, 1400.4580428469321, 1401.086426304302, 1401.6870500979937, 1402.3358646678305, 1402.925384596051, 1403.5077980503697, 1404.0955413601148, 1404.6899469891425, 1405.7430037682989, 1406.8056098717605, 1407.194828293986, 1407.6284621780962, 1408.531616773391, 1409.1571132257384, 1410.2006206805895, 1410.8234522052237, 1411.261305558213, 1412.4489289597748, 1413.0468878257534, 1413.4640879889662, 1414.408548963814, 1414.8030972414654, 1415.7786490396325, 1416.394818244984, 1417.7244227805406, 1418.3619114075968, 1419.1249474477506, 1419.7135790667335, 1420.3253067258963, 1421.906956780544, 1422.8669631670516, 1423.5830549345383, 1424.6210104566537, 1425.0171132754713, 1426.204736677033, 1426.7920358321592, 1427.409981655986, 1428.0059418261799, 1428.5810267292877, 1429.1920881565225, 1429.9720020721925, 1430.9531058030952, 1431.8438240690623, 1432.6225416378068, 1433.3790514756085, 1433.7942529430366, 1434.8606343607585, 1435.4612581544502, 1436.6579867256985, 1437.1184919642492, 1438.1040372413404, 1439.0367281187887, 1439.7403957840534, 1440.1451596179384, 1440.6005570783723, 1440.9966598971898, 1441.7753774659343, 1442.3537935286836, 1442.743011950909, 1443.3556279193097, 1444.0672903677137, 1445.138557486243, 1445.7798214275592, 1446.1690398497847, 1446.9144458221153, 1447.329425212234, 1447.9467048041324, 1448.3248193608865, 1449.246184295554, 1449.8299302137295, 1450.240690134969, 1450.8162191926958, 1451.4017417293467, 1452.1915631635623, 1452.7668701439795, 1453.2160494397494, 1453.9725592775512, 1454.8643879300653, 1455.8141787603392, 1456.86168360676, 1457.4789631986584, 1458.1128985887638, 1458.7512755250577, 1459.3185877223357, 1460.2308474873169, 1460.8607854858526, 1461.405889952188, 1461.8062122398846, 1462.5904817413646, 1463.2062067920972, 1463.6231848780005, 1464.596293825764, 1465.190255300173, 1466.5829297916064, 1467.551375115872, 1468.174206640506, 1469.0587067418091, 1469.8707359069672, 1470.8480643236098, 1472.5552002851884, 1473.5180936767183, 1474.1000629764183, 1474.6735933383602, 1475.0905714242635, 1476.1009893600103, 1477.0070309603275, 1477.598105429714, 1478.5504752273225, 1479.1844106174278, 1479.562525174182, 1480.3986246491363, 1480.8211546677753, 1481.7496260763444, 1482.3280421390937, 1482.862042739958, 1483.4608899151744, 1484.25071134939, 1484.8513351430818, 1485.2849690271921, 1485.7030574996427, 1486.6526262526072, 1487.2310423153565, 1487.987330075849, 1488.409860094488, 1489.6756424818614, 1490.2473962253277, 1490.8626771214415, 1491.4659658428463, 1492.0301689577925, 1492.4224964623497, 1493.325873134954, 1494.324298895992, 1494.9204811434952, 1495.9433354085697, 1497.3026983035893, 1498.2057791656114, 1499.1660076294283, 1499.5885376480674, 1500.21581071889, 1500.8330903107885, 1501.661553196844, 1502.0674274172761, 1502.9770222545442, 1503.6071823303894, 1504.5643017118744, 1505.1760293710372, 1505.7988608956714, 1506.3661730929493, 1506.9510293976718, 1507.9423486848082, 1508.8892525100596, 1509.2802475507604, 1509.981238061206, 1510.5729787625207, 1511.195810287155, 1511.7629004071234, 1512.7697651059195, 1513.3872667751275, 1513.7804825889225, 1514.4017595723906, 1515.0088236080555, 1515.5761358053335, 1516.2022984896091, 1517.1913970036512, 1517.7720338394947, 1518.5840630046528, 1519.1751374740393, 1519.7424496713172, 1520.3477370885068, 1520.7531671543202, 1521.368003895815, 1522.1825618717553, 1522.7807428150434, 1523.3591588777927, 1524.1905947292491, 1524.5798131514746, 1524.9776925887675, 1526.2406739314968, 1526.8024341960393, 1527.4441422919745, 1528.4103668431458, 1529.4203283971679, 1529.8373064830712, 1530.2371846161489, 1530.6281796568496, 1531.2687773662378, 1532.293408249788, 1532.9162397744221, 1533.509090862284, 1533.9205170154519, 1534.536019988875, 1535.147747648038, 1535.5511790180665, 1535.9719324182302, 1537.2261790126192, 1537.8194742551, 1538.4556304182995, 1539.235014218972, 1540.189024518125, 1540.7785444463454, 1541.3729500753732, 1542.328514915692, 1542.9513464403262, 1543.8415345912958, 1544.5169984382637, 1545.6861894231433, 1546.2692691093905, 1547.1673159265686, 1548.2607907760403, 1548.8392068387896, 1549.5846128111202, 1550.084869888058, 1550.950049263441, 1551.6006404517534, 1551.956547277565, 1552.8281668949214, 1554.1490366821379, 1554.5651264588037, 1555.4929316354446, 1555.8694916510328, 1556.5145309066095, 1556.9292882194186, 1557.6302787298644, 1558.266434893064, 1558.908142988999, 1560.1457337851814, 1560.7130459824593, 1561.7363444021528, 1562.6692573569105, 1563.375799800092, 1563.9397808377287, 1564.6176875351002, 1565.7013909829573, 1566.2960186892944, 1567.1321181642488, 1568.575562399162, 1569.1593083173375, 1569.7530477144371, 1570.3425676426575, 1570.9820549654985, 1571.559138564391, 1572.1864116352137, 1573.2214801523066, 1573.8889492161352, 1574.300375369303, 1574.8936706117838, 1575.6390765841145, 1576.563106446495, 1577.1550692251192, 1577.9670983902772, 1578.3703076829963, 1578.7595261052218, 1579.7588401754974, 1580.1505014481265, 1581.144485662976, 1581.783972985817, 1583.1439283794923, 1583.9393017464436, 1585.160668671932, 1586.1462139490231, 1587.9971691692388, 1589.538179076262, 1590.1157068297734, 1590.754527920686, 1591.9924267545564, 1592.6341348504916, 1593.2112184493842, 1593.956488304784, 1594.379018323423, 1595.3996518154033, 1595.7888702376288, 1596.4005978967916, 1597.199302423384, 1597.5885208456095, 1598.1849251704223, 1599.4174081884878, 1600.3529860709584, 1601.0073525735309, 1601.9156149469425, 1603.2563233479705, 1604.4661544804746, 1606.1732904420533, 1607.416865098484, 1608.0161564283192, 1609.2217680919443, 1609.911222809406, 1610.333752828045, 1610.9352649309742, 1611.3564624857568, 1612.5024714700776, 1613.5453126930004, 1613.937196042939, 1614.9480581333046, 1615.3150688245876, 1615.976319723752, 1617.0662291091671, 1617.648642563486, 1618.242604037895, 1618.8432278315868, 1619.8354354279609, 1620.9873043827054, 1622.261389590906, 1622.672815744074, 1623.2596707445812, 1623.6666553515604, 1624.0558737737858, 1624.8345913425303, 1625.6022050458034, 1626.2037171487327, 1626.6595587637855, 1627.2610708667148, 1628.2985822342114, 1628.9103098933742, 1629.7001313275898, 1630.278547390339, 1631.0239533626698, 1631.5912655599477, 1632.173456936957, 1632.7496522266122, 1633.65051231554, 1634.2111621935353, 1635.3210585367985, 1636.8195901715549, 1637.4051127082057, 1639.190259311559, 1639.6016854647269, 1640.3804030334713, 1641.45189222931, 1642.191746268905, 1643.1968343492256, 1643.7379414239915, 1644.2941497557983, 1645.66816975324, 1646.6019710172352, 1647.1877156311955, 1647.5991417843634, 1648.4111709495214, 1649.0117947432132, 1649.4454286273235, 1650.03650309671, 1650.9882926227688, 1651.7128233280134, 1652.3329899249345, 1652.746858928506, 1653.7119730931304, 1654.3081553406337, 1654.900784351186, 1655.5347197412914, 1656.1311240661041, 1656.8030346761211, 1657.692642555541, 1658.1034024767805, 1659.3025616713264, 1659.8898608264526, 1660.3177207005178, 1661.085334403791, 1661.4967605569589, 1663.0448769378836, 1663.4698498069263, 1664.2485673756707, 1664.6966362848937, 1665.1080624380616, 1665.7419978281669, 1666.4985076659686, 1667.1790792910533, 1667.7883640998125, 1668.377884028033, 1668.9451962253108, 1669.5369369266255, 1670.3489660917835, 1671.0943720641142, 1671.7032127182547, 1672.3149403774175, 1673.5247715099217, 1673.9139899321472, 1674.525051359382, 1674.947581378021, 1675.3367998002464, 1675.7526674996027, 1676.7932879494313, 1677.3990195212398, 1678.0034186291916, 1678.4141785504312, 1678.9814907477091, 1680.1131628944017, 1680.74598789796, 1681.3799232880654, 1682.3206089486528, 1683.0322713970568, 1683.6328951907485, 1684.8764698471794, 1685.6884990123374, 1686.2935643522176, 1686.900850465192, 1687.5305663864183, 1688.6978446358914, 1689.4987699355784, 1690.2663836388515, 1690.733107042066, 1691.589551669109, 1692.1866222258498, 1692.5758406480752, 1693.1635839578203, 1693.746441566758, 1694.1667508123028, 1695.28509832043, 1696.2228969759951, 1696.599234914274, 1697.3779524830184, 1697.9705814935708, 1698.9718082992526, 1699.895308046636, 1700.7937990184328, 1701.4055266775956, 1702.3179225595077, 1702.8930074626155, 1703.4805286950511, 1704.9005186955437, 1705.5011424892355, 1705.8959128441963, 1706.2751377874977, 1707.0423932965305, 1707.973751710122, 1708.569267725697, 1709.1490162523028, 1709.9672635821248, 1710.3871286730507, 1711.4859211508426, 1711.8838005881355, 1712.6069988295237, 1713.240934219629, 1713.8209048235442, 1714.2101232457696, 1715.173238714609, 1715.5979895063422, 1716.2883325330415, 1716.8856251670918, 1718.150309395024, 1718.7273929939165, 1719.506110562661, 1720.7574823791335, 1721.7037199724566, 1723.0444283734846, 1724.0173152439386, 1724.5957313066879, 1725.3078256826047, 1725.909337785534, 1726.7791070511425, 1727.7006940631195, 1728.2791101258688, 1728.876402759919, 1730.1084416233657, 1730.6935200053977, 1731.2033264066406, 1731.7961774945024, 1732.3856974227228, 1733.6070643482112, 1734.552635709606, 1735.1541478125353, 1736.1492424139317, 1736.8011660661004, 1737.201044199178, 1737.825874419597, 1738.2328590265763, 1739.0115765953208, 1739.8918572277448, 1741.1233158196417, 1741.5451058730798, 1742.1457296667716, 1743.0562128132774, 1743.8238265165505, 1744.4333334026192, 1745.234258702306, 1745.9012836115157, 1746.5079034925618, 1747.4936708469625, 1748.0942946406542, 1748.7584325448413, 1749.7330960337708, 1751.220807386532, 1751.8980478519752, 1752.4764639147245, 1753.5552694346682, 1754.047309651157, 1754.6308334920232, 1755.1963690708258, 1756.9248859602758, 1757.323431629497, 1758.151980475931, 1758.5411988981564, 1759.1418226918481, 1759.5421449795447, 1759.954903596569, 1761.0508090693384, 1761.9490779638259, 1762.7277955325703, 1763.3395231917332, 1764.7934910205677, 1765.3910057319274, 1765.798656570835, 1766.3938143921696, 1767.4852905458565, 1767.8467493044038, 1768.8691594148595, 1769.9204395755405, 1771.0687675204401, 1772.0092311037183, 1772.4255429576936, 1773.013952499367, 1773.928210960133, 1774.521728279923, 1775.1112482081435, 1775.5393301595182, 1775.978515976364, 1776.7350258141657, 1777.3356496078575, 1778.1210294958846, 1779.4817248547608, 1780.3135926337302, 1780.7028110559556, 1781.2834478917991, 1781.6726663140246, 1783.07999790788, 1783.9340734177918, 1784.3654865288079, 1785.2972890970184, 1785.9050193646117, 1786.862804978025, 1787.4680923952146, 1788.057612323435, 1788.4681501673651, 1789.7533392410369, 1790.3641785909622, 1790.9403738806172, 1792.127997282179, 1792.7175172103994, 1794.0195104263148, 1794.7982279950593, 1795.2536254554932, 1795.865353114656, 1796.8608918706714, 1797.6420522898195, 1799.1077042556751, 1800.061714554828, 1800.679660378655, 1801.607021400677, 1802.203647802799, 1803.0378846988995, 1804.0232078986812, 1804.6844587978458, 1805.1760548597158, 1805.7731254164567, 1806.3764141378615, 1806.9792587046475, 1808.0780511824394, 1809.061153609127, 1810.4149030652443, 1811.0010918338235, 1811.9932994301976, 1812.7343498167181, 1813.145775969886, 1813.8861601244785, 1814.4645761872277, 1814.898210071338, 1815.852220370491, 1817.2346793056909, 1817.8197576877228, 1818.2311838408907, 1818.854015365525, 1819.4504196903376, 1820.4821570477893, 1821.4139596159998, 1821.8364896346388, 1822.4468848299452, 1823.8113555030816, 1825.339484926158, 1826.0027345211076, 1826.9563006656417, 1827.3788306842807, 1827.954137664698]}\n"
     ]
    }
   ],
   "source": [
    "trainMultipleRegression(train)"
   ]
  },
  {
   "cell_type": "code",
   "execution_count": 124,
   "id": "3e371436",
   "metadata": {},
   "outputs": [
    {
     "name": "stdout",
     "output_type": "stream",
     "text": [
      "{0: 25, 1: 57, 2: 62, 3: 92, 4: 36, 5: 33, 6: 12, 7: 41, 8: 15, 9: 86}\n",
      "12\n",
      "6\n"
     ]
    }
   ],
   "source": [
    "slope = {}\n",
    "for i in range(10):\n",
    "    sum = random.randint(0,100)\n",
    "    slope[i] = sum\n",
    "\n",
    "temp = min(slope.values())\n",
    "\n",
    "keys=list(slope.keys())  #in python 3, you'll need `list(i.keys())`\n",
    "values=list(slope.values())\n",
    "\n",
    "print(slope)\n",
    "print(temp)\n",
    "print(keys[values.index(temp)])"
   ]
  }
 ],
 "metadata": {
  "kernelspec": {
   "display_name": "base",
   "language": "python",
   "name": "python3"
  },
  "language_info": {
   "codemirror_mode": {
    "name": "ipython",
    "version": 3
   },
   "file_extension": ".py",
   "mimetype": "text/x-python",
   "name": "python",
   "nbconvert_exporter": "python",
   "pygments_lexer": "ipython3",
   "version": "3.9.12"
  },
  "vscode": {
   "interpreter": {
    "hash": "c7dc9fe095de68ace368b65ab3dbfe5f48830e7110a46f0deecf8b3332d4184d"
   }
  }
 },
 "nbformat": 4,
 "nbformat_minor": 5
}
