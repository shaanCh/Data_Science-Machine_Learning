{
 "cells": [
  {
   "cell_type": "code",
   "execution_count": 143,
   "metadata": {},
   "outputs": [],
   "source": [
    "from PIL import Image\n",
    "import numpy as np\n",
    "import random\n",
    "\n",
    "maze_image = Image.open('5x5.png')\n"
   ]
  },
  {
   "cell_type": "code",
   "execution_count": 144,
   "metadata": {},
   "outputs": [],
   "source": [
    "# Converts image to a defaut tuple of RBG .convert() or greyscale .convert(\"L\") or a Palletescale .convert(\"P\")\n",
    "# Greyscale averages the RBG tuple into a single number so its easier to work with\n",
    "maze_image = maze_image.convert('P')\n"
   ]
  },
  {
   "cell_type": "code",
   "execution_count": 145,
   "metadata": {},
   "outputs": [],
   "source": [
    "# resize image to fit scale of matrix\n",
    "# Helps to convert some random scale of the image into a scale we can use\n",
    "maze_image = maze_image.resize((5, 5))\n"
   ]
  },
  {
   "cell_type": "code",
   "execution_count": 146,
   "metadata": {},
   "outputs": [
    {
     "name": "stdout",
     "output_type": "stream",
     "text": [
      "[[1 1 0 0 2]\n",
      " [1 0 0 1 0]\n",
      " [0 0 0 1 0]\n",
      " [0 1 0 1 0]\n",
      " [3 1 0 0 0]]\n"
     ]
    }
   ],
   "source": [
    "# converts image to array\n",
    "\n",
    "image_array = np.array(maze_image)\n",
    "\n",
    "print(image_array)\n"
   ]
  },
  {
   "cell_type": "code",
   "execution_count": 147,
   "metadata": {},
   "outputs": [],
   "source": [
    "#image_array = np.pad(image_array, pad_width=1, mode='constant', constant_values=1)\n",
    "# print(image_array)\n"
   ]
  },
  {
   "cell_type": "code",
   "execution_count": 148,
   "metadata": {},
   "outputs": [
    {
     "name": "stdout",
     "output_type": "stream",
     "text": [
      "[[0. 0. 0. 0.]\n",
      " [0. 0. 0. 0.]\n",
      " [0. 0. 0. 0.]\n",
      " [0. 0. 0. 0.]\n",
      " [0. 0. 0. 0.]\n",
      " [0. 0. 0. 0.]\n",
      " [0. 0. 0. 0.]\n",
      " [0. 0. 0. 0.]\n",
      " [0. 0. 0. 0.]\n",
      " [0. 0. 0. 0.]\n",
      " [0. 0. 0. 0.]\n",
      " [0. 0. 0. 0.]\n",
      " [0. 0. 0. 0.]\n",
      " [0. 0. 0. 0.]\n",
      " [0. 0. 0. 0.]\n",
      " [0. 0. 0. 0.]\n",
      " [0. 0. 0. 0.]\n",
      " [0. 0. 0. 0.]\n",
      " [0. 0. 0. 0.]\n",
      " [0. 0. 0. 0.]\n",
      " [0. 0. 0. 0.]\n",
      " [0. 0. 0. 0.]\n",
      " [0. 0. 0. 0.]\n",
      " [0. 0. 0. 0.]\n",
      " [0. 0. 0. 0.]]\n"
     ]
    }
   ],
   "source": [
    "states = 25\n",
    "actions = 4\n",
    "state_action_table = np.zeros((states, actions))\n",
    "print(state_action_table)\n"
   ]
  },
  {
   "cell_type": "code",
   "execution_count": 169,
   "metadata": {},
   "outputs": [
    {
     "name": "stdout",
     "output_type": "stream",
     "text": [
      "[[-10 -10  -1  -1   0]\n",
      " [-10  -1  -1 -10  -1]\n",
      " [ -1  -1  -1 -10  -1]\n",
      " [ -1 -10  -1 -10  -1]\n",
      " [ 50 -10  -1  -1  -1]]\n"
     ]
    }
   ],
   "source": [
    "def create_rewards_matrix(maze):\n",
    "    rewards = np.full_like(maze, -1, dtype=int)\n",
    "    for y, row in enumerate(maze):\n",
    "        for x, cell in enumerate(row):\n",
    "            if cell == 3:  # Charging station\n",
    "                rewards[y][x] = 50\n",
    "            elif cell == 1:  # Wall\n",
    "                rewards[y][x] = -10\n",
    "            elif cell == 2:  # Charging station\n",
    "                rewards[y][x] = 0\n",
    "    return rewards\n",
    "\n",
    "\n",
    "x = create_rewards_matrix(image_array)\n",
    "print(x)\n"
   ]
  },
  {
   "cell_type": "code",
   "execution_count": 174,
   "metadata": {},
   "outputs": [
    {
     "name": "stdout",
     "output_type": "stream",
     "text": [
      "(0, 4)\n"
     ]
    }
   ],
   "source": [
    "start_state = np.where(image_array == 2)\n",
    "row_index = start_state[0][0]\n",
    "column_index = start_state[1][0]\n",
    "start_state = (row_index, column_index)\n",
    "print(start_state)\n",
    "\n",
    "# Set the parameters for the Q-learning algorithm\n",
    "num_episodes = 100\n",
    "alpha = 0.8\n",
    "gamma = 0.95\n",
    "epsilon = 0.1\n"
   ]
  },
  {
   "cell_type": "code",
   "execution_count": null,
   "metadata": {},
   "outputs": [],
   "source": []
  },
  {
   "cell_type": "code",
   "execution_count": 168,
   "metadata": {},
   "outputs": [
    {
     "name": "stdout",
     "output_type": "stream",
     "text": [
      "0.0 0.9999872\n"
     ]
    }
   ],
   "source": [
    "num_states, num_actions = state_action_table.shape\n",
    "i, j = start_state\n",
    "state = i * num_states + j\n",
    "\n",
    "action = np.random.choice(state_action_table[state])\n",
    "i, j = divmod(action, num_states)\n",
    "print(i, j)\n",
    "#next_state = i * num_states + j\n",
    "#reward = state_action_table[i, j]\n",
    "# print(state_action_table)\n"
   ]
  },
  {
   "cell_type": "code",
   "execution_count": 170,
   "metadata": {},
   "outputs": [
    {
     "ename": "SyntaxError",
     "evalue": "'break' outside loop (1131792370.py, line 12)",
     "output_type": "error",
     "traceback": [
      "\u001b[1;36m  File \u001b[1;32m\"C:\\Users\\schauhan2\\AppData\\Local\\Temp\\ipykernel_2480\\1131792370.py\"\u001b[1;36m, line \u001b[1;32m12\u001b[0m\n\u001b[1;33m    break\u001b[0m\n\u001b[1;37m    ^\u001b[0m\n\u001b[1;31mSyntaxError\u001b[0m\u001b[1;31m:\u001b[0m 'break' outside loop\n"
     ]
    }
   ],
   "source": [
    "\n",
    "# Define the hyperparameters\n",
    "alpha = 0.1  # Learning rate\n",
    "gamma = 0.9  # Discount factor\n",
    "epsilon = 0.1  # Exploration rate\n",
    "\n",
    "# Define the function to convert state coordinates to an index in the Q-table\n",
    "def state_to_index(state):\n",
    "    return state[0], state[1]\n",
    "\n",
    "# Define the function to select an action based on the Q-table and the exploration rate\n",
    "def select_action(state, q_table, epsilon):\n",
    "    if np.random.random() < epsilon:\n",
    "        # Select a random action\n",
    "        action = np.random.choice([0, 1, 2, 3])\n",
    "    else:\n",
    "        # Select the action with the highest Q-value\n",
    "        index = state_to_index(state)\n",
    "        action = np.argmax(q_table[index])\n",
    "    return action\n",
    "\n",
    "# Define the main training loop\n",
    "for episode in range(10000):\n",
    "    # Reset the environment to the starting state\n",
    "    state = (1, 1)\n",
    "    done = False\n",
    "    \n",
    "    while not done:\n",
    "        # Select an action based on the Q-table and the exploration rate\n",
    "        action = select_action(state, q_table, epsilon)\n",
    "        \n",
    "        # Take the selected action and observe the next state and reward\n",
    "        if action == 0:  # Move up\n",
    "            next_state = (state[0]-1, state[1])\n",
    "        elif action == 1:  # Move down\n",
    "            next_state = (state[0]+1, state[1])\n",
    "        elif action == 2:  # Move left\n",
    "            next_state = (state[0], state[1]-1)\n",
    "        elif action == 3:  # Move right\n",
    "            next_state = (state[0], state[1]+1)\n",
    "        \n",
    "        # Check if the next state is valid (i.e., within the bounds of the environment)\n",
    "        if (next_state[0] >= 0 and next_state[0] < 5 and next_state[1] >= 0 and next_state[1] < 5):\n",
    "            # Get the reward for the next state\n",
    "            reward = env[next_state]\n",
    "            \n",
    "            # Update the Q-value for the current state and action\n",
    "            index = state_to_index(state)\n",
    "            q_table[index][action] += alpha * (reward + gamma * np.max(q_table[state_to_index(next_state)]) - q_table[index][action])\n",
    "            \n",
    "            # Move to the next state\n",
    "            state = next_state\n",
    "        else:\n",
    "            # If the next state is invalid, penalize the action and stay in the current state\n",
    "            index\n"
   ]
  },
  {
   "cell_type": "code",
   "execution_count": 171,
   "metadata": {},
   "outputs": [
    {
     "ename": "IndexError",
     "evalue": "only integers, slices (`:`), ellipsis (`...`), numpy.newaxis (`None`) and integer or boolean arrays are valid indices",
     "output_type": "error",
     "traceback": [
      "\u001b[1;31m---------------------------------------------------------------------------\u001b[0m",
      "\u001b[1;31mIndexError\u001b[0m                                Traceback (most recent call last)",
      "\u001b[1;32m~\\AppData\\Local\\Temp\\ipykernel_2480\\2934978144.py\u001b[0m in \u001b[0;36m<module>\u001b[1;34m\u001b[0m\n\u001b[1;32m----> 1\u001b[1;33m updatedQtable = Qlearning(image_array, state_action_table,\n\u001b[0m\u001b[0;32m      2\u001b[0m                           start_state, num_episodes, alpha, gamma, epsilon)\n\u001b[0;32m      3\u001b[0m \u001b[0mprint\u001b[0m\u001b[1;33m(\u001b[0m\u001b[0mupdatedQtable\u001b[0m\u001b[1;33m)\u001b[0m\u001b[1;33m\u001b[0m\u001b[1;33m\u001b[0m\u001b[0m\n",
      "\u001b[1;32m~\\AppData\\Local\\Temp\\ipykernel_2480\\1899202427.py\u001b[0m in \u001b[0;36mQlearning\u001b[1;34m(matrix, q_table, start_state, num_episodes, alpha, gamma, epsilon)\u001b[0m\n\u001b[0;32m     20\u001b[0m             \u001b[0mi\u001b[0m\u001b[1;33m,\u001b[0m \u001b[0mj\u001b[0m \u001b[1;33m=\u001b[0m \u001b[0mdivmod\u001b[0m\u001b[1;33m(\u001b[0m\u001b[0maction\u001b[0m\u001b[1;33m,\u001b[0m \u001b[0mnum_states\u001b[0m\u001b[1;33m)\u001b[0m\u001b[1;33m\u001b[0m\u001b[1;33m\u001b[0m\u001b[0m\n\u001b[0;32m     21\u001b[0m             \u001b[0mnext_state\u001b[0m \u001b[1;33m=\u001b[0m \u001b[0mi\u001b[0m \u001b[1;33m*\u001b[0m \u001b[0mnum_states\u001b[0m \u001b[1;33m+\u001b[0m \u001b[0mj\u001b[0m\u001b[1;33m\u001b[0m\u001b[1;33m\u001b[0m\u001b[0m\n\u001b[1;32m---> 22\u001b[1;33m             \u001b[0mreward\u001b[0m \u001b[1;33m=\u001b[0m \u001b[0mmatrix\u001b[0m\u001b[1;33m[\u001b[0m\u001b[0mi\u001b[0m\u001b[1;33m,\u001b[0m \u001b[0mj\u001b[0m\u001b[1;33m]\u001b[0m\u001b[1;33m\u001b[0m\u001b[1;33m\u001b[0m\u001b[0m\n\u001b[0m\u001b[0;32m     23\u001b[0m             \u001b[1;31m# Update the Q-value for the current state and action using the Q-learning update rule\u001b[0m\u001b[1;33m\u001b[0m\u001b[1;33m\u001b[0m\u001b[0m\n\u001b[0;32m     24\u001b[0m             \u001b[0mq_table\u001b[0m\u001b[1;33m[\u001b[0m\u001b[0mstate\u001b[0m\u001b[1;33m]\u001b[0m\u001b[1;33m[\u001b[0m\u001b[0maction\u001b[0m\u001b[1;33m]\u001b[0m \u001b[1;33m+=\u001b[0m \u001b[0malpha\u001b[0m \u001b[1;33m*\u001b[0m \u001b[1;33m(\u001b[0m\u001b[0mreward\u001b[0m \u001b[1;33m+\u001b[0m \u001b[0mgamma\u001b[0m \u001b[1;33m*\u001b[0m \u001b[0mnp\u001b[0m\u001b[1;33m.\u001b[0m\u001b[0mmax\u001b[0m\u001b[1;33m(\u001b[0m\u001b[0mq_table\u001b[0m\u001b[1;33m[\u001b[0m\u001b[0mnext_state\u001b[0m\u001b[1;33m]\u001b[0m\u001b[1;33m)\u001b[0m \u001b[1;33m-\u001b[0m \u001b[0mq_table\u001b[0m\u001b[1;33m[\u001b[0m\u001b[0mstate\u001b[0m\u001b[1;33m]\u001b[0m\u001b[1;33m[\u001b[0m\u001b[0maction\u001b[0m\u001b[1;33m]\u001b[0m\u001b[1;33m)\u001b[0m\u001b[1;33m\u001b[0m\u001b[1;33m\u001b[0m\u001b[0m\n",
      "\u001b[1;31mIndexError\u001b[0m: only integers, slices (`:`), ellipsis (`...`), numpy.newaxis (`None`) and integer or boolean arrays are valid indices"
     ]
    }
   ],
   "source": [
    "updatedQtable = Qlearning(image_array, state_action_table,\n",
    "                          start_state, num_episodes, alpha, gamma, epsilon)\n",
    "print(updatedQtable)\n"
   ]
  }
 ],
 "metadata": {
  "kernelspec": {
   "display_name": "base",
   "language": "python",
   "name": "python3"
  },
  "language_info": {
   "codemirror_mode": {
    "name": "ipython",
    "version": 3
   },
   "file_extension": ".py",
   "mimetype": "text/x-python",
   "name": "python",
   "nbconvert_exporter": "python",
   "pygments_lexer": "ipython3",
   "version": "3.9.13"
  },
  "orig_nbformat": 4
 },
 "nbformat": 4,
 "nbformat_minor": 2
}
