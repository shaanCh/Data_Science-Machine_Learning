{
 "cells": [
  {
   "cell_type": "code",
   "execution_count": 86,
   "metadata": {},
   "outputs": [],
   "source": [
    "from PIL import Image\n",
    "import numpy as np\n",
    "import random\n",
    "\n",
    "maze_image = Image.open('5x5.png')\n",
    "\n",
    "\n"
   ]
  },
  {
   "cell_type": "code",
   "execution_count": 87,
   "metadata": {},
   "outputs": [],
   "source": [
    "#Converts image to a defaut tuple of RBG .convert() or greyscale .convert(\"L\") or a Palletescale .convert(\"P\")\n",
    "# Greyscale averages the RBG tuple into a single number so its easier to work with\n",
    "maze_image = maze_image.convert('P')"
   ]
  },
  {
   "cell_type": "code",
   "execution_count": 88,
   "metadata": {},
   "outputs": [],
   "source": [
    "#resize image to fit scale of matrix\n",
    "#Helps to convert some random scale of the image into a scale we can use\n",
    "maze_image = maze_image.resize((5, 5))"
   ]
  },
  {
   "cell_type": "code",
   "execution_count": 89,
   "metadata": {},
   "outputs": [
    {
     "name": "stdout",
     "output_type": "stream",
     "text": [
      "[[1 1 0 0 2]\n",
      " [1 0 0 1 0]\n",
      " [0 0 0 1 0]\n",
      " [0 1 0 1 0]\n",
      " [3 1 0 0 0]]\n"
     ]
    }
   ],
   "source": [
    "#converts image to array\n",
    "\n",
    "image_array = np.array(maze_image)\n",
    "\n",
    "print(image_array)\n"
   ]
  },
  {
   "cell_type": "code",
   "execution_count": 90,
   "metadata": {},
   "outputs": [],
   "source": [
    "#image_array = np.pad(image_array, pad_width=1, mode='constant', constant_values=1)\n",
    "#print(image_array)"
   ]
  },
  {
   "cell_type": "code",
   "execution_count": 91,
   "metadata": {},
   "outputs": [
    {
     "name": "stdout",
     "output_type": "stream",
     "text": [
      "[[0. 0. 0. 0.]\n",
      " [0. 0. 0. 0.]\n",
      " [0. 0. 0. 0.]\n",
      " [0. 0. 0. 0.]\n",
      " [0. 0. 0. 0.]\n",
      " [0. 0. 0. 0.]\n",
      " [0. 0. 0. 0.]\n",
      " [0. 0. 0. 0.]\n",
      " [0. 0. 0. 0.]\n",
      " [0. 0. 0. 0.]\n",
      " [0. 0. 0. 0.]\n",
      " [0. 0. 0. 0.]\n",
      " [0. 0. 0. 0.]\n",
      " [0. 0. 0. 0.]\n",
      " [0. 0. 0. 0.]\n",
      " [0. 0. 0. 0.]\n",
      " [0. 0. 0. 0.]\n",
      " [0. 0. 0. 0.]\n",
      " [0. 0. 0. 0.]\n",
      " [0. 0. 0. 0.]\n",
      " [0. 0. 0. 0.]\n",
      " [0. 0. 0. 0.]\n",
      " [0. 0. 0. 0.]\n",
      " [0. 0. 0. 0.]\n",
      " [0. 0. 0. 0.]]\n"
     ]
    }
   ],
   "source": [
    "states = 25\n",
    "actions = 4\n",
    "state_action_table = np.zeros((states, actions))\n",
    "print(state_action_table)"
   ]
  },
  {
   "cell_type": "code",
   "execution_count": 92,
   "metadata": {},
   "outputs": [
    {
     "name": "stdout",
     "output_type": "stream",
     "text": [
      "[[-100 -100   -1   -1    0]\n",
      " [-100   -1   -1 -100   -1]\n",
      " [  -1   -1   -1 -100   -1]\n",
      " [  -1 -100   -1 -100   -1]\n",
      " [ 500 -100   -1   -1   -1]]\n"
     ]
    }
   ],
   "source": [
    "def create_rewards_matrix(maze):\n",
    "    rewards = np.full_like(maze, -1, dtype=int)\n",
    "    for y, row in enumerate(maze):\n",
    "        for x, cell in enumerate(row):\n",
    "            if cell == 3:  # Charging station\n",
    "                rewards[y][x] = 500\n",
    "            elif cell == 1:  # Wall\n",
    "                rewards[y][x] = -100\n",
    "            elif cell == 2:  # Charging station\n",
    "                rewards[y][x] = 0\n",
    "    return rewards\n",
    "\n",
    "x = create_rewards_matrix(image_array)\n",
    "print(x)"
   ]
  },
  {
   "cell_type": "code",
   "execution_count": 93,
   "metadata": {},
   "outputs": [
    {
     "name": "stdout",
     "output_type": "stream",
     "text": [
      "(0, 4)\n"
     ]
    }
   ],
   "source": [
    "start_state = np.where(image_array == 2)\n",
    "row_index = start_state[0][0]\n",
    "column_index = start_state[1][0]\n",
    "start_state = (row_index, column_index)\n",
    "print(start_state)\n",
    "\n",
    "# Set the parameters for the Q-learning algorithm\n",
    "num_episodes = 100\n",
    "alpha = 0.8\n",
    "gamma = 0.95\n",
    "epsilon = 0.1"
   ]
  },
  {
   "cell_type": "code",
   "execution_count": 94,
   "metadata": {},
   "outputs": [],
   "source": [
    "\n",
    "def Qlearning(matrix, q_table, start_state, num_episodes, alpha, gamma, epsilon):\n",
    "    # Get the number of states and actions from the Q-table\n",
    "    num_states, num_actions = q_table.shape\n",
    "    \n",
    "    # For each episode\n",
    "    for episode in range(num_episodes):\n",
    "        # Reset the environment and set the starting state\n",
    "        i, j = start_state\n",
    "        state = i * num_states + j\n",
    "        # Loop over time steps within the episode\n",
    "        while True:\n",
    "            # Choose an action using an epsilon-greedy policy\n",
    "            if np.random.uniform() < epsilon:\n",
    "                # Choose a random action\n",
    "                action = np.random.choice(len(matrix[state]))\n",
    "            else:\n",
    "                # Choose the action with the highest Q-value for the current state\n",
    "                action = np.argmax(q_table[state])\n",
    "            # Take the chosen action and observe the next state and reward\n",
    "            i, j = divmod(action, num_states)\n",
    "            next_state = i * num_states + j\n",
    "            reward = matrix[i, j]\n",
    "            # Update the Q-value for the current state and action using the Q-learning update rule\n",
    "            q_table[state][action] += alpha * (reward + gamma * np.max(q_table[next_state]) - q_table[state][action])\n",
    "            # Update the state\n",
    "            state = next_state\n",
    "            # If the episode has ended, break out of the time step loop\n",
    "            if reward != 0:\n",
    "                break\n",
    "    return q_table\n"
   ]
  },
  {
   "cell_type": "code",
   "execution_count": 95,
   "metadata": {},
   "outputs": [
    {
     "ename": "IndexError",
     "evalue": "index 4 is out of bounds for axis 0 with size 4",
     "output_type": "error",
     "traceback": [
      "\u001b[1;31m---------------------------------------------------------------------------\u001b[0m",
      "\u001b[1;31mIndexError\u001b[0m                                Traceback (most recent call last)",
      "\u001b[1;32m~\\AppData\\Local\\Temp\\ipykernel_2480\\1380386716.py\u001b[0m in \u001b[0;36m<module>\u001b[1;34m\u001b[0m\n\u001b[1;32m----> 1\u001b[1;33m \u001b[0mupdatedQtable\u001b[0m \u001b[1;33m=\u001b[0m \u001b[0mQlearning\u001b[0m\u001b[1;33m(\u001b[0m\u001b[0mimage_array\u001b[0m\u001b[1;33m,\u001b[0m \u001b[0mstate_action_table\u001b[0m\u001b[1;33m,\u001b[0m \u001b[0mstart_state\u001b[0m\u001b[1;33m,\u001b[0m \u001b[0mnum_episodes\u001b[0m\u001b[1;33m,\u001b[0m \u001b[0malpha\u001b[0m\u001b[1;33m,\u001b[0m \u001b[0mgamma\u001b[0m\u001b[1;33m,\u001b[0m \u001b[0mepsilon\u001b[0m\u001b[1;33m)\u001b[0m\u001b[1;33m\u001b[0m\u001b[1;33m\u001b[0m\u001b[0m\n\u001b[0m\u001b[0;32m      2\u001b[0m \u001b[0mprint\u001b[0m\u001b[1;33m(\u001b[0m\u001b[0mupdatedQtable\u001b[0m\u001b[1;33m)\u001b[0m\u001b[1;33m\u001b[0m\u001b[1;33m\u001b[0m\u001b[0m\n",
      "\u001b[1;32m~\\AppData\\Local\\Temp\\ipykernel_2480\\2559537250.py\u001b[0m in \u001b[0;36mQlearning\u001b[1;34m(matrix, q_table, start_state, num_episodes, alpha, gamma, epsilon)\u001b[0m\n\u001b[0;32m     22\u001b[0m             \u001b[0mreward\u001b[0m \u001b[1;33m=\u001b[0m \u001b[0mmatrix\u001b[0m\u001b[1;33m[\u001b[0m\u001b[0mi\u001b[0m\u001b[1;33m,\u001b[0m \u001b[0mj\u001b[0m\u001b[1;33m]\u001b[0m\u001b[1;33m\u001b[0m\u001b[1;33m\u001b[0m\u001b[0m\n\u001b[0;32m     23\u001b[0m             \u001b[1;31m# Update the Q-value for the current state and action using the Q-learning update rule\u001b[0m\u001b[1;33m\u001b[0m\u001b[1;33m\u001b[0m\u001b[0m\n\u001b[1;32m---> 24\u001b[1;33m             \u001b[0mq_table\u001b[0m\u001b[1;33m[\u001b[0m\u001b[0mstate\u001b[0m\u001b[1;33m]\u001b[0m\u001b[1;33m[\u001b[0m\u001b[0maction\u001b[0m\u001b[1;33m]\u001b[0m \u001b[1;33m+=\u001b[0m \u001b[0malpha\u001b[0m \u001b[1;33m*\u001b[0m \u001b[1;33m(\u001b[0m\u001b[0mreward\u001b[0m \u001b[1;33m+\u001b[0m \u001b[0mgamma\u001b[0m \u001b[1;33m*\u001b[0m \u001b[0mnp\u001b[0m\u001b[1;33m.\u001b[0m\u001b[0mmax\u001b[0m\u001b[1;33m(\u001b[0m\u001b[0mq_table\u001b[0m\u001b[1;33m[\u001b[0m\u001b[0mnext_state\u001b[0m\u001b[1;33m]\u001b[0m\u001b[1;33m)\u001b[0m \u001b[1;33m-\u001b[0m \u001b[0mq_table\u001b[0m\u001b[1;33m[\u001b[0m\u001b[0mstate\u001b[0m\u001b[1;33m]\u001b[0m\u001b[1;33m[\u001b[0m\u001b[0maction\u001b[0m\u001b[1;33m]\u001b[0m\u001b[1;33m)\u001b[0m\u001b[1;33m\u001b[0m\u001b[1;33m\u001b[0m\u001b[0m\n\u001b[0m\u001b[0;32m     25\u001b[0m             \u001b[1;31m# Update the state\u001b[0m\u001b[1;33m\u001b[0m\u001b[1;33m\u001b[0m\u001b[0m\n\u001b[0;32m     26\u001b[0m             \u001b[0mstate\u001b[0m \u001b[1;33m=\u001b[0m \u001b[0mnext_state\u001b[0m\u001b[1;33m\u001b[0m\u001b[1;33m\u001b[0m\u001b[0m\n",
      "\u001b[1;31mIndexError\u001b[0m: index 4 is out of bounds for axis 0 with size 4"
     ]
    }
   ],
   "source": [
    "updatedQtable = Qlearning(image_array, state_action_table, start_state, num_episodes, alpha, gamma, epsilon)\n",
    "print(updatedQtable)"
   ]
  }
 ],
 "metadata": {
  "kernelspec": {
   "display_name": "base",
   "language": "python",
   "name": "python3"
  },
  "language_info": {
   "codemirror_mode": {
    "name": "ipython",
    "version": 3
   },
   "file_extension": ".py",
   "mimetype": "text/x-python",
   "name": "python",
   "nbconvert_exporter": "python",
   "pygments_lexer": "ipython3",
   "version": "3.9.13"
  },
  "orig_nbformat": 4
 },
 "nbformat": 4,
 "nbformat_minor": 2
}
