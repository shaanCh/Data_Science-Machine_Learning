{
 "cells": [
  {
   "cell_type": "code",
   "execution_count": 10,
   "metadata": {},
   "outputs": [],
   "source": [
    "from PIL import Image\n",
    "import numpy as np\n",
    "\n",
    "maze_image = Image.open('5x5.png')\n",
    "\n",
    "\n"
   ]
  },
  {
   "cell_type": "code",
   "execution_count": 11,
   "metadata": {},
   "outputs": [],
   "source": [
    "#Converts image to a defaut tuple of RBG .convert() or greyscale .convert(\"L\") or a Palletescale .convert(\"P\")\n",
    "# Greyscale averages the RBG tuple into a single number so its easier to work with\n",
    "maze_image = maze_image.convert('P')"
   ]
  },
  {
   "cell_type": "code",
   "execution_count": 12,
   "metadata": {},
   "outputs": [],
   "source": [
    "#resize image to fit scale of matrix\n",
    "#Helps to convert some random scale of the image into a scale we can use\n",
    "maze_image = maze_image.resize((5, 5))"
   ]
  },
  {
   "cell_type": "code",
   "execution_count": 13,
   "metadata": {},
   "outputs": [
    {
     "name": "stdout",
     "output_type": "stream",
     "text": [
      "[[1 1 0 0 2]\n",
      " [1 0 0 1 0]\n",
      " [0 0 0 1 0]\n",
      " [0 1 0 1 0]\n",
      " [3 1 0 0 0]]\n"
     ]
    }
   ],
   "source": [
    "#converts image to array\n",
    "\n",
    "image_array = np.array(maze_image)\n",
    "\n",
    "print(image_array)\n"
   ]
  },
  {
   "cell_type": "code",
   "execution_count": 16,
   "metadata": {},
   "outputs": [
    {
     "name": "stdout",
     "output_type": "stream",
     "text": [
      "[[0. 0. 0. 0.]\n",
      " [0. 0. 0. 0.]\n",
      " [0. 0. 0. 0.]\n",
      " [0. 0. 0. 0.]\n",
      " [0. 0. 0. 0.]\n",
      " [0. 0. 0. 0.]\n",
      " [0. 0. 0. 0.]\n",
      " [0. 0. 0. 0.]\n",
      " [0. 0. 0. 0.]\n",
      " [0. 0. 0. 0.]\n",
      " [0. 0. 0. 0.]\n",
      " [0. 0. 0. 0.]\n",
      " [0. 0. 0. 0.]\n",
      " [0. 0. 0. 0.]\n",
      " [0. 0. 0. 0.]\n",
      " [0. 0. 0. 0.]\n",
      " [0. 0. 0. 0.]\n",
      " [0. 0. 0. 0.]\n",
      " [0. 0. 0. 0.]\n",
      " [0. 0. 0. 0.]\n",
      " [0. 0. 0. 0.]\n",
      " [0. 0. 0. 0.]\n",
      " [0. 0. 0. 0.]\n",
      " [0. 0. 0. 0.]\n",
      " [0. 0. 0. 0.]]\n"
     ]
    }
   ],
   "source": [
    "states = 25\n",
    "actions = 4\n",
    "state_action_table = np.zeros((states, actions))\n",
    "print(state_action_table)"
   ]
  },
  {
   "cell_type": "code",
   "execution_count": 20,
   "metadata": {},
   "outputs": [
    {
     "name": "stdout",
     "output_type": "stream",
     "text": [
      "[[-100 -100   -1   -1    0]\n",
      " [-100   -1   -1 -100   -1]\n",
      " [  -1   -1   -1 -100   -1]\n",
      " [  -1 -100   -1 -100   -1]\n",
      " [ 500 -100   -1   -1   -1]]\n"
     ]
    }
   ],
   "source": [
    "def create_rewards_matrix(maze):\n",
    "    rewards = np.full_like(maze, -1, dtype=int)\n",
    "    for y, row in enumerate(maze):\n",
    "        for x, cell in enumerate(row):\n",
    "            if cell == 3:  # Charging station\n",
    "                rewards[y][x] = 500\n",
    "            elif cell == 1:  # Wall\n",
    "                rewards[y][x] = -100\n",
    "            elif cell == 2:  # Charging station\n",
    "                rewards[y][x] = 0\n",
    "    return rewards\n",
    "\n",
    "x = create_rewards_matrix(image_array)\n",
    "print(x)"
   ]
  },
  {
   "cell_type": "code",
   "execution_count": null,
   "metadata": {},
   "outputs": [],
   "source": []
  }
 ],
 "metadata": {
  "kernelspec": {
   "display_name": "base",
   "language": "python",
   "name": "python3"
  },
  "language_info": {
   "codemirror_mode": {
    "name": "ipython",
    "version": 3
   },
   "file_extension": ".py",
   "mimetype": "text/x-python",
   "name": "python",
   "nbconvert_exporter": "python",
   "pygments_lexer": "ipython3",
   "version": "3.9.13"
  },
  "orig_nbformat": 4
 },
 "nbformat": 4,
 "nbformat_minor": 2
}
