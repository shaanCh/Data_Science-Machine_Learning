{
 "cells": [
  {
   "cell_type": "code",
   "execution_count": 267,
   "metadata": {},
   "outputs": [],
   "source": [
    "from PIL import Image\n",
    "import numpy as np\n",
    "import random\n",
    "import matplotlib.pyplot as plt\n",
    "\n",
    "maze_image = Image.open('5x5.png')\n"
   ]
  },
  {
   "cell_type": "code",
   "execution_count": 268,
   "metadata": {},
   "outputs": [],
   "source": [
    "# Converts image to a defaut tuple of RBG .convert() or greyscale .convert(\"L\") or a Palletescale .convert(\"P\")\n",
    "# Greyscale averages the RBG tuple into a single number so its easier to work with\n",
    "maze_image = maze_image.convert('P')\n"
   ]
  },
  {
   "cell_type": "code",
   "execution_count": 269,
   "metadata": {},
   "outputs": [],
   "source": [
    "# resize image to fit scale of matrix\n",
    "# Helps to convert some random scale of the image into a scale we can use\n",
    "maze_image = maze_image.resize((5, 5))\n"
   ]
  },
  {
   "cell_type": "code",
   "execution_count": 270,
   "metadata": {},
   "outputs": [
    {
     "name": "stdout",
     "output_type": "stream",
     "text": [
      "[[1 1 0 0 2]\n",
      " [1 0 0 1 0]\n",
      " [0 0 0 1 0]\n",
      " [0 1 0 1 0]\n",
      " [3 1 0 0 0]]\n"
     ]
    }
   ],
   "source": [
    "# converts image to array\n",
    "\n",
    "image_array = np.array(maze_image)\n",
    "\n",
    "print(image_array)\n"
   ]
  },
  {
   "cell_type": "code",
   "execution_count": 271,
   "metadata": {},
   "outputs": [],
   "source": [
    "#image_array = np.pad(image_array, pad_width=1, mode='constant', constant_values=1)\n",
    "# print(image_array)\n"
   ]
  },
  {
   "cell_type": "code",
   "execution_count": 272,
   "metadata": {},
   "outputs": [
    {
     "name": "stdout",
     "output_type": "stream",
     "text": [
      "[[0. 0. 0. 0.]\n",
      " [0. 0. 0. 0.]\n",
      " [0. 0. 0. 0.]\n",
      " [0. 0. 0. 0.]\n",
      " [0. 0. 0. 0.]\n",
      " [0. 0. 0. 0.]\n",
      " [0. 0. 0. 0.]\n",
      " [0. 0. 0. 0.]\n",
      " [0. 0. 0. 0.]\n",
      " [0. 0. 0. 0.]\n",
      " [0. 0. 0. 0.]\n",
      " [0. 0. 0. 0.]\n",
      " [0. 0. 0. 0.]\n",
      " [0. 0. 0. 0.]\n",
      " [0. 0. 0. 0.]\n",
      " [0. 0. 0. 0.]\n",
      " [0. 0. 0. 0.]\n",
      " [0. 0. 0. 0.]\n",
      " [0. 0. 0. 0.]\n",
      " [0. 0. 0. 0.]\n",
      " [0. 0. 0. 0.]\n",
      " [0. 0. 0. 0.]\n",
      " [0. 0. 0. 0.]\n",
      " [0. 0. 0. 0.]\n",
      " [0. 0. 0. 0.]]\n"
     ]
    }
   ],
   "source": [
    "states = 25\n",
    "actions = 4\n",
    "state_action_table = np.zeros((states, actions))\n",
    "print(state_action_table)\n"
   ]
  },
  {
   "cell_type": "code",
   "execution_count": 273,
   "metadata": {},
   "outputs": [
    {
     "name": "stdout",
     "output_type": "stream",
     "text": [
      "[[-10 -10  -1  -1   0]\n",
      " [-10  -1  -1 -10  -1]\n",
      " [ -1  -1  -1 -10  -1]\n",
      " [ -1 -10  -1 -10  -1]\n",
      " [ 50 -10  -1  -1  -1]]\n"
     ]
    }
   ],
   "source": [
    "def create_rewards_matrix(maze):\n",
    "    rewards = np.full_like(maze, -1, dtype=int)\n",
    "    for y, row in enumerate(maze):\n",
    "        for x, cell in enumerate(row):\n",
    "            if cell == 3:  # Charging station\n",
    "                rewards[y][x] = 50\n",
    "            elif cell == 1:  # Wall\n",
    "                rewards[y][x] = -10\n",
    "            elif cell == 2:  # Charging station\n",
    "                rewards[y][x] = 0\n",
    "    return rewards\n",
    "\n",
    "\n",
    "x = create_rewards_matrix(image_array)\n",
    "print(x)\n"
   ]
  },
  {
   "cell_type": "code",
   "execution_count": 274,
   "metadata": {},
   "outputs": [
    {
     "name": "stdout",
     "output_type": "stream",
     "text": [
      "(0, 4)\n",
      "(4, 0)\n"
     ]
    }
   ],
   "source": [
    "start_state = np.where(image_array == 2)\n",
    "row_index = start_state[0][0]\n",
    "column_index = start_state[1][0]\n",
    "start_state = (row_index, column_index)\n",
    "print(start_state)\n",
    "\n",
    "end_state = np.where(image_array == 3)\n",
    "row_index2 = end_state[0][0]\n",
    "column_index2 = end_state[1][0]\n",
    "end_state = (row_index2, column_index2)\n",
    "print(end_state)\n",
    "\n",
    "\n"
   ]
  },
  {
   "cell_type": "code",
   "execution_count": 275,
   "metadata": {},
   "outputs": [
    {
     "ename": "KeyboardInterrupt",
     "evalue": "",
     "output_type": "error",
     "traceback": [
      "\u001b[1;31m---------------------------------------------------------------------------\u001b[0m",
      "\u001b[1;31mKeyboardInterrupt\u001b[0m                         Traceback (most recent call last)",
      "\u001b[1;32m~\\AppData\\Local\\Temp\\ipykernel_11492\\2084795079.py\u001b[0m in \u001b[0;36m<module>\u001b[1;34m\u001b[0m\n\u001b[0;32m     57\u001b[0m     \u001b[1;32mwhile\u001b[0m \u001b[1;32mTrue\u001b[0m\u001b[1;33m:\u001b[0m\u001b[1;33m\u001b[0m\u001b[1;33m\u001b[0m\u001b[0m\n\u001b[0;32m     58\u001b[0m         \u001b[1;31m# Choose an action using the epsilon-greedy policy\u001b[0m\u001b[1;33m\u001b[0m\u001b[1;33m\u001b[0m\u001b[0m\n\u001b[1;32m---> 59\u001b[1;33m         \u001b[0maction\u001b[0m \u001b[1;33m=\u001b[0m \u001b[0mepsilon_greedy_policy\u001b[0m\u001b[1;33m(\u001b[0m\u001b[0mstate\u001b[0m\u001b[1;33m,\u001b[0m \u001b[0mq_table\u001b[0m\u001b[1;33m,\u001b[0m \u001b[0mepsilon\u001b[0m\u001b[1;33m)\u001b[0m\u001b[1;33m\u001b[0m\u001b[1;33m\u001b[0m\u001b[0m\n\u001b[0m\u001b[0;32m     60\u001b[0m \u001b[1;33m\u001b[0m\u001b[0m\n\u001b[0;32m     61\u001b[0m         \u001b[1;31m# Obtain the next state and reward\u001b[0m\u001b[1;33m\u001b[0m\u001b[1;33m\u001b[0m\u001b[0m\n",
      "\u001b[1;32m~\\AppData\\Local\\Temp\\ipykernel_11492\\2084795079.py\u001b[0m in \u001b[0;36mepsilon_greedy_policy\u001b[1;34m(state, q_table, epsilon)\u001b[0m\n\u001b[0;32m     40\u001b[0m         \u001b[0maction\u001b[0m \u001b[1;33m=\u001b[0m \u001b[0mrandom\u001b[0m\u001b[1;33m.\u001b[0m\u001b[0mrandint\u001b[0m\u001b[1;33m(\u001b[0m\u001b[1;36m0\u001b[0m\u001b[1;33m,\u001b[0m \u001b[1;36m3\u001b[0m\u001b[1;33m)\u001b[0m\u001b[1;33m\u001b[0m\u001b[1;33m\u001b[0m\u001b[0m\n\u001b[0;32m     41\u001b[0m     \u001b[1;32melse\u001b[0m\u001b[1;33m:\u001b[0m\u001b[1;33m\u001b[0m\u001b[1;33m\u001b[0m\u001b[0m\n\u001b[1;32m---> 42\u001b[1;33m         \u001b[0maction\u001b[0m \u001b[1;33m=\u001b[0m \u001b[0mnp\u001b[0m\u001b[1;33m.\u001b[0m\u001b[0margmax\u001b[0m\u001b[1;33m(\u001b[0m\u001b[0mq_table\u001b[0m\u001b[1;33m[\u001b[0m\u001b[0mstate\u001b[0m\u001b[1;33m]\u001b[0m\u001b[1;33m)\u001b[0m\u001b[1;33m\u001b[0m\u001b[1;33m\u001b[0m\u001b[0m\n\u001b[0m\u001b[0;32m     43\u001b[0m     \u001b[1;32mreturn\u001b[0m \u001b[0maction\u001b[0m\u001b[1;33m\u001b[0m\u001b[1;33m\u001b[0m\u001b[0m\n\u001b[0;32m     44\u001b[0m \u001b[1;33m\u001b[0m\u001b[0m\n",
      "\u001b[1;32m<__array_function__ internals>\u001b[0m in \u001b[0;36margmax\u001b[1;34m(*args, **kwargs)\u001b[0m\n",
      "\u001b[1;32mc:\\ProgramData\\Anaconda3\\lib\\site-packages\\numpy\\core\\fromnumeric.py\u001b[0m in \u001b[0;36margmax\u001b[1;34m(a, axis, out)\u001b[0m\n\u001b[0;32m   1193\u001b[0m \u001b[1;33m\u001b[0m\u001b[0m\n\u001b[0;32m   1194\u001b[0m     \"\"\"\n\u001b[1;32m-> 1195\u001b[1;33m     \u001b[1;32mreturn\u001b[0m \u001b[0m_wrapfunc\u001b[0m\u001b[1;33m(\u001b[0m\u001b[0ma\u001b[0m\u001b[1;33m,\u001b[0m \u001b[1;34m'argmax'\u001b[0m\u001b[1;33m,\u001b[0m \u001b[0maxis\u001b[0m\u001b[1;33m=\u001b[0m\u001b[0maxis\u001b[0m\u001b[1;33m,\u001b[0m \u001b[0mout\u001b[0m\u001b[1;33m=\u001b[0m\u001b[0mout\u001b[0m\u001b[1;33m)\u001b[0m\u001b[1;33m\u001b[0m\u001b[1;33m\u001b[0m\u001b[0m\n\u001b[0m\u001b[0;32m   1196\u001b[0m \u001b[1;33m\u001b[0m\u001b[0m\n\u001b[0;32m   1197\u001b[0m \u001b[1;33m\u001b[0m\u001b[0m\n",
      "\u001b[1;32mc:\\ProgramData\\Anaconda3\\lib\\site-packages\\numpy\\core\\fromnumeric.py\u001b[0m in \u001b[0;36m_wrapfunc\u001b[1;34m(obj, method, *args, **kwds)\u001b[0m\n\u001b[0;32m     55\u001b[0m \u001b[1;33m\u001b[0m\u001b[0m\n\u001b[0;32m     56\u001b[0m     \u001b[1;32mtry\u001b[0m\u001b[1;33m:\u001b[0m\u001b[1;33m\u001b[0m\u001b[1;33m\u001b[0m\u001b[0m\n\u001b[1;32m---> 57\u001b[1;33m         \u001b[1;32mreturn\u001b[0m \u001b[0mbound\u001b[0m\u001b[1;33m(\u001b[0m\u001b[1;33m*\u001b[0m\u001b[0margs\u001b[0m\u001b[1;33m,\u001b[0m \u001b[1;33m**\u001b[0m\u001b[0mkwds\u001b[0m\u001b[1;33m)\u001b[0m\u001b[1;33m\u001b[0m\u001b[1;33m\u001b[0m\u001b[0m\n\u001b[0m\u001b[0;32m     58\u001b[0m     \u001b[1;32mexcept\u001b[0m \u001b[0mTypeError\u001b[0m\u001b[1;33m:\u001b[0m\u001b[1;33m\u001b[0m\u001b[1;33m\u001b[0m\u001b[0m\n\u001b[0;32m     59\u001b[0m         \u001b[1;31m# A TypeError occurs if the object does have such a method in its\u001b[0m\u001b[1;33m\u001b[0m\u001b[1;33m\u001b[0m\u001b[0m\n",
      "\u001b[1;31mKeyboardInterrupt\u001b[0m: "
     ]
    }
   ],
   "source": [
    "\n",
    "# Define the size of the environment\n",
    "env_size = 5\n",
    "\n",
    "# Initialize the Q-table with zeros\n",
    "q_table = np.zeros((env_size, env_size, 4))\n",
    "\n",
    "# Define the hyperparameters\n",
    "alpha = 0.1\n",
    "gamma = 0.99\n",
    "epsilon = 1\n",
    "max_episodes = 200\n",
    "env = image_array\n",
    "\n",
    "# Define a function to get the next state and reward\n",
    "def get_next_state_reward(state, action):\n",
    "    # Determine the next state based on the action taken\n",
    "    if action == 0: # up\n",
    "        next_state = (max(state[0]-1,0), state[1])\n",
    "    elif action == 1: # down\n",
    "        next_state = (min(state[0]+1,env_size-1), state[1])\n",
    "    elif action == 2: # left\n",
    "        next_state = (state[0], max(state[1]-1,0))\n",
    "    elif action == 3: # right\n",
    "        next_state = (state[0], min(state[1]+1,env_size-1))\n",
    "    \n",
    "    # Determine the reward based on the next state\n",
    "    if next_state == end_state: # goal state\n",
    "        reward = 10.0\n",
    "    if env[next_state[0]][next_state[1]] == 1:\n",
    "        next_state = state  # stay in the same state\n",
    "        reward = -5\n",
    "    else: # all other states\n",
    "        reward = -1\n",
    "    \n",
    "    return next_state, reward\n",
    "\n",
    "# Define an epsilon-greedy policy\n",
    "def epsilon_greedy_policy(state, q_table, epsilon):\n",
    "    if random.uniform(0, 1) < epsilon:\n",
    "        action = random.randint(0, 3)\n",
    "    else:\n",
    "        action = np.argmax(q_table[state])\n",
    "    return action\n",
    "\n",
    "# Initialize a list to store episode rewards\n",
    "episode_rewards = []\n",
    "\n",
    "# Loop over episodes\n",
    "for episode in range(max_episodes):\n",
    "    # Initialize the starting state of the agent\n",
    "    state = start_state\n",
    "    \n",
    "    # Initialize the episode reward\n",
    "    episode_reward = 0.0\n",
    "    \n",
    "    # Loop over steps within each episode\n",
    "    while True:\n",
    "        # Choose an action using the epsilon-greedy policy\n",
    "        action = epsilon_greedy_policy(state, q_table, epsilon)\n",
    "        \n",
    "        # Obtain the next state and reward\n",
    "        next_state, reward = get_next_state_reward(state, action)\n",
    "        \n",
    "        # Update the Q-value of the current state-action pair\n",
    "        q_table[state][action] = (1-alpha)*(q_table[state][action]) * (reward + gamma * np.max(q_table[next_state]))\n",
    "        \n",
    "        # Set the current state to the next state\n",
    "        state = next_state\n",
    "        \n",
    "        # Add the reward obtained in the current step to the episode reward\n",
    "        episode_reward += reward\n",
    "        \n",
    "        # Break out of the step loop if the agent reaches the goal state\n",
    "        if state == end_state:\n",
    "            break\n",
    "        \n",
    "    # Decrease the exploration rate\n",
    "    epsilon *= 0.99\n",
    "    \n",
    "    # Append the episode reward to the episode_rewards list\n",
    "    episode_rewards.append(episode_reward)\n",
    "\n",
    "# Print the final Q-table\n",
    "print(\"Q-Table: \")\n",
    "print(q_table)\n",
    "\n",
    "# Print the episode rewards\n",
    "print(\"Episode Rewards:\")\n",
    "print(episode_rewards)\n",
    "\n"
   ]
  },
  {
   "cell_type": "code",
   "execution_count": null,
   "metadata": {},
   "outputs": [
    {
     "data": {
      "image/png": "[encoded data removed]",
      "text/plain": [
       "<Figure size 640x480 with 1 Axes>"
      ]
     },
     "metadata": {},
     "output_type": "display_data"
    }
   ],
   "source": [
    "\n",
    "plt.plot(episode_rewards)\n",
    "plt.xlabel('Episode')\n",
    "plt.ylabel('Total Reward')\n",
    "plt.title('Total Rewards per Episode')\n",
    "#plt.ylim(-40, 20)\n",
    "plt.show()"
   ]
  }
 ],
 "metadata": {
  "kernelspec": {
   "display_name": "base",
   "language": "python",
   "name": "python3"
  },
  "language_info": {
   "codemirror_mode": {
    "name": "ipython",
    "version": 3
   },
   "file_extension": ".py",
   "mimetype": "text/x-python",
   "name": "python",
   "nbconvert_exporter": "python",
   "pygments_lexer": "ipython3",
   "version": "3.9.13"
  },
  "orig_nbformat": 4
 },
 "nbformat": 4,
 "nbformat_minor": 2
}
