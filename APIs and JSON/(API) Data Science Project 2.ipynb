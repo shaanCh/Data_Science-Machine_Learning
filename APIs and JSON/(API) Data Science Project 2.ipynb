{
 "cells": [
  {
   "cell_type": "code",
   "execution_count": 40,
   "id": "7535e0d3",
   "metadata": {},
   "outputs": [],
   "source": [
    "import requests \n",
    "import pandas as pd\n",
    "import seaborn as sb\n",
    "import numpy as np"
   ]
  },
  {
   "cell_type": "code",
   "execution_count": 41,
   "id": "d199ea71",
   "metadata": {},
   "outputs": [],
   "source": [
    "api_key = \"87983fbe976988a9e22330ebf030a1ae\"\n",
    "url = 'https://api.themoviedb.org/3/movie/155?api_key=' + api_key +'&language=en-US'"
   ]
  },
  {
   "cell_type": "code",
   "execution_count": 42,
   "id": "03746c18",
   "metadata": {},
   "outputs": [],
   "source": [
    "response = requests.get(url)"
   ]
  },
  {
   "cell_type": "code",
   "execution_count": 43,
   "id": "3104f6bf",
   "metadata": {},
   "outputs": [
    {
     "name": "stdout",
     "output_type": "stream",
     "text": [
      "<Response [200]>\n"
     ]
    },
    {
     "data": {
      "text/plain": [
       "{'adult': False,\n",
       " 'backdrop_path': '/pbEkjhdfP7yuDcMB78YEZwgD4IN.jpg',\n",
       " 'belongs_to_collection': {'id': 263,\n",
       "  'name': 'The Dark Knight Collection',\n",
       "  'poster_path': '/hGvOMQBD88jAV0olS2DT1AxreHn.jpg',\n",
       "  'backdrop_path': '/xfKot7lqaiW4XpL5TtDlVBA9ei9.jpg'},\n",
       " 'budget': 185000000,\n",
       " 'genres': [{'id': 18, 'name': 'Drama'},\n",
       "  {'id': 28, 'name': 'Action'},\n",
       "  {'id': 80, 'name': 'Crime'},\n",
       "  {'id': 53, 'name': 'Thriller'}],\n",
       " 'homepage': 'https://www.warnerbros.com/movies/dark-knight/',\n",
       " 'id': 155,\n",
       " 'imdb_id': 'tt0468569',\n",
       " 'original_language': 'en',\n",
       " 'original_title': 'The Dark Knight',\n",
       " 'overview': 'Batman raises the stakes in his war on crime. With the help of Lt. Jim Gordon and District Attorney Harvey Dent, Batman sets out to dismantle the remaining criminal organizations that plague the streets. The partnership proves to be effective, but they soon find themselves prey to a reign of chaos unleashed by a rising criminal mastermind known to the terrified citizens of Gotham as the Joker.',\n",
       " 'popularity': 70.961,\n",
       " 'poster_path': '/qJ2tW6WMUDux911r6m7haRef0WH.jpg',\n",
       " 'production_companies': [{'id': 174,\n",
       "   'logo_path': '/IuAlhI9eVC9Z8UQWOIDdWRKSEJ.png',\n",
       "   'name': 'Warner Bros. Pictures',\n",
       "   'origin_country': 'US'},\n",
       "  {'id': 429,\n",
       "   'logo_path': '/2Tc1P3Ac8M479naPp1kYT3izLS5.png',\n",
       "   'name': 'DC Comics',\n",
       "   'origin_country': 'US'},\n",
       "  {'id': 923,\n",
       "   'logo_path': '/5UQsZrfbfG2dYJbx8DxfoTr2Bvu.png',\n",
       "   'name': 'Legendary Pictures',\n",
       "   'origin_country': 'US'},\n",
       "  {'id': 9996,\n",
       "   'logo_path': '/3tvBqYsBhxWeHlu62SIJ1el93O7.png',\n",
       "   'name': 'Syncopy',\n",
       "   'origin_country': 'GB'},\n",
       "  {'id': 118865,\n",
       "   'logo_path': None,\n",
       "   'name': 'Isobel Griffiths',\n",
       "   'origin_country': 'GB'}],\n",
       " 'production_countries': [{'iso_3166_1': 'GB', 'name': 'United Kingdom'},\n",
       "  {'iso_3166_1': 'US', 'name': 'United States of America'}],\n",
       " 'release_date': '2008-07-14',\n",
       " 'revenue': 1004558444,\n",
       " 'runtime': 152,\n",
       " 'spoken_languages': [{'english_name': 'English',\n",
       "   'iso_639_1': 'en',\n",
       "   'name': 'English'},\n",
       "  {'english_name': 'Mandarin', 'iso_639_1': 'zh', 'name': '普通话'}],\n",
       " 'status': 'Released',\n",
       " 'tagline': 'Welcome to a world without rules.',\n",
       " 'title': 'The Dark Knight',\n",
       " 'video': False,\n",
       " 'vote_average': 8.504,\n",
       " 'vote_count': 28691}"
      ]
     },
     "execution_count": 43,
     "metadata": {},
     "output_type": "execute_result"
    }
   ],
   "source": [
    "print(response)\n",
    "json = response.json()\n",
    "json"
   ]
  },
  {
   "cell_type": "code",
   "execution_count": 44,
   "id": "8ea8544e",
   "metadata": {},
   "outputs": [],
   "source": [
    "def requestAllMoviesId():\n",
    "    pageNum = 1\n",
    "    ids = []\n",
    "    while True:\n",
    "        url = 'https://api.themoviedb.org/3/movie/top_rated?api_key=' + api_key + '&language=en-US&with_genres=28&page={}'.format(pageNum)\n",
    "        pageNum+=1\n",
    "        req = requests.get(url)\n",
    "        reqJson = req.json()\n",
    "        if not req.ok:\n",
    "            break\n",
    "        for i in reqJson['results']:\n",
    "            ids.append(i['id'])\n",
    "        \n",
    "            \n",
    "    return ids\n",
    " \n"
   ]
  },
  {
   "cell_type": "code",
   "execution_count": 45,
   "id": "ed062d5b",
   "metadata": {
    "scrolled": false
   },
   "outputs": [
    {
     "data": {
      "text/plain": [
       "155"
      ]
     },
     "execution_count": 45,
     "metadata": {},
     "output_type": "execute_result"
    }
   ],
   "source": [
    "listofMovies = requestAllMoviesId()\n",
    "listofMovies[0]"
   ]
  },
  {
   "cell_type": "code",
   "execution_count": 46,
   "id": "91aef2ee",
   "metadata": {},
   "outputs": [],
   "source": [
    "def getAlldetails():\n",
    "    money =[]\n",
    "    title =[]\n",
    "    for i in listofMovies:\n",
    "        url2 = 'https://api.themoviedb.org/3/movie/{}?api_key=87983fbe976988a9e22330ebf030a1ae&language=en-US'.format(i)\n",
    "        req2=requests.get(url2)\n",
    "        reqJson2 = req2.json()\n",
    "        for i in reqJson2:\n",
    "            if i == 'title':\n",
    "                title.append(reqJson2['title'])\n",
    "            if i == 'revenue':\n",
    "                money.append(reqJson2['revenue'])\n",
    "    \n",
    "    return title,money\n",
    "\n"
   ]
  },
  {
   "cell_type": "code",
   "execution_count": 47,
   "id": "67044070",
   "metadata": {},
   "outputs": [
    {
     "data": {
      "text/plain": [
       "'The Dark Knight'"
      ]
     },
     "execution_count": 47,
     "metadata": {},
     "output_type": "execute_result"
    }
   ],
   "source": [
    "detailMovie = getAlldetails()\n",
    "detailMovie[0][0]\n"
   ]
  },
  {
   "cell_type": "code",
   "execution_count": 49,
   "id": "c497450e",
   "metadata": {},
   "outputs": [],
   "source": [
    "details = {}\n",
    "details['film'] = detailMovie[0]\n",
    "details['money'] = detailMovie[1]"
   ]
  },
  {
   "cell_type": "code",
   "execution_count": 52,
   "id": "ddee0748",
   "metadata": {},
   "outputs": [
    {
     "data": {
      "text/html": [
       "<div>\n",
       "<style scoped>\n",
       "    .dataframe tbody tr th:only-of-type {\n",
       "        vertical-align: middle;\n",
       "    }\n",
       "\n",
       "    .dataframe tbody tr th {\n",
       "        vertical-align: top;\n",
       "    }\n",
       "\n",
       "    .dataframe thead th {\n",
       "        text-align: right;\n",
       "    }\n",
       "</style>\n",
       "<table border=\"1\" class=\"dataframe\">\n",
       "  <thead>\n",
       "    <tr style=\"text-align: right;\">\n",
       "      <th></th>\n",
       "      <th>film</th>\n",
       "      <th>money</th>\n",
       "    </tr>\n",
       "  </thead>\n",
       "  <tbody>\n",
       "    <tr>\n",
       "      <th>0</th>\n",
       "      <td>The Dark Knight</td>\n",
       "      <td>1004558444</td>\n",
       "    </tr>\n",
       "    <tr>\n",
       "      <th>1</th>\n",
       "      <td>The Lord of the Rings: The Return of the King</td>\n",
       "      <td>1118888979</td>\n",
       "    </tr>\n",
       "    <tr>\n",
       "      <th>2</th>\n",
       "      <td>Seven Samurai</td>\n",
       "      <td>346300</td>\n",
       "    </tr>\n",
       "    <tr>\n",
       "      <th>3</th>\n",
       "      <td>Primal: Tales of Savagery</td>\n",
       "      <td>0</td>\n",
       "    </tr>\n",
       "    <tr>\n",
       "      <th>4</th>\n",
       "      <td>The Legend of Hei</td>\n",
       "      <td>48045728</td>\n",
       "    </tr>\n",
       "  </tbody>\n",
       "</table>\n",
       "</div>"
      ],
      "text/plain": [
       "                                            film       money\n",
       "0                                The Dark Knight  1004558444\n",
       "1  The Lord of the Rings: The Return of the King  1118888979\n",
       "2                                  Seven Samurai      346300\n",
       "3                      Primal: Tales of Savagery           0\n",
       "4                              The Legend of Hei    48045728"
      ]
     },
     "execution_count": 52,
     "metadata": {},
     "output_type": "execute_result"
    }
   ],
   "source": [
    "df = pd.DataFrame(details)\n",
    "df.head()\n",
    "#for i in details['money']:\n",
    "    "
   ]
  },
  {
   "cell_type": "code",
   "execution_count": null,
   "id": "3b1a99a9",
   "metadata": {},
   "outputs": [],
   "source": []
  }
 ],
 "metadata": {
  "kernelspec": {
   "display_name": "Python 3 (ipykernel)",
   "language": "python",
   "name": "python3"
  },
  "language_info": {
   "codemirror_mode": {
    "name": "ipython",
    "version": 3
   },
   "file_extension": ".py",
   "mimetype": "text/x-python",
   "name": "python",
   "nbconvert_exporter": "python",
   "pygments_lexer": "ipython3",
   "version": "3.9.12"
  }
 },
 "nbformat": 4,
 "nbformat_minor": 5
}
