{
 "cells": [
  {
   "cell_type": "code",
   "execution_count": 75,
   "id": "40031d06",
   "metadata": {},
   "outputs": [
    {
     "name": "stdout",
     "output_type": "stream",
     "text": [
      "       Influence Score     Followers\n",
      "count       200.000000  2.000000e+02\n",
      "mean         81.850000  7.849100e+07\n",
      "std           8.875323  7.492015e+07\n",
      "min          22.000000  3.340000e+07\n",
      "25%          80.000000  4.067500e+07\n",
      "50%          84.000000  5.095000e+07\n",
      "75%          86.000000  7.050000e+07\n",
      "max          93.000000  4.852000e+08\n"
     ]
    },
    {
     "data": {
      "text/html": [
       "<div>\n",
       "<style scoped>\n",
       "    .dataframe tbody tr th:only-of-type {\n",
       "        vertical-align: middle;\n",
       "    }\n",
       "\n",
       "    .dataframe tbody tr th {\n",
       "        vertical-align: top;\n",
       "    }\n",
       "\n",
       "    .dataframe thead th {\n",
       "        text-align: right;\n",
       "    }\n",
       "</style>\n",
       "<table border=\"1\" class=\"dataframe\">\n",
       "  <thead>\n",
       "    <tr style=\"text-align: right;\">\n",
       "      <th></th>\n",
       "      <th>Influence Score</th>\n",
       "      <th>Followers</th>\n",
       "    </tr>\n",
       "  </thead>\n",
       "  <tbody>\n",
       "    <tr>\n",
       "      <th>Influence Score</th>\n",
       "      <td>1.000000</td>\n",
       "      <td>0.365428</td>\n",
       "    </tr>\n",
       "    <tr>\n",
       "      <th>Followers</th>\n",
       "      <td>0.365428</td>\n",
       "      <td>1.000000</td>\n",
       "    </tr>\n",
       "  </tbody>\n",
       "</table>\n",
       "</div>"
      ],
      "text/plain": [
       "                 Influence Score  Followers\n",
       "Influence Score         1.000000   0.365428\n",
       "Followers               0.365428   1.000000"
      ]
     },
     "execution_count": 75,
     "metadata": {},
     "output_type": "execute_result"
    },
    {
     "data": {
      "image/png": "[encoded data removed]",
      "text/plain": [
       "<Figure size 432x288 with 1 Axes>"
      ]
     },
     "metadata": {
      "needs_background": "light"
     },
     "output_type": "display_data"
    }
   ],
   "source": [
    "#Followers vs Influencer Score\n",
    "\n",
    "import pandas as pd\n",
    "import seaborn as sns\n",
    "df = pd.read_csv('Top_Influencers.csv')\n",
    "df.drop([\"Rank\", \"60-Day Eng Rate\", \"New Post Avg. Likes\",\"Country Or Region\",\"Avg. Likes\", \"Posts\", \"Total Likes\", \"Channel Info\"], axis = 1, inplace = True)\n",
    "for x in df:\n",
    "    df[x] = df[x].replace({\"k\": \"*1e3\", \"m\":\"*1e6\", \"b\": \"*1e9\"}, regex =True).map(pd.eval).astype(\"int64\")\n",
    "\n",
    "print(df.describe())\n",
    "sns.regplot(x = \"Followers\", y = \"Influence Score\", color = \"black\", data = df)\n",
    "df.corr()"
   ]
  },
  {
   "cell_type": "code",
   "execution_count": 64,
   "id": "4e75d430",
   "metadata": {},
   "outputs": [
    {
     "name": "stdout",
     "output_type": "stream",
     "text": [
      "       Influence Score    Avg. Likes\n",
      "count       200.000000  2.000000e+02\n",
      "mean         81.850000  1.785050e+06\n",
      "std           8.875323  2.192133e+06\n",
      "min          22.000000  6.350000e+04\n",
      "25%          80.000000  4.990500e+05\n",
      "50%          84.000000  1.100000e+06\n",
      "75%          86.000000  2.125000e+06\n",
      "max          93.000000  1.540000e+07\n"
     ]
    },
    {
     "data": {
      "text/html": [
       "<div>\n",
       "<style scoped>\n",
       "    .dataframe tbody tr th:only-of-type {\n",
       "        vertical-align: middle;\n",
       "    }\n",
       "\n",
       "    .dataframe tbody tr th {\n",
       "        vertical-align: top;\n",
       "    }\n",
       "\n",
       "    .dataframe thead th {\n",
       "        text-align: right;\n",
       "    }\n",
       "</style>\n",
       "<table border=\"1\" class=\"dataframe\">\n",
       "  <thead>\n",
       "    <tr style=\"text-align: right;\">\n",
       "      <th></th>\n",
       "      <th>Influence Score</th>\n",
       "      <th>Avg. Likes</th>\n",
       "    </tr>\n",
       "  </thead>\n",
       "  <tbody>\n",
       "    <tr>\n",
       "      <th>Influence Score</th>\n",
       "      <td>1.000000</td>\n",
       "      <td>0.048502</td>\n",
       "    </tr>\n",
       "    <tr>\n",
       "      <th>Avg. Likes</th>\n",
       "      <td>0.048502</td>\n",
       "      <td>1.000000</td>\n",
       "    </tr>\n",
       "  </tbody>\n",
       "</table>\n",
       "</div>"
      ],
      "text/plain": [
       "                 Influence Score  Avg. Likes\n",
       "Influence Score         1.000000    0.048502\n",
       "Avg. Likes              0.048502    1.000000"
      ]
     },
     "execution_count": 64,
     "metadata": {},
     "output_type": "execute_result"
    },
    {
     "data": {
      "image/png": "[encoded data removed]",
      "text/plain": [
       "<Figure size 432x288 with 1 Axes>"
      ]
     },
     "metadata": {
      "needs_background": "light"
     },
     "output_type": "display_data"
    }
   ],
   "source": [
    "# Avg. Likes vs Influencer Score\n",
    "\n",
    "df2 = pd.read_csv(r'Top_Influencers.csv')\n",
    "df2.drop([\"Rank\", \"60-Day Eng Rate\", \"New Post Avg. Likes\",\"Country Or Region\", \"Followers\", \"Posts\", \"Total Likes\", \"Channel Info\"], axis = 1, inplace = True)\n",
    "for x in df2:\n",
    "    df2[x] = df2[x].replace({\"k\": \"*1e3\", \"m\":\"*1e6\", \"b\": \"*1e9\"}, regex =True).map(pd.eval).astype(\"int64\")\n",
    "    \n",
    "print(df2.describe())\n",
    "\n",
    "sns.regplot(x = \"Avg. Likes\", y = \"Influence Score\", data = df2)\n",
    "df2.corr()"
   ]
  },
  {
   "cell_type": "code",
   "execution_count": 68,
   "id": "d039d4b1",
   "metadata": {},
   "outputs": [
    {
     "name": "stdout",
     "output_type": "stream",
     "text": [
      "       Influence Score   Total Likes\n",
      "count       200.000000  2.000000e+02\n",
      "mean         81.850000  3.644949e+09\n",
      "std           8.875323  5.563069e+09\n",
      "min          22.000000  2.280000e+07\n",
      "25%          80.000000  1.075000e+09\n",
      "50%          84.000000  2.050000e+09\n",
      "75%          86.000000  4.025000e+09\n",
      "max          93.000000  5.740000e+10\n"
     ]
    },
    {
     "data": {
      "text/html": [
       "<div>\n",
       "<style scoped>\n",
       "    .dataframe tbody tr th:only-of-type {\n",
       "        vertical-align: middle;\n",
       "    }\n",
       "\n",
       "    .dataframe tbody tr th {\n",
       "        vertical-align: top;\n",
       "    }\n",
       "\n",
       "    .dataframe thead th {\n",
       "        text-align: right;\n",
       "    }\n",
       "</style>\n",
       "<table border=\"1\" class=\"dataframe\">\n",
       "  <thead>\n",
       "    <tr style=\"text-align: right;\">\n",
       "      <th></th>\n",
       "      <th>Influence Score</th>\n",
       "      <th>Total Likes</th>\n",
       "    </tr>\n",
       "  </thead>\n",
       "  <tbody>\n",
       "    <tr>\n",
       "      <th>Influence Score</th>\n",
       "      <td>1.000000</td>\n",
       "      <td>0.234987</td>\n",
       "    </tr>\n",
       "    <tr>\n",
       "      <th>Total Likes</th>\n",
       "      <td>0.234987</td>\n",
       "      <td>1.000000</td>\n",
       "    </tr>\n",
       "  </tbody>\n",
       "</table>\n",
       "</div>"
      ],
      "text/plain": [
       "                 Influence Score  Total Likes\n",
       "Influence Score         1.000000     0.234987\n",
       "Total Likes             0.234987     1.000000"
      ]
     },
     "execution_count": 68,
     "metadata": {},
     "output_type": "execute_result"
    },
    {
     "data": {
      "image/png": "[encoded data removed]",
      "text/plain": [
       "<Figure size 432x288 with 1 Axes>"
      ]
     },
     "metadata": {
      "needs_background": "light"
     },
     "output_type": "display_data"
    }
   ],
   "source": [
    "#Total Likes and Influencer Score\n",
    "\n",
    "df3 = pd.read_csv(r'Top_Influencers.csv')\n",
    "df3.drop([\"Rank\", \"60-Day Eng Rate\", \"New Post Avg. Likes\",\"Country Or Region\",\"Avg. Likes\", \"Posts\", \"Followers\", \"Channel Info\"], axis = 1, inplace = True)\n",
    "for x in df3:\n",
    "    df3[x] = df3[x].replace({\"k\": \"*1e3\", \"m\":\"*1e6\", \"b\": \"*1e9\"}, regex =True).map(pd.eval).astype(\"int64\")\n",
    "\n",
    "print(df3.describe())\n",
    "\n",
    "sns.regplot(x = \"Total Likes\", y = \"Influence Score\", data = df3, color = \"red\")\n",
    "df3.corr()        "
   ]
  },
  {
   "cell_type": "code",
   "execution_count": 73,
   "id": "2f221362",
   "metadata": {},
   "outputs": [
    {
     "name": "stdout",
     "output_type": "stream",
     "text": [
      "       Influence Score         Posts\n",
      "count       200.000000    200.000000\n",
      "mean         81.850000   3460.425000\n",
      "std           8.875323   3327.882197\n",
      "min          22.000000     20.000000\n",
      "25%          80.000000    938.250000\n",
      "50%          84.000000   2100.000000\n",
      "75%          86.000000   5025.000000\n",
      "max          93.000000  16900.000000\n"
     ]
    },
    {
     "data": {
      "text/html": [
       "<div>\n",
       "<style scoped>\n",
       "    .dataframe tbody tr th:only-of-type {\n",
       "        vertical-align: middle;\n",
       "    }\n",
       "\n",
       "    .dataframe tbody tr th {\n",
       "        vertical-align: top;\n",
       "    }\n",
       "\n",
       "    .dataframe thead th {\n",
       "        text-align: right;\n",
       "    }\n",
       "</style>\n",
       "<table border=\"1\" class=\"dataframe\">\n",
       "  <thead>\n",
       "    <tr style=\"text-align: right;\">\n",
       "      <th></th>\n",
       "      <th>Influence Score</th>\n",
       "      <th>Posts</th>\n",
       "    </tr>\n",
       "  </thead>\n",
       "  <tbody>\n",
       "    <tr>\n",
       "      <th>Influence Score</th>\n",
       "      <td>1.000000</td>\n",
       "      <td>0.168287</td>\n",
       "    </tr>\n",
       "    <tr>\n",
       "      <th>Posts</th>\n",
       "      <td>0.168287</td>\n",
       "      <td>1.000000</td>\n",
       "    </tr>\n",
       "  </tbody>\n",
       "</table>\n",
       "</div>"
      ],
      "text/plain": [
       "                 Influence Score     Posts\n",
       "Influence Score         1.000000  0.168287\n",
       "Posts                   0.168287  1.000000"
      ]
     },
     "execution_count": 73,
     "metadata": {},
     "output_type": "execute_result"
    },
    {
     "data": {
      "image/png": "[encoded data removed]",
      "text/plain": [
       "<Figure size 432x288 with 1 Axes>"
      ]
     },
     "metadata": {
      "needs_background": "light"
     },
     "output_type": "display_data"
    }
   ],
   "source": [
    "#Number of posts vs Influencer Score\n",
    "\n",
    "df4 = pd.read_csv(r'Top_Influencers.csv')\n",
    "df4.drop([\"Rank\", \"60-Day Eng Rate\", \"New Post Avg. Likes\",\"Country Or Region\",\"Avg. Likes\", \"Followers\", \"Total Likes\", \"Channel Info\"], axis = 1, inplace = True)\n",
    "\n",
    "for x in df4:\n",
    "    df4[x] = df4[x].replace({\"k\": \"*1e3\", \"m\":\"*1e6\", \"b\": \"*1e9\"}, regex =True).map(pd.eval).astype(\"int64\")\n",
    "df4.head()\n",
    "\n",
    "print(df4.describe())\n",
    "\n",
    "sns.regplot(x = \"Posts\", y = \"Influence Score\", data = df4, color = \"green\")\n",
    "df4.corr()        "
   ]
  },
  {
   "cell_type": "code",
   "execution_count": null,
   "id": "439cb3ad",
   "metadata": {},
   "outputs": [],
   "source": []
  }
 ],
 "metadata": {
  "kernelspec": {
   "display_name": "Python 3 (ipykernel)",
   "language": "python",
   "name": "python3"
  },
  "language_info": {
   "codemirror_mode": {
    "name": "ipython",
    "version": 3
   },
   "file_extension": ".py",
   "mimetype": "text/x-python",
   "name": "python",
   "nbconvert_exporter": "python",
   "pygments_lexer": "ipython3",
   "version": "3.9.12"
  }
 },
 "nbformat": 4,
 "nbformat_minor": 5
}
