{
 "cells": [
  {
   "cell_type": "code",
   "execution_count": 31,
   "id": "85bd9108",
   "metadata": {},
   "outputs": [],
   "source": [
    "my_data = [[\"Football\", \"Volleyball\", \"Basketball\", \"Volleyball\", \"Basketball\", \"Football\", \"Basketball\", \"Hockey\", \"Basketball\",\" Basketball\", \"Volleyball\", \"Football\", \"Basketball\", \"Football\", \"Basketball\"],\n",
    "            [\"Christmas\",\"Chrismass\",\"Christmas\",\"Christmas\",\"Christmas\",\"Christmas\",\"Columbus Day\",\"new years\",\"Thanksgiving\",\"christmas\",\"Halloween\",\"Christmas\",\"Thanksgiving\",\"July 4th\",\"Eid\"],\n",
    "            [\"Science\",\"Math\",\"Science\",\"Math\",\"History\",\"Science\",\"Math\",\"Math\",\"Science\",\"Math\",\"Math\",\"History\",\"Science\",\"P.E\",\"Language Arts\"],\n",
    "            [\"Bowling\", \"Movies\",\"Outer Space\",\"Movies,Movies\",\"Picnic\",\"Outer Space\",\"Star-gaze\",\"Star-gaze\",\"Bowling\",\"Outer Space\",\"Star-gaze\",\"Fancy Dinner\",\"Star-gaze\",\"Star-gaze\"],\n",
    "            [\"Fall\",\"Summer\",\"Winter\",\"Winter\",\"Winter\",\"Summer\",\"Winter\",\"Fall\",\"Fall\",\"Spring\",\"Fall\",\"Summer\",\"Fall\",\"Summer\",\"Fall\"]]\n",
    "\n",
    "num = 0 \n",
    "for row in my_data:\n",
    "    for data in row:\n",
    "        datacount = my_data.count(data)\n",
    "       # print(datacount)"
   ]
  },
  {
   "cell_type": "code",
   "execution_count": 62,
   "id": "9e2136f2",
   "metadata": {},
   "outputs": [
    {
     "name": "stdout",
     "output_type": "stream",
     "text": [
      "Football: ****\n",
      "Volleyball: ***\n",
      "Basketball: *******\n",
      "Hockey: *\n",
      "Baseball: \n",
      " \n",
      "Christmas: ********\n",
      "Columbus Day: *\n",
      "Thanksgiving: **\n",
      "New Years: *\n",
      "July 4th: *\n",
      "Holloween: *\n",
      "Eid: *\n",
      " \n",
      "Science: *****\n",
      "Math: ******\n",
      "P.E: *\n",
      "Language Arts: *\n",
      "History: **\n",
      " \n",
      "Movies: ***\n",
      "Bowling: **\n",
      "Fancy Dinner: *\n",
      "Star-gaze: *****\n",
      "Picnic: *\n",
      "Outer-space: ***\n",
      " \n",
      "Spring: *\n",
      "Summer: ****\n",
      "Fall: ******\n",
      "Winter: ****\n",
      " \n"
     ]
    }
   ],
   "source": [
    "sport = {\"Football\": 4, \"Volleyball\": 3, \"Basketball\": 7, \"Hockey\": 1, \"Baseball\": 0}\n",
    "Holiday = {\"Christmas\": 8, \"Columbus Day\": 1, \"Thanksgiving\": 2, \"New Years\": 1, \"July 4th\": 1, \"Holloween\": 1, \"Eid\": 1}\n",
    "Subject = {\"Science\": 5, \"Math\": 6, \"P.E\": 1, \"Language Arts\": 1, \"History\": 2}\n",
    "date = {\"Movies\": 3, \"Bowling\":2, \"Fancy Dinner\": 1, \"Star-gaze\": 5, \"Picnic\": 1, \"Outer-space\": 3}\n",
    "season = {\"Spring\": 1 , \"Summer\":4, \"Fall\": 6, \"Winter\": 4}\n",
    "questions = [sport, Holiday, Subject, date, season]\n",
    "\n",
    "for question in questions:\n",
    "    for key,value in question.items():\n",
    "        asci = \"*\" * value\n",
    "        print(\"{}: {}\".format(key, asci))\n",
    "    print(\" \")\n",
    "\n"
   ]
  },
  {
   "cell_type": "code",
   "execution_count": 39,
   "id": "0fa00c74",
   "metadata": {},
   "outputs": [],
   "source": [
    "my_data = {\"1\": 2, \"2\": 2, \"3\":2}"
   ]
  },
  {
   "cell_type": "code",
   "execution_count": null,
   "id": "756cef0e",
   "metadata": {},
   "outputs": [],
   "source": []
  }
 ],
 "metadata": {
  "kernelspec": {
   "display_name": "Python 3 (ipykernel)",
   "language": "python",
   "name": "python3"
  },
  "language_info": {
   "codemirror_mode": {
    "name": "ipython",
    "version": 3
   },
   "file_extension": ".py",
   "mimetype": "text/x-python",
   "name": "python",
   "nbconvert_exporter": "python",
   "pygments_lexer": "ipython3",
   "version": "3.9.12"
  }
 },
 "nbformat": 4,
 "nbformat_minor": 5
}
