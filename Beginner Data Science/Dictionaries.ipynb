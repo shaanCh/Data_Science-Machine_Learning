{
 "cells": [
  {
   "cell_type": "code",
   "execution_count": null,
   "id": "47d0cdc3",
   "metadata": {},
   "outputs": [],
   "source": [
    "schedule = {\"Monday\": [\"Gym\", \"School\", \"Hw\", \"Study\"], \n",
    "            \"Tuesday\": [\"CCIC\",\"School\",\"gym\", \"work\",\"Study\"],\n",
    "            \"Wednesday\":[\"Gym\", \"school\", \"work\", \"study\"],\n",
    "           \"Thursday\": [\"CCIC\", \"school\", \"gym\",\"work\", \"study\"],\n",
    "           \"Friday\": [\"Gym\", \"school\", \"Fun\"]}\n",
    "\n",
    "day = input(\"Enter a day: \" )\n",
    "print(schedule[day])"
   ]
  },
  {
   "cell_type": "code",
   "execution_count": 8,
   "id": "0252aa7f",
   "metadata": {},
   "outputs": [],
   "source": [
    "data = {\"date\" : [\"2001-08-01\", \"2001-08-02\", \"2001-08-03\", \"2001-08-04\", \"2001-08-05\", \"2001-08-06\", \"2001-08-07\", \"2001-08-08\"],\n",
    "       \"Dayname\": [\"Wednesday\", \"Thursday\", \"Friday\", \"Saturday\", \"Sunday\", \"Monday\", \"Tuesday\"],\n",
    "       \"red\": [50, 60, 51, 79, 77, 93, 55],\n",
    "       \"green\": [25, 31, 24, 21, 39, 40, 32],\n",
    "       \"blue\": [71, 53, 50, 69, 57, 66, 63]}\n",
    "\n",
    "data.update({\"date\": [\"2001-08-08\"], \"Dayname\": [\"Wednesday\"], \"red\": [87], \"green\": [89], \"blue\": [1]})\n",
    "data.clear()\n"
   ]
  },
  {
   "cell_type": "code",
   "execution_count": null,
   "id": "148d3aaf",
   "metadata": {},
   "outputs": [],
   "source": []
  }
 ],
 "metadata": {
  "kernelspec": {
   "display_name": "Python 3 (ipykernel)",
   "language": "python",
   "name": "python3"
  },
  "language_info": {
   "codemirror_mode": {
    "name": "ipython",
    "version": 3
   },
   "file_extension": ".py",
   "mimetype": "text/x-python",
   "name": "python",
   "nbconvert_exporter": "python",
   "pygments_lexer": "ipython3",
   "version": "3.9.12"
  }
 },
 "nbformat": 4,
 "nbformat_minor": 5
}
