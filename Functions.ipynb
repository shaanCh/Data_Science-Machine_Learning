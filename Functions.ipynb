{
 "cells": [
  {
   "cell_type": "code",
   "execution_count": 38,
   "id": "476757b7",
   "metadata": {},
   "outputs": [
    {
     "name": "stdout",
     "output_type": "stream",
     "text": [
      "[4, 4]\n"
     ]
    }
   ],
   "source": [
    "def large_small(list):\n",
    "    new_list = []\n",
    "    for i in range(len(list)):\n",
    "        if list[0] < list[i]:\n",
    "            new_list.append(list[0])\n",
    "            \n",
    "    return new_list\n",
    "            \n",
    "print(large_small([4,3,5,7]))"
   ]
  },
  {
   "cell_type": "code",
   "execution_count": 2,
   "id": "46e03c69",
   "metadata": {},
   "outputs": [
    {
     "name": "stdout",
     "output_type": "stream",
     "text": [
      "[0, 1, 2, 3, 4, 5, 6, 7, 8, 9, 10, 11, 12, 13, 14, 15, 16, 17, 18, 19, 20, 21, 22, 23, 24, 25, 26, 27, 28, 29, 30, 31, 32, 33, 34, 35, 36, 37]\n",
      "[7, 4, 3, 1]\n",
      "0.0\n"
     ]
    }
   ],
   "source": [
    "import time\n",
    "import random\n",
    "def large_small(list):\n",
    "    list.sort(reverse = True)\n",
    "    return list\n",
    "\n",
    "new_list=[]\n",
    "for i in range(random.randint(0,100)):\n",
    "    new_list.append(i)\n",
    "\n",
    "print(new_list)\n",
    "start = time.time()\n",
    "print(large_small([4,3,1,7]))\n",
    "end = time.time()\n",
    "etime = end - start\n",
    "print(etime)"
   ]
  },
  {
   "cell_type": "code",
   "execution_count": null,
   "id": "910e8c18",
   "metadata": {},
   "outputs": [],
   "source": []
  }
 ],
 "metadata": {
  "kernelspec": {
   "display_name": "base",
   "language": "python",
   "name": "python3"
  },
  "language_info": {
   "codemirror_mode": {
    "name": "ipython",
    "version": 3
   },
   "file_extension": ".py",
   "mimetype": "text/x-python",
   "name": "python",
   "nbconvert_exporter": "python",
   "pygments_lexer": "ipython3",
   "version": "3.9.12"
  },
  "vscode": {
   "interpreter": {
    "hash": "c7dc9fe095de68ace368b65ab3dbfe5f48830e7110a46f0deecf8b3332d4184d"
   }
  }
 },
 "nbformat": 4,
 "nbformat_minor": 5
}
